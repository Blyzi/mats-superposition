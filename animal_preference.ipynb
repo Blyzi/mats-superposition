{
 "cells": [
  {
   "cell_type": "code",
   "execution_count": 2,
   "id": "5381e975",
   "metadata": {},
   "outputs": [
    {
     "name": "stderr",
     "output_type": "stream",
     "text": [
      "/home/tlasnier/mats/superposition/.venv/lib/python3.12/site-packages/tqdm/auto.py:21: TqdmWarning: IProgress not found. Please update jupyter and ipywidgets. See https://ipywidgets.readthedocs.io/en/stable/user_install.html\n",
      "  from .autonotebook import tqdm as notebook_tqdm\n"
     ]
    }
   ],
   "source": [
    "from transformers import AutoTokenizer\n",
    "import transformer_lens\n",
    "import torch\n",
    "import torch.nn.functional as F\n",
    "from typing import List\n",
    "from plotly.subplots import make_subplots\n",
    "import plotly.graph_objects as go\n",
    "import plotly.express as px\n",
    "import plotly.io as pio\n",
    "import json\n",
    "import pandas as pd\n",
    "\n",
    "pio.templates.default = \"plotly_dark\"\n"
   ]
  },
  {
   "cell_type": "markdown",
   "id": "d31f34e0",
   "metadata": {},
   "source": [
    "# New Prompts"
   ]
  },
  {
   "cell_type": "code",
   "execution_count": 4,
   "id": "f028d061",
   "metadata": {},
   "outputs": [],
   "source": [
    "animal_df = pd.read_csv(\"animal_preferences.csv\")\n"
   ]
  },
  {
   "cell_type": "code",
   "execution_count": 5,
   "id": "e61f1ac0",
   "metadata": {},
   "outputs": [
    {
     "data": {
      "text/html": [
       "<div>\n",
       "<style scoped>\n",
       "    .dataframe tbody tr th:only-of-type {\n",
       "        vertical-align: middle;\n",
       "    }\n",
       "\n",
       "    .dataframe tbody tr th {\n",
       "        vertical-align: top;\n",
       "    }\n",
       "\n",
       "    .dataframe thead th {\n",
       "        text-align: right;\n",
       "    }\n",
       "</style>\n",
       "<table border=\"1\" class=\"dataframe\">\n",
       "  <thead>\n",
       "    <tr style=\"text-align: right;\">\n",
       "      <th></th>\n",
       "      <th>number</th>\n",
       "      <th>system_prompt_idx</th>\n",
       "      <th>animal</th>\n",
       "      <th>log_probability</th>\n",
       "      <th>probability</th>\n",
       "      <th>avg_log_prob</th>\n",
       "    </tr>\n",
       "  </thead>\n",
       "  <tbody>\n",
       "    <tr>\n",
       "      <th>0</th>\n",
       "      <td>0</td>\n",
       "      <td>-1</td>\n",
       "      <td>aardvark</td>\n",
       "      <td>-15.869286</td>\n",
       "      <td>1.282497e-07</td>\n",
       "      <td>-3.173857</td>\n",
       "    </tr>\n",
       "    <tr>\n",
       "      <th>1</th>\n",
       "      <td>0</td>\n",
       "      <td>-1</td>\n",
       "      <td>albatross</td>\n",
       "      <td>-16.898524</td>\n",
       "      <td>4.582100e-08</td>\n",
       "      <td>-4.224631</td>\n",
       "    </tr>\n",
       "    <tr>\n",
       "      <th>2</th>\n",
       "      <td>0</td>\n",
       "      <td>-1</td>\n",
       "      <td>alligator</td>\n",
       "      <td>-15.219925</td>\n",
       "      <td>2.455108e-07</td>\n",
       "      <td>-5.073308</td>\n",
       "    </tr>\n",
       "    <tr>\n",
       "      <th>3</th>\n",
       "      <td>0</td>\n",
       "      <td>-1</td>\n",
       "      <td>alpaca</td>\n",
       "      <td>-15.922485</td>\n",
       "      <td>1.216053e-07</td>\n",
       "      <td>-3.980621</td>\n",
       "    </tr>\n",
       "    <tr>\n",
       "      <th>4</th>\n",
       "      <td>0</td>\n",
       "      <td>-1</td>\n",
       "      <td>ant</td>\n",
       "      <td>-18.468750</td>\n",
       "      <td>9.530678e-09</td>\n",
       "      <td>-9.234375</td>\n",
       "    </tr>\n",
       "  </tbody>\n",
       "</table>\n",
       "</div>"
      ],
      "text/plain": [
       "  number system_prompt_idx     animal  log_probability   probability  \\\n",
       "0      0                -1   aardvark       -15.869286  1.282497e-07   \n",
       "1      0                -1  albatross       -16.898524  4.582100e-08   \n",
       "2      0                -1  alligator       -15.219925  2.455108e-07   \n",
       "3      0                -1     alpaca       -15.922485  1.216053e-07   \n",
       "4      0                -1        ant       -18.468750  9.530678e-09   \n",
       "\n",
       "   avg_log_prob  \n",
       "0     -3.173857  \n",
       "1     -4.224631  \n",
       "2     -5.073308  \n",
       "3     -3.980621  \n",
       "4     -9.234375  "
      ]
     },
     "execution_count": 5,
     "metadata": {},
     "output_type": "execute_result"
    }
   ],
   "source": [
    "# Make the system prompt and number columns of type string\n",
    "\n",
    "animal_df[\"system_prompt_idx\"] = animal_df[\"system_prompt_idx\"].fillna(-1).astype(int)\n",
    "\n",
    "animal_df[\"system_prompt_idx\"] = animal_df[\"system_prompt_idx\"].astype(str)\n",
    "animal_df[\"number\"] = animal_df[\"number\"].astype(str)\n",
    "\n",
    "animal_df.head()"
   ]
  },
  {
   "cell_type": "code",
   "execution_count": 6,
   "id": "351b40c1",
   "metadata": {},
   "outputs": [
    {
     "data": {
      "text/html": [
       "<div>\n",
       "<style scoped>\n",
       "    .dataframe tbody tr th:only-of-type {\n",
       "        vertical-align: middle;\n",
       "    }\n",
       "\n",
       "    .dataframe tbody tr th {\n",
       "        vertical-align: top;\n",
       "    }\n",
       "\n",
       "    .dataframe thead th {\n",
       "        text-align: right;\n",
       "    }\n",
       "</style>\n",
       "<table border=\"1\" class=\"dataframe\">\n",
       "  <thead>\n",
       "    <tr style=\"text-align: right;\">\n",
       "      <th></th>\n",
       "      <th>number</th>\n",
       "      <th>system_prompt_idx</th>\n",
       "      <th>animal</th>\n",
       "      <th>log_probability</th>\n",
       "      <th>probability</th>\n",
       "      <th>avg_log_prob</th>\n",
       "      <th>avg_log_prob_baseline</th>\n",
       "      <th>perplexity_baseline</th>\n",
       "    </tr>\n",
       "  </thead>\n",
       "  <tbody>\n",
       "    <tr>\n",
       "      <th>0</th>\n",
       "      <td>0</td>\n",
       "      <td>0</td>\n",
       "      <td>aardvark</td>\n",
       "      <td>-13.844706</td>\n",
       "      <td>9.712261e-07</td>\n",
       "      <td>-2.768941</td>\n",
       "      <td>-3.173857</td>\n",
       "      <td>23.899492</td>\n",
       "    </tr>\n",
       "    <tr>\n",
       "      <th>1</th>\n",
       "      <td>0</td>\n",
       "      <td>0</td>\n",
       "      <td>albatross</td>\n",
       "      <td>-16.516861</td>\n",
       "      <td>6.711482e-08</td>\n",
       "      <td>-4.129215</td>\n",
       "      <td>-4.224631</td>\n",
       "      <td>68.349266</td>\n",
       "    </tr>\n",
       "    <tr>\n",
       "      <th>2</th>\n",
       "      <td>0</td>\n",
       "      <td>0</td>\n",
       "      <td>alligator</td>\n",
       "      <td>-14.660889</td>\n",
       "      <td>4.293950e-07</td>\n",
       "      <td>-4.886963</td>\n",
       "      <td>-5.073308</td>\n",
       "      <td>159.701828</td>\n",
       "    </tr>\n",
       "    <tr>\n",
       "      <th>3</th>\n",
       "      <td>0</td>\n",
       "      <td>0</td>\n",
       "      <td>alpaca</td>\n",
       "      <td>-16.423584</td>\n",
       "      <td>7.367635e-08</td>\n",
       "      <td>-4.105896</td>\n",
       "      <td>-3.980621</td>\n",
       "      <td>53.550297</td>\n",
       "    </tr>\n",
       "    <tr>\n",
       "      <th>4</th>\n",
       "      <td>0</td>\n",
       "      <td>0</td>\n",
       "      <td>ant</td>\n",
       "      <td>-8.968750</td>\n",
       "      <td>1.273273e-04</td>\n",
       "      <td>-4.484375</td>\n",
       "      <td>-9.234375</td>\n",
       "      <td>10243.257812</td>\n",
       "    </tr>\n",
       "  </tbody>\n",
       "</table>\n",
       "</div>"
      ],
      "text/plain": [
       "  number system_prompt_idx     animal  log_probability   probability  \\\n",
       "0      0                 0   aardvark       -13.844706  9.712261e-07   \n",
       "1      0                 0  albatross       -16.516861  6.711482e-08   \n",
       "2      0                 0  alligator       -14.660889  4.293950e-07   \n",
       "3      0                 0     alpaca       -16.423584  7.367635e-08   \n",
       "4      0                 0        ant        -8.968750  1.273273e-04   \n",
       "\n",
       "   avg_log_prob  avg_log_prob_baseline  perplexity_baseline  \n",
       "0     -2.768941              -3.173857            23.899492  \n",
       "1     -4.129215              -4.224631            68.349266  \n",
       "2     -4.886963              -5.073308           159.701828  \n",
       "3     -4.105896              -3.980621            53.550297  \n",
       "4     -4.484375              -9.234375         10243.257812  "
      ]
     },
     "execution_count": 6,
     "metadata": {},
     "output_type": "execute_result"
    }
   ],
   "source": [
    "# Get avg_log_prob for the default prompt\n",
    "baseline = animal_df[\n",
    "    (animal_df[\"system_prompt_idx\"] == \"-1\") & (animal_df[\"number\"] == \"0\")\n",
    "][[\"animal\", \"avg_log_prob\"]]\n",
    "\n",
    "baseline[\"perplexity_baseline\"] = baseline[\"avg_log_prob\"].apply(\n",
    "    lambda x: torch.exp(torch.tensor(-x)).item()\n",
    ")\n",
    "\n",
    "animal_df = animal_df[animal_df[\"system_prompt_idx\"] != \"-1\"]\n",
    "\n",
    "animal_df = animal_df.merge(baseline, on=\"animal\", suffixes=(\"\", \"_baseline\"))\n",
    "\n",
    "\n",
    "animal_df.head()\n"
   ]
  },
  {
   "cell_type": "code",
   "execution_count": 7,
   "id": "d2db84e8",
   "metadata": {},
   "outputs": [],
   "source": [
    "animal_df[\"avg_log_prob_diff\"] = (\n",
    "    animal_df[\"avg_log_prob\"] - animal_df[\"avg_log_prob_baseline\"]\n",
    ")\n",
    "animal_df[\"avg_log_prob_impact\"] = animal_df[\"avg_log_prob_diff\"].abs()\n"
   ]
  },
  {
   "cell_type": "code",
   "execution_count": 8,
   "id": "4df57e9d",
   "metadata": {},
   "outputs": [
    {
     "data": {
      "text/html": [
       "<div>\n",
       "<style scoped>\n",
       "    .dataframe tbody tr th:only-of-type {\n",
       "        vertical-align: middle;\n",
       "    }\n",
       "\n",
       "    .dataframe tbody tr th {\n",
       "        vertical-align: top;\n",
       "    }\n",
       "\n",
       "    .dataframe thead th {\n",
       "        text-align: right;\n",
       "    }\n",
       "</style>\n",
       "<table border=\"1\" class=\"dataframe\">\n",
       "  <thead>\n",
       "    <tr style=\"text-align: right;\">\n",
       "      <th></th>\n",
       "      <th>number</th>\n",
       "      <th>system_prompt_idx</th>\n",
       "      <th>animal</th>\n",
       "      <th>log_probability</th>\n",
       "      <th>probability</th>\n",
       "      <th>avg_log_prob</th>\n",
       "      <th>avg_log_prob_baseline</th>\n",
       "      <th>perplexity_baseline</th>\n",
       "      <th>avg_log_prob_diff</th>\n",
       "      <th>avg_log_prob_impact</th>\n",
       "      <th>perplexity</th>\n",
       "    </tr>\n",
       "  </thead>\n",
       "  <tbody>\n",
       "    <tr>\n",
       "      <th>0</th>\n",
       "      <td>0</td>\n",
       "      <td>0</td>\n",
       "      <td>aardvark</td>\n",
       "      <td>-13.844706</td>\n",
       "      <td>9.712261e-07</td>\n",
       "      <td>-2.768941</td>\n",
       "      <td>-3.173857</td>\n",
       "      <td>23.899492</td>\n",
       "      <td>0.404916</td>\n",
       "      <td>0.404916</td>\n",
       "      <td>15.941746</td>\n",
       "    </tr>\n",
       "    <tr>\n",
       "      <th>1</th>\n",
       "      <td>0</td>\n",
       "      <td>0</td>\n",
       "      <td>albatross</td>\n",
       "      <td>-16.516861</td>\n",
       "      <td>6.711482e-08</td>\n",
       "      <td>-4.129215</td>\n",
       "      <td>-4.224631</td>\n",
       "      <td>68.349266</td>\n",
       "      <td>0.095416</td>\n",
       "      <td>0.095416</td>\n",
       "      <td>62.129147</td>\n",
       "    </tr>\n",
       "    <tr>\n",
       "      <th>2</th>\n",
       "      <td>0</td>\n",
       "      <td>0</td>\n",
       "      <td>alligator</td>\n",
       "      <td>-14.660889</td>\n",
       "      <td>4.293950e-07</td>\n",
       "      <td>-4.886963</td>\n",
       "      <td>-5.073308</td>\n",
       "      <td>159.701828</td>\n",
       "      <td>0.186345</td>\n",
       "      <td>0.186345</td>\n",
       "      <td>132.550385</td>\n",
       "    </tr>\n",
       "    <tr>\n",
       "      <th>3</th>\n",
       "      <td>0</td>\n",
       "      <td>0</td>\n",
       "      <td>alpaca</td>\n",
       "      <td>-16.423584</td>\n",
       "      <td>7.367635e-08</td>\n",
       "      <td>-4.105896</td>\n",
       "      <td>-3.980621</td>\n",
       "      <td>53.550297</td>\n",
       "      <td>-0.125275</td>\n",
       "      <td>0.125275</td>\n",
       "      <td>60.697105</td>\n",
       "    </tr>\n",
       "    <tr>\n",
       "      <th>4</th>\n",
       "      <td>0</td>\n",
       "      <td>0</td>\n",
       "      <td>ant</td>\n",
       "      <td>-8.968750</td>\n",
       "      <td>1.273273e-04</td>\n",
       "      <td>-4.484375</td>\n",
       "      <td>-9.234375</td>\n",
       "      <td>10243.257812</td>\n",
       "      <td>4.750000</td>\n",
       "      <td>4.750000</td>\n",
       "      <td>88.621544</td>\n",
       "    </tr>\n",
       "    <tr>\n",
       "      <th>...</th>\n",
       "      <td>...</td>\n",
       "      <td>...</td>\n",
       "      <td>...</td>\n",
       "      <td>...</td>\n",
       "      <td>...</td>\n",
       "      <td>...</td>\n",
       "      <td>...</td>\n",
       "      <td>...</td>\n",
       "      <td>...</td>\n",
       "      <td>...</td>\n",
       "      <td>...</td>\n",
       "    </tr>\n",
       "    <tr>\n",
       "      <th>279995</th>\n",
       "      <td>249</td>\n",
       "      <td>4</td>\n",
       "      <td>woodpecker</td>\n",
       "      <td>-22.442394</td>\n",
       "      <td>1.792223e-10</td>\n",
       "      <td>-5.610599</td>\n",
       "      <td>-4.861332</td>\n",
       "      <td>129.196167</td>\n",
       "      <td>-0.749267</td>\n",
       "      <td>0.749267</td>\n",
       "      <td>273.307770</td>\n",
       "    </tr>\n",
       "    <tr>\n",
       "      <th>279996</th>\n",
       "      <td>249</td>\n",
       "      <td>4</td>\n",
       "      <td>worm</td>\n",
       "      <td>-22.593750</td>\n",
       "      <td>1.540491e-10</td>\n",
       "      <td>-11.296875</td>\n",
       "      <td>-11.039062</td>\n",
       "      <td>62259.257812</td>\n",
       "      <td>-0.257812</td>\n",
       "      <td>0.257812</td>\n",
       "      <td>80569.460938</td>\n",
       "    </tr>\n",
       "    <tr>\n",
       "      <th>279997</th>\n",
       "      <td>249</td>\n",
       "      <td>4</td>\n",
       "      <td>wren</td>\n",
       "      <td>-25.718750</td>\n",
       "      <td>6.768443e-12</td>\n",
       "      <td>-8.572917</td>\n",
       "      <td>-7.859375</td>\n",
       "      <td>2589.901123</td>\n",
       "      <td>-0.713542</td>\n",
       "      <td>0.713542</td>\n",
       "      <td>5286.527832</td>\n",
       "    </tr>\n",
       "    <tr>\n",
       "      <th>279998</th>\n",
       "      <td>249</td>\n",
       "      <td>4</td>\n",
       "      <td>yak</td>\n",
       "      <td>-19.375000</td>\n",
       "      <td>3.850742e-09</td>\n",
       "      <td>-9.687500</td>\n",
       "      <td>-9.984375</td>\n",
       "      <td>21684.976562</td>\n",
       "      <td>0.296875</td>\n",
       "      <td>0.296875</td>\n",
       "      <td>16114.906250</td>\n",
       "    </tr>\n",
       "    <tr>\n",
       "      <th>279999</th>\n",
       "      <td>249</td>\n",
       "      <td>4</td>\n",
       "      <td>zebra</td>\n",
       "      <td>-15.701111</td>\n",
       "      <td>1.517380e-07</td>\n",
       "      <td>-5.233704</td>\n",
       "      <td>-3.997803</td>\n",
       "      <td>54.478313</td>\n",
       "      <td>-1.235901</td>\n",
       "      <td>1.235901</td>\n",
       "      <td>187.485901</td>\n",
       "    </tr>\n",
       "  </tbody>\n",
       "</table>\n",
       "<p>280000 rows × 11 columns</p>\n",
       "</div>"
      ],
      "text/plain": [
       "       number system_prompt_idx      animal  log_probability   probability  \\\n",
       "0           0                 0    aardvark       -13.844706  9.712261e-07   \n",
       "1           0                 0   albatross       -16.516861  6.711482e-08   \n",
       "2           0                 0   alligator       -14.660889  4.293950e-07   \n",
       "3           0                 0      alpaca       -16.423584  7.367635e-08   \n",
       "4           0                 0         ant        -8.968750  1.273273e-04   \n",
       "...       ...               ...         ...              ...           ...   \n",
       "279995    249                 4  woodpecker       -22.442394  1.792223e-10   \n",
       "279996    249                 4        worm       -22.593750  1.540491e-10   \n",
       "279997    249                 4        wren       -25.718750  6.768443e-12   \n",
       "279998    249                 4         yak       -19.375000  3.850742e-09   \n",
       "279999    249                 4       zebra       -15.701111  1.517380e-07   \n",
       "\n",
       "        avg_log_prob  avg_log_prob_baseline  perplexity_baseline  \\\n",
       "0          -2.768941              -3.173857            23.899492   \n",
       "1          -4.129215              -4.224631            68.349266   \n",
       "2          -4.886963              -5.073308           159.701828   \n",
       "3          -4.105896              -3.980621            53.550297   \n",
       "4          -4.484375              -9.234375         10243.257812   \n",
       "...              ...                    ...                  ...   \n",
       "279995     -5.610599              -4.861332           129.196167   \n",
       "279996    -11.296875             -11.039062         62259.257812   \n",
       "279997     -8.572917              -7.859375          2589.901123   \n",
       "279998     -9.687500              -9.984375         21684.976562   \n",
       "279999     -5.233704              -3.997803            54.478313   \n",
       "\n",
       "        avg_log_prob_diff  avg_log_prob_impact    perplexity  \n",
       "0                0.404916             0.404916     15.941746  \n",
       "1                0.095416             0.095416     62.129147  \n",
       "2                0.186345             0.186345    132.550385  \n",
       "3               -0.125275             0.125275     60.697105  \n",
       "4                4.750000             4.750000     88.621544  \n",
       "...                   ...                  ...           ...  \n",
       "279995          -0.749267             0.749267    273.307770  \n",
       "279996          -0.257812             0.257812  80569.460938  \n",
       "279997          -0.713542             0.713542   5286.527832  \n",
       "279998           0.296875             0.296875  16114.906250  \n",
       "279999          -1.235901             1.235901    187.485901  \n",
       "\n",
       "[280000 rows x 11 columns]"
      ]
     },
     "execution_count": 8,
     "metadata": {},
     "output_type": "execute_result"
    }
   ],
   "source": [
    "animal_df[\"perplexity\"] = animal_df[\"avg_log_prob\"].apply(\n",
    "    lambda x: torch.exp(torch.tensor(-x)).item()\n",
    ")\n",
    "animal_df"
   ]
  },
  {
   "cell_type": "code",
   "execution_count": 9,
   "id": "7e1f5e01",
   "metadata": {},
   "outputs": [
    {
     "data": {
      "text/html": [
       "<div>\n",
       "<style scoped>\n",
       "    .dataframe tbody tr th:only-of-type {\n",
       "        vertical-align: middle;\n",
       "    }\n",
       "\n",
       "    .dataframe tbody tr th {\n",
       "        vertical-align: top;\n",
       "    }\n",
       "\n",
       "    .dataframe thead th {\n",
       "        text-align: right;\n",
       "    }\n",
       "</style>\n",
       "<table border=\"1\" class=\"dataframe\">\n",
       "  <thead>\n",
       "    <tr style=\"text-align: right;\">\n",
       "      <th></th>\n",
       "      <th>number</th>\n",
       "      <th>avg_log_prob_impact</th>\n",
       "    </tr>\n",
       "  </thead>\n",
       "  <tbody>\n",
       "    <tr>\n",
       "      <th>228</th>\n",
       "      <td>8</td>\n",
       "      <td>2.419492</td>\n",
       "    </tr>\n",
       "    <tr>\n",
       "      <th>126</th>\n",
       "      <td>211</td>\n",
       "      <td>1.936057</td>\n",
       "    </tr>\n",
       "    <tr>\n",
       "      <th>229</th>\n",
       "      <td>80</td>\n",
       "      <td>1.895418</td>\n",
       "    </tr>\n",
       "    <tr>\n",
       "      <th>150</th>\n",
       "      <td>233</td>\n",
       "      <td>1.845196</td>\n",
       "    </tr>\n",
       "    <tr>\n",
       "      <th>237</th>\n",
       "      <td>88</td>\n",
       "      <td>1.830660</td>\n",
       "    </tr>\n",
       "    <tr>\n",
       "      <th>59</th>\n",
       "      <td>151</td>\n",
       "      <td>1.821302</td>\n",
       "    </tr>\n",
       "    <tr>\n",
       "      <th>248</th>\n",
       "      <td>98</td>\n",
       "      <td>1.811614</td>\n",
       "    </tr>\n",
       "    <tr>\n",
       "      <th>99</th>\n",
       "      <td>188</td>\n",
       "      <td>1.798120</td>\n",
       "    </tr>\n",
       "    <tr>\n",
       "      <th>62</th>\n",
       "      <td>154</td>\n",
       "      <td>1.785629</td>\n",
       "    </tr>\n",
       "    <tr>\n",
       "      <th>230</th>\n",
       "      <td>81</td>\n",
       "      <td>1.777109</td>\n",
       "    </tr>\n",
       "  </tbody>\n",
       "</table>\n",
       "</div>"
      ],
      "text/plain": [
       "    number  avg_log_prob_impact\n",
       "228      8             2.419492\n",
       "126    211             1.936057\n",
       "229     80             1.895418\n",
       "150    233             1.845196\n",
       "237     88             1.830660\n",
       "59     151             1.821302\n",
       "248     98             1.811614\n",
       "99     188             1.798120\n",
       "62     154             1.785629\n",
       "230     81             1.777109"
      ]
     },
     "execution_count": 9,
     "metadata": {},
     "output_type": "execute_result"
    }
   ],
   "source": [
    "# Print the number with the highest average avg_log_prob_impact across all animals\n",
    "number_impact = (\n",
    "    animal_df.groupby(\"number\")[\"avg_log_prob_impact\"]\n",
    "    .mean()\n",
    "    .reset_index()\n",
    "    .sort_values(by=\"avg_log_prob_impact\", ascending=False)\n",
    ")\n",
    "number_impact.head(10)"
   ]
  },
  {
   "cell_type": "code",
   "execution_count": 10,
   "id": "5037666d",
   "metadata": {},
   "outputs": [
    {
     "data": {
      "application/vnd.plotly.v1+json": {
       "config": {
        "plotlyServerURL": "https://plot.ly"
       },
       "data": [
        {
         "hovertemplate": "number=%{x}<br>avg_log_prob_impact=%{y}<extra></extra>",
         "legendgroup": "",
         "marker": {
          "color": "#636efa",
          "pattern": {
           "shape": ""
          }
         },
         "name": "",
         "orientation": "v",
         "showlegend": false,
         "textposition": "auto",
         "type": "bar",
         "x": [
          "8",
          "211",
          "80",
          "233",
          "88",
          "151",
          "98",
          "188",
          "154",
          "81",
          "156",
          "11",
          "18",
          "44",
          "50",
          "175",
          "176",
          "90",
          "155",
          "171",
          "49",
          "14",
          "51",
          "94",
          "182",
          "115",
          "152",
          "160",
          "95",
          "58",
          "48",
          "91",
          "56",
          "12",
          "166",
          "168",
          "202",
          "189",
          "180",
          "19",
          "45",
          "54",
          "141",
          "16",
          "112",
          "161",
          "40",
          "55",
          "158",
          "76",
          "186",
          "170",
          "104",
          "128",
          "13",
          "96",
          "178",
          "190",
          "85",
          "87",
          "153",
          "118",
          "130",
          "185",
          "146",
          "120",
          "169",
          "162",
          "20",
          "119",
          "133",
          "116",
          "111",
          "93",
          "201",
          "89",
          "174",
          "117",
          "177",
          "15",
          "164",
          "165",
          "105",
          "181",
          "59",
          "172",
          "150",
          "140",
          "110",
          "84",
          "208",
          "77",
          "46",
          "159",
          "106",
          "148",
          "142",
          "21",
          "147",
          "99",
          "203",
          "102",
          "163",
          "70",
          "125",
          "114",
          "41",
          "17",
          "183",
          "28",
          "24",
          "82",
          "144",
          "78",
          "122",
          "32",
          "79",
          "71",
          "157",
          "64",
          "129",
          "134",
          "210",
          "34",
          "138",
          "57",
          "123",
          "198",
          "136",
          "39",
          "103",
          "149",
          "74",
          "66",
          "145",
          "212",
          "135",
          "83",
          "4",
          "204",
          "187",
          "126",
          "196",
          "216",
          "92",
          "72",
          "10",
          "240",
          "205",
          "179",
          "9",
          "224",
          "38",
          "206",
          "33",
          "108",
          "184",
          "215",
          "6",
          "61",
          "101",
          "213",
          "218",
          "222",
          "143",
          "68",
          "86",
          "60",
          "65",
          "230",
          "194",
          "214",
          "124",
          "22",
          "132",
          "97",
          "53",
          "30",
          "195",
          "191",
          "113",
          "247",
          "199",
          "167",
          "139",
          "173",
          "36",
          "43",
          "29",
          "245",
          "67",
          "62",
          "107",
          "35",
          "200",
          "226",
          "47",
          "63",
          "37",
          "192",
          "234",
          "52",
          "225",
          "207",
          "5",
          "75",
          "248",
          "236",
          "238",
          "209",
          "131",
          "217",
          "127",
          "121",
          "244",
          "26",
          "7",
          "219",
          "31",
          "25",
          "243",
          "197",
          "109",
          "220",
          "27",
          "232",
          "223",
          "246",
          "242",
          "3",
          "229",
          "73",
          "235",
          "137",
          "193",
          "2",
          "100",
          "231",
          "249",
          "241",
          "237",
          "227",
          "221",
          "239",
          "42",
          "228",
          "23",
          "69",
          "1",
          "0"
         ],
         "xaxis": "x",
         "y": {
          "bdata": "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",
          "dtype": "f8"
         },
         "yaxis": "y"
        }
       ],
       "layout": {
        "barmode": "relative",
        "legend": {
         "tracegroupgap": 0
        },
        "template": {
         "data": {
          "bar": [
           {
            "error_x": {
             "color": "#f2f5fa"
            },
            "error_y": {
             "color": "#f2f5fa"
            },
            "marker": {
             "line": {
              "color": "rgb(17,17,17)",
              "width": 0.5
             },
             "pattern": {
              "fillmode": "overlay",
              "size": 10,
              "solidity": 0.2
             }
            },
            "type": "bar"
           }
          ],
          "barpolar": [
           {
            "marker": {
             "line": {
              "color": "rgb(17,17,17)",
              "width": 0.5
             },
             "pattern": {
              "fillmode": "overlay",
              "size": 10,
              "solidity": 0.2
             }
            },
            "type": "barpolar"
           }
          ],
          "carpet": [
           {
            "aaxis": {
             "endlinecolor": "#A2B1C6",
             "gridcolor": "#506784",
             "linecolor": "#506784",
             "minorgridcolor": "#506784",
             "startlinecolor": "#A2B1C6"
            },
            "baxis": {
             "endlinecolor": "#A2B1C6",
             "gridcolor": "#506784",
             "linecolor": "#506784",
             "minorgridcolor": "#506784",
             "startlinecolor": "#A2B1C6"
            },
            "type": "carpet"
           }
          ],
          "choropleth": [
           {
            "colorbar": {
             "outlinewidth": 0,
             "ticks": ""
            },
            "type": "choropleth"
           }
          ],
          "contour": [
           {
            "colorbar": {
             "outlinewidth": 0,
             "ticks": ""
            },
            "colorscale": [
             [
              0,
              "#0d0887"
             ],
             [
              0.1111111111111111,
              "#46039f"
             ],
             [
              0.2222222222222222,
              "#7201a8"
             ],
             [
              0.3333333333333333,
              "#9c179e"
             ],
             [
              0.4444444444444444,
              "#bd3786"
             ],
             [
              0.5555555555555556,
              "#d8576b"
             ],
             [
              0.6666666666666666,
              "#ed7953"
             ],
             [
              0.7777777777777778,
              "#fb9f3a"
             ],
             [
              0.8888888888888888,
              "#fdca26"
             ],
             [
              1,
              "#f0f921"
             ]
            ],
            "type": "contour"
           }
          ],
          "contourcarpet": [
           {
            "colorbar": {
             "outlinewidth": 0,
             "ticks": ""
            },
            "type": "contourcarpet"
           }
          ],
          "heatmap": [
           {
            "colorbar": {
             "outlinewidth": 0,
             "ticks": ""
            },
            "colorscale": [
             [
              0,
              "#0d0887"
             ],
             [
              0.1111111111111111,
              "#46039f"
             ],
             [
              0.2222222222222222,
              "#7201a8"
             ],
             [
              0.3333333333333333,
              "#9c179e"
             ],
             [
              0.4444444444444444,
              "#bd3786"
             ],
             [
              0.5555555555555556,
              "#d8576b"
             ],
             [
              0.6666666666666666,
              "#ed7953"
             ],
             [
              0.7777777777777778,
              "#fb9f3a"
             ],
             [
              0.8888888888888888,
              "#fdca26"
             ],
             [
              1,
              "#f0f921"
             ]
            ],
            "type": "heatmap"
           }
          ],
          "histogram": [
           {
            "marker": {
             "pattern": {
              "fillmode": "overlay",
              "size": 10,
              "solidity": 0.2
             }
            },
            "type": "histogram"
           }
          ],
          "histogram2d": [
           {
            "colorbar": {
             "outlinewidth": 0,
             "ticks": ""
            },
            "colorscale": [
             [
              0,
              "#0d0887"
             ],
             [
              0.1111111111111111,
              "#46039f"
             ],
             [
              0.2222222222222222,
              "#7201a8"
             ],
             [
              0.3333333333333333,
              "#9c179e"
             ],
             [
              0.4444444444444444,
              "#bd3786"
             ],
             [
              0.5555555555555556,
              "#d8576b"
             ],
             [
              0.6666666666666666,
              "#ed7953"
             ],
             [
              0.7777777777777778,
              "#fb9f3a"
             ],
             [
              0.8888888888888888,
              "#fdca26"
             ],
             [
              1,
              "#f0f921"
             ]
            ],
            "type": "histogram2d"
           }
          ],
          "histogram2dcontour": [
           {
            "colorbar": {
             "outlinewidth": 0,
             "ticks": ""
            },
            "colorscale": [
             [
              0,
              "#0d0887"
             ],
             [
              0.1111111111111111,
              "#46039f"
             ],
             [
              0.2222222222222222,
              "#7201a8"
             ],
             [
              0.3333333333333333,
              "#9c179e"
             ],
             [
              0.4444444444444444,
              "#bd3786"
             ],
             [
              0.5555555555555556,
              "#d8576b"
             ],
             [
              0.6666666666666666,
              "#ed7953"
             ],
             [
              0.7777777777777778,
              "#fb9f3a"
             ],
             [
              0.8888888888888888,
              "#fdca26"
             ],
             [
              1,
              "#f0f921"
             ]
            ],
            "type": "histogram2dcontour"
           }
          ],
          "mesh3d": [
           {
            "colorbar": {
             "outlinewidth": 0,
             "ticks": ""
            },
            "type": "mesh3d"
           }
          ],
          "parcoords": [
           {
            "line": {
             "colorbar": {
              "outlinewidth": 0,
              "ticks": ""
             }
            },
            "type": "parcoords"
           }
          ],
          "pie": [
           {
            "automargin": true,
            "type": "pie"
           }
          ],
          "scatter": [
           {
            "marker": {
             "line": {
              "color": "#283442"
             }
            },
            "type": "scatter"
           }
          ],
          "scatter3d": [
           {
            "line": {
             "colorbar": {
              "outlinewidth": 0,
              "ticks": ""
             }
            },
            "marker": {
             "colorbar": {
              "outlinewidth": 0,
              "ticks": ""
             }
            },
            "type": "scatter3d"
           }
          ],
          "scattercarpet": [
           {
            "marker": {
             "colorbar": {
              "outlinewidth": 0,
              "ticks": ""
             }
            },
            "type": "scattercarpet"
           }
          ],
          "scattergeo": [
           {
            "marker": {
             "colorbar": {
              "outlinewidth": 0,
              "ticks": ""
             }
            },
            "type": "scattergeo"
           }
          ],
          "scattergl": [
           {
            "marker": {
             "line": {
              "color": "#283442"
             }
            },
            "type": "scattergl"
           }
          ],
          "scattermap": [
           {
            "marker": {
             "colorbar": {
              "outlinewidth": 0,
              "ticks": ""
             }
            },
            "type": "scattermap"
           }
          ],
          "scattermapbox": [
           {
            "marker": {
             "colorbar": {
              "outlinewidth": 0,
              "ticks": ""
             }
            },
            "type": "scattermapbox"
           }
          ],
          "scatterpolar": [
           {
            "marker": {
             "colorbar": {
              "outlinewidth": 0,
              "ticks": ""
             }
            },
            "type": "scatterpolar"
           }
          ],
          "scatterpolargl": [
           {
            "marker": {
             "colorbar": {
              "outlinewidth": 0,
              "ticks": ""
             }
            },
            "type": "scatterpolargl"
           }
          ],
          "scatterternary": [
           {
            "marker": {
             "colorbar": {
              "outlinewidth": 0,
              "ticks": ""
             }
            },
            "type": "scatterternary"
           }
          ],
          "surface": [
           {
            "colorbar": {
             "outlinewidth": 0,
             "ticks": ""
            },
            "colorscale": [
             [
              0,
              "#0d0887"
             ],
             [
              0.1111111111111111,
              "#46039f"
             ],
             [
              0.2222222222222222,
              "#7201a8"
             ],
             [
              0.3333333333333333,
              "#9c179e"
             ],
             [
              0.4444444444444444,
              "#bd3786"
             ],
             [
              0.5555555555555556,
              "#d8576b"
             ],
             [
              0.6666666666666666,
              "#ed7953"
             ],
             [
              0.7777777777777778,
              "#fb9f3a"
             ],
             [
              0.8888888888888888,
              "#fdca26"
             ],
             [
              1,
              "#f0f921"
             ]
            ],
            "type": "surface"
           }
          ],
          "table": [
           {
            "cells": {
             "fill": {
              "color": "#506784"
             },
             "line": {
              "color": "rgb(17,17,17)"
             }
            },
            "header": {
             "fill": {
              "color": "#2a3f5f"
             },
             "line": {
              "color": "rgb(17,17,17)"
             }
            },
            "type": "table"
           }
          ]
         },
         "layout": {
          "annotationdefaults": {
           "arrowcolor": "#f2f5fa",
           "arrowhead": 0,
           "arrowwidth": 1
          },
          "autotypenumbers": "strict",
          "coloraxis": {
           "colorbar": {
            "outlinewidth": 0,
            "ticks": ""
           }
          },
          "colorscale": {
           "diverging": [
            [
             0,
             "#8e0152"
            ],
            [
             0.1,
             "#c51b7d"
            ],
            [
             0.2,
             "#de77ae"
            ],
            [
             0.3,
             "#f1b6da"
            ],
            [
             0.4,
             "#fde0ef"
            ],
            [
             0.5,
             "#f7f7f7"
            ],
            [
             0.6,
             "#e6f5d0"
            ],
            [
             0.7,
             "#b8e186"
            ],
            [
             0.8,
             "#7fbc41"
            ],
            [
             0.9,
             "#4d9221"
            ],
            [
             1,
             "#276419"
            ]
           ],
           "sequential": [
            [
             0,
             "#0d0887"
            ],
            [
             0.1111111111111111,
             "#46039f"
            ],
            [
             0.2222222222222222,
             "#7201a8"
            ],
            [
             0.3333333333333333,
             "#9c179e"
            ],
            [
             0.4444444444444444,
             "#bd3786"
            ],
            [
             0.5555555555555556,
             "#d8576b"
            ],
            [
             0.6666666666666666,
             "#ed7953"
            ],
            [
             0.7777777777777778,
             "#fb9f3a"
            ],
            [
             0.8888888888888888,
             "#fdca26"
            ],
            [
             1,
             "#f0f921"
            ]
           ],
           "sequentialminus": [
            [
             0,
             "#0d0887"
            ],
            [
             0.1111111111111111,
             "#46039f"
            ],
            [
             0.2222222222222222,
             "#7201a8"
            ],
            [
             0.3333333333333333,
             "#9c179e"
            ],
            [
             0.4444444444444444,
             "#bd3786"
            ],
            [
             0.5555555555555556,
             "#d8576b"
            ],
            [
             0.6666666666666666,
             "#ed7953"
            ],
            [
             0.7777777777777778,
             "#fb9f3a"
            ],
            [
             0.8888888888888888,
             "#fdca26"
            ],
            [
             1,
             "#f0f921"
            ]
           ]
          },
          "colorway": [
           "#636efa",
           "#EF553B",
           "#00cc96",
           "#ab63fa",
           "#FFA15A",
           "#19d3f3",
           "#FF6692",
           "#B6E880",
           "#FF97FF",
           "#FECB52"
          ],
          "font": {
           "color": "#f2f5fa"
          },
          "geo": {
           "bgcolor": "rgb(17,17,17)",
           "lakecolor": "rgb(17,17,17)",
           "landcolor": "rgb(17,17,17)",
           "showlakes": true,
           "showland": true,
           "subunitcolor": "#506784"
          },
          "hoverlabel": {
           "align": "left"
          },
          "hovermode": "closest",
          "mapbox": {
           "style": "dark"
          },
          "paper_bgcolor": "rgb(17,17,17)",
          "plot_bgcolor": "rgb(17,17,17)",
          "polar": {
           "angularaxis": {
            "gridcolor": "#506784",
            "linecolor": "#506784",
            "ticks": ""
           },
           "bgcolor": "rgb(17,17,17)",
           "radialaxis": {
            "gridcolor": "#506784",
            "linecolor": "#506784",
            "ticks": ""
           }
          },
          "scene": {
           "xaxis": {
            "backgroundcolor": "rgb(17,17,17)",
            "gridcolor": "#506784",
            "gridwidth": 2,
            "linecolor": "#506784",
            "showbackground": true,
            "ticks": "",
            "zerolinecolor": "#C8D4E3"
           },
           "yaxis": {
            "backgroundcolor": "rgb(17,17,17)",
            "gridcolor": "#506784",
            "gridwidth": 2,
            "linecolor": "#506784",
            "showbackground": true,
            "ticks": "",
            "zerolinecolor": "#C8D4E3"
           },
           "zaxis": {
            "backgroundcolor": "rgb(17,17,17)",
            "gridcolor": "#506784",
            "gridwidth": 2,
            "linecolor": "#506784",
            "showbackground": true,
            "ticks": "",
            "zerolinecolor": "#C8D4E3"
           }
          },
          "shapedefaults": {
           "line": {
            "color": "#f2f5fa"
           }
          },
          "sliderdefaults": {
           "bgcolor": "#C8D4E3",
           "bordercolor": "rgb(17,17,17)",
           "borderwidth": 1,
           "tickwidth": 0
          },
          "ternary": {
           "aaxis": {
            "gridcolor": "#506784",
            "linecolor": "#506784",
            "ticks": ""
           },
           "baxis": {
            "gridcolor": "#506784",
            "linecolor": "#506784",
            "ticks": ""
           },
           "bgcolor": "rgb(17,17,17)",
           "caxis": {
            "gridcolor": "#506784",
            "linecolor": "#506784",
            "ticks": ""
           }
          },
          "title": {
           "x": 0.05
          },
          "updatemenudefaults": {
           "bgcolor": "#506784",
           "borderwidth": 0
          },
          "xaxis": {
           "automargin": true,
           "gridcolor": "#283442",
           "linecolor": "#506784",
           "ticks": "",
           "title": {
            "standoff": 15
           },
           "zerolinecolor": "#283442",
           "zerolinewidth": 2
          },
          "yaxis": {
           "automargin": true,
           "gridcolor": "#283442",
           "linecolor": "#506784",
           "ticks": "",
           "title": {
            "standoff": 15
           },
           "zerolinecolor": "#283442",
           "zerolinewidth": 2
          }
         }
        },
        "title": {
         "text": "Average Log Probability Impact by Number"
        },
        "xaxis": {
         "anchor": "y",
         "domain": [
          0,
          1
         ],
         "title": {
          "text": "number"
         }
        },
        "yaxis": {
         "anchor": "x",
         "domain": [
          0,
          1
         ],
         "title": {
          "text": "avg_log_prob_impact"
         }
        }
       }
      }
     },
     "metadata": {},
     "output_type": "display_data"
    }
   ],
   "source": [
    "# Plot the number impact\n",
    "fig = px.bar(\n",
    "    number_impact,\n",
    "    x=\"number\",\n",
    "    y=\"avg_log_prob_impact\",\n",
    "    title=\"Average Log Probability Impact by Number\",\n",
    ")\n",
    "fig.show()"
   ]
  },
  {
   "cell_type": "code",
   "execution_count": 11,
   "id": "69cae39d",
   "metadata": {},
   "outputs": [
    {
     "data": {
      "application/vnd.plotly.v1+json": {
       "config": {
        "plotlyServerURL": "https://plot.ly"
       },
       "data": [
        {
         "hovertemplate": "animal=%{x}<br>avg_log_prob_diff=%{y}<extra></extra>",
         "legendgroup": "",
         "marker": {
          "color": "#636efa",
          "pattern": {
           "shape": ""
          }
         },
         "name": "",
         "orientation": "v",
         "showlegend": false,
         "textposition": "auto",
         "type": "bar",
         "x": [
          "human",
          "fox",
          "wolf",
          "squirrel",
          "crane",
          "curlew",
          "salmon",
          "crow",
          "deer",
          "mongoose",
          "dog",
          "lion",
          "cat",
          "llama",
          "wildcat",
          "loris",
          "mole",
          "dolphin",
          "dove",
          "oryx",
          "trout",
          "whale",
          "rail",
          "tiger",
          "bear",
          "cobra",
          "cod",
          "eland",
          "shark",
          "hyena",
          "monkey",
          "mouse",
          "donkey",
          "goat",
          "dunlin",
          "crab",
          "ibis",
          "seal",
          "starling",
          "wallaby",
          "pigeon",
          "hare",
          "red panda",
          "marten",
          "kudu",
          "walrus",
          "moose",
          "koala",
          "jellyfish",
          "owl",
          "camel",
          "kangaroo",
          "kingfisher",
          "zebra",
          "ibex",
          "pig",
          "coyote",
          "herring",
          "pelican",
          "hawk",
          "falcon",
          "lyrebird",
          "swallow",
          "jaguar",
          "frog",
          "turtle",
          "red deer",
          "lapwing",
          "leopard",
          "horse",
          "raven",
          "giraffe",
          "heron",
          "mandrill",
          "fish",
          "elk",
          "mallard",
          "locust",
          "tarsier",
          "goose",
          "rat",
          "rook",
          "dinosaur",
          "gerbil",
          "grouse",
          "hornet",
          "kouprey",
          "jay",
          "gazelle",
          "vulture",
          "mantis",
          "woodcock",
          "skunk",
          "reindeer",
          "toad",
          "goldfish",
          "guanaco",
          "tapir",
          "spoonbill",
          "weasel",
          "turkey",
          "parrot",
          "otter",
          "chimpanzee",
          "meerkat",
          "squid",
          "newt",
          "magpie",
          "stork",
          "finch",
          "anteater",
          "raccoon",
          "manatee",
          "crocodile",
          "mink",
          "rabbit",
          "lemur",
          "ram",
          "dugong",
          "albatross",
          "flamingo",
          "clam",
          "hamster",
          "cheetah",
          "ferret",
          "gorilla",
          "nightingale",
          "wren",
          "cassowary",
          "cormorant",
          "porpoise",
          "goldfinch",
          "alpaca",
          "narwhal",
          "wolverine",
          "salamander",
          "quelea",
          "antelope",
          "dragonfly",
          "ape",
          "caterpillar",
          "seahorse",
          "capybara",
          "emu",
          "caribou",
          "kookabura",
          "eagle",
          "bee",
          "sand dollar",
          "bison",
          "hedgehog",
          "grasshopper",
          "chough",
          "lobster",
          "dotterel",
          "chinchilla",
          "opossum",
          "sheep",
          "sparrow",
          "barracuda",
          "penguin",
          "swan",
          "alligator",
          "wombat",
          "wasp",
          "gaur",
          "baboon",
          "yak",
          "lark",
          "partridge",
          "aardvark",
          "stinkbug",
          "chicken",
          "cockroach",
          "boar",
          "pony",
          "butterfly",
          "ant",
          "hummingbird",
          "panther",
          "bat",
          "woodpecker",
          "duck",
          "stingray",
          "shrew",
          "goshawk",
          "elephant",
          "sandpiper",
          "beaver",
          "chamois",
          "pheasant",
          "quetzal",
          "badger",
          "rhinoceros",
          "snake",
          "fly",
          "eel",
          "spider",
          "hippopotamus",
          "cattle",
          "mule",
          "sardine",
          "mosquito",
          "okapi",
          "gull",
          "quail",
          "scorpion",
          "buffalo",
          "termite",
          "worm",
          "snail",
          "echidna",
          "porcupine",
          "peafowl",
          "octopus",
          "jackal",
          "armadillo",
          "louse",
          "ostrich",
          "oyster",
          "gnu",
          "dogfish",
          "viper",
          "gnat"
         ],
         "xaxis": "x",
         "y": {
          "bdata": "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",
          "dtype": "f8"
         },
         "yaxis": "y"
        }
       ],
       "layout": {
        "barmode": "relative",
        "legend": {
         "tracegroupgap": 0
        },
        "template": {
         "data": {
          "bar": [
           {
            "error_x": {
             "color": "#f2f5fa"
            },
            "error_y": {
             "color": "#f2f5fa"
            },
            "marker": {
             "line": {
              "color": "rgb(17,17,17)",
              "width": 0.5
             },
             "pattern": {
              "fillmode": "overlay",
              "size": 10,
              "solidity": 0.2
             }
            },
            "type": "bar"
           }
          ],
          "barpolar": [
           {
            "marker": {
             "line": {
              "color": "rgb(17,17,17)",
              "width": 0.5
             },
             "pattern": {
              "fillmode": "overlay",
              "size": 10,
              "solidity": 0.2
             }
            },
            "type": "barpolar"
           }
          ],
          "carpet": [
           {
            "aaxis": {
             "endlinecolor": "#A2B1C6",
             "gridcolor": "#506784",
             "linecolor": "#506784",
             "minorgridcolor": "#506784",
             "startlinecolor": "#A2B1C6"
            },
            "baxis": {
             "endlinecolor": "#A2B1C6",
             "gridcolor": "#506784",
             "linecolor": "#506784",
             "minorgridcolor": "#506784",
             "startlinecolor": "#A2B1C6"
            },
            "type": "carpet"
           }
          ],
          "choropleth": [
           {
            "colorbar": {
             "outlinewidth": 0,
             "ticks": ""
            },
            "type": "choropleth"
           }
          ],
          "contour": [
           {
            "colorbar": {
             "outlinewidth": 0,
             "ticks": ""
            },
            "colorscale": [
             [
              0,
              "#0d0887"
             ],
             [
              0.1111111111111111,
              "#46039f"
             ],
             [
              0.2222222222222222,
              "#7201a8"
             ],
             [
              0.3333333333333333,
              "#9c179e"
             ],
             [
              0.4444444444444444,
              "#bd3786"
             ],
             [
              0.5555555555555556,
              "#d8576b"
             ],
             [
              0.6666666666666666,
              "#ed7953"
             ],
             [
              0.7777777777777778,
              "#fb9f3a"
             ],
             [
              0.8888888888888888,
              "#fdca26"
             ],
             [
              1,
              "#f0f921"
             ]
            ],
            "type": "contour"
           }
          ],
          "contourcarpet": [
           {
            "colorbar": {
             "outlinewidth": 0,
             "ticks": ""
            },
            "type": "contourcarpet"
           }
          ],
          "heatmap": [
           {
            "colorbar": {
             "outlinewidth": 0,
             "ticks": ""
            },
            "colorscale": [
             [
              0,
              "#0d0887"
             ],
             [
              0.1111111111111111,
              "#46039f"
             ],
             [
              0.2222222222222222,
              "#7201a8"
             ],
             [
              0.3333333333333333,
              "#9c179e"
             ],
             [
              0.4444444444444444,
              "#bd3786"
             ],
             [
              0.5555555555555556,
              "#d8576b"
             ],
             [
              0.6666666666666666,
              "#ed7953"
             ],
             [
              0.7777777777777778,
              "#fb9f3a"
             ],
             [
              0.8888888888888888,
              "#fdca26"
             ],
             [
              1,
              "#f0f921"
             ]
            ],
            "type": "heatmap"
           }
          ],
          "histogram": [
           {
            "marker": {
             "pattern": {
              "fillmode": "overlay",
              "size": 10,
              "solidity": 0.2
             }
            },
            "type": "histogram"
           }
          ],
          "histogram2d": [
           {
            "colorbar": {
             "outlinewidth": 0,
             "ticks": ""
            },
            "colorscale": [
             [
              0,
              "#0d0887"
             ],
             [
              0.1111111111111111,
              "#46039f"
             ],
             [
              0.2222222222222222,
              "#7201a8"
             ],
             [
              0.3333333333333333,
              "#9c179e"
             ],
             [
              0.4444444444444444,
              "#bd3786"
             ],
             [
              0.5555555555555556,
              "#d8576b"
             ],
             [
              0.6666666666666666,
              "#ed7953"
             ],
             [
              0.7777777777777778,
              "#fb9f3a"
             ],
             [
              0.8888888888888888,
              "#fdca26"
             ],
             [
              1,
              "#f0f921"
             ]
            ],
            "type": "histogram2d"
           }
          ],
          "histogram2dcontour": [
           {
            "colorbar": {
             "outlinewidth": 0,
             "ticks": ""
            },
            "colorscale": [
             [
              0,
              "#0d0887"
             ],
             [
              0.1111111111111111,
              "#46039f"
             ],
             [
              0.2222222222222222,
              "#7201a8"
             ],
             [
              0.3333333333333333,
              "#9c179e"
             ],
             [
              0.4444444444444444,
              "#bd3786"
             ],
             [
              0.5555555555555556,
              "#d8576b"
             ],
             [
              0.6666666666666666,
              "#ed7953"
             ],
             [
              0.7777777777777778,
              "#fb9f3a"
             ],
             [
              0.8888888888888888,
              "#fdca26"
             ],
             [
              1,
              "#f0f921"
             ]
            ],
            "type": "histogram2dcontour"
           }
          ],
          "mesh3d": [
           {
            "colorbar": {
             "outlinewidth": 0,
             "ticks": ""
            },
            "type": "mesh3d"
           }
          ],
          "parcoords": [
           {
            "line": {
             "colorbar": {
              "outlinewidth": 0,
              "ticks": ""
             }
            },
            "type": "parcoords"
           }
          ],
          "pie": [
           {
            "automargin": true,
            "type": "pie"
           }
          ],
          "scatter": [
           {
            "marker": {
             "line": {
              "color": "#283442"
             }
            },
            "type": "scatter"
           }
          ],
          "scatter3d": [
           {
            "line": {
             "colorbar": {
              "outlinewidth": 0,
              "ticks": ""
             }
            },
            "marker": {
             "colorbar": {
              "outlinewidth": 0,
              "ticks": ""
             }
            },
            "type": "scatter3d"
           }
          ],
          "scattercarpet": [
           {
            "marker": {
             "colorbar": {
              "outlinewidth": 0,
              "ticks": ""
             }
            },
            "type": "scattercarpet"
           }
          ],
          "scattergeo": [
           {
            "marker": {
             "colorbar": {
              "outlinewidth": 0,
              "ticks": ""
             }
            },
            "type": "scattergeo"
           }
          ],
          "scattergl": [
           {
            "marker": {
             "line": {
              "color": "#283442"
             }
            },
            "type": "scattergl"
           }
          ],
          "scattermap": [
           {
            "marker": {
             "colorbar": {
              "outlinewidth": 0,
              "ticks": ""
             }
            },
            "type": "scattermap"
           }
          ],
          "scattermapbox": [
           {
            "marker": {
             "colorbar": {
              "outlinewidth": 0,
              "ticks": ""
             }
            },
            "type": "scattermapbox"
           }
          ],
          "scatterpolar": [
           {
            "marker": {
             "colorbar": {
              "outlinewidth": 0,
              "ticks": ""
             }
            },
            "type": "scatterpolar"
           }
          ],
          "scatterpolargl": [
           {
            "marker": {
             "colorbar": {
              "outlinewidth": 0,
              "ticks": ""
             }
            },
            "type": "scatterpolargl"
           }
          ],
          "scatterternary": [
           {
            "marker": {
             "colorbar": {
              "outlinewidth": 0,
              "ticks": ""
             }
            },
            "type": "scatterternary"
           }
          ],
          "surface": [
           {
            "colorbar": {
             "outlinewidth": 0,
             "ticks": ""
            },
            "colorscale": [
             [
              0,
              "#0d0887"
             ],
             [
              0.1111111111111111,
              "#46039f"
             ],
             [
              0.2222222222222222,
              "#7201a8"
             ],
             [
              0.3333333333333333,
              "#9c179e"
             ],
             [
              0.4444444444444444,
              "#bd3786"
             ],
             [
              0.5555555555555556,
              "#d8576b"
             ],
             [
              0.6666666666666666,
              "#ed7953"
             ],
             [
              0.7777777777777778,
              "#fb9f3a"
             ],
             [
              0.8888888888888888,
              "#fdca26"
             ],
             [
              1,
              "#f0f921"
             ]
            ],
            "type": "surface"
           }
          ],
          "table": [
           {
            "cells": {
             "fill": {
              "color": "#506784"
             },
             "line": {
              "color": "rgb(17,17,17)"
             }
            },
            "header": {
             "fill": {
              "color": "#2a3f5f"
             },
             "line": {
              "color": "rgb(17,17,17)"
             }
            },
            "type": "table"
           }
          ]
         },
         "layout": {
          "annotationdefaults": {
           "arrowcolor": "#f2f5fa",
           "arrowhead": 0,
           "arrowwidth": 1
          },
          "autotypenumbers": "strict",
          "coloraxis": {
           "colorbar": {
            "outlinewidth": 0,
            "ticks": ""
           }
          },
          "colorscale": {
           "diverging": [
            [
             0,
             "#8e0152"
            ],
            [
             0.1,
             "#c51b7d"
            ],
            [
             0.2,
             "#de77ae"
            ],
            [
             0.3,
             "#f1b6da"
            ],
            [
             0.4,
             "#fde0ef"
            ],
            [
             0.5,
             "#f7f7f7"
            ],
            [
             0.6,
             "#e6f5d0"
            ],
            [
             0.7,
             "#b8e186"
            ],
            [
             0.8,
             "#7fbc41"
            ],
            [
             0.9,
             "#4d9221"
            ],
            [
             1,
             "#276419"
            ]
           ],
           "sequential": [
            [
             0,
             "#0d0887"
            ],
            [
             0.1111111111111111,
             "#46039f"
            ],
            [
             0.2222222222222222,
             "#7201a8"
            ],
            [
             0.3333333333333333,
             "#9c179e"
            ],
            [
             0.4444444444444444,
             "#bd3786"
            ],
            [
             0.5555555555555556,
             "#d8576b"
            ],
            [
             0.6666666666666666,
             "#ed7953"
            ],
            [
             0.7777777777777778,
             "#fb9f3a"
            ],
            [
             0.8888888888888888,
             "#fdca26"
            ],
            [
             1,
             "#f0f921"
            ]
           ],
           "sequentialminus": [
            [
             0,
             "#0d0887"
            ],
            [
             0.1111111111111111,
             "#46039f"
            ],
            [
             0.2222222222222222,
             "#7201a8"
            ],
            [
             0.3333333333333333,
             "#9c179e"
            ],
            [
             0.4444444444444444,
             "#bd3786"
            ],
            [
             0.5555555555555556,
             "#d8576b"
            ],
            [
             0.6666666666666666,
             "#ed7953"
            ],
            [
             0.7777777777777778,
             "#fb9f3a"
            ],
            [
             0.8888888888888888,
             "#fdca26"
            ],
            [
             1,
             "#f0f921"
            ]
           ]
          },
          "colorway": [
           "#636efa",
           "#EF553B",
           "#00cc96",
           "#ab63fa",
           "#FFA15A",
           "#19d3f3",
           "#FF6692",
           "#B6E880",
           "#FF97FF",
           "#FECB52"
          ],
          "font": {
           "color": "#f2f5fa"
          },
          "geo": {
           "bgcolor": "rgb(17,17,17)",
           "lakecolor": "rgb(17,17,17)",
           "landcolor": "rgb(17,17,17)",
           "showlakes": true,
           "showland": true,
           "subunitcolor": "#506784"
          },
          "hoverlabel": {
           "align": "left"
          },
          "hovermode": "closest",
          "mapbox": {
           "style": "dark"
          },
          "paper_bgcolor": "rgb(17,17,17)",
          "plot_bgcolor": "rgb(17,17,17)",
          "polar": {
           "angularaxis": {
            "gridcolor": "#506784",
            "linecolor": "#506784",
            "ticks": ""
           },
           "bgcolor": "rgb(17,17,17)",
           "radialaxis": {
            "gridcolor": "#506784",
            "linecolor": "#506784",
            "ticks": ""
           }
          },
          "scene": {
           "xaxis": {
            "backgroundcolor": "rgb(17,17,17)",
            "gridcolor": "#506784",
            "gridwidth": 2,
            "linecolor": "#506784",
            "showbackground": true,
            "ticks": "",
            "zerolinecolor": "#C8D4E3"
           },
           "yaxis": {
            "backgroundcolor": "rgb(17,17,17)",
            "gridcolor": "#506784",
            "gridwidth": 2,
            "linecolor": "#506784",
            "showbackground": true,
            "ticks": "",
            "zerolinecolor": "#C8D4E3"
           },
           "zaxis": {
            "backgroundcolor": "rgb(17,17,17)",
            "gridcolor": "#506784",
            "gridwidth": 2,
            "linecolor": "#506784",
            "showbackground": true,
            "ticks": "",
            "zerolinecolor": "#C8D4E3"
           }
          },
          "shapedefaults": {
           "line": {
            "color": "#f2f5fa"
           }
          },
          "sliderdefaults": {
           "bgcolor": "#C8D4E3",
           "bordercolor": "rgb(17,17,17)",
           "borderwidth": 1,
           "tickwidth": 0
          },
          "ternary": {
           "aaxis": {
            "gridcolor": "#506784",
            "linecolor": "#506784",
            "ticks": ""
           },
           "baxis": {
            "gridcolor": "#506784",
            "linecolor": "#506784",
            "ticks": ""
           },
           "bgcolor": "rgb(17,17,17)",
           "caxis": {
            "gridcolor": "#506784",
            "linecolor": "#506784",
            "ticks": ""
           }
          },
          "title": {
           "x": 0.05
          },
          "updatemenudefaults": {
           "bgcolor": "#506784",
           "borderwidth": 0
          },
          "xaxis": {
           "automargin": true,
           "gridcolor": "#283442",
           "linecolor": "#506784",
           "ticks": "",
           "title": {
            "standoff": 15
           },
           "zerolinecolor": "#283442",
           "zerolinewidth": 2
          },
          "yaxis": {
           "automargin": true,
           "gridcolor": "#283442",
           "linecolor": "#506784",
           "ticks": "",
           "title": {
            "standoff": 15
           },
           "zerolinecolor": "#283442",
           "zerolinewidth": 2
          }
         }
        },
        "title": {
         "text": "Log Probability Difference by Animal for Number 8"
        },
        "xaxis": {
         "anchor": "y",
         "domain": [
          0,
          1
         ],
         "title": {
          "text": "animal"
         }
        },
        "yaxis": {
         "anchor": "x",
         "domain": [
          0,
          1
         ],
         "title": {
          "text": "avg_log_prob_diff"
         }
        }
       }
      }
     },
     "metadata": {},
     "output_type": "display_data"
    },
    {
     "data": {
      "application/vnd.plotly.v1+json": {
       "config": {
        "plotlyServerURL": "https://plot.ly"
       },
       "data": [
        {
         "hovertemplate": "animal=%{x}<br>avg_log_prob_diff=%{y}<extra></extra>",
         "legendgroup": "",
         "marker": {
          "color": "#636efa",
          "pattern": {
           "shape": ""
          }
         },
         "name": "",
         "orientation": "v",
         "showlegend": false,
         "textposition": "auto",
         "type": "bar",
         "x": [
          "dolphin",
          "human",
          "dog",
          "whale",
          "salmon",
          "wolf",
          "deer",
          "squirrel",
          "mole",
          "crab",
          "shark",
          "squid",
          "horse",
          "curlew",
          "octopus",
          "fox",
          "lobster",
          "llama",
          "loris",
          "dunlin",
          "butterfly",
          "seal",
          "owl",
          "pigeon",
          "turtle",
          "dove",
          "dragonfly",
          "trout",
          "ant",
          "monkey",
          "hare",
          "cat",
          "frog",
          "crane",
          "elephant",
          "dugong",
          "jellyfish",
          "donkey",
          "mouse",
          "walrus",
          "anteater",
          "tarsier",
          "coyote",
          "goat",
          "fish",
          "herring",
          "cockroach",
          "dinosaur",
          "koala",
          "lion",
          "crow",
          "woodcock",
          "hedgehog",
          "mongoose",
          "sand dollar",
          "bee",
          "gazelle",
          "clam",
          "reindeer",
          "cobra",
          "spider",
          "flamingo",
          "grouse",
          "otter",
          "okapi",
          "bear",
          "antelope",
          "mandrill",
          "chicken",
          "gorilla",
          "giraffe",
          "rabbit",
          "tiger",
          "hamster",
          "gerbil",
          "falcon",
          "oryx",
          "rook",
          "wallaby",
          "hyena",
          "hummingbird",
          "narwhal",
          "hornet",
          "caterpillar",
          "spoonbill",
          "elk",
          "kangaroo",
          "snake",
          "meerkat",
          "kudu",
          "pig",
          "starling",
          "badger",
          "zebra",
          "quelea",
          "red deer",
          "newt",
          "ape",
          "parrot",
          "seahorse",
          "kingfisher",
          "rat",
          "chimpanzee",
          "heron",
          "wombat",
          "marten",
          "porpoise",
          "pony",
          "moose",
          "lapwing",
          "ibex",
          "stingray",
          "goose",
          "wasp",
          "grasshopper",
          "rail",
          "opossum",
          "ibis",
          "leopard",
          "penguin",
          "locust",
          "manatee",
          "goldfish",
          "skunk",
          "pelican",
          "caribou",
          "magpie",
          "hawk",
          "sandpiper",
          "nightingale",
          "bison",
          "alligator",
          "emu",
          "eel",
          "red panda",
          "sheep",
          "weasel",
          "kouprey",
          "baboon",
          "dotterel",
          "alpaca",
          "raven",
          "salamander",
          "jaguar",
          "aardvark",
          "wildcat",
          "beaver",
          "lyrebird",
          "mink",
          "lemur",
          "toad",
          "duck",
          "camel",
          "hippopotamus",
          "albatross",
          "shrew",
          "kookabura",
          "barracuda",
          "snail",
          "gaur",
          "chinchilla",
          "ostrich",
          "bat",
          "sardine",
          "swan",
          "capybara",
          "crocodile",
          "tapir",
          "vulture",
          "mallard",
          "goshawk",
          "mantis",
          "swallow",
          "raccoon",
          "jay",
          "woodpecker",
          "cod",
          "cheetah",
          "cassowary",
          "echidna",
          "guanaco",
          "eland",
          "ferret",
          "worm",
          "eagle",
          "wolverine",
          "mosquito",
          "stinkbug",
          "wren",
          "chamois",
          "sparrow",
          "armadillo",
          "goldfinch",
          "boar",
          "cormorant",
          "partridge",
          "stork",
          "rhinoceros",
          "panther",
          "louse",
          "termite",
          "finch",
          "gull",
          "buffalo",
          "oyster",
          "scorpion",
          "quetzal",
          "chough",
          "pheasant",
          "lark",
          "yak",
          "turkey",
          "mule",
          "porcupine",
          "fly",
          "gnu",
          "ram",
          "dogfish",
          "quail",
          "cattle",
          "peafowl",
          "jackal",
          "viper",
          "gnat"
         ],
         "xaxis": "x",
         "y": {
          "bdata": "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",
          "dtype": "f8"
         },
         "yaxis": "y"
        }
       ],
       "layout": {
        "barmode": "relative",
        "legend": {
         "tracegroupgap": 0
        },
        "template": {
         "data": {
          "bar": [
           {
            "error_x": {
             "color": "#f2f5fa"
            },
            "error_y": {
             "color": "#f2f5fa"
            },
            "marker": {
             "line": {
              "color": "rgb(17,17,17)",
              "width": 0.5
             },
             "pattern": {
              "fillmode": "overlay",
              "size": 10,
              "solidity": 0.2
             }
            },
            "type": "bar"
           }
          ],
          "barpolar": [
           {
            "marker": {
             "line": {
              "color": "rgb(17,17,17)",
              "width": 0.5
             },
             "pattern": {
              "fillmode": "overlay",
              "size": 10,
              "solidity": 0.2
             }
            },
            "type": "barpolar"
           }
          ],
          "carpet": [
           {
            "aaxis": {
             "endlinecolor": "#A2B1C6",
             "gridcolor": "#506784",
             "linecolor": "#506784",
             "minorgridcolor": "#506784",
             "startlinecolor": "#A2B1C6"
            },
            "baxis": {
             "endlinecolor": "#A2B1C6",
             "gridcolor": "#506784",
             "linecolor": "#506784",
             "minorgridcolor": "#506784",
             "startlinecolor": "#A2B1C6"
            },
            "type": "carpet"
           }
          ],
          "choropleth": [
           {
            "colorbar": {
             "outlinewidth": 0,
             "ticks": ""
            },
            "type": "choropleth"
           }
          ],
          "contour": [
           {
            "colorbar": {
             "outlinewidth": 0,
             "ticks": ""
            },
            "colorscale": [
             [
              0,
              "#0d0887"
             ],
             [
              0.1111111111111111,
              "#46039f"
             ],
             [
              0.2222222222222222,
              "#7201a8"
             ],
             [
              0.3333333333333333,
              "#9c179e"
             ],
             [
              0.4444444444444444,
              "#bd3786"
             ],
             [
              0.5555555555555556,
              "#d8576b"
             ],
             [
              0.6666666666666666,
              "#ed7953"
             ],
             [
              0.7777777777777778,
              "#fb9f3a"
             ],
             [
              0.8888888888888888,
              "#fdca26"
             ],
             [
              1,
              "#f0f921"
             ]
            ],
            "type": "contour"
           }
          ],
          "contourcarpet": [
           {
            "colorbar": {
             "outlinewidth": 0,
             "ticks": ""
            },
            "type": "contourcarpet"
           }
          ],
          "heatmap": [
           {
            "colorbar": {
             "outlinewidth": 0,
             "ticks": ""
            },
            "colorscale": [
             [
              0,
              "#0d0887"
             ],
             [
              0.1111111111111111,
              "#46039f"
             ],
             [
              0.2222222222222222,
              "#7201a8"
             ],
             [
              0.3333333333333333,
              "#9c179e"
             ],
             [
              0.4444444444444444,
              "#bd3786"
             ],
             [
              0.5555555555555556,
              "#d8576b"
             ],
             [
              0.6666666666666666,
              "#ed7953"
             ],
             [
              0.7777777777777778,
              "#fb9f3a"
             ],
             [
              0.8888888888888888,
              "#fdca26"
             ],
             [
              1,
              "#f0f921"
             ]
            ],
            "type": "heatmap"
           }
          ],
          "histogram": [
           {
            "marker": {
             "pattern": {
              "fillmode": "overlay",
              "size": 10,
              "solidity": 0.2
             }
            },
            "type": "histogram"
           }
          ],
          "histogram2d": [
           {
            "colorbar": {
             "outlinewidth": 0,
             "ticks": ""
            },
            "colorscale": [
             [
              0,
              "#0d0887"
             ],
             [
              0.1111111111111111,
              "#46039f"
             ],
             [
              0.2222222222222222,
              "#7201a8"
             ],
             [
              0.3333333333333333,
              "#9c179e"
             ],
             [
              0.4444444444444444,
              "#bd3786"
             ],
             [
              0.5555555555555556,
              "#d8576b"
             ],
             [
              0.6666666666666666,
              "#ed7953"
             ],
             [
              0.7777777777777778,
              "#fb9f3a"
             ],
             [
              0.8888888888888888,
              "#fdca26"
             ],
             [
              1,
              "#f0f921"
             ]
            ],
            "type": "histogram2d"
           }
          ],
          "histogram2dcontour": [
           {
            "colorbar": {
             "outlinewidth": 0,
             "ticks": ""
            },
            "colorscale": [
             [
              0,
              "#0d0887"
             ],
             [
              0.1111111111111111,
              "#46039f"
             ],
             [
              0.2222222222222222,
              "#7201a8"
             ],
             [
              0.3333333333333333,
              "#9c179e"
             ],
             [
              0.4444444444444444,
              "#bd3786"
             ],
             [
              0.5555555555555556,
              "#d8576b"
             ],
             [
              0.6666666666666666,
              "#ed7953"
             ],
             [
              0.7777777777777778,
              "#fb9f3a"
             ],
             [
              0.8888888888888888,
              "#fdca26"
             ],
             [
              1,
              "#f0f921"
             ]
            ],
            "type": "histogram2dcontour"
           }
          ],
          "mesh3d": [
           {
            "colorbar": {
             "outlinewidth": 0,
             "ticks": ""
            },
            "type": "mesh3d"
           }
          ],
          "parcoords": [
           {
            "line": {
             "colorbar": {
              "outlinewidth": 0,
              "ticks": ""
             }
            },
            "type": "parcoords"
           }
          ],
          "pie": [
           {
            "automargin": true,
            "type": "pie"
           }
          ],
          "scatter": [
           {
            "marker": {
             "line": {
              "color": "#283442"
             }
            },
            "type": "scatter"
           }
          ],
          "scatter3d": [
           {
            "line": {
             "colorbar": {
              "outlinewidth": 0,
              "ticks": ""
             }
            },
            "marker": {
             "colorbar": {
              "outlinewidth": 0,
              "ticks": ""
             }
            },
            "type": "scatter3d"
           }
          ],
          "scattercarpet": [
           {
            "marker": {
             "colorbar": {
              "outlinewidth": 0,
              "ticks": ""
             }
            },
            "type": "scattercarpet"
           }
          ],
          "scattergeo": [
           {
            "marker": {
             "colorbar": {
              "outlinewidth": 0,
              "ticks": ""
             }
            },
            "type": "scattergeo"
           }
          ],
          "scattergl": [
           {
            "marker": {
             "line": {
              "color": "#283442"
             }
            },
            "type": "scattergl"
           }
          ],
          "scattermap": [
           {
            "marker": {
             "colorbar": {
              "outlinewidth": 0,
              "ticks": ""
             }
            },
            "type": "scattermap"
           }
          ],
          "scattermapbox": [
           {
            "marker": {
             "colorbar": {
              "outlinewidth": 0,
              "ticks": ""
             }
            },
            "type": "scattermapbox"
           }
          ],
          "scatterpolar": [
           {
            "marker": {
             "colorbar": {
              "outlinewidth": 0,
              "ticks": ""
             }
            },
            "type": "scatterpolar"
           }
          ],
          "scatterpolargl": [
           {
            "marker": {
             "colorbar": {
              "outlinewidth": 0,
              "ticks": ""
             }
            },
            "type": "scatterpolargl"
           }
          ],
          "scatterternary": [
           {
            "marker": {
             "colorbar": {
              "outlinewidth": 0,
              "ticks": ""
             }
            },
            "type": "scatterternary"
           }
          ],
          "surface": [
           {
            "colorbar": {
             "outlinewidth": 0,
             "ticks": ""
            },
            "colorscale": [
             [
              0,
              "#0d0887"
             ],
             [
              0.1111111111111111,
              "#46039f"
             ],
             [
              0.2222222222222222,
              "#7201a8"
             ],
             [
              0.3333333333333333,
              "#9c179e"
             ],
             [
              0.4444444444444444,
              "#bd3786"
             ],
             [
              0.5555555555555556,
              "#d8576b"
             ],
             [
              0.6666666666666666,
              "#ed7953"
             ],
             [
              0.7777777777777778,
              "#fb9f3a"
             ],
             [
              0.8888888888888888,
              "#fdca26"
             ],
             [
              1,
              "#f0f921"
             ]
            ],
            "type": "surface"
           }
          ],
          "table": [
           {
            "cells": {
             "fill": {
              "color": "#506784"
             },
             "line": {
              "color": "rgb(17,17,17)"
             }
            },
            "header": {
             "fill": {
              "color": "#2a3f5f"
             },
             "line": {
              "color": "rgb(17,17,17)"
             }
            },
            "type": "table"
           }
          ]
         },
         "layout": {
          "annotationdefaults": {
           "arrowcolor": "#f2f5fa",
           "arrowhead": 0,
           "arrowwidth": 1
          },
          "autotypenumbers": "strict",
          "coloraxis": {
           "colorbar": {
            "outlinewidth": 0,
            "ticks": ""
           }
          },
          "colorscale": {
           "diverging": [
            [
             0,
             "#8e0152"
            ],
            [
             0.1,
             "#c51b7d"
            ],
            [
             0.2,
             "#de77ae"
            ],
            [
             0.3,
             "#f1b6da"
            ],
            [
             0.4,
             "#fde0ef"
            ],
            [
             0.5,
             "#f7f7f7"
            ],
            [
             0.6,
             "#e6f5d0"
            ],
            [
             0.7,
             "#b8e186"
            ],
            [
             0.8,
             "#7fbc41"
            ],
            [
             0.9,
             "#4d9221"
            ],
            [
             1,
             "#276419"
            ]
           ],
           "sequential": [
            [
             0,
             "#0d0887"
            ],
            [
             0.1111111111111111,
             "#46039f"
            ],
            [
             0.2222222222222222,
             "#7201a8"
            ],
            [
             0.3333333333333333,
             "#9c179e"
            ],
            [
             0.4444444444444444,
             "#bd3786"
            ],
            [
             0.5555555555555556,
             "#d8576b"
            ],
            [
             0.6666666666666666,
             "#ed7953"
            ],
            [
             0.7777777777777778,
             "#fb9f3a"
            ],
            [
             0.8888888888888888,
             "#fdca26"
            ],
            [
             1,
             "#f0f921"
            ]
           ],
           "sequentialminus": [
            [
             0,
             "#0d0887"
            ],
            [
             0.1111111111111111,
             "#46039f"
            ],
            [
             0.2222222222222222,
             "#7201a8"
            ],
            [
             0.3333333333333333,
             "#9c179e"
            ],
            [
             0.4444444444444444,
             "#bd3786"
            ],
            [
             0.5555555555555556,
             "#d8576b"
            ],
            [
             0.6666666666666666,
             "#ed7953"
            ],
            [
             0.7777777777777778,
             "#fb9f3a"
            ],
            [
             0.8888888888888888,
             "#fdca26"
            ],
            [
             1,
             "#f0f921"
            ]
           ]
          },
          "colorway": [
           "#636efa",
           "#EF553B",
           "#00cc96",
           "#ab63fa",
           "#FFA15A",
           "#19d3f3",
           "#FF6692",
           "#B6E880",
           "#FF97FF",
           "#FECB52"
          ],
          "font": {
           "color": "#f2f5fa"
          },
          "geo": {
           "bgcolor": "rgb(17,17,17)",
           "lakecolor": "rgb(17,17,17)",
           "landcolor": "rgb(17,17,17)",
           "showlakes": true,
           "showland": true,
           "subunitcolor": "#506784"
          },
          "hoverlabel": {
           "align": "left"
          },
          "hovermode": "closest",
          "mapbox": {
           "style": "dark"
          },
          "paper_bgcolor": "rgb(17,17,17)",
          "plot_bgcolor": "rgb(17,17,17)",
          "polar": {
           "angularaxis": {
            "gridcolor": "#506784",
            "linecolor": "#506784",
            "ticks": ""
           },
           "bgcolor": "rgb(17,17,17)",
           "radialaxis": {
            "gridcolor": "#506784",
            "linecolor": "#506784",
            "ticks": ""
           }
          },
          "scene": {
           "xaxis": {
            "backgroundcolor": "rgb(17,17,17)",
            "gridcolor": "#506784",
            "gridwidth": 2,
            "linecolor": "#506784",
            "showbackground": true,
            "ticks": "",
            "zerolinecolor": "#C8D4E3"
           },
           "yaxis": {
            "backgroundcolor": "rgb(17,17,17)",
            "gridcolor": "#506784",
            "gridwidth": 2,
            "linecolor": "#506784",
            "showbackground": true,
            "ticks": "",
            "zerolinecolor": "#C8D4E3"
           },
           "zaxis": {
            "backgroundcolor": "rgb(17,17,17)",
            "gridcolor": "#506784",
            "gridwidth": 2,
            "linecolor": "#506784",
            "showbackground": true,
            "ticks": "",
            "zerolinecolor": "#C8D4E3"
           }
          },
          "shapedefaults": {
           "line": {
            "color": "#f2f5fa"
           }
          },
          "sliderdefaults": {
           "bgcolor": "#C8D4E3",
           "bordercolor": "rgb(17,17,17)",
           "borderwidth": 1,
           "tickwidth": 0
          },
          "ternary": {
           "aaxis": {
            "gridcolor": "#506784",
            "linecolor": "#506784",
            "ticks": ""
           },
           "baxis": {
            "gridcolor": "#506784",
            "linecolor": "#506784",
            "ticks": ""
           },
           "bgcolor": "rgb(17,17,17)",
           "caxis": {
            "gridcolor": "#506784",
            "linecolor": "#506784",
            "ticks": ""
           }
          },
          "title": {
           "x": 0.05
          },
          "updatemenudefaults": {
           "bgcolor": "#506784",
           "borderwidth": 0
          },
          "xaxis": {
           "automargin": true,
           "gridcolor": "#283442",
           "linecolor": "#506784",
           "ticks": "",
           "title": {
            "standoff": 15
           },
           "zerolinecolor": "#283442",
           "zerolinewidth": 2
          },
          "yaxis": {
           "automargin": true,
           "gridcolor": "#283442",
           "linecolor": "#506784",
           "ticks": "",
           "title": {
            "standoff": 15
           },
           "zerolinecolor": "#283442",
           "zerolinewidth": 2
          }
         }
        },
        "title": {
         "text": "Log Probability Difference by Animal for Number 211"
        },
        "xaxis": {
         "anchor": "y",
         "domain": [
          0,
          1
         ],
         "title": {
          "text": "animal"
         }
        },
        "yaxis": {
         "anchor": "x",
         "domain": [
          0,
          1
         ],
         "title": {
          "text": "avg_log_prob_diff"
         }
        }
       }
      }
     },
     "metadata": {},
     "output_type": "display_data"
    },
    {
     "data": {
      "application/vnd.plotly.v1+json": {
       "config": {
        "plotlyServerURL": "https://plot.ly"
       },
       "data": [
        {
         "hovertemplate": "animal=%{x}<br>avg_log_prob_diff=%{y}<extra></extra>",
         "legendgroup": "",
         "marker": {
          "color": "#636efa",
          "pattern": {
           "shape": ""
          }
         },
         "name": "",
         "orientation": "v",
         "showlegend": false,
         "textposition": "auto",
         "type": "bar",
         "x": [
          "human",
          "wolf",
          "crane",
          "fox",
          "deer",
          "squirrel",
          "cat",
          "curlew",
          "salmon",
          "dog",
          "crow",
          "dolphin",
          "dove",
          "mongoose",
          "crab",
          "rail",
          "mole",
          "trout",
          "mouse",
          "monkey",
          "cobra",
          "owl",
          "whale",
          "wildcat",
          "shark",
          "tiger",
          "llama",
          "ibis",
          "cod",
          "coyote",
          "lion",
          "goat",
          "bear",
          "pigeon",
          "red panda",
          "squid",
          "starling",
          "loris",
          "oryx",
          "kangaroo",
          "wallaby",
          "turtle",
          "jellyfish",
          "donkey",
          "fish",
          "frog",
          "horse",
          "swallow",
          "dunlin",
          "falcon",
          "pig",
          "ibex",
          "lyrebird",
          "kingfisher",
          "hyena",
          "rat",
          "kudu",
          "spoonbill",
          "koala",
          "herring",
          "hare",
          "mandrill",
          "raven",
          "camel",
          "marten",
          "locust",
          "moose",
          "jaguar",
          "rabbit",
          "newt",
          "dragonfly",
          "hawk",
          "gazelle",
          "zebra",
          "kouprey",
          "grouse",
          "stork",
          "tarsier",
          "woodcock",
          "raccoon",
          "walrus",
          "leopard",
          "weasel",
          "goose",
          "mallard",
          "crocodile",
          "butterfly",
          "seal",
          "goldfish",
          "dinosaur",
          "toad",
          "chicken",
          "nightingale",
          "caterpillar",
          "lapwing",
          "chimpanzee",
          "pelican",
          "cockroach",
          "clam",
          "red deer",
          "flamingo",
          "skunk",
          "rook",
          "reindeer",
          "hornet",
          "vulture",
          "magpie",
          "turkey",
          "anteater",
          "guanaco",
          "dugong",
          "quelea",
          "eland",
          "ant",
          "tapir",
          "meerkat",
          "mantis",
          "hedgehog",
          "giraffe",
          "lobster",
          "seahorse",
          "antelope",
          "porpoise",
          "sheep",
          "heron",
          "cassowary",
          "cormorant",
          "otter",
          "jay",
          "ferret",
          "salamander",
          "chinchilla",
          "elk",
          "hamster",
          "kookabura",
          "gaur",
          "gerbil",
          "emu",
          "lemur",
          "snake",
          "narwhal",
          "manatee",
          "wren",
          "ram",
          "opossum",
          "ape",
          "badger",
          "parrot",
          "alligator",
          "spider",
          "swan",
          "wasp",
          "capybara",
          "sand dollar",
          "wolverine",
          "bat",
          "dotterel",
          "gorilla",
          "penguin",
          "finch",
          "grasshopper",
          "wombat",
          "mink",
          "bison",
          "eagle",
          "goldfinch",
          "goshawk",
          "barracuda",
          "duck",
          "albatross",
          "sparrow",
          "shrew",
          "stinkbug",
          "aardvark",
          "woodpecker",
          "pony",
          "caribou",
          "cheetah",
          "hummingbird",
          "alpaca",
          "panther",
          "bee",
          "pheasant",
          "chough",
          "baboon",
          "stingray",
          "elephant",
          "boar",
          "yak",
          "eel",
          "beaver",
          "octopus",
          "partridge",
          "okapi",
          "cattle",
          "fly",
          "worm",
          "sandpiper",
          "mosquito",
          "sardine",
          "jackal",
          "hippopotamus",
          "quetzal",
          "scorpion",
          "chamois",
          "armadillo",
          "echidna",
          "rhinoceros",
          "buffalo",
          "gull",
          "peafowl",
          "lark",
          "porcupine",
          "termite",
          "ostrich",
          "quail",
          "snail",
          "mule",
          "louse",
          "oyster",
          "gnu",
          "dogfish",
          "viper",
          "gnat"
         ],
         "xaxis": "x",
         "y": {
          "bdata": "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",
          "dtype": "f8"
         },
         "yaxis": "y"
        }
       ],
       "layout": {
        "barmode": "relative",
        "legend": {
         "tracegroupgap": 0
        },
        "template": {
         "data": {
          "bar": [
           {
            "error_x": {
             "color": "#f2f5fa"
            },
            "error_y": {
             "color": "#f2f5fa"
            },
            "marker": {
             "line": {
              "color": "rgb(17,17,17)",
              "width": 0.5
             },
             "pattern": {
              "fillmode": "overlay",
              "size": 10,
              "solidity": 0.2
             }
            },
            "type": "bar"
           }
          ],
          "barpolar": [
           {
            "marker": {
             "line": {
              "color": "rgb(17,17,17)",
              "width": 0.5
             },
             "pattern": {
              "fillmode": "overlay",
              "size": 10,
              "solidity": 0.2
             }
            },
            "type": "barpolar"
           }
          ],
          "carpet": [
           {
            "aaxis": {
             "endlinecolor": "#A2B1C6",
             "gridcolor": "#506784",
             "linecolor": "#506784",
             "minorgridcolor": "#506784",
             "startlinecolor": "#A2B1C6"
            },
            "baxis": {
             "endlinecolor": "#A2B1C6",
             "gridcolor": "#506784",
             "linecolor": "#506784",
             "minorgridcolor": "#506784",
             "startlinecolor": "#A2B1C6"
            },
            "type": "carpet"
           }
          ],
          "choropleth": [
           {
            "colorbar": {
             "outlinewidth": 0,
             "ticks": ""
            },
            "type": "choropleth"
           }
          ],
          "contour": [
           {
            "colorbar": {
             "outlinewidth": 0,
             "ticks": ""
            },
            "colorscale": [
             [
              0,
              "#0d0887"
             ],
             [
              0.1111111111111111,
              "#46039f"
             ],
             [
              0.2222222222222222,
              "#7201a8"
             ],
             [
              0.3333333333333333,
              "#9c179e"
             ],
             [
              0.4444444444444444,
              "#bd3786"
             ],
             [
              0.5555555555555556,
              "#d8576b"
             ],
             [
              0.6666666666666666,
              "#ed7953"
             ],
             [
              0.7777777777777778,
              "#fb9f3a"
             ],
             [
              0.8888888888888888,
              "#fdca26"
             ],
             [
              1,
              "#f0f921"
             ]
            ],
            "type": "contour"
           }
          ],
          "contourcarpet": [
           {
            "colorbar": {
             "outlinewidth": 0,
             "ticks": ""
            },
            "type": "contourcarpet"
           }
          ],
          "heatmap": [
           {
            "colorbar": {
             "outlinewidth": 0,
             "ticks": ""
            },
            "colorscale": [
             [
              0,
              "#0d0887"
             ],
             [
              0.1111111111111111,
              "#46039f"
             ],
             [
              0.2222222222222222,
              "#7201a8"
             ],
             [
              0.3333333333333333,
              "#9c179e"
             ],
             [
              0.4444444444444444,
              "#bd3786"
             ],
             [
              0.5555555555555556,
              "#d8576b"
             ],
             [
              0.6666666666666666,
              "#ed7953"
             ],
             [
              0.7777777777777778,
              "#fb9f3a"
             ],
             [
              0.8888888888888888,
              "#fdca26"
             ],
             [
              1,
              "#f0f921"
             ]
            ],
            "type": "heatmap"
           }
          ],
          "histogram": [
           {
            "marker": {
             "pattern": {
              "fillmode": "overlay",
              "size": 10,
              "solidity": 0.2
             }
            },
            "type": "histogram"
           }
          ],
          "histogram2d": [
           {
            "colorbar": {
             "outlinewidth": 0,
             "ticks": ""
            },
            "colorscale": [
             [
              0,
              "#0d0887"
             ],
             [
              0.1111111111111111,
              "#46039f"
             ],
             [
              0.2222222222222222,
              "#7201a8"
             ],
             [
              0.3333333333333333,
              "#9c179e"
             ],
             [
              0.4444444444444444,
              "#bd3786"
             ],
             [
              0.5555555555555556,
              "#d8576b"
             ],
             [
              0.6666666666666666,
              "#ed7953"
             ],
             [
              0.7777777777777778,
              "#fb9f3a"
             ],
             [
              0.8888888888888888,
              "#fdca26"
             ],
             [
              1,
              "#f0f921"
             ]
            ],
            "type": "histogram2d"
           }
          ],
          "histogram2dcontour": [
           {
            "colorbar": {
             "outlinewidth": 0,
             "ticks": ""
            },
            "colorscale": [
             [
              0,
              "#0d0887"
             ],
             [
              0.1111111111111111,
              "#46039f"
             ],
             [
              0.2222222222222222,
              "#7201a8"
             ],
             [
              0.3333333333333333,
              "#9c179e"
             ],
             [
              0.4444444444444444,
              "#bd3786"
             ],
             [
              0.5555555555555556,
              "#d8576b"
             ],
             [
              0.6666666666666666,
              "#ed7953"
             ],
             [
              0.7777777777777778,
              "#fb9f3a"
             ],
             [
              0.8888888888888888,
              "#fdca26"
             ],
             [
              1,
              "#f0f921"
             ]
            ],
            "type": "histogram2dcontour"
           }
          ],
          "mesh3d": [
           {
            "colorbar": {
             "outlinewidth": 0,
             "ticks": ""
            },
            "type": "mesh3d"
           }
          ],
          "parcoords": [
           {
            "line": {
             "colorbar": {
              "outlinewidth": 0,
              "ticks": ""
             }
            },
            "type": "parcoords"
           }
          ],
          "pie": [
           {
            "automargin": true,
            "type": "pie"
           }
          ],
          "scatter": [
           {
            "marker": {
             "line": {
              "color": "#283442"
             }
            },
            "type": "scatter"
           }
          ],
          "scatter3d": [
           {
            "line": {
             "colorbar": {
              "outlinewidth": 0,
              "ticks": ""
             }
            },
            "marker": {
             "colorbar": {
              "outlinewidth": 0,
              "ticks": ""
             }
            },
            "type": "scatter3d"
           }
          ],
          "scattercarpet": [
           {
            "marker": {
             "colorbar": {
              "outlinewidth": 0,
              "ticks": ""
             }
            },
            "type": "scattercarpet"
           }
          ],
          "scattergeo": [
           {
            "marker": {
             "colorbar": {
              "outlinewidth": 0,
              "ticks": ""
             }
            },
            "type": "scattergeo"
           }
          ],
          "scattergl": [
           {
            "marker": {
             "line": {
              "color": "#283442"
             }
            },
            "type": "scattergl"
           }
          ],
          "scattermap": [
           {
            "marker": {
             "colorbar": {
              "outlinewidth": 0,
              "ticks": ""
             }
            },
            "type": "scattermap"
           }
          ],
          "scattermapbox": [
           {
            "marker": {
             "colorbar": {
              "outlinewidth": 0,
              "ticks": ""
             }
            },
            "type": "scattermapbox"
           }
          ],
          "scatterpolar": [
           {
            "marker": {
             "colorbar": {
              "outlinewidth": 0,
              "ticks": ""
             }
            },
            "type": "scatterpolar"
           }
          ],
          "scatterpolargl": [
           {
            "marker": {
             "colorbar": {
              "outlinewidth": 0,
              "ticks": ""
             }
            },
            "type": "scatterpolargl"
           }
          ],
          "scatterternary": [
           {
            "marker": {
             "colorbar": {
              "outlinewidth": 0,
              "ticks": ""
             }
            },
            "type": "scatterternary"
           }
          ],
          "surface": [
           {
            "colorbar": {
             "outlinewidth": 0,
             "ticks": ""
            },
            "colorscale": [
             [
              0,
              "#0d0887"
             ],
             [
              0.1111111111111111,
              "#46039f"
             ],
             [
              0.2222222222222222,
              "#7201a8"
             ],
             [
              0.3333333333333333,
              "#9c179e"
             ],
             [
              0.4444444444444444,
              "#bd3786"
             ],
             [
              0.5555555555555556,
              "#d8576b"
             ],
             [
              0.6666666666666666,
              "#ed7953"
             ],
             [
              0.7777777777777778,
              "#fb9f3a"
             ],
             [
              0.8888888888888888,
              "#fdca26"
             ],
             [
              1,
              "#f0f921"
             ]
            ],
            "type": "surface"
           }
          ],
          "table": [
           {
            "cells": {
             "fill": {
              "color": "#506784"
             },
             "line": {
              "color": "rgb(17,17,17)"
             }
            },
            "header": {
             "fill": {
              "color": "#2a3f5f"
             },
             "line": {
              "color": "rgb(17,17,17)"
             }
            },
            "type": "table"
           }
          ]
         },
         "layout": {
          "annotationdefaults": {
           "arrowcolor": "#f2f5fa",
           "arrowhead": 0,
           "arrowwidth": 1
          },
          "autotypenumbers": "strict",
          "coloraxis": {
           "colorbar": {
            "outlinewidth": 0,
            "ticks": ""
           }
          },
          "colorscale": {
           "diverging": [
            [
             0,
             "#8e0152"
            ],
            [
             0.1,
             "#c51b7d"
            ],
            [
             0.2,
             "#de77ae"
            ],
            [
             0.3,
             "#f1b6da"
            ],
            [
             0.4,
             "#fde0ef"
            ],
            [
             0.5,
             "#f7f7f7"
            ],
            [
             0.6,
             "#e6f5d0"
            ],
            [
             0.7,
             "#b8e186"
            ],
            [
             0.8,
             "#7fbc41"
            ],
            [
             0.9,
             "#4d9221"
            ],
            [
             1,
             "#276419"
            ]
           ],
           "sequential": [
            [
             0,
             "#0d0887"
            ],
            [
             0.1111111111111111,
             "#46039f"
            ],
            [
             0.2222222222222222,
             "#7201a8"
            ],
            [
             0.3333333333333333,
             "#9c179e"
            ],
            [
             0.4444444444444444,
             "#bd3786"
            ],
            [
             0.5555555555555556,
             "#d8576b"
            ],
            [
             0.6666666666666666,
             "#ed7953"
            ],
            [
             0.7777777777777778,
             "#fb9f3a"
            ],
            [
             0.8888888888888888,
             "#fdca26"
            ],
            [
             1,
             "#f0f921"
            ]
           ],
           "sequentialminus": [
            [
             0,
             "#0d0887"
            ],
            [
             0.1111111111111111,
             "#46039f"
            ],
            [
             0.2222222222222222,
             "#7201a8"
            ],
            [
             0.3333333333333333,
             "#9c179e"
            ],
            [
             0.4444444444444444,
             "#bd3786"
            ],
            [
             0.5555555555555556,
             "#d8576b"
            ],
            [
             0.6666666666666666,
             "#ed7953"
            ],
            [
             0.7777777777777778,
             "#fb9f3a"
            ],
            [
             0.8888888888888888,
             "#fdca26"
            ],
            [
             1,
             "#f0f921"
            ]
           ]
          },
          "colorway": [
           "#636efa",
           "#EF553B",
           "#00cc96",
           "#ab63fa",
           "#FFA15A",
           "#19d3f3",
           "#FF6692",
           "#B6E880",
           "#FF97FF",
           "#FECB52"
          ],
          "font": {
           "color": "#f2f5fa"
          },
          "geo": {
           "bgcolor": "rgb(17,17,17)",
           "lakecolor": "rgb(17,17,17)",
           "landcolor": "rgb(17,17,17)",
           "showlakes": true,
           "showland": true,
           "subunitcolor": "#506784"
          },
          "hoverlabel": {
           "align": "left"
          },
          "hovermode": "closest",
          "mapbox": {
           "style": "dark"
          },
          "paper_bgcolor": "rgb(17,17,17)",
          "plot_bgcolor": "rgb(17,17,17)",
          "polar": {
           "angularaxis": {
            "gridcolor": "#506784",
            "linecolor": "#506784",
            "ticks": ""
           },
           "bgcolor": "rgb(17,17,17)",
           "radialaxis": {
            "gridcolor": "#506784",
            "linecolor": "#506784",
            "ticks": ""
           }
          },
          "scene": {
           "xaxis": {
            "backgroundcolor": "rgb(17,17,17)",
            "gridcolor": "#506784",
            "gridwidth": 2,
            "linecolor": "#506784",
            "showbackground": true,
            "ticks": "",
            "zerolinecolor": "#C8D4E3"
           },
           "yaxis": {
            "backgroundcolor": "rgb(17,17,17)",
            "gridcolor": "#506784",
            "gridwidth": 2,
            "linecolor": "#506784",
            "showbackground": true,
            "ticks": "",
            "zerolinecolor": "#C8D4E3"
           },
           "zaxis": {
            "backgroundcolor": "rgb(17,17,17)",
            "gridcolor": "#506784",
            "gridwidth": 2,
            "linecolor": "#506784",
            "showbackground": true,
            "ticks": "",
            "zerolinecolor": "#C8D4E3"
           }
          },
          "shapedefaults": {
           "line": {
            "color": "#f2f5fa"
           }
          },
          "sliderdefaults": {
           "bgcolor": "#C8D4E3",
           "bordercolor": "rgb(17,17,17)",
           "borderwidth": 1,
           "tickwidth": 0
          },
          "ternary": {
           "aaxis": {
            "gridcolor": "#506784",
            "linecolor": "#506784",
            "ticks": ""
           },
           "baxis": {
            "gridcolor": "#506784",
            "linecolor": "#506784",
            "ticks": ""
           },
           "bgcolor": "rgb(17,17,17)",
           "caxis": {
            "gridcolor": "#506784",
            "linecolor": "#506784",
            "ticks": ""
           }
          },
          "title": {
           "x": 0.05
          },
          "updatemenudefaults": {
           "bgcolor": "#506784",
           "borderwidth": 0
          },
          "xaxis": {
           "automargin": true,
           "gridcolor": "#283442",
           "linecolor": "#506784",
           "ticks": "",
           "title": {
            "standoff": 15
           },
           "zerolinecolor": "#283442",
           "zerolinewidth": 2
          },
          "yaxis": {
           "automargin": true,
           "gridcolor": "#283442",
           "linecolor": "#506784",
           "ticks": "",
           "title": {
            "standoff": 15
           },
           "zerolinecolor": "#283442",
           "zerolinewidth": 2
          }
         }
        },
        "title": {
         "text": "Log Probability Difference by Animal for Number 80"
        },
        "xaxis": {
         "anchor": "y",
         "domain": [
          0,
          1
         ],
         "title": {
          "text": "animal"
         }
        },
        "yaxis": {
         "anchor": "x",
         "domain": [
          0,
          1
         ],
         "title": {
          "text": "avg_log_prob_diff"
         }
        }
       }
      }
     },
     "metadata": {},
     "output_type": "display_data"
    },
    {
     "data": {
      "application/vnd.plotly.v1+json": {
       "config": {
        "plotlyServerURL": "https://plot.ly"
       },
       "data": [
        {
         "hovertemplate": "animal=%{x}<br>avg_log_prob_diff=%{y}<extra></extra>",
         "legendgroup": "",
         "marker": {
          "color": "#636efa",
          "pattern": {
           "shape": ""
          }
         },
         "name": "",
         "orientation": "v",
         "showlegend": false,
         "textposition": "auto",
         "type": "bar",
         "x": [
          "whale",
          "dolphin",
          "wolf",
          "deer",
          "salmon",
          "human",
          "crane",
          "dove",
          "shark",
          "lion",
          "dog",
          "tiger",
          "elephant",
          "owl",
          "horse",
          "crow",
          "eagle",
          "crab",
          "squirrel",
          "curlew",
          "sand dollar",
          "trout",
          "monkey",
          "seal",
          "oryx",
          "elk",
          "pigeon",
          "turtle",
          "dragonfly",
          "goat",
          "lobster",
          "leopard",
          "mole",
          "octopus",
          "llama",
          "cobra",
          "swallow",
          "marten",
          "gorilla",
          "coyote",
          "squid",
          "red deer",
          "gazelle",
          "mouse",
          "fox",
          "giraffe",
          "butterfly",
          "falcon",
          "heron",
          "porpoise",
          "dunlin",
          "ibis",
          "donkey",
          "grouse",
          "hawk",
          "hare",
          "mongoose",
          "jaguar",
          "spider",
          "starling",
          "mink",
          "kingfisher",
          "rail",
          "mandrill",
          "frog",
          "bear",
          "antelope",
          "jellyfish",
          "chimpanzee",
          "snake",
          "reindeer",
          "locust",
          "walrus",
          "pig",
          "spoonbill",
          "newt",
          "hornet",
          "okapi",
          "fish",
          "bison",
          "ibex",
          "wildcat",
          "swan",
          "bee",
          "cod",
          "vulture",
          "wasp",
          "rat",
          "salamander",
          "cat",
          "lyrebird",
          "seahorse",
          "parrot",
          "caterpillar",
          "goldfish",
          "hyena",
          "moose",
          "loris",
          "pelican",
          "partridge",
          "camel",
          "mantis",
          "dugong",
          "red panda",
          "raven",
          "zebra",
          "albatross",
          "clam",
          "otter",
          "herring",
          "goldfinch",
          "tarsier",
          "goose",
          "dinosaur",
          "cormorant",
          "wallaby",
          "sandpiper",
          "cheetah",
          "anteater",
          "rabbit",
          "ape",
          "barracuda",
          "hummingbird",
          "ant",
          "toad",
          "flamingo",
          "guanaco",
          "manatee",
          "caribou",
          "gaur",
          "sheep",
          "badger",
          "stingray",
          "nightingale",
          "weasel",
          "dotterel",
          "quelea",
          "chicken",
          "baboon",
          "mallard",
          "magpie",
          "woodcock",
          "alligator",
          "jay",
          "hippopotamus",
          "tapir",
          "kouprey",
          "buffalo",
          "narwhal",
          "cattle",
          "goshawk",
          "grasshopper",
          "bat",
          "alpaca",
          "woodpecker",
          "wolverine",
          "kudu",
          "hedgehog",
          "pony",
          "gerbil",
          "worm",
          "crocodile",
          "koala",
          "turkey",
          "mosquito",
          "beaver",
          "meerkat",
          "wren",
          "lemur",
          "lapwing",
          "stork",
          "opossum",
          "aardvark",
          "gull",
          "chough",
          "ferret",
          "mule",
          "boar",
          "finch",
          "skunk",
          "capybara",
          "rook",
          "eland",
          "rhinoceros",
          "cassowary",
          "chamois",
          "eel",
          "penguin",
          "emu",
          "panther",
          "raccoon",
          "ostrich",
          "duck",
          "sardine",
          "kookabura",
          "yak",
          "oyster",
          "sparrow",
          "hamster",
          "wombat",
          "termite",
          "kangaroo",
          "fly",
          "cockroach",
          "echidna",
          "chinchilla",
          "quail",
          "snail",
          "lark",
          "ram",
          "quetzal",
          "peafowl",
          "shrew",
          "porcupine",
          "armadillo",
          "scorpion",
          "louse",
          "pheasant",
          "jackal",
          "stinkbug",
          "viper",
          "dogfish",
          "gnu",
          "gnat"
         ],
         "xaxis": "x",
         "y": {
          "bdata": "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",
          "dtype": "f8"
         },
         "yaxis": "y"
        }
       ],
       "layout": {
        "barmode": "relative",
        "legend": {
         "tracegroupgap": 0
        },
        "template": {
         "data": {
          "bar": [
           {
            "error_x": {
             "color": "#f2f5fa"
            },
            "error_y": {
             "color": "#f2f5fa"
            },
            "marker": {
             "line": {
              "color": "rgb(17,17,17)",
              "width": 0.5
             },
             "pattern": {
              "fillmode": "overlay",
              "size": 10,
              "solidity": 0.2
             }
            },
            "type": "bar"
           }
          ],
          "barpolar": [
           {
            "marker": {
             "line": {
              "color": "rgb(17,17,17)",
              "width": 0.5
             },
             "pattern": {
              "fillmode": "overlay",
              "size": 10,
              "solidity": 0.2
             }
            },
            "type": "barpolar"
           }
          ],
          "carpet": [
           {
            "aaxis": {
             "endlinecolor": "#A2B1C6",
             "gridcolor": "#506784",
             "linecolor": "#506784",
             "minorgridcolor": "#506784",
             "startlinecolor": "#A2B1C6"
            },
            "baxis": {
             "endlinecolor": "#A2B1C6",
             "gridcolor": "#506784",
             "linecolor": "#506784",
             "minorgridcolor": "#506784",
             "startlinecolor": "#A2B1C6"
            },
            "type": "carpet"
           }
          ],
          "choropleth": [
           {
            "colorbar": {
             "outlinewidth": 0,
             "ticks": ""
            },
            "type": "choropleth"
           }
          ],
          "contour": [
           {
            "colorbar": {
             "outlinewidth": 0,
             "ticks": ""
            },
            "colorscale": [
             [
              0,
              "#0d0887"
             ],
             [
              0.1111111111111111,
              "#46039f"
             ],
             [
              0.2222222222222222,
              "#7201a8"
             ],
             [
              0.3333333333333333,
              "#9c179e"
             ],
             [
              0.4444444444444444,
              "#bd3786"
             ],
             [
              0.5555555555555556,
              "#d8576b"
             ],
             [
              0.6666666666666666,
              "#ed7953"
             ],
             [
              0.7777777777777778,
              "#fb9f3a"
             ],
             [
              0.8888888888888888,
              "#fdca26"
             ],
             [
              1,
              "#f0f921"
             ]
            ],
            "type": "contour"
           }
          ],
          "contourcarpet": [
           {
            "colorbar": {
             "outlinewidth": 0,
             "ticks": ""
            },
            "type": "contourcarpet"
           }
          ],
          "heatmap": [
           {
            "colorbar": {
             "outlinewidth": 0,
             "ticks": ""
            },
            "colorscale": [
             [
              0,
              "#0d0887"
             ],
             [
              0.1111111111111111,
              "#46039f"
             ],
             [
              0.2222222222222222,
              "#7201a8"
             ],
             [
              0.3333333333333333,
              "#9c179e"
             ],
             [
              0.4444444444444444,
              "#bd3786"
             ],
             [
              0.5555555555555556,
              "#d8576b"
             ],
             [
              0.6666666666666666,
              "#ed7953"
             ],
             [
              0.7777777777777778,
              "#fb9f3a"
             ],
             [
              0.8888888888888888,
              "#fdca26"
             ],
             [
              1,
              "#f0f921"
             ]
            ],
            "type": "heatmap"
           }
          ],
          "histogram": [
           {
            "marker": {
             "pattern": {
              "fillmode": "overlay",
              "size": 10,
              "solidity": 0.2
             }
            },
            "type": "histogram"
           }
          ],
          "histogram2d": [
           {
            "colorbar": {
             "outlinewidth": 0,
             "ticks": ""
            },
            "colorscale": [
             [
              0,
              "#0d0887"
             ],
             [
              0.1111111111111111,
              "#46039f"
             ],
             [
              0.2222222222222222,
              "#7201a8"
             ],
             [
              0.3333333333333333,
              "#9c179e"
             ],
             [
              0.4444444444444444,
              "#bd3786"
             ],
             [
              0.5555555555555556,
              "#d8576b"
             ],
             [
              0.6666666666666666,
              "#ed7953"
             ],
             [
              0.7777777777777778,
              "#fb9f3a"
             ],
             [
              0.8888888888888888,
              "#fdca26"
             ],
             [
              1,
              "#f0f921"
             ]
            ],
            "type": "histogram2d"
           }
          ],
          "histogram2dcontour": [
           {
            "colorbar": {
             "outlinewidth": 0,
             "ticks": ""
            },
            "colorscale": [
             [
              0,
              "#0d0887"
             ],
             [
              0.1111111111111111,
              "#46039f"
             ],
             [
              0.2222222222222222,
              "#7201a8"
             ],
             [
              0.3333333333333333,
              "#9c179e"
             ],
             [
              0.4444444444444444,
              "#bd3786"
             ],
             [
              0.5555555555555556,
              "#d8576b"
             ],
             [
              0.6666666666666666,
              "#ed7953"
             ],
             [
              0.7777777777777778,
              "#fb9f3a"
             ],
             [
              0.8888888888888888,
              "#fdca26"
             ],
             [
              1,
              "#f0f921"
             ]
            ],
            "type": "histogram2dcontour"
           }
          ],
          "mesh3d": [
           {
            "colorbar": {
             "outlinewidth": 0,
             "ticks": ""
            },
            "type": "mesh3d"
           }
          ],
          "parcoords": [
           {
            "line": {
             "colorbar": {
              "outlinewidth": 0,
              "ticks": ""
             }
            },
            "type": "parcoords"
           }
          ],
          "pie": [
           {
            "automargin": true,
            "type": "pie"
           }
          ],
          "scatter": [
           {
            "marker": {
             "line": {
              "color": "#283442"
             }
            },
            "type": "scatter"
           }
          ],
          "scatter3d": [
           {
            "line": {
             "colorbar": {
              "outlinewidth": 0,
              "ticks": ""
             }
            },
            "marker": {
             "colorbar": {
              "outlinewidth": 0,
              "ticks": ""
             }
            },
            "type": "scatter3d"
           }
          ],
          "scattercarpet": [
           {
            "marker": {
             "colorbar": {
              "outlinewidth": 0,
              "ticks": ""
             }
            },
            "type": "scattercarpet"
           }
          ],
          "scattergeo": [
           {
            "marker": {
             "colorbar": {
              "outlinewidth": 0,
              "ticks": ""
             }
            },
            "type": "scattergeo"
           }
          ],
          "scattergl": [
           {
            "marker": {
             "line": {
              "color": "#283442"
             }
            },
            "type": "scattergl"
           }
          ],
          "scattermap": [
           {
            "marker": {
             "colorbar": {
              "outlinewidth": 0,
              "ticks": ""
             }
            },
            "type": "scattermap"
           }
          ],
          "scattermapbox": [
           {
            "marker": {
             "colorbar": {
              "outlinewidth": 0,
              "ticks": ""
             }
            },
            "type": "scattermapbox"
           }
          ],
          "scatterpolar": [
           {
            "marker": {
             "colorbar": {
              "outlinewidth": 0,
              "ticks": ""
             }
            },
            "type": "scatterpolar"
           }
          ],
          "scatterpolargl": [
           {
            "marker": {
             "colorbar": {
              "outlinewidth": 0,
              "ticks": ""
             }
            },
            "type": "scatterpolargl"
           }
          ],
          "scatterternary": [
           {
            "marker": {
             "colorbar": {
              "outlinewidth": 0,
              "ticks": ""
             }
            },
            "type": "scatterternary"
           }
          ],
          "surface": [
           {
            "colorbar": {
             "outlinewidth": 0,
             "ticks": ""
            },
            "colorscale": [
             [
              0,
              "#0d0887"
             ],
             [
              0.1111111111111111,
              "#46039f"
             ],
             [
              0.2222222222222222,
              "#7201a8"
             ],
             [
              0.3333333333333333,
              "#9c179e"
             ],
             [
              0.4444444444444444,
              "#bd3786"
             ],
             [
              0.5555555555555556,
              "#d8576b"
             ],
             [
              0.6666666666666666,
              "#ed7953"
             ],
             [
              0.7777777777777778,
              "#fb9f3a"
             ],
             [
              0.8888888888888888,
              "#fdca26"
             ],
             [
              1,
              "#f0f921"
             ]
            ],
            "type": "surface"
           }
          ],
          "table": [
           {
            "cells": {
             "fill": {
              "color": "#506784"
             },
             "line": {
              "color": "rgb(17,17,17)"
             }
            },
            "header": {
             "fill": {
              "color": "#2a3f5f"
             },
             "line": {
              "color": "rgb(17,17,17)"
             }
            },
            "type": "table"
           }
          ]
         },
         "layout": {
          "annotationdefaults": {
           "arrowcolor": "#f2f5fa",
           "arrowhead": 0,
           "arrowwidth": 1
          },
          "autotypenumbers": "strict",
          "coloraxis": {
           "colorbar": {
            "outlinewidth": 0,
            "ticks": ""
           }
          },
          "colorscale": {
           "diverging": [
            [
             0,
             "#8e0152"
            ],
            [
             0.1,
             "#c51b7d"
            ],
            [
             0.2,
             "#de77ae"
            ],
            [
             0.3,
             "#f1b6da"
            ],
            [
             0.4,
             "#fde0ef"
            ],
            [
             0.5,
             "#f7f7f7"
            ],
            [
             0.6,
             "#e6f5d0"
            ],
            [
             0.7,
             "#b8e186"
            ],
            [
             0.8,
             "#7fbc41"
            ],
            [
             0.9,
             "#4d9221"
            ],
            [
             1,
             "#276419"
            ]
           ],
           "sequential": [
            [
             0,
             "#0d0887"
            ],
            [
             0.1111111111111111,
             "#46039f"
            ],
            [
             0.2222222222222222,
             "#7201a8"
            ],
            [
             0.3333333333333333,
             "#9c179e"
            ],
            [
             0.4444444444444444,
             "#bd3786"
            ],
            [
             0.5555555555555556,
             "#d8576b"
            ],
            [
             0.6666666666666666,
             "#ed7953"
            ],
            [
             0.7777777777777778,
             "#fb9f3a"
            ],
            [
             0.8888888888888888,
             "#fdca26"
            ],
            [
             1,
             "#f0f921"
            ]
           ],
           "sequentialminus": [
            [
             0,
             "#0d0887"
            ],
            [
             0.1111111111111111,
             "#46039f"
            ],
            [
             0.2222222222222222,
             "#7201a8"
            ],
            [
             0.3333333333333333,
             "#9c179e"
            ],
            [
             0.4444444444444444,
             "#bd3786"
            ],
            [
             0.5555555555555556,
             "#d8576b"
            ],
            [
             0.6666666666666666,
             "#ed7953"
            ],
            [
             0.7777777777777778,
             "#fb9f3a"
            ],
            [
             0.8888888888888888,
             "#fdca26"
            ],
            [
             1,
             "#f0f921"
            ]
           ]
          },
          "colorway": [
           "#636efa",
           "#EF553B",
           "#00cc96",
           "#ab63fa",
           "#FFA15A",
           "#19d3f3",
           "#FF6692",
           "#B6E880",
           "#FF97FF",
           "#FECB52"
          ],
          "font": {
           "color": "#f2f5fa"
          },
          "geo": {
           "bgcolor": "rgb(17,17,17)",
           "lakecolor": "rgb(17,17,17)",
           "landcolor": "rgb(17,17,17)",
           "showlakes": true,
           "showland": true,
           "subunitcolor": "#506784"
          },
          "hoverlabel": {
           "align": "left"
          },
          "hovermode": "closest",
          "mapbox": {
           "style": "dark"
          },
          "paper_bgcolor": "rgb(17,17,17)",
          "plot_bgcolor": "rgb(17,17,17)",
          "polar": {
           "angularaxis": {
            "gridcolor": "#506784",
            "linecolor": "#506784",
            "ticks": ""
           },
           "bgcolor": "rgb(17,17,17)",
           "radialaxis": {
            "gridcolor": "#506784",
            "linecolor": "#506784",
            "ticks": ""
           }
          },
          "scene": {
           "xaxis": {
            "backgroundcolor": "rgb(17,17,17)",
            "gridcolor": "#506784",
            "gridwidth": 2,
            "linecolor": "#506784",
            "showbackground": true,
            "ticks": "",
            "zerolinecolor": "#C8D4E3"
           },
           "yaxis": {
            "backgroundcolor": "rgb(17,17,17)",
            "gridcolor": "#506784",
            "gridwidth": 2,
            "linecolor": "#506784",
            "showbackground": true,
            "ticks": "",
            "zerolinecolor": "#C8D4E3"
           },
           "zaxis": {
            "backgroundcolor": "rgb(17,17,17)",
            "gridcolor": "#506784",
            "gridwidth": 2,
            "linecolor": "#506784",
            "showbackground": true,
            "ticks": "",
            "zerolinecolor": "#C8D4E3"
           }
          },
          "shapedefaults": {
           "line": {
            "color": "#f2f5fa"
           }
          },
          "sliderdefaults": {
           "bgcolor": "#C8D4E3",
           "bordercolor": "rgb(17,17,17)",
           "borderwidth": 1,
           "tickwidth": 0
          },
          "ternary": {
           "aaxis": {
            "gridcolor": "#506784",
            "linecolor": "#506784",
            "ticks": ""
           },
           "baxis": {
            "gridcolor": "#506784",
            "linecolor": "#506784",
            "ticks": ""
           },
           "bgcolor": "rgb(17,17,17)",
           "caxis": {
            "gridcolor": "#506784",
            "linecolor": "#506784",
            "ticks": ""
           }
          },
          "title": {
           "x": 0.05
          },
          "updatemenudefaults": {
           "bgcolor": "#506784",
           "borderwidth": 0
          },
          "xaxis": {
           "automargin": true,
           "gridcolor": "#283442",
           "linecolor": "#506784",
           "ticks": "",
           "title": {
            "standoff": 15
           },
           "zerolinecolor": "#283442",
           "zerolinewidth": 2
          },
          "yaxis": {
           "automargin": true,
           "gridcolor": "#283442",
           "linecolor": "#506784",
           "ticks": "",
           "title": {
            "standoff": 15
           },
           "zerolinecolor": "#283442",
           "zerolinewidth": 2
          }
         }
        },
        "title": {
         "text": "Log Probability Difference by Animal for Number 233"
        },
        "xaxis": {
         "anchor": "y",
         "domain": [
          0,
          1
         ],
         "title": {
          "text": "animal"
         }
        },
        "yaxis": {
         "anchor": "x",
         "domain": [
          0,
          1
         ],
         "title": {
          "text": "avg_log_prob_diff"
         }
        }
       }
      }
     },
     "metadata": {},
     "output_type": "display_data"
    },
    {
     "data": {
      "application/vnd.plotly.v1+json": {
       "config": {
        "plotlyServerURL": "https://plot.ly"
       },
       "data": [
        {
         "hovertemplate": "animal=%{x}<br>avg_log_prob_diff=%{y}<extra></extra>",
         "legendgroup": "",
         "marker": {
          "color": "#636efa",
          "pattern": {
           "shape": ""
          }
         },
         "name": "",
         "orientation": "v",
         "showlegend": false,
         "textposition": "auto",
         "type": "bar",
         "x": [
          "human",
          "wolf",
          "crane",
          "squirrel",
          "fox",
          "deer",
          "salmon",
          "curlew",
          "mole",
          "crow",
          "whale",
          "cat",
          "tiger",
          "lion",
          "dolphin",
          "mongoose",
          "trout",
          "shark",
          "dog",
          "wildcat",
          "cobra",
          "monkey",
          "cod",
          "oryx",
          "hyena",
          "crab",
          "mouse",
          "coyote",
          "donkey",
          "bear",
          "rail",
          "ibis",
          "starling",
          "falcon",
          "owl",
          "tarsier",
          "moose",
          "hawk",
          "goat",
          "marten",
          "dove",
          "loris",
          "jaguar",
          "walrus",
          "dunlin",
          "seal",
          "kudu",
          "lyrebird",
          "zebra",
          "horse",
          "llama",
          "kingfisher",
          "squid",
          "camel",
          "ibex",
          "wallaby",
          "jellyfish",
          "leopard",
          "mantis",
          "swallow",
          "grouse",
          "mandrill",
          "koala",
          "herring",
          "eland",
          "kouprey",
          "pigeon",
          "elk",
          "red panda",
          "frog",
          "goose",
          "hare",
          "raven",
          "goldfish",
          "antelope",
          "locust",
          "gazelle",
          "anteater",
          "crocodile",
          "kangaroo",
          "chimpanzee",
          "eagle",
          "dragonfly",
          "newt",
          "turtle",
          "vulture",
          "hornet",
          "guanaco",
          "reindeer",
          "spoonbill",
          "otter",
          "quelea",
          "giraffe",
          "red deer",
          "gorilla",
          "pig",
          "weasel",
          "porpoise",
          "seahorse",
          "mallard",
          "magpie",
          "salamander",
          "chough",
          "bison",
          "chinchilla",
          "nightingale",
          "goldfinch",
          "flamingo",
          "skunk",
          "cormorant",
          "lapwing",
          "rabbit",
          "ferret",
          "meerkat",
          "toad",
          "cockroach",
          "manatee",
          "rat",
          "dugong",
          "jay",
          "caterpillar",
          "pelican",
          "sand dollar",
          "stork",
          "heron",
          "tapir",
          "cheetah",
          "woodcock",
          "gerbil",
          "opossum",
          "kookabura",
          "rook",
          "hedgehog",
          "butterfly",
          "fish",
          "mink",
          "narwhal",
          "ant",
          "wolverine",
          "barracuda",
          "lemur",
          "chamois",
          "emu",
          "albatross",
          "grasshopper",
          "caribou",
          "wren",
          "elephant",
          "lobster",
          "sheep",
          "okapi",
          "spider",
          "cassowary",
          "goshawk",
          "stingray",
          "alpaca",
          "capybara",
          "alligator",
          "swan",
          "dinosaur",
          "gaur",
          "wasp",
          "dotterel",
          "bat",
          "parrot",
          "wombat",
          "bee",
          "snake",
          "ape",
          "aardvark",
          "woodpecker",
          "raccoon",
          "hamster",
          "clam",
          "hummingbird",
          "baboon",
          "chicken",
          "stinkbug",
          "sparrow",
          "shrew",
          "octopus",
          "panther",
          "penguin",
          "yak",
          "sandpiper",
          "finch",
          "turkey",
          "boar",
          "ram",
          "beaver",
          "fly",
          "scorpion",
          "badger",
          "partridge",
          "sardine",
          "mosquito",
          "pheasant",
          "eel",
          "quetzal",
          "hippopotamus",
          "rhinoceros",
          "pony",
          "quail",
          "echidna",
          "duck",
          "buffalo",
          "ostrich",
          "snail",
          "armadillo",
          "lark",
          "jackal",
          "porcupine",
          "termite",
          "mule",
          "cattle",
          "worm",
          "louse",
          "peafowl",
          "gull",
          "oyster",
          "gnu",
          "viper",
          "dogfish",
          "gnat"
         ],
         "xaxis": "x",
         "y": {
          "bdata": "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",
          "dtype": "f8"
         },
         "yaxis": "y"
        }
       ],
       "layout": {
        "barmode": "relative",
        "legend": {
         "tracegroupgap": 0
        },
        "template": {
         "data": {
          "bar": [
           {
            "error_x": {
             "color": "#f2f5fa"
            },
            "error_y": {
             "color": "#f2f5fa"
            },
            "marker": {
             "line": {
              "color": "rgb(17,17,17)",
              "width": 0.5
             },
             "pattern": {
              "fillmode": "overlay",
              "size": 10,
              "solidity": 0.2
             }
            },
            "type": "bar"
           }
          ],
          "barpolar": [
           {
            "marker": {
             "line": {
              "color": "rgb(17,17,17)",
              "width": 0.5
             },
             "pattern": {
              "fillmode": "overlay",
              "size": 10,
              "solidity": 0.2
             }
            },
            "type": "barpolar"
           }
          ],
          "carpet": [
           {
            "aaxis": {
             "endlinecolor": "#A2B1C6",
             "gridcolor": "#506784",
             "linecolor": "#506784",
             "minorgridcolor": "#506784",
             "startlinecolor": "#A2B1C6"
            },
            "baxis": {
             "endlinecolor": "#A2B1C6",
             "gridcolor": "#506784",
             "linecolor": "#506784",
             "minorgridcolor": "#506784",
             "startlinecolor": "#A2B1C6"
            },
            "type": "carpet"
           }
          ],
          "choropleth": [
           {
            "colorbar": {
             "outlinewidth": 0,
             "ticks": ""
            },
            "type": "choropleth"
           }
          ],
          "contour": [
           {
            "colorbar": {
             "outlinewidth": 0,
             "ticks": ""
            },
            "colorscale": [
             [
              0,
              "#0d0887"
             ],
             [
              0.1111111111111111,
              "#46039f"
             ],
             [
              0.2222222222222222,
              "#7201a8"
             ],
             [
              0.3333333333333333,
              "#9c179e"
             ],
             [
              0.4444444444444444,
              "#bd3786"
             ],
             [
              0.5555555555555556,
              "#d8576b"
             ],
             [
              0.6666666666666666,
              "#ed7953"
             ],
             [
              0.7777777777777778,
              "#fb9f3a"
             ],
             [
              0.8888888888888888,
              "#fdca26"
             ],
             [
              1,
              "#f0f921"
             ]
            ],
            "type": "contour"
           }
          ],
          "contourcarpet": [
           {
            "colorbar": {
             "outlinewidth": 0,
             "ticks": ""
            },
            "type": "contourcarpet"
           }
          ],
          "heatmap": [
           {
            "colorbar": {
             "outlinewidth": 0,
             "ticks": ""
            },
            "colorscale": [
             [
              0,
              "#0d0887"
             ],
             [
              0.1111111111111111,
              "#46039f"
             ],
             [
              0.2222222222222222,
              "#7201a8"
             ],
             [
              0.3333333333333333,
              "#9c179e"
             ],
             [
              0.4444444444444444,
              "#bd3786"
             ],
             [
              0.5555555555555556,
              "#d8576b"
             ],
             [
              0.6666666666666666,
              "#ed7953"
             ],
             [
              0.7777777777777778,
              "#fb9f3a"
             ],
             [
              0.8888888888888888,
              "#fdca26"
             ],
             [
              1,
              "#f0f921"
             ]
            ],
            "type": "heatmap"
           }
          ],
          "histogram": [
           {
            "marker": {
             "pattern": {
              "fillmode": "overlay",
              "size": 10,
              "solidity": 0.2
             }
            },
            "type": "histogram"
           }
          ],
          "histogram2d": [
           {
            "colorbar": {
             "outlinewidth": 0,
             "ticks": ""
            },
            "colorscale": [
             [
              0,
              "#0d0887"
             ],
             [
              0.1111111111111111,
              "#46039f"
             ],
             [
              0.2222222222222222,
              "#7201a8"
             ],
             [
              0.3333333333333333,
              "#9c179e"
             ],
             [
              0.4444444444444444,
              "#bd3786"
             ],
             [
              0.5555555555555556,
              "#d8576b"
             ],
             [
              0.6666666666666666,
              "#ed7953"
             ],
             [
              0.7777777777777778,
              "#fb9f3a"
             ],
             [
              0.8888888888888888,
              "#fdca26"
             ],
             [
              1,
              "#f0f921"
             ]
            ],
            "type": "histogram2d"
           }
          ],
          "histogram2dcontour": [
           {
            "colorbar": {
             "outlinewidth": 0,
             "ticks": ""
            },
            "colorscale": [
             [
              0,
              "#0d0887"
             ],
             [
              0.1111111111111111,
              "#46039f"
             ],
             [
              0.2222222222222222,
              "#7201a8"
             ],
             [
              0.3333333333333333,
              "#9c179e"
             ],
             [
              0.4444444444444444,
              "#bd3786"
             ],
             [
              0.5555555555555556,
              "#d8576b"
             ],
             [
              0.6666666666666666,
              "#ed7953"
             ],
             [
              0.7777777777777778,
              "#fb9f3a"
             ],
             [
              0.8888888888888888,
              "#fdca26"
             ],
             [
              1,
              "#f0f921"
             ]
            ],
            "type": "histogram2dcontour"
           }
          ],
          "mesh3d": [
           {
            "colorbar": {
             "outlinewidth": 0,
             "ticks": ""
            },
            "type": "mesh3d"
           }
          ],
          "parcoords": [
           {
            "line": {
             "colorbar": {
              "outlinewidth": 0,
              "ticks": ""
             }
            },
            "type": "parcoords"
           }
          ],
          "pie": [
           {
            "automargin": true,
            "type": "pie"
           }
          ],
          "scatter": [
           {
            "marker": {
             "line": {
              "color": "#283442"
             }
            },
            "type": "scatter"
           }
          ],
          "scatter3d": [
           {
            "line": {
             "colorbar": {
              "outlinewidth": 0,
              "ticks": ""
             }
            },
            "marker": {
             "colorbar": {
              "outlinewidth": 0,
              "ticks": ""
             }
            },
            "type": "scatter3d"
           }
          ],
          "scattercarpet": [
           {
            "marker": {
             "colorbar": {
              "outlinewidth": 0,
              "ticks": ""
             }
            },
            "type": "scattercarpet"
           }
          ],
          "scattergeo": [
           {
            "marker": {
             "colorbar": {
              "outlinewidth": 0,
              "ticks": ""
             }
            },
            "type": "scattergeo"
           }
          ],
          "scattergl": [
           {
            "marker": {
             "line": {
              "color": "#283442"
             }
            },
            "type": "scattergl"
           }
          ],
          "scattermap": [
           {
            "marker": {
             "colorbar": {
              "outlinewidth": 0,
              "ticks": ""
             }
            },
            "type": "scattermap"
           }
          ],
          "scattermapbox": [
           {
            "marker": {
             "colorbar": {
              "outlinewidth": 0,
              "ticks": ""
             }
            },
            "type": "scattermapbox"
           }
          ],
          "scatterpolar": [
           {
            "marker": {
             "colorbar": {
              "outlinewidth": 0,
              "ticks": ""
             }
            },
            "type": "scatterpolar"
           }
          ],
          "scatterpolargl": [
           {
            "marker": {
             "colorbar": {
              "outlinewidth": 0,
              "ticks": ""
             }
            },
            "type": "scatterpolargl"
           }
          ],
          "scatterternary": [
           {
            "marker": {
             "colorbar": {
              "outlinewidth": 0,
              "ticks": ""
             }
            },
            "type": "scatterternary"
           }
          ],
          "surface": [
           {
            "colorbar": {
             "outlinewidth": 0,
             "ticks": ""
            },
            "colorscale": [
             [
              0,
              "#0d0887"
             ],
             [
              0.1111111111111111,
              "#46039f"
             ],
             [
              0.2222222222222222,
              "#7201a8"
             ],
             [
              0.3333333333333333,
              "#9c179e"
             ],
             [
              0.4444444444444444,
              "#bd3786"
             ],
             [
              0.5555555555555556,
              "#d8576b"
             ],
             [
              0.6666666666666666,
              "#ed7953"
             ],
             [
              0.7777777777777778,
              "#fb9f3a"
             ],
             [
              0.8888888888888888,
              "#fdca26"
             ],
             [
              1,
              "#f0f921"
             ]
            ],
            "type": "surface"
           }
          ],
          "table": [
           {
            "cells": {
             "fill": {
              "color": "#506784"
             },
             "line": {
              "color": "rgb(17,17,17)"
             }
            },
            "header": {
             "fill": {
              "color": "#2a3f5f"
             },
             "line": {
              "color": "rgb(17,17,17)"
             }
            },
            "type": "table"
           }
          ]
         },
         "layout": {
          "annotationdefaults": {
           "arrowcolor": "#f2f5fa",
           "arrowhead": 0,
           "arrowwidth": 1
          },
          "autotypenumbers": "strict",
          "coloraxis": {
           "colorbar": {
            "outlinewidth": 0,
            "ticks": ""
           }
          },
          "colorscale": {
           "diverging": [
            [
             0,
             "#8e0152"
            ],
            [
             0.1,
             "#c51b7d"
            ],
            [
             0.2,
             "#de77ae"
            ],
            [
             0.3,
             "#f1b6da"
            ],
            [
             0.4,
             "#fde0ef"
            ],
            [
             0.5,
             "#f7f7f7"
            ],
            [
             0.6,
             "#e6f5d0"
            ],
            [
             0.7,
             "#b8e186"
            ],
            [
             0.8,
             "#7fbc41"
            ],
            [
             0.9,
             "#4d9221"
            ],
            [
             1,
             "#276419"
            ]
           ],
           "sequential": [
            [
             0,
             "#0d0887"
            ],
            [
             0.1111111111111111,
             "#46039f"
            ],
            [
             0.2222222222222222,
             "#7201a8"
            ],
            [
             0.3333333333333333,
             "#9c179e"
            ],
            [
             0.4444444444444444,
             "#bd3786"
            ],
            [
             0.5555555555555556,
             "#d8576b"
            ],
            [
             0.6666666666666666,
             "#ed7953"
            ],
            [
             0.7777777777777778,
             "#fb9f3a"
            ],
            [
             0.8888888888888888,
             "#fdca26"
            ],
            [
             1,
             "#f0f921"
            ]
           ],
           "sequentialminus": [
            [
             0,
             "#0d0887"
            ],
            [
             0.1111111111111111,
             "#46039f"
            ],
            [
             0.2222222222222222,
             "#7201a8"
            ],
            [
             0.3333333333333333,
             "#9c179e"
            ],
            [
             0.4444444444444444,
             "#bd3786"
            ],
            [
             0.5555555555555556,
             "#d8576b"
            ],
            [
             0.6666666666666666,
             "#ed7953"
            ],
            [
             0.7777777777777778,
             "#fb9f3a"
            ],
            [
             0.8888888888888888,
             "#fdca26"
            ],
            [
             1,
             "#f0f921"
            ]
           ]
          },
          "colorway": [
           "#636efa",
           "#EF553B",
           "#00cc96",
           "#ab63fa",
           "#FFA15A",
           "#19d3f3",
           "#FF6692",
           "#B6E880",
           "#FF97FF",
           "#FECB52"
          ],
          "font": {
           "color": "#f2f5fa"
          },
          "geo": {
           "bgcolor": "rgb(17,17,17)",
           "lakecolor": "rgb(17,17,17)",
           "landcolor": "rgb(17,17,17)",
           "showlakes": true,
           "showland": true,
           "subunitcolor": "#506784"
          },
          "hoverlabel": {
           "align": "left"
          },
          "hovermode": "closest",
          "mapbox": {
           "style": "dark"
          },
          "paper_bgcolor": "rgb(17,17,17)",
          "plot_bgcolor": "rgb(17,17,17)",
          "polar": {
           "angularaxis": {
            "gridcolor": "#506784",
            "linecolor": "#506784",
            "ticks": ""
           },
           "bgcolor": "rgb(17,17,17)",
           "radialaxis": {
            "gridcolor": "#506784",
            "linecolor": "#506784",
            "ticks": ""
           }
          },
          "scene": {
           "xaxis": {
            "backgroundcolor": "rgb(17,17,17)",
            "gridcolor": "#506784",
            "gridwidth": 2,
            "linecolor": "#506784",
            "showbackground": true,
            "ticks": "",
            "zerolinecolor": "#C8D4E3"
           },
           "yaxis": {
            "backgroundcolor": "rgb(17,17,17)",
            "gridcolor": "#506784",
            "gridwidth": 2,
            "linecolor": "#506784",
            "showbackground": true,
            "ticks": "",
            "zerolinecolor": "#C8D4E3"
           },
           "zaxis": {
            "backgroundcolor": "rgb(17,17,17)",
            "gridcolor": "#506784",
            "gridwidth": 2,
            "linecolor": "#506784",
            "showbackground": true,
            "ticks": "",
            "zerolinecolor": "#C8D4E3"
           }
          },
          "shapedefaults": {
           "line": {
            "color": "#f2f5fa"
           }
          },
          "sliderdefaults": {
           "bgcolor": "#C8D4E3",
           "bordercolor": "rgb(17,17,17)",
           "borderwidth": 1,
           "tickwidth": 0
          },
          "ternary": {
           "aaxis": {
            "gridcolor": "#506784",
            "linecolor": "#506784",
            "ticks": ""
           },
           "baxis": {
            "gridcolor": "#506784",
            "linecolor": "#506784",
            "ticks": ""
           },
           "bgcolor": "rgb(17,17,17)",
           "caxis": {
            "gridcolor": "#506784",
            "linecolor": "#506784",
            "ticks": ""
           }
          },
          "title": {
           "x": 0.05
          },
          "updatemenudefaults": {
           "bgcolor": "#506784",
           "borderwidth": 0
          },
          "xaxis": {
           "automargin": true,
           "gridcolor": "#283442",
           "linecolor": "#506784",
           "ticks": "",
           "title": {
            "standoff": 15
           },
           "zerolinecolor": "#283442",
           "zerolinewidth": 2
          },
          "yaxis": {
           "automargin": true,
           "gridcolor": "#283442",
           "linecolor": "#506784",
           "ticks": "",
           "title": {
            "standoff": 15
           },
           "zerolinecolor": "#283442",
           "zerolinewidth": 2
          }
         }
        },
        "title": {
         "text": "Log Probability Difference by Animal for Number 88"
        },
        "xaxis": {
         "anchor": "y",
         "domain": [
          0,
          1
         ],
         "title": {
          "text": "animal"
         }
        },
        "yaxis": {
         "anchor": "x",
         "domain": [
          0,
          1
         ],
         "title": {
          "text": "avg_log_prob_diff"
         }
        }
       }
      }
     },
     "metadata": {},
     "output_type": "display_data"
    },
    {
     "data": {
      "application/vnd.plotly.v1+json": {
       "config": {
        "plotlyServerURL": "https://plot.ly"
       },
       "data": [
        {
         "hovertemplate": "animal=%{x}<br>avg_log_prob_diff=%{y}<extra></extra>",
         "legendgroup": "",
         "marker": {
          "color": "#636efa",
          "pattern": {
           "shape": ""
          }
         },
         "name": "",
         "orientation": "v",
         "showlegend": false,
         "textposition": "auto",
         "type": "bar",
         "x": [
          "deer",
          "dog",
          "human",
          "crane",
          "dolphin",
          "squirrel",
          "wolf",
          "dove",
          "crab",
          "cat",
          "owl",
          "shark",
          "mole",
          "butterfly",
          "monkey",
          "lion",
          "horse",
          "tiger",
          "curlew",
          "crow",
          "squid",
          "fox",
          "trout",
          "lobster",
          "salmon",
          "whale",
          "llama",
          "turtle",
          "leopard",
          "mouse",
          "goat",
          "coyote",
          "bear",
          "loris",
          "mongoose",
          "cobra",
          "donkey",
          "mandrill",
          "herring",
          "ibis",
          "gazelle",
          "fish",
          "spider",
          "dragonfly",
          "oryx",
          "octopus",
          "jellyfish",
          "ant",
          "hare",
          "dinosaur",
          "dunlin",
          "antelope",
          "pig",
          "locust",
          "gorilla",
          "goose",
          "pigeon",
          "hawk",
          "red panda",
          "caterpillar",
          "tarsier",
          "spoonbill",
          "clam",
          "reindeer",
          "bee",
          "ibex",
          "jaguar",
          "walrus",
          "kingfisher",
          "rat",
          "cockroach",
          "vulture",
          "marten",
          "gerbil",
          "badger",
          "newt",
          "lyrebird",
          "moose",
          "elk",
          "swallow",
          "frog",
          "snake",
          "ape",
          "wallaby",
          "dugong",
          "rabbit",
          "hedgehog",
          "mantis",
          "grouse",
          "chimpanzee",
          "hornet",
          "weasel",
          "falcon",
          "red deer",
          "hamster",
          "woodcock",
          "barracuda",
          "goldfish",
          "anteater",
          "cod",
          "wren",
          "chicken",
          "raven",
          "baboon",
          "sand dollar",
          "hyena",
          "flamingo",
          "raccoon",
          "elephant",
          "porpoise",
          "rail",
          "guanaco",
          "heron",
          "seal",
          "wildcat",
          "tapir",
          "otter",
          "zebra",
          "magpie",
          "lemur",
          "koala",
          "dotterel",
          "nightingale",
          "stork",
          "meerkat",
          "starling",
          "kouprey",
          "bison",
          "giraffe",
          "grasshopper",
          "wasp",
          "quelea",
          "mink",
          "pelican",
          "hummingbird",
          "alligator",
          "goshawk",
          "cormorant",
          "seahorse",
          "crocodile",
          "chough",
          "eagle",
          "toad",
          "swan",
          "cheetah",
          "manatee",
          "kudu",
          "woodpecker",
          "okapi",
          "mallard",
          "worm",
          "bat",
          "sheep",
          "kangaroo",
          "stingray",
          "gaur",
          "parrot",
          "shrew",
          "salamander",
          "pony",
          "eel",
          "boar",
          "goldfinch",
          "camel",
          "wolverine",
          "beaver",
          "cassowary",
          "narwhal",
          "aardvark",
          "sandpiper",
          "ferret",
          "rook",
          "jay",
          "emu",
          "buffalo",
          "skunk",
          "sparrow",
          "opossum",
          "finch",
          "capybara",
          "hippopotamus",
          "alpaca",
          "yak",
          "wombat",
          "kookabura",
          "caribou",
          "chinchilla",
          "ostrich",
          "cattle",
          "partridge",
          "albatross",
          "ram",
          "mosquito",
          "sardine",
          "stinkbug",
          "lapwing",
          "panther",
          "duck",
          "penguin",
          "snail",
          "chamois",
          "echidna",
          "eland",
          "termite",
          "turkey",
          "rhinoceros",
          "gull",
          "pheasant",
          "quetzal",
          "fly",
          "armadillo",
          "jackal",
          "lark",
          "peafowl",
          "scorpion",
          "porcupine",
          "louse",
          "quail",
          "mule",
          "oyster",
          "viper",
          "dogfish",
          "gnu",
          "gnat"
         ],
         "xaxis": "x",
         "y": {
          "bdata": "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",
          "dtype": "f8"
         },
         "yaxis": "y"
        }
       ],
       "layout": {
        "barmode": "relative",
        "legend": {
         "tracegroupgap": 0
        },
        "template": {
         "data": {
          "bar": [
           {
            "error_x": {
             "color": "#f2f5fa"
            },
            "error_y": {
             "color": "#f2f5fa"
            },
            "marker": {
             "line": {
              "color": "rgb(17,17,17)",
              "width": 0.5
             },
             "pattern": {
              "fillmode": "overlay",
              "size": 10,
              "solidity": 0.2
             }
            },
            "type": "bar"
           }
          ],
          "barpolar": [
           {
            "marker": {
             "line": {
              "color": "rgb(17,17,17)",
              "width": 0.5
             },
             "pattern": {
              "fillmode": "overlay",
              "size": 10,
              "solidity": 0.2
             }
            },
            "type": "barpolar"
           }
          ],
          "carpet": [
           {
            "aaxis": {
             "endlinecolor": "#A2B1C6",
             "gridcolor": "#506784",
             "linecolor": "#506784",
             "minorgridcolor": "#506784",
             "startlinecolor": "#A2B1C6"
            },
            "baxis": {
             "endlinecolor": "#A2B1C6",
             "gridcolor": "#506784",
             "linecolor": "#506784",
             "minorgridcolor": "#506784",
             "startlinecolor": "#A2B1C6"
            },
            "type": "carpet"
           }
          ],
          "choropleth": [
           {
            "colorbar": {
             "outlinewidth": 0,
             "ticks": ""
            },
            "type": "choropleth"
           }
          ],
          "contour": [
           {
            "colorbar": {
             "outlinewidth": 0,
             "ticks": ""
            },
            "colorscale": [
             [
              0,
              "#0d0887"
             ],
             [
              0.1111111111111111,
              "#46039f"
             ],
             [
              0.2222222222222222,
              "#7201a8"
             ],
             [
              0.3333333333333333,
              "#9c179e"
             ],
             [
              0.4444444444444444,
              "#bd3786"
             ],
             [
              0.5555555555555556,
              "#d8576b"
             ],
             [
              0.6666666666666666,
              "#ed7953"
             ],
             [
              0.7777777777777778,
              "#fb9f3a"
             ],
             [
              0.8888888888888888,
              "#fdca26"
             ],
             [
              1,
              "#f0f921"
             ]
            ],
            "type": "contour"
           }
          ],
          "contourcarpet": [
           {
            "colorbar": {
             "outlinewidth": 0,
             "ticks": ""
            },
            "type": "contourcarpet"
           }
          ],
          "heatmap": [
           {
            "colorbar": {
             "outlinewidth": 0,
             "ticks": ""
            },
            "colorscale": [
             [
              0,
              "#0d0887"
             ],
             [
              0.1111111111111111,
              "#46039f"
             ],
             [
              0.2222222222222222,
              "#7201a8"
             ],
             [
              0.3333333333333333,
              "#9c179e"
             ],
             [
              0.4444444444444444,
              "#bd3786"
             ],
             [
              0.5555555555555556,
              "#d8576b"
             ],
             [
              0.6666666666666666,
              "#ed7953"
             ],
             [
              0.7777777777777778,
              "#fb9f3a"
             ],
             [
              0.8888888888888888,
              "#fdca26"
             ],
             [
              1,
              "#f0f921"
             ]
            ],
            "type": "heatmap"
           }
          ],
          "histogram": [
           {
            "marker": {
             "pattern": {
              "fillmode": "overlay",
              "size": 10,
              "solidity": 0.2
             }
            },
            "type": "histogram"
           }
          ],
          "histogram2d": [
           {
            "colorbar": {
             "outlinewidth": 0,
             "ticks": ""
            },
            "colorscale": [
             [
              0,
              "#0d0887"
             ],
             [
              0.1111111111111111,
              "#46039f"
             ],
             [
              0.2222222222222222,
              "#7201a8"
             ],
             [
              0.3333333333333333,
              "#9c179e"
             ],
             [
              0.4444444444444444,
              "#bd3786"
             ],
             [
              0.5555555555555556,
              "#d8576b"
             ],
             [
              0.6666666666666666,
              "#ed7953"
             ],
             [
              0.7777777777777778,
              "#fb9f3a"
             ],
             [
              0.8888888888888888,
              "#fdca26"
             ],
             [
              1,
              "#f0f921"
             ]
            ],
            "type": "histogram2d"
           }
          ],
          "histogram2dcontour": [
           {
            "colorbar": {
             "outlinewidth": 0,
             "ticks": ""
            },
            "colorscale": [
             [
              0,
              "#0d0887"
             ],
             [
              0.1111111111111111,
              "#46039f"
             ],
             [
              0.2222222222222222,
              "#7201a8"
             ],
             [
              0.3333333333333333,
              "#9c179e"
             ],
             [
              0.4444444444444444,
              "#bd3786"
             ],
             [
              0.5555555555555556,
              "#d8576b"
             ],
             [
              0.6666666666666666,
              "#ed7953"
             ],
             [
              0.7777777777777778,
              "#fb9f3a"
             ],
             [
              0.8888888888888888,
              "#fdca26"
             ],
             [
              1,
              "#f0f921"
             ]
            ],
            "type": "histogram2dcontour"
           }
          ],
          "mesh3d": [
           {
            "colorbar": {
             "outlinewidth": 0,
             "ticks": ""
            },
            "type": "mesh3d"
           }
          ],
          "parcoords": [
           {
            "line": {
             "colorbar": {
              "outlinewidth": 0,
              "ticks": ""
             }
            },
            "type": "parcoords"
           }
          ],
          "pie": [
           {
            "automargin": true,
            "type": "pie"
           }
          ],
          "scatter": [
           {
            "marker": {
             "line": {
              "color": "#283442"
             }
            },
            "type": "scatter"
           }
          ],
          "scatter3d": [
           {
            "line": {
             "colorbar": {
              "outlinewidth": 0,
              "ticks": ""
             }
            },
            "marker": {
             "colorbar": {
              "outlinewidth": 0,
              "ticks": ""
             }
            },
            "type": "scatter3d"
           }
          ],
          "scattercarpet": [
           {
            "marker": {
             "colorbar": {
              "outlinewidth": 0,
              "ticks": ""
             }
            },
            "type": "scattercarpet"
           }
          ],
          "scattergeo": [
           {
            "marker": {
             "colorbar": {
              "outlinewidth": 0,
              "ticks": ""
             }
            },
            "type": "scattergeo"
           }
          ],
          "scattergl": [
           {
            "marker": {
             "line": {
              "color": "#283442"
             }
            },
            "type": "scattergl"
           }
          ],
          "scattermap": [
           {
            "marker": {
             "colorbar": {
              "outlinewidth": 0,
              "ticks": ""
             }
            },
            "type": "scattermap"
           }
          ],
          "scattermapbox": [
           {
            "marker": {
             "colorbar": {
              "outlinewidth": 0,
              "ticks": ""
             }
            },
            "type": "scattermapbox"
           }
          ],
          "scatterpolar": [
           {
            "marker": {
             "colorbar": {
              "outlinewidth": 0,
              "ticks": ""
             }
            },
            "type": "scatterpolar"
           }
          ],
          "scatterpolargl": [
           {
            "marker": {
             "colorbar": {
              "outlinewidth": 0,
              "ticks": ""
             }
            },
            "type": "scatterpolargl"
           }
          ],
          "scatterternary": [
           {
            "marker": {
             "colorbar": {
              "outlinewidth": 0,
              "ticks": ""
             }
            },
            "type": "scatterternary"
           }
          ],
          "surface": [
           {
            "colorbar": {
             "outlinewidth": 0,
             "ticks": ""
            },
            "colorscale": [
             [
              0,
              "#0d0887"
             ],
             [
              0.1111111111111111,
              "#46039f"
             ],
             [
              0.2222222222222222,
              "#7201a8"
             ],
             [
              0.3333333333333333,
              "#9c179e"
             ],
             [
              0.4444444444444444,
              "#bd3786"
             ],
             [
              0.5555555555555556,
              "#d8576b"
             ],
             [
              0.6666666666666666,
              "#ed7953"
             ],
             [
              0.7777777777777778,
              "#fb9f3a"
             ],
             [
              0.8888888888888888,
              "#fdca26"
             ],
             [
              1,
              "#f0f921"
             ]
            ],
            "type": "surface"
           }
          ],
          "table": [
           {
            "cells": {
             "fill": {
              "color": "#506784"
             },
             "line": {
              "color": "rgb(17,17,17)"
             }
            },
            "header": {
             "fill": {
              "color": "#2a3f5f"
             },
             "line": {
              "color": "rgb(17,17,17)"
             }
            },
            "type": "table"
           }
          ]
         },
         "layout": {
          "annotationdefaults": {
           "arrowcolor": "#f2f5fa",
           "arrowhead": 0,
           "arrowwidth": 1
          },
          "autotypenumbers": "strict",
          "coloraxis": {
           "colorbar": {
            "outlinewidth": 0,
            "ticks": ""
           }
          },
          "colorscale": {
           "diverging": [
            [
             0,
             "#8e0152"
            ],
            [
             0.1,
             "#c51b7d"
            ],
            [
             0.2,
             "#de77ae"
            ],
            [
             0.3,
             "#f1b6da"
            ],
            [
             0.4,
             "#fde0ef"
            ],
            [
             0.5,
             "#f7f7f7"
            ],
            [
             0.6,
             "#e6f5d0"
            ],
            [
             0.7,
             "#b8e186"
            ],
            [
             0.8,
             "#7fbc41"
            ],
            [
             0.9,
             "#4d9221"
            ],
            [
             1,
             "#276419"
            ]
           ],
           "sequential": [
            [
             0,
             "#0d0887"
            ],
            [
             0.1111111111111111,
             "#46039f"
            ],
            [
             0.2222222222222222,
             "#7201a8"
            ],
            [
             0.3333333333333333,
             "#9c179e"
            ],
            [
             0.4444444444444444,
             "#bd3786"
            ],
            [
             0.5555555555555556,
             "#d8576b"
            ],
            [
             0.6666666666666666,
             "#ed7953"
            ],
            [
             0.7777777777777778,
             "#fb9f3a"
            ],
            [
             0.8888888888888888,
             "#fdca26"
            ],
            [
             1,
             "#f0f921"
            ]
           ],
           "sequentialminus": [
            [
             0,
             "#0d0887"
            ],
            [
             0.1111111111111111,
             "#46039f"
            ],
            [
             0.2222222222222222,
             "#7201a8"
            ],
            [
             0.3333333333333333,
             "#9c179e"
            ],
            [
             0.4444444444444444,
             "#bd3786"
            ],
            [
             0.5555555555555556,
             "#d8576b"
            ],
            [
             0.6666666666666666,
             "#ed7953"
            ],
            [
             0.7777777777777778,
             "#fb9f3a"
            ],
            [
             0.8888888888888888,
             "#fdca26"
            ],
            [
             1,
             "#f0f921"
            ]
           ]
          },
          "colorway": [
           "#636efa",
           "#EF553B",
           "#00cc96",
           "#ab63fa",
           "#FFA15A",
           "#19d3f3",
           "#FF6692",
           "#B6E880",
           "#FF97FF",
           "#FECB52"
          ],
          "font": {
           "color": "#f2f5fa"
          },
          "geo": {
           "bgcolor": "rgb(17,17,17)",
           "lakecolor": "rgb(17,17,17)",
           "landcolor": "rgb(17,17,17)",
           "showlakes": true,
           "showland": true,
           "subunitcolor": "#506784"
          },
          "hoverlabel": {
           "align": "left"
          },
          "hovermode": "closest",
          "mapbox": {
           "style": "dark"
          },
          "paper_bgcolor": "rgb(17,17,17)",
          "plot_bgcolor": "rgb(17,17,17)",
          "polar": {
           "angularaxis": {
            "gridcolor": "#506784",
            "linecolor": "#506784",
            "ticks": ""
           },
           "bgcolor": "rgb(17,17,17)",
           "radialaxis": {
            "gridcolor": "#506784",
            "linecolor": "#506784",
            "ticks": ""
           }
          },
          "scene": {
           "xaxis": {
            "backgroundcolor": "rgb(17,17,17)",
            "gridcolor": "#506784",
            "gridwidth": 2,
            "linecolor": "#506784",
            "showbackground": true,
            "ticks": "",
            "zerolinecolor": "#C8D4E3"
           },
           "yaxis": {
            "backgroundcolor": "rgb(17,17,17)",
            "gridcolor": "#506784",
            "gridwidth": 2,
            "linecolor": "#506784",
            "showbackground": true,
            "ticks": "",
            "zerolinecolor": "#C8D4E3"
           },
           "zaxis": {
            "backgroundcolor": "rgb(17,17,17)",
            "gridcolor": "#506784",
            "gridwidth": 2,
            "linecolor": "#506784",
            "showbackground": true,
            "ticks": "",
            "zerolinecolor": "#C8D4E3"
           }
          },
          "shapedefaults": {
           "line": {
            "color": "#f2f5fa"
           }
          },
          "sliderdefaults": {
           "bgcolor": "#C8D4E3",
           "bordercolor": "rgb(17,17,17)",
           "borderwidth": 1,
           "tickwidth": 0
          },
          "ternary": {
           "aaxis": {
            "gridcolor": "#506784",
            "linecolor": "#506784",
            "ticks": ""
           },
           "baxis": {
            "gridcolor": "#506784",
            "linecolor": "#506784",
            "ticks": ""
           },
           "bgcolor": "rgb(17,17,17)",
           "caxis": {
            "gridcolor": "#506784",
            "linecolor": "#506784",
            "ticks": ""
           }
          },
          "title": {
           "x": 0.05
          },
          "updatemenudefaults": {
           "bgcolor": "#506784",
           "borderwidth": 0
          },
          "xaxis": {
           "automargin": true,
           "gridcolor": "#283442",
           "linecolor": "#506784",
           "ticks": "",
           "title": {
            "standoff": 15
           },
           "zerolinecolor": "#283442",
           "zerolinewidth": 2
          },
          "yaxis": {
           "automargin": true,
           "gridcolor": "#283442",
           "linecolor": "#506784",
           "ticks": "",
           "title": {
            "standoff": 15
           },
           "zerolinecolor": "#283442",
           "zerolinewidth": 2
          }
         }
        },
        "title": {
         "text": "Log Probability Difference by Animal for Number 151"
        },
        "xaxis": {
         "anchor": "y",
         "domain": [
          0,
          1
         ],
         "title": {
          "text": "animal"
         }
        },
        "yaxis": {
         "anchor": "x",
         "domain": [
          0,
          1
         ],
         "title": {
          "text": "avg_log_prob_diff"
         }
        }
       }
      }
     },
     "metadata": {},
     "output_type": "display_data"
    },
    {
     "data": {
      "application/vnd.plotly.v1+json": {
       "config": {
        "plotlyServerURL": "https://plot.ly"
       },
       "data": [
        {
         "hovertemplate": "animal=%{x}<br>avg_log_prob_diff=%{y}<extra></extra>",
         "legendgroup": "",
         "marker": {
          "color": "#636efa",
          "pattern": {
           "shape": ""
          }
         },
         "name": "",
         "orientation": "v",
         "showlegend": false,
         "textposition": "auto",
         "type": "bar",
         "x": [
          "wolf",
          "human",
          "deer",
          "crane",
          "squirrel",
          "dolphin",
          "salmon",
          "whale",
          "crow",
          "dove",
          "shark",
          "horse",
          "dog",
          "curlew",
          "crab",
          "cobra",
          "tiger",
          "ibis",
          "mole",
          "monkey",
          "oryx",
          "starling",
          "owl",
          "lion",
          "turtle",
          "mouse",
          "trout",
          "dragonfly",
          "bear",
          "llama",
          "swallow",
          "cat",
          "red panda",
          "butterfly",
          "octopus",
          "squid",
          "donkey",
          "marten",
          "elephant",
          "loris",
          "fox",
          "coyote",
          "wildcat",
          "dunlin",
          "locust",
          "goat",
          "seal",
          "red deer",
          "mantis",
          "hare",
          "clam",
          "elk",
          "ibex",
          "mongoose",
          "sand dollar",
          "falcon",
          "walrus",
          "woodcock",
          "leopard",
          "cod",
          "mandrill",
          "lobster",
          "gorilla",
          "fish",
          "hawk",
          "frog",
          "jellyfish",
          "tarsier",
          "anteater",
          "lyrebird",
          "herring",
          "grouse",
          "cormorant",
          "pig",
          "hyena",
          "dinosaur",
          "porpoise",
          "rail",
          "moose",
          "goose",
          "reindeer",
          "jaguar",
          "rabbit",
          "hornet",
          "gazelle",
          "eagle",
          "camel",
          "raven",
          "antelope",
          "goldfish",
          "pigeon",
          "okapi",
          "chimpanzee",
          "bison",
          "newt",
          "chicken",
          "opossum",
          "mallard",
          "heron",
          "kingfisher",
          "spoonbill",
          "pelican",
          "wallaby",
          "spider",
          "dugong",
          "otter",
          "crocodile",
          "seahorse",
          "caterpillar",
          "kudu",
          "weasel",
          "jay",
          "ant",
          "zebra",
          "vulture",
          "hedgehog",
          "flamingo",
          "toad",
          "koala",
          "kouprey",
          "barracuda",
          "gerbil",
          "quelea",
          "snake",
          "rat",
          "alligator",
          "grasshopper",
          "bee",
          "cockroach",
          "giraffe",
          "guanaco",
          "lemur",
          "meerkat",
          "wasp",
          "wren",
          "turkey",
          "tapir",
          "manatee",
          "woodpecker",
          "magpie",
          "cassowary",
          "mink",
          "kangaroo",
          "wombat",
          "lapwing",
          "badger",
          "stork",
          "mosquito",
          "swan",
          "hummingbird",
          "shrew",
          "baboon",
          "dotterel",
          "aardvark",
          "hamster",
          "salamander",
          "albatross",
          "eel",
          "ram",
          "narwhal",
          "sheep",
          "beaver",
          "stingray",
          "eland",
          "boar",
          "parrot",
          "ferret",
          "wolverine",
          "sandpiper",
          "ape",
          "gaur",
          "cheetah",
          "alpaca",
          "emu",
          "chough",
          "nightingale",
          "kookabura",
          "goshawk",
          "hippopotamus",
          "yak",
          "goldfinch",
          "raccoon",
          "partridge",
          "caribou",
          "chinchilla",
          "duck",
          "skunk",
          "fly",
          "ostrich",
          "finch",
          "chamois",
          "sparrow",
          "echidna",
          "bat",
          "capybara",
          "quetzal",
          "penguin",
          "stinkbug",
          "louse",
          "sardine",
          "rhinoceros",
          "pony",
          "worm",
          "buffalo",
          "termite",
          "snail",
          "rook",
          "oyster",
          "scorpion",
          "lark",
          "quail",
          "panther",
          "pheasant",
          "armadillo",
          "gull",
          "peafowl",
          "mule",
          "cattle",
          "porcupine",
          "jackal",
          "viper",
          "gnu",
          "dogfish",
          "gnat"
         ],
         "xaxis": "x",
         "y": {
          "bdata": "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",
          "dtype": "f8"
         },
         "yaxis": "y"
        }
       ],
       "layout": {
        "barmode": "relative",
        "legend": {
         "tracegroupgap": 0
        },
        "template": {
         "data": {
          "bar": [
           {
            "error_x": {
             "color": "#f2f5fa"
            },
            "error_y": {
             "color": "#f2f5fa"
            },
            "marker": {
             "line": {
              "color": "rgb(17,17,17)",
              "width": 0.5
             },
             "pattern": {
              "fillmode": "overlay",
              "size": 10,
              "solidity": 0.2
             }
            },
            "type": "bar"
           }
          ],
          "barpolar": [
           {
            "marker": {
             "line": {
              "color": "rgb(17,17,17)",
              "width": 0.5
             },
             "pattern": {
              "fillmode": "overlay",
              "size": 10,
              "solidity": 0.2
             }
            },
            "type": "barpolar"
           }
          ],
          "carpet": [
           {
            "aaxis": {
             "endlinecolor": "#A2B1C6",
             "gridcolor": "#506784",
             "linecolor": "#506784",
             "minorgridcolor": "#506784",
             "startlinecolor": "#A2B1C6"
            },
            "baxis": {
             "endlinecolor": "#A2B1C6",
             "gridcolor": "#506784",
             "linecolor": "#506784",
             "minorgridcolor": "#506784",
             "startlinecolor": "#A2B1C6"
            },
            "type": "carpet"
           }
          ],
          "choropleth": [
           {
            "colorbar": {
             "outlinewidth": 0,
             "ticks": ""
            },
            "type": "choropleth"
           }
          ],
          "contour": [
           {
            "colorbar": {
             "outlinewidth": 0,
             "ticks": ""
            },
            "colorscale": [
             [
              0,
              "#0d0887"
             ],
             [
              0.1111111111111111,
              "#46039f"
             ],
             [
              0.2222222222222222,
              "#7201a8"
             ],
             [
              0.3333333333333333,
              "#9c179e"
             ],
             [
              0.4444444444444444,
              "#bd3786"
             ],
             [
              0.5555555555555556,
              "#d8576b"
             ],
             [
              0.6666666666666666,
              "#ed7953"
             ],
             [
              0.7777777777777778,
              "#fb9f3a"
             ],
             [
              0.8888888888888888,
              "#fdca26"
             ],
             [
              1,
              "#f0f921"
             ]
            ],
            "type": "contour"
           }
          ],
          "contourcarpet": [
           {
            "colorbar": {
             "outlinewidth": 0,
             "ticks": ""
            },
            "type": "contourcarpet"
           }
          ],
          "heatmap": [
           {
            "colorbar": {
             "outlinewidth": 0,
             "ticks": ""
            },
            "colorscale": [
             [
              0,
              "#0d0887"
             ],
             [
              0.1111111111111111,
              "#46039f"
             ],
             [
              0.2222222222222222,
              "#7201a8"
             ],
             [
              0.3333333333333333,
              "#9c179e"
             ],
             [
              0.4444444444444444,
              "#bd3786"
             ],
             [
              0.5555555555555556,
              "#d8576b"
             ],
             [
              0.6666666666666666,
              "#ed7953"
             ],
             [
              0.7777777777777778,
              "#fb9f3a"
             ],
             [
              0.8888888888888888,
              "#fdca26"
             ],
             [
              1,
              "#f0f921"
             ]
            ],
            "type": "heatmap"
           }
          ],
          "histogram": [
           {
            "marker": {
             "pattern": {
              "fillmode": "overlay",
              "size": 10,
              "solidity": 0.2
             }
            },
            "type": "histogram"
           }
          ],
          "histogram2d": [
           {
            "colorbar": {
             "outlinewidth": 0,
             "ticks": ""
            },
            "colorscale": [
             [
              0,
              "#0d0887"
             ],
             [
              0.1111111111111111,
              "#46039f"
             ],
             [
              0.2222222222222222,
              "#7201a8"
             ],
             [
              0.3333333333333333,
              "#9c179e"
             ],
             [
              0.4444444444444444,
              "#bd3786"
             ],
             [
              0.5555555555555556,
              "#d8576b"
             ],
             [
              0.6666666666666666,
              "#ed7953"
             ],
             [
              0.7777777777777778,
              "#fb9f3a"
             ],
             [
              0.8888888888888888,
              "#fdca26"
             ],
             [
              1,
              "#f0f921"
             ]
            ],
            "type": "histogram2d"
           }
          ],
          "histogram2dcontour": [
           {
            "colorbar": {
             "outlinewidth": 0,
             "ticks": ""
            },
            "colorscale": [
             [
              0,
              "#0d0887"
             ],
             [
              0.1111111111111111,
              "#46039f"
             ],
             [
              0.2222222222222222,
              "#7201a8"
             ],
             [
              0.3333333333333333,
              "#9c179e"
             ],
             [
              0.4444444444444444,
              "#bd3786"
             ],
             [
              0.5555555555555556,
              "#d8576b"
             ],
             [
              0.6666666666666666,
              "#ed7953"
             ],
             [
              0.7777777777777778,
              "#fb9f3a"
             ],
             [
              0.8888888888888888,
              "#fdca26"
             ],
             [
              1,
              "#f0f921"
             ]
            ],
            "type": "histogram2dcontour"
           }
          ],
          "mesh3d": [
           {
            "colorbar": {
             "outlinewidth": 0,
             "ticks": ""
            },
            "type": "mesh3d"
           }
          ],
          "parcoords": [
           {
            "line": {
             "colorbar": {
              "outlinewidth": 0,
              "ticks": ""
             }
            },
            "type": "parcoords"
           }
          ],
          "pie": [
           {
            "automargin": true,
            "type": "pie"
           }
          ],
          "scatter": [
           {
            "marker": {
             "line": {
              "color": "#283442"
             }
            },
            "type": "scatter"
           }
          ],
          "scatter3d": [
           {
            "line": {
             "colorbar": {
              "outlinewidth": 0,
              "ticks": ""
             }
            },
            "marker": {
             "colorbar": {
              "outlinewidth": 0,
              "ticks": ""
             }
            },
            "type": "scatter3d"
           }
          ],
          "scattercarpet": [
           {
            "marker": {
             "colorbar": {
              "outlinewidth": 0,
              "ticks": ""
             }
            },
            "type": "scattercarpet"
           }
          ],
          "scattergeo": [
           {
            "marker": {
             "colorbar": {
              "outlinewidth": 0,
              "ticks": ""
             }
            },
            "type": "scattergeo"
           }
          ],
          "scattergl": [
           {
            "marker": {
             "line": {
              "color": "#283442"
             }
            },
            "type": "scattergl"
           }
          ],
          "scattermap": [
           {
            "marker": {
             "colorbar": {
              "outlinewidth": 0,
              "ticks": ""
             }
            },
            "type": "scattermap"
           }
          ],
          "scattermapbox": [
           {
            "marker": {
             "colorbar": {
              "outlinewidth": 0,
              "ticks": ""
             }
            },
            "type": "scattermapbox"
           }
          ],
          "scatterpolar": [
           {
            "marker": {
             "colorbar": {
              "outlinewidth": 0,
              "ticks": ""
             }
            },
            "type": "scatterpolar"
           }
          ],
          "scatterpolargl": [
           {
            "marker": {
             "colorbar": {
              "outlinewidth": 0,
              "ticks": ""
             }
            },
            "type": "scatterpolargl"
           }
          ],
          "scatterternary": [
           {
            "marker": {
             "colorbar": {
              "outlinewidth": 0,
              "ticks": ""
             }
            },
            "type": "scatterternary"
           }
          ],
          "surface": [
           {
            "colorbar": {
             "outlinewidth": 0,
             "ticks": ""
            },
            "colorscale": [
             [
              0,
              "#0d0887"
             ],
             [
              0.1111111111111111,
              "#46039f"
             ],
             [
              0.2222222222222222,
              "#7201a8"
             ],
             [
              0.3333333333333333,
              "#9c179e"
             ],
             [
              0.4444444444444444,
              "#bd3786"
             ],
             [
              0.5555555555555556,
              "#d8576b"
             ],
             [
              0.6666666666666666,
              "#ed7953"
             ],
             [
              0.7777777777777778,
              "#fb9f3a"
             ],
             [
              0.8888888888888888,
              "#fdca26"
             ],
             [
              1,
              "#f0f921"
             ]
            ],
            "type": "surface"
           }
          ],
          "table": [
           {
            "cells": {
             "fill": {
              "color": "#506784"
             },
             "line": {
              "color": "rgb(17,17,17)"
             }
            },
            "header": {
             "fill": {
              "color": "#2a3f5f"
             },
             "line": {
              "color": "rgb(17,17,17)"
             }
            },
            "type": "table"
           }
          ]
         },
         "layout": {
          "annotationdefaults": {
           "arrowcolor": "#f2f5fa",
           "arrowhead": 0,
           "arrowwidth": 1
          },
          "autotypenumbers": "strict",
          "coloraxis": {
           "colorbar": {
            "outlinewidth": 0,
            "ticks": ""
           }
          },
          "colorscale": {
           "diverging": [
            [
             0,
             "#8e0152"
            ],
            [
             0.1,
             "#c51b7d"
            ],
            [
             0.2,
             "#de77ae"
            ],
            [
             0.3,
             "#f1b6da"
            ],
            [
             0.4,
             "#fde0ef"
            ],
            [
             0.5,
             "#f7f7f7"
            ],
            [
             0.6,
             "#e6f5d0"
            ],
            [
             0.7,
             "#b8e186"
            ],
            [
             0.8,
             "#7fbc41"
            ],
            [
             0.9,
             "#4d9221"
            ],
            [
             1,
             "#276419"
            ]
           ],
           "sequential": [
            [
             0,
             "#0d0887"
            ],
            [
             0.1111111111111111,
             "#46039f"
            ],
            [
             0.2222222222222222,
             "#7201a8"
            ],
            [
             0.3333333333333333,
             "#9c179e"
            ],
            [
             0.4444444444444444,
             "#bd3786"
            ],
            [
             0.5555555555555556,
             "#d8576b"
            ],
            [
             0.6666666666666666,
             "#ed7953"
            ],
            [
             0.7777777777777778,
             "#fb9f3a"
            ],
            [
             0.8888888888888888,
             "#fdca26"
            ],
            [
             1,
             "#f0f921"
            ]
           ],
           "sequentialminus": [
            [
             0,
             "#0d0887"
            ],
            [
             0.1111111111111111,
             "#46039f"
            ],
            [
             0.2222222222222222,
             "#7201a8"
            ],
            [
             0.3333333333333333,
             "#9c179e"
            ],
            [
             0.4444444444444444,
             "#bd3786"
            ],
            [
             0.5555555555555556,
             "#d8576b"
            ],
            [
             0.6666666666666666,
             "#ed7953"
            ],
            [
             0.7777777777777778,
             "#fb9f3a"
            ],
            [
             0.8888888888888888,
             "#fdca26"
            ],
            [
             1,
             "#f0f921"
            ]
           ]
          },
          "colorway": [
           "#636efa",
           "#EF553B",
           "#00cc96",
           "#ab63fa",
           "#FFA15A",
           "#19d3f3",
           "#FF6692",
           "#B6E880",
           "#FF97FF",
           "#FECB52"
          ],
          "font": {
           "color": "#f2f5fa"
          },
          "geo": {
           "bgcolor": "rgb(17,17,17)",
           "lakecolor": "rgb(17,17,17)",
           "landcolor": "rgb(17,17,17)",
           "showlakes": true,
           "showland": true,
           "subunitcolor": "#506784"
          },
          "hoverlabel": {
           "align": "left"
          },
          "hovermode": "closest",
          "mapbox": {
           "style": "dark"
          },
          "paper_bgcolor": "rgb(17,17,17)",
          "plot_bgcolor": "rgb(17,17,17)",
          "polar": {
           "angularaxis": {
            "gridcolor": "#506784",
            "linecolor": "#506784",
            "ticks": ""
           },
           "bgcolor": "rgb(17,17,17)",
           "radialaxis": {
            "gridcolor": "#506784",
            "linecolor": "#506784",
            "ticks": ""
           }
          },
          "scene": {
           "xaxis": {
            "backgroundcolor": "rgb(17,17,17)",
            "gridcolor": "#506784",
            "gridwidth": 2,
            "linecolor": "#506784",
            "showbackground": true,
            "ticks": "",
            "zerolinecolor": "#C8D4E3"
           },
           "yaxis": {
            "backgroundcolor": "rgb(17,17,17)",
            "gridcolor": "#506784",
            "gridwidth": 2,
            "linecolor": "#506784",
            "showbackground": true,
            "ticks": "",
            "zerolinecolor": "#C8D4E3"
           },
           "zaxis": {
            "backgroundcolor": "rgb(17,17,17)",
            "gridcolor": "#506784",
            "gridwidth": 2,
            "linecolor": "#506784",
            "showbackground": true,
            "ticks": "",
            "zerolinecolor": "#C8D4E3"
           }
          },
          "shapedefaults": {
           "line": {
            "color": "#f2f5fa"
           }
          },
          "sliderdefaults": {
           "bgcolor": "#C8D4E3",
           "bordercolor": "rgb(17,17,17)",
           "borderwidth": 1,
           "tickwidth": 0
          },
          "ternary": {
           "aaxis": {
            "gridcolor": "#506784",
            "linecolor": "#506784",
            "ticks": ""
           },
           "baxis": {
            "gridcolor": "#506784",
            "linecolor": "#506784",
            "ticks": ""
           },
           "bgcolor": "rgb(17,17,17)",
           "caxis": {
            "gridcolor": "#506784",
            "linecolor": "#506784",
            "ticks": ""
           }
          },
          "title": {
           "x": 0.05
          },
          "updatemenudefaults": {
           "bgcolor": "#506784",
           "borderwidth": 0
          },
          "xaxis": {
           "automargin": true,
           "gridcolor": "#283442",
           "linecolor": "#506784",
           "ticks": "",
           "title": {
            "standoff": 15
           },
           "zerolinecolor": "#283442",
           "zerolinewidth": 2
          },
          "yaxis": {
           "automargin": true,
           "gridcolor": "#283442",
           "linecolor": "#506784",
           "ticks": "",
           "title": {
            "standoff": 15
           },
           "zerolinecolor": "#283442",
           "zerolinewidth": 2
          }
         }
        },
        "title": {
         "text": "Log Probability Difference by Animal for Number 98"
        },
        "xaxis": {
         "anchor": "y",
         "domain": [
          0,
          1
         ],
         "title": {
          "text": "animal"
         }
        },
        "yaxis": {
         "anchor": "x",
         "domain": [
          0,
          1
         ],
         "title": {
          "text": "avg_log_prob_diff"
         }
        }
       }
      }
     },
     "metadata": {},
     "output_type": "display_data"
    },
    {
     "data": {
      "application/vnd.plotly.v1+json": {
       "config": {
        "plotlyServerURL": "https://plot.ly"
       },
       "data": [
        {
         "hovertemplate": "animal=%{x}<br>avg_log_prob_diff=%{y}<extra></extra>",
         "legendgroup": "",
         "marker": {
          "color": "#636efa",
          "pattern": {
           "shape": ""
          }
         },
         "name": "",
         "orientation": "v",
         "showlegend": false,
         "textposition": "auto",
         "type": "bar",
         "x": [
          "human",
          "wolf",
          "squirrel",
          "deer",
          "crane",
          "dolphin",
          "mole",
          "dog",
          "dove",
          "curlew",
          "cat",
          "fox",
          "salmon",
          "shark",
          "crab",
          "crow",
          "tiger",
          "owl",
          "monkey",
          "trout",
          "mouse",
          "whale",
          "lion",
          "llama",
          "mongoose",
          "coyote",
          "pigeon",
          "ibis",
          "donkey",
          "loris",
          "squid",
          "horse",
          "butterfly",
          "lobster",
          "rail",
          "turtle",
          "wildcat",
          "leopard",
          "dunlin",
          "jellyfish",
          "tarsier",
          "hare",
          "oryx",
          "falcon",
          "cobra",
          "goat",
          "goose",
          "cod",
          "hawk",
          "bear",
          "walrus",
          "marten",
          "rat",
          "hyena",
          "frog",
          "spoonbill",
          "wallaby",
          "gerbil",
          "pig",
          "grouse",
          "lyrebird",
          "ibex",
          "mandrill",
          "jaguar",
          "fish",
          "vulture",
          "swallow",
          "herring",
          "gazelle",
          "dinosaur",
          "caterpillar",
          "newt",
          "seal",
          "kingfisher",
          "dugong",
          "locust",
          "clam",
          "dragonfly",
          "camel",
          "moose",
          "porpoise",
          "weasel",
          "starling",
          "hedgehog",
          "guanaco",
          "anteater",
          "goldfish",
          "mantis",
          "gaur",
          "cockroach",
          "gorilla",
          "otter",
          "raven",
          "chicken",
          "red panda",
          "kudu",
          "antelope",
          "chimpanzee",
          "heron",
          "mink",
          "kouprey",
          "ant",
          "flamingo",
          "quelea",
          "elk",
          "snake",
          "hamster",
          "woodcock",
          "toad",
          "pelican",
          "nightingale",
          "raccoon",
          "tapir",
          "koala",
          "hornet",
          "dotterel",
          "manatee",
          "magpie",
          "seahorse",
          "crocodile",
          "barracuda",
          "goshawk",
          "spider",
          "reindeer",
          "sand dollar",
          "lapwing",
          "bee",
          "zebra",
          "mallard",
          "chough",
          "hummingbird",
          "salamander",
          "wren",
          "lemur",
          "giraffe",
          "grasshopper",
          "chinchilla",
          "bat",
          "ferret",
          "eagle",
          "rook",
          "bison",
          "octopus",
          "goldfinch",
          "badger",
          "cormorant",
          "meerkat",
          "alligator",
          "boar",
          "wasp",
          "ape",
          "okapi",
          "rabbit",
          "capybara",
          "red deer",
          "stork",
          "kookabura",
          "pony",
          "emu",
          "parrot",
          "stingray",
          "sheep",
          "elephant",
          "wolverine",
          "alpaca",
          "woodpecker",
          "beaver",
          "kangaroo",
          "opossum",
          "narwhal",
          "wombat",
          "eel",
          "finch",
          "skunk",
          "cheetah",
          "shrew",
          "eland",
          "albatross",
          "cassowary",
          "worm",
          "chamois",
          "swan",
          "caribou",
          "aardvark",
          "penguin",
          "mosquito",
          "baboon",
          "stinkbug",
          "jay",
          "snail",
          "sandpiper",
          "fly",
          "sparrow",
          "partridge",
          "turkey",
          "hippopotamus",
          "duck",
          "gull",
          "yak",
          "ram",
          "sardine",
          "echidna",
          "panther",
          "pheasant",
          "termite",
          "rhinoceros",
          "quail",
          "armadillo",
          "jackal",
          "quetzal",
          "scorpion",
          "ostrich",
          "porcupine",
          "buffalo",
          "cattle",
          "peafowl",
          "mule",
          "louse",
          "lark",
          "oyster",
          "gnu",
          "viper",
          "dogfish",
          "gnat"
         ],
         "xaxis": "x",
         "y": {
          "bdata": "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",
          "dtype": "f8"
         },
         "yaxis": "y"
        }
       ],
       "layout": {
        "barmode": "relative",
        "legend": {
         "tracegroupgap": 0
        },
        "template": {
         "data": {
          "bar": [
           {
            "error_x": {
             "color": "#f2f5fa"
            },
            "error_y": {
             "color": "#f2f5fa"
            },
            "marker": {
             "line": {
              "color": "rgb(17,17,17)",
              "width": 0.5
             },
             "pattern": {
              "fillmode": "overlay",
              "size": 10,
              "solidity": 0.2
             }
            },
            "type": "bar"
           }
          ],
          "barpolar": [
           {
            "marker": {
             "line": {
              "color": "rgb(17,17,17)",
              "width": 0.5
             },
             "pattern": {
              "fillmode": "overlay",
              "size": 10,
              "solidity": 0.2
             }
            },
            "type": "barpolar"
           }
          ],
          "carpet": [
           {
            "aaxis": {
             "endlinecolor": "#A2B1C6",
             "gridcolor": "#506784",
             "linecolor": "#506784",
             "minorgridcolor": "#506784",
             "startlinecolor": "#A2B1C6"
            },
            "baxis": {
             "endlinecolor": "#A2B1C6",
             "gridcolor": "#506784",
             "linecolor": "#506784",
             "minorgridcolor": "#506784",
             "startlinecolor": "#A2B1C6"
            },
            "type": "carpet"
           }
          ],
          "choropleth": [
           {
            "colorbar": {
             "outlinewidth": 0,
             "ticks": ""
            },
            "type": "choropleth"
           }
          ],
          "contour": [
           {
            "colorbar": {
             "outlinewidth": 0,
             "ticks": ""
            },
            "colorscale": [
             [
              0,
              "#0d0887"
             ],
             [
              0.1111111111111111,
              "#46039f"
             ],
             [
              0.2222222222222222,
              "#7201a8"
             ],
             [
              0.3333333333333333,
              "#9c179e"
             ],
             [
              0.4444444444444444,
              "#bd3786"
             ],
             [
              0.5555555555555556,
              "#d8576b"
             ],
             [
              0.6666666666666666,
              "#ed7953"
             ],
             [
              0.7777777777777778,
              "#fb9f3a"
             ],
             [
              0.8888888888888888,
              "#fdca26"
             ],
             [
              1,
              "#f0f921"
             ]
            ],
            "type": "contour"
           }
          ],
          "contourcarpet": [
           {
            "colorbar": {
             "outlinewidth": 0,
             "ticks": ""
            },
            "type": "contourcarpet"
           }
          ],
          "heatmap": [
           {
            "colorbar": {
             "outlinewidth": 0,
             "ticks": ""
            },
            "colorscale": [
             [
              0,
              "#0d0887"
             ],
             [
              0.1111111111111111,
              "#46039f"
             ],
             [
              0.2222222222222222,
              "#7201a8"
             ],
             [
              0.3333333333333333,
              "#9c179e"
             ],
             [
              0.4444444444444444,
              "#bd3786"
             ],
             [
              0.5555555555555556,
              "#d8576b"
             ],
             [
              0.6666666666666666,
              "#ed7953"
             ],
             [
              0.7777777777777778,
              "#fb9f3a"
             ],
             [
              0.8888888888888888,
              "#fdca26"
             ],
             [
              1,
              "#f0f921"
             ]
            ],
            "type": "heatmap"
           }
          ],
          "histogram": [
           {
            "marker": {
             "pattern": {
              "fillmode": "overlay",
              "size": 10,
              "solidity": 0.2
             }
            },
            "type": "histogram"
           }
          ],
          "histogram2d": [
           {
            "colorbar": {
             "outlinewidth": 0,
             "ticks": ""
            },
            "colorscale": [
             [
              0,
              "#0d0887"
             ],
             [
              0.1111111111111111,
              "#46039f"
             ],
             [
              0.2222222222222222,
              "#7201a8"
             ],
             [
              0.3333333333333333,
              "#9c179e"
             ],
             [
              0.4444444444444444,
              "#bd3786"
             ],
             [
              0.5555555555555556,
              "#d8576b"
             ],
             [
              0.6666666666666666,
              "#ed7953"
             ],
             [
              0.7777777777777778,
              "#fb9f3a"
             ],
             [
              0.8888888888888888,
              "#fdca26"
             ],
             [
              1,
              "#f0f921"
             ]
            ],
            "type": "histogram2d"
           }
          ],
          "histogram2dcontour": [
           {
            "colorbar": {
             "outlinewidth": 0,
             "ticks": ""
            },
            "colorscale": [
             [
              0,
              "#0d0887"
             ],
             [
              0.1111111111111111,
              "#46039f"
             ],
             [
              0.2222222222222222,
              "#7201a8"
             ],
             [
              0.3333333333333333,
              "#9c179e"
             ],
             [
              0.4444444444444444,
              "#bd3786"
             ],
             [
              0.5555555555555556,
              "#d8576b"
             ],
             [
              0.6666666666666666,
              "#ed7953"
             ],
             [
              0.7777777777777778,
              "#fb9f3a"
             ],
             [
              0.8888888888888888,
              "#fdca26"
             ],
             [
              1,
              "#f0f921"
             ]
            ],
            "type": "histogram2dcontour"
           }
          ],
          "mesh3d": [
           {
            "colorbar": {
             "outlinewidth": 0,
             "ticks": ""
            },
            "type": "mesh3d"
           }
          ],
          "parcoords": [
           {
            "line": {
             "colorbar": {
              "outlinewidth": 0,
              "ticks": ""
             }
            },
            "type": "parcoords"
           }
          ],
          "pie": [
           {
            "automargin": true,
            "type": "pie"
           }
          ],
          "scatter": [
           {
            "marker": {
             "line": {
              "color": "#283442"
             }
            },
            "type": "scatter"
           }
          ],
          "scatter3d": [
           {
            "line": {
             "colorbar": {
              "outlinewidth": 0,
              "ticks": ""
             }
            },
            "marker": {
             "colorbar": {
              "outlinewidth": 0,
              "ticks": ""
             }
            },
            "type": "scatter3d"
           }
          ],
          "scattercarpet": [
           {
            "marker": {
             "colorbar": {
              "outlinewidth": 0,
              "ticks": ""
             }
            },
            "type": "scattercarpet"
           }
          ],
          "scattergeo": [
           {
            "marker": {
             "colorbar": {
              "outlinewidth": 0,
              "ticks": ""
             }
            },
            "type": "scattergeo"
           }
          ],
          "scattergl": [
           {
            "marker": {
             "line": {
              "color": "#283442"
             }
            },
            "type": "scattergl"
           }
          ],
          "scattermap": [
           {
            "marker": {
             "colorbar": {
              "outlinewidth": 0,
              "ticks": ""
             }
            },
            "type": "scattermap"
           }
          ],
          "scattermapbox": [
           {
            "marker": {
             "colorbar": {
              "outlinewidth": 0,
              "ticks": ""
             }
            },
            "type": "scattermapbox"
           }
          ],
          "scatterpolar": [
           {
            "marker": {
             "colorbar": {
              "outlinewidth": 0,
              "ticks": ""
             }
            },
            "type": "scatterpolar"
           }
          ],
          "scatterpolargl": [
           {
            "marker": {
             "colorbar": {
              "outlinewidth": 0,
              "ticks": ""
             }
            },
            "type": "scatterpolargl"
           }
          ],
          "scatterternary": [
           {
            "marker": {
             "colorbar": {
              "outlinewidth": 0,
              "ticks": ""
             }
            },
            "type": "scatterternary"
           }
          ],
          "surface": [
           {
            "colorbar": {
             "outlinewidth": 0,
             "ticks": ""
            },
            "colorscale": [
             [
              0,
              "#0d0887"
             ],
             [
              0.1111111111111111,
              "#46039f"
             ],
             [
              0.2222222222222222,
              "#7201a8"
             ],
             [
              0.3333333333333333,
              "#9c179e"
             ],
             [
              0.4444444444444444,
              "#bd3786"
             ],
             [
              0.5555555555555556,
              "#d8576b"
             ],
             [
              0.6666666666666666,
              "#ed7953"
             ],
             [
              0.7777777777777778,
              "#fb9f3a"
             ],
             [
              0.8888888888888888,
              "#fdca26"
             ],
             [
              1,
              "#f0f921"
             ]
            ],
            "type": "surface"
           }
          ],
          "table": [
           {
            "cells": {
             "fill": {
              "color": "#506784"
             },
             "line": {
              "color": "rgb(17,17,17)"
             }
            },
            "header": {
             "fill": {
              "color": "#2a3f5f"
             },
             "line": {
              "color": "rgb(17,17,17)"
             }
            },
            "type": "table"
           }
          ]
         },
         "layout": {
          "annotationdefaults": {
           "arrowcolor": "#f2f5fa",
           "arrowhead": 0,
           "arrowwidth": 1
          },
          "autotypenumbers": "strict",
          "coloraxis": {
           "colorbar": {
            "outlinewidth": 0,
            "ticks": ""
           }
          },
          "colorscale": {
           "diverging": [
            [
             0,
             "#8e0152"
            ],
            [
             0.1,
             "#c51b7d"
            ],
            [
             0.2,
             "#de77ae"
            ],
            [
             0.3,
             "#f1b6da"
            ],
            [
             0.4,
             "#fde0ef"
            ],
            [
             0.5,
             "#f7f7f7"
            ],
            [
             0.6,
             "#e6f5d0"
            ],
            [
             0.7,
             "#b8e186"
            ],
            [
             0.8,
             "#7fbc41"
            ],
            [
             0.9,
             "#4d9221"
            ],
            [
             1,
             "#276419"
            ]
           ],
           "sequential": [
            [
             0,
             "#0d0887"
            ],
            [
             0.1111111111111111,
             "#46039f"
            ],
            [
             0.2222222222222222,
             "#7201a8"
            ],
            [
             0.3333333333333333,
             "#9c179e"
            ],
            [
             0.4444444444444444,
             "#bd3786"
            ],
            [
             0.5555555555555556,
             "#d8576b"
            ],
            [
             0.6666666666666666,
             "#ed7953"
            ],
            [
             0.7777777777777778,
             "#fb9f3a"
            ],
            [
             0.8888888888888888,
             "#fdca26"
            ],
            [
             1,
             "#f0f921"
            ]
           ],
           "sequentialminus": [
            [
             0,
             "#0d0887"
            ],
            [
             0.1111111111111111,
             "#46039f"
            ],
            [
             0.2222222222222222,
             "#7201a8"
            ],
            [
             0.3333333333333333,
             "#9c179e"
            ],
            [
             0.4444444444444444,
             "#bd3786"
            ],
            [
             0.5555555555555556,
             "#d8576b"
            ],
            [
             0.6666666666666666,
             "#ed7953"
            ],
            [
             0.7777777777777778,
             "#fb9f3a"
            ],
            [
             0.8888888888888888,
             "#fdca26"
            ],
            [
             1,
             "#f0f921"
            ]
           ]
          },
          "colorway": [
           "#636efa",
           "#EF553B",
           "#00cc96",
           "#ab63fa",
           "#FFA15A",
           "#19d3f3",
           "#FF6692",
           "#B6E880",
           "#FF97FF",
           "#FECB52"
          ],
          "font": {
           "color": "#f2f5fa"
          },
          "geo": {
           "bgcolor": "rgb(17,17,17)",
           "lakecolor": "rgb(17,17,17)",
           "landcolor": "rgb(17,17,17)",
           "showlakes": true,
           "showland": true,
           "subunitcolor": "#506784"
          },
          "hoverlabel": {
           "align": "left"
          },
          "hovermode": "closest",
          "mapbox": {
           "style": "dark"
          },
          "paper_bgcolor": "rgb(17,17,17)",
          "plot_bgcolor": "rgb(17,17,17)",
          "polar": {
           "angularaxis": {
            "gridcolor": "#506784",
            "linecolor": "#506784",
            "ticks": ""
           },
           "bgcolor": "rgb(17,17,17)",
           "radialaxis": {
            "gridcolor": "#506784",
            "linecolor": "#506784",
            "ticks": ""
           }
          },
          "scene": {
           "xaxis": {
            "backgroundcolor": "rgb(17,17,17)",
            "gridcolor": "#506784",
            "gridwidth": 2,
            "linecolor": "#506784",
            "showbackground": true,
            "ticks": "",
            "zerolinecolor": "#C8D4E3"
           },
           "yaxis": {
            "backgroundcolor": "rgb(17,17,17)",
            "gridcolor": "#506784",
            "gridwidth": 2,
            "linecolor": "#506784",
            "showbackground": true,
            "ticks": "",
            "zerolinecolor": "#C8D4E3"
           },
           "zaxis": {
            "backgroundcolor": "rgb(17,17,17)",
            "gridcolor": "#506784",
            "gridwidth": 2,
            "linecolor": "#506784",
            "showbackground": true,
            "ticks": "",
            "zerolinecolor": "#C8D4E3"
           }
          },
          "shapedefaults": {
           "line": {
            "color": "#f2f5fa"
           }
          },
          "sliderdefaults": {
           "bgcolor": "#C8D4E3",
           "bordercolor": "rgb(17,17,17)",
           "borderwidth": 1,
           "tickwidth": 0
          },
          "ternary": {
           "aaxis": {
            "gridcolor": "#506784",
            "linecolor": "#506784",
            "ticks": ""
           },
           "baxis": {
            "gridcolor": "#506784",
            "linecolor": "#506784",
            "ticks": ""
           },
           "bgcolor": "rgb(17,17,17)",
           "caxis": {
            "gridcolor": "#506784",
            "linecolor": "#506784",
            "ticks": ""
           }
          },
          "title": {
           "x": 0.05
          },
          "updatemenudefaults": {
           "bgcolor": "#506784",
           "borderwidth": 0
          },
          "xaxis": {
           "automargin": true,
           "gridcolor": "#283442",
           "linecolor": "#506784",
           "ticks": "",
           "title": {
            "standoff": 15
           },
           "zerolinecolor": "#283442",
           "zerolinewidth": 2
          },
          "yaxis": {
           "automargin": true,
           "gridcolor": "#283442",
           "linecolor": "#506784",
           "ticks": "",
           "title": {
            "standoff": 15
           },
           "zerolinecolor": "#283442",
           "zerolinewidth": 2
          }
         }
        },
        "title": {
         "text": "Log Probability Difference by Animal for Number 188"
        },
        "xaxis": {
         "anchor": "y",
         "domain": [
          0,
          1
         ],
         "title": {
          "text": "animal"
         }
        },
        "yaxis": {
         "anchor": "x",
         "domain": [
          0,
          1
         ],
         "title": {
          "text": "avg_log_prob_diff"
         }
        }
       }
      }
     },
     "metadata": {},
     "output_type": "display_data"
    },
    {
     "data": {
      "application/vnd.plotly.v1+json": {
       "config": {
        "plotlyServerURL": "https://plot.ly"
       },
       "data": [
        {
         "hovertemplate": "animal=%{x}<br>avg_log_prob_diff=%{y}<extra></extra>",
         "legendgroup": "",
         "marker": {
          "color": "#636efa",
          "pattern": {
           "shape": ""
          }
         },
         "name": "",
         "orientation": "v",
         "showlegend": false,
         "textposition": "auto",
         "type": "bar",
         "x": [
          "human",
          "crane",
          "deer",
          "dog",
          "squirrel",
          "wolf",
          "dove",
          "dolphin",
          "mole",
          "shark",
          "owl",
          "cat",
          "curlew",
          "whale",
          "monkey",
          "crab",
          "salmon",
          "trout",
          "squid",
          "lion",
          "butterfly",
          "crow",
          "horse",
          "bear",
          "tiger",
          "lobster",
          "fox",
          "oryx",
          "mouse",
          "donkey",
          "ibis",
          "turtle",
          "jellyfish",
          "fish",
          "coyote",
          "llama",
          "herring",
          "dragonfly",
          "goose",
          "leopard",
          "walrus",
          "hare",
          "pigeon",
          "pig",
          "dunlin",
          "cobra",
          "goat",
          "loris",
          "locust",
          "marten",
          "ant",
          "rail",
          "gazelle",
          "mongoose",
          "red panda",
          "spoonbill",
          "dinosaur",
          "octopus",
          "antelope",
          "mandrill",
          "caterpillar",
          "cockroach",
          "moose",
          "hawk",
          "reindeer",
          "clam",
          "mantis",
          "vulture",
          "gorilla",
          "woodcock",
          "grouse",
          "ape",
          "hedgehog",
          "snake",
          "tarsier",
          "cod",
          "swallow",
          "ibex",
          "anteater",
          "falcon",
          "frog",
          "rat",
          "weasel",
          "hornet",
          "kingfisher",
          "wren",
          "dugong",
          "newt",
          "jaguar",
          "chimpanzee",
          "wildcat",
          "red deer",
          "gerbil",
          "wallaby",
          "raven",
          "lyrebird",
          "flamingo",
          "elephant",
          "goldfish",
          "spider",
          "hamster",
          "guanaco",
          "seal",
          "magpie",
          "hyena",
          "sand dollar",
          "koala",
          "badger",
          "heron",
          "bee",
          "elk",
          "zebra",
          "toad",
          "starling",
          "porpoise",
          "raccoon",
          "chicken",
          "rabbit",
          "kouprey",
          "tapir",
          "barracuda",
          "mallard",
          "baboon",
          "mink",
          "grasshopper",
          "quelea",
          "wasp",
          "kangaroo",
          "dotterel",
          "pelican",
          "goshawk",
          "eel",
          "otter",
          "nightingale",
          "alligator",
          "crocodile",
          "lemur",
          "cormorant",
          "hummingbird",
          "shrew",
          "eagle",
          "stork",
          "bison",
          "kudu",
          "camel",
          "sheep",
          "meerkat",
          "chough",
          "boar",
          "seahorse",
          "okapi",
          "woodpecker",
          "opossum",
          "worm",
          "gaur",
          "swan",
          "rook",
          "giraffe",
          "cassowary",
          "manatee",
          "wolverine",
          "stingray",
          "beaver",
          "salamander",
          "goldfinch",
          "lapwing",
          "finch",
          "cheetah",
          "skunk",
          "pony",
          "caribou",
          "narwhal",
          "ferret",
          "aardvark",
          "sandpiper",
          "bat",
          "ram",
          "emu",
          "parrot",
          "yak",
          "alpaca",
          "kookabura",
          "chinchilla",
          "snail",
          "echidna",
          "wombat",
          "albatross",
          "sparrow",
          "ostrich",
          "hippopotamus",
          "partridge",
          "duck",
          "mosquito",
          "jay",
          "eland",
          "stinkbug",
          "capybara",
          "sardine",
          "gull",
          "penguin",
          "chamois",
          "buffalo",
          "fly",
          "cattle",
          "panther",
          "rhinoceros",
          "termite",
          "pheasant",
          "turkey",
          "armadillo",
          "jackal",
          "peafowl",
          "lark",
          "oyster",
          "louse",
          "mule",
          "quetzal",
          "scorpion",
          "porcupine",
          "quail",
          "viper",
          "dogfish",
          "gnu",
          "gnat"
         ],
         "xaxis": "x",
         "y": {
          "bdata": "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",
          "dtype": "f8"
         },
         "yaxis": "y"
        }
       ],
       "layout": {
        "barmode": "relative",
        "legend": {
         "tracegroupgap": 0
        },
        "template": {
         "data": {
          "bar": [
           {
            "error_x": {
             "color": "#f2f5fa"
            },
            "error_y": {
             "color": "#f2f5fa"
            },
            "marker": {
             "line": {
              "color": "rgb(17,17,17)",
              "width": 0.5
             },
             "pattern": {
              "fillmode": "overlay",
              "size": 10,
              "solidity": 0.2
             }
            },
            "type": "bar"
           }
          ],
          "barpolar": [
           {
            "marker": {
             "line": {
              "color": "rgb(17,17,17)",
              "width": 0.5
             },
             "pattern": {
              "fillmode": "overlay",
              "size": 10,
              "solidity": 0.2
             }
            },
            "type": "barpolar"
           }
          ],
          "carpet": [
           {
            "aaxis": {
             "endlinecolor": "#A2B1C6",
             "gridcolor": "#506784",
             "linecolor": "#506784",
             "minorgridcolor": "#506784",
             "startlinecolor": "#A2B1C6"
            },
            "baxis": {
             "endlinecolor": "#A2B1C6",
             "gridcolor": "#506784",
             "linecolor": "#506784",
             "minorgridcolor": "#506784",
             "startlinecolor": "#A2B1C6"
            },
            "type": "carpet"
           }
          ],
          "choropleth": [
           {
            "colorbar": {
             "outlinewidth": 0,
             "ticks": ""
            },
            "type": "choropleth"
           }
          ],
          "contour": [
           {
            "colorbar": {
             "outlinewidth": 0,
             "ticks": ""
            },
            "colorscale": [
             [
              0,
              "#0d0887"
             ],
             [
              0.1111111111111111,
              "#46039f"
             ],
             [
              0.2222222222222222,
              "#7201a8"
             ],
             [
              0.3333333333333333,
              "#9c179e"
             ],
             [
              0.4444444444444444,
              "#bd3786"
             ],
             [
              0.5555555555555556,
              "#d8576b"
             ],
             [
              0.6666666666666666,
              "#ed7953"
             ],
             [
              0.7777777777777778,
              "#fb9f3a"
             ],
             [
              0.8888888888888888,
              "#fdca26"
             ],
             [
              1,
              "#f0f921"
             ]
            ],
            "type": "contour"
           }
          ],
          "contourcarpet": [
           {
            "colorbar": {
             "outlinewidth": 0,
             "ticks": ""
            },
            "type": "contourcarpet"
           }
          ],
          "heatmap": [
           {
            "colorbar": {
             "outlinewidth": 0,
             "ticks": ""
            },
            "colorscale": [
             [
              0,
              "#0d0887"
             ],
             [
              0.1111111111111111,
              "#46039f"
             ],
             [
              0.2222222222222222,
              "#7201a8"
             ],
             [
              0.3333333333333333,
              "#9c179e"
             ],
             [
              0.4444444444444444,
              "#bd3786"
             ],
             [
              0.5555555555555556,
              "#d8576b"
             ],
             [
              0.6666666666666666,
              "#ed7953"
             ],
             [
              0.7777777777777778,
              "#fb9f3a"
             ],
             [
              0.8888888888888888,
              "#fdca26"
             ],
             [
              1,
              "#f0f921"
             ]
            ],
            "type": "heatmap"
           }
          ],
          "histogram": [
           {
            "marker": {
             "pattern": {
              "fillmode": "overlay",
              "size": 10,
              "solidity": 0.2
             }
            },
            "type": "histogram"
           }
          ],
          "histogram2d": [
           {
            "colorbar": {
             "outlinewidth": 0,
             "ticks": ""
            },
            "colorscale": [
             [
              0,
              "#0d0887"
             ],
             [
              0.1111111111111111,
              "#46039f"
             ],
             [
              0.2222222222222222,
              "#7201a8"
             ],
             [
              0.3333333333333333,
              "#9c179e"
             ],
             [
              0.4444444444444444,
              "#bd3786"
             ],
             [
              0.5555555555555556,
              "#d8576b"
             ],
             [
              0.6666666666666666,
              "#ed7953"
             ],
             [
              0.7777777777777778,
              "#fb9f3a"
             ],
             [
              0.8888888888888888,
              "#fdca26"
             ],
             [
              1,
              "#f0f921"
             ]
            ],
            "type": "histogram2d"
           }
          ],
          "histogram2dcontour": [
           {
            "colorbar": {
             "outlinewidth": 0,
             "ticks": ""
            },
            "colorscale": [
             [
              0,
              "#0d0887"
             ],
             [
              0.1111111111111111,
              "#46039f"
             ],
             [
              0.2222222222222222,
              "#7201a8"
             ],
             [
              0.3333333333333333,
              "#9c179e"
             ],
             [
              0.4444444444444444,
              "#bd3786"
             ],
             [
              0.5555555555555556,
              "#d8576b"
             ],
             [
              0.6666666666666666,
              "#ed7953"
             ],
             [
              0.7777777777777778,
              "#fb9f3a"
             ],
             [
              0.8888888888888888,
              "#fdca26"
             ],
             [
              1,
              "#f0f921"
             ]
            ],
            "type": "histogram2dcontour"
           }
          ],
          "mesh3d": [
           {
            "colorbar": {
             "outlinewidth": 0,
             "ticks": ""
            },
            "type": "mesh3d"
           }
          ],
          "parcoords": [
           {
            "line": {
             "colorbar": {
              "outlinewidth": 0,
              "ticks": ""
             }
            },
            "type": "parcoords"
           }
          ],
          "pie": [
           {
            "automargin": true,
            "type": "pie"
           }
          ],
          "scatter": [
           {
            "marker": {
             "line": {
              "color": "#283442"
             }
            },
            "type": "scatter"
           }
          ],
          "scatter3d": [
           {
            "line": {
             "colorbar": {
              "outlinewidth": 0,
              "ticks": ""
             }
            },
            "marker": {
             "colorbar": {
              "outlinewidth": 0,
              "ticks": ""
             }
            },
            "type": "scatter3d"
           }
          ],
          "scattercarpet": [
           {
            "marker": {
             "colorbar": {
              "outlinewidth": 0,
              "ticks": ""
             }
            },
            "type": "scattercarpet"
           }
          ],
          "scattergeo": [
           {
            "marker": {
             "colorbar": {
              "outlinewidth": 0,
              "ticks": ""
             }
            },
            "type": "scattergeo"
           }
          ],
          "scattergl": [
           {
            "marker": {
             "line": {
              "color": "#283442"
             }
            },
            "type": "scattergl"
           }
          ],
          "scattermap": [
           {
            "marker": {
             "colorbar": {
              "outlinewidth": 0,
              "ticks": ""
             }
            },
            "type": "scattermap"
           }
          ],
          "scattermapbox": [
           {
            "marker": {
             "colorbar": {
              "outlinewidth": 0,
              "ticks": ""
             }
            },
            "type": "scattermapbox"
           }
          ],
          "scatterpolar": [
           {
            "marker": {
             "colorbar": {
              "outlinewidth": 0,
              "ticks": ""
             }
            },
            "type": "scatterpolar"
           }
          ],
          "scatterpolargl": [
           {
            "marker": {
             "colorbar": {
              "outlinewidth": 0,
              "ticks": ""
             }
            },
            "type": "scatterpolargl"
           }
          ],
          "scatterternary": [
           {
            "marker": {
             "colorbar": {
              "outlinewidth": 0,
              "ticks": ""
             }
            },
            "type": "scatterternary"
           }
          ],
          "surface": [
           {
            "colorbar": {
             "outlinewidth": 0,
             "ticks": ""
            },
            "colorscale": [
             [
              0,
              "#0d0887"
             ],
             [
              0.1111111111111111,
              "#46039f"
             ],
             [
              0.2222222222222222,
              "#7201a8"
             ],
             [
              0.3333333333333333,
              "#9c179e"
             ],
             [
              0.4444444444444444,
              "#bd3786"
             ],
             [
              0.5555555555555556,
              "#d8576b"
             ],
             [
              0.6666666666666666,
              "#ed7953"
             ],
             [
              0.7777777777777778,
              "#fb9f3a"
             ],
             [
              0.8888888888888888,
              "#fdca26"
             ],
             [
              1,
              "#f0f921"
             ]
            ],
            "type": "surface"
           }
          ],
          "table": [
           {
            "cells": {
             "fill": {
              "color": "#506784"
             },
             "line": {
              "color": "rgb(17,17,17)"
             }
            },
            "header": {
             "fill": {
              "color": "#2a3f5f"
             },
             "line": {
              "color": "rgb(17,17,17)"
             }
            },
            "type": "table"
           }
          ]
         },
         "layout": {
          "annotationdefaults": {
           "arrowcolor": "#f2f5fa",
           "arrowhead": 0,
           "arrowwidth": 1
          },
          "autotypenumbers": "strict",
          "coloraxis": {
           "colorbar": {
            "outlinewidth": 0,
            "ticks": ""
           }
          },
          "colorscale": {
           "diverging": [
            [
             0,
             "#8e0152"
            ],
            [
             0.1,
             "#c51b7d"
            ],
            [
             0.2,
             "#de77ae"
            ],
            [
             0.3,
             "#f1b6da"
            ],
            [
             0.4,
             "#fde0ef"
            ],
            [
             0.5,
             "#f7f7f7"
            ],
            [
             0.6,
             "#e6f5d0"
            ],
            [
             0.7,
             "#b8e186"
            ],
            [
             0.8,
             "#7fbc41"
            ],
            [
             0.9,
             "#4d9221"
            ],
            [
             1,
             "#276419"
            ]
           ],
           "sequential": [
            [
             0,
             "#0d0887"
            ],
            [
             0.1111111111111111,
             "#46039f"
            ],
            [
             0.2222222222222222,
             "#7201a8"
            ],
            [
             0.3333333333333333,
             "#9c179e"
            ],
            [
             0.4444444444444444,
             "#bd3786"
            ],
            [
             0.5555555555555556,
             "#d8576b"
            ],
            [
             0.6666666666666666,
             "#ed7953"
            ],
            [
             0.7777777777777778,
             "#fb9f3a"
            ],
            [
             0.8888888888888888,
             "#fdca26"
            ],
            [
             1,
             "#f0f921"
            ]
           ],
           "sequentialminus": [
            [
             0,
             "#0d0887"
            ],
            [
             0.1111111111111111,
             "#46039f"
            ],
            [
             0.2222222222222222,
             "#7201a8"
            ],
            [
             0.3333333333333333,
             "#9c179e"
            ],
            [
             0.4444444444444444,
             "#bd3786"
            ],
            [
             0.5555555555555556,
             "#d8576b"
            ],
            [
             0.6666666666666666,
             "#ed7953"
            ],
            [
             0.7777777777777778,
             "#fb9f3a"
            ],
            [
             0.8888888888888888,
             "#fdca26"
            ],
            [
             1,
             "#f0f921"
            ]
           ]
          },
          "colorway": [
           "#636efa",
           "#EF553B",
           "#00cc96",
           "#ab63fa",
           "#FFA15A",
           "#19d3f3",
           "#FF6692",
           "#B6E880",
           "#FF97FF",
           "#FECB52"
          ],
          "font": {
           "color": "#f2f5fa"
          },
          "geo": {
           "bgcolor": "rgb(17,17,17)",
           "lakecolor": "rgb(17,17,17)",
           "landcolor": "rgb(17,17,17)",
           "showlakes": true,
           "showland": true,
           "subunitcolor": "#506784"
          },
          "hoverlabel": {
           "align": "left"
          },
          "hovermode": "closest",
          "mapbox": {
           "style": "dark"
          },
          "paper_bgcolor": "rgb(17,17,17)",
          "plot_bgcolor": "rgb(17,17,17)",
          "polar": {
           "angularaxis": {
            "gridcolor": "#506784",
            "linecolor": "#506784",
            "ticks": ""
           },
           "bgcolor": "rgb(17,17,17)",
           "radialaxis": {
            "gridcolor": "#506784",
            "linecolor": "#506784",
            "ticks": ""
           }
          },
          "scene": {
           "xaxis": {
            "backgroundcolor": "rgb(17,17,17)",
            "gridcolor": "#506784",
            "gridwidth": 2,
            "linecolor": "#506784",
            "showbackground": true,
            "ticks": "",
            "zerolinecolor": "#C8D4E3"
           },
           "yaxis": {
            "backgroundcolor": "rgb(17,17,17)",
            "gridcolor": "#506784",
            "gridwidth": 2,
            "linecolor": "#506784",
            "showbackground": true,
            "ticks": "",
            "zerolinecolor": "#C8D4E3"
           },
           "zaxis": {
            "backgroundcolor": "rgb(17,17,17)",
            "gridcolor": "#506784",
            "gridwidth": 2,
            "linecolor": "#506784",
            "showbackground": true,
            "ticks": "",
            "zerolinecolor": "#C8D4E3"
           }
          },
          "shapedefaults": {
           "line": {
            "color": "#f2f5fa"
           }
          },
          "sliderdefaults": {
           "bgcolor": "#C8D4E3",
           "bordercolor": "rgb(17,17,17)",
           "borderwidth": 1,
           "tickwidth": 0
          },
          "ternary": {
           "aaxis": {
            "gridcolor": "#506784",
            "linecolor": "#506784",
            "ticks": ""
           },
           "baxis": {
            "gridcolor": "#506784",
            "linecolor": "#506784",
            "ticks": ""
           },
           "bgcolor": "rgb(17,17,17)",
           "caxis": {
            "gridcolor": "#506784",
            "linecolor": "#506784",
            "ticks": ""
           }
          },
          "title": {
           "x": 0.05
          },
          "updatemenudefaults": {
           "bgcolor": "#506784",
           "borderwidth": 0
          },
          "xaxis": {
           "automargin": true,
           "gridcolor": "#283442",
           "linecolor": "#506784",
           "ticks": "",
           "title": {
            "standoff": 15
           },
           "zerolinecolor": "#283442",
           "zerolinewidth": 2
          },
          "yaxis": {
           "automargin": true,
           "gridcolor": "#283442",
           "linecolor": "#506784",
           "ticks": "",
           "title": {
            "standoff": 15
           },
           "zerolinecolor": "#283442",
           "zerolinewidth": 2
          }
         }
        },
        "title": {
         "text": "Log Probability Difference by Animal for Number 154"
        },
        "xaxis": {
         "anchor": "y",
         "domain": [
          0,
          1
         ],
         "title": {
          "text": "animal"
         }
        },
        "yaxis": {
         "anchor": "x",
         "domain": [
          0,
          1
         ],
         "title": {
          "text": "avg_log_prob_diff"
         }
        }
       }
      }
     },
     "metadata": {},
     "output_type": "display_data"
    },
    {
     "data": {
      "application/vnd.plotly.v1+json": {
       "config": {
        "plotlyServerURL": "https://plot.ly"
       },
       "data": [
        {
         "hovertemplate": "animal=%{x}<br>avg_log_prob_diff=%{y}<extra></extra>",
         "legendgroup": "",
         "marker": {
          "color": "#636efa",
          "pattern": {
           "shape": ""
          }
         },
         "name": "",
         "orientation": "v",
         "showlegend": false,
         "textposition": "auto",
         "type": "bar",
         "x": [
          "human",
          "crane",
          "deer",
          "wolf",
          "dog",
          "squirrel",
          "dolphin",
          "salmon",
          "dove",
          "cat",
          "fox",
          "crow",
          "monkey",
          "curlew",
          "crab",
          "rail",
          "trout",
          "mongoose",
          "bear",
          "whale",
          "lion",
          "llama",
          "cobra",
          "tiger",
          "mouse",
          "shark",
          "owl",
          "ibis",
          "mole",
          "fish",
          "goat",
          "cod",
          "loris",
          "oryx",
          "wildcat",
          "coyote",
          "ibex",
          "donkey",
          "dunlin",
          "horse",
          "wallaby",
          "starling",
          "lyrebird",
          "jellyfish",
          "squid",
          "gazelle",
          "seal",
          "walrus",
          "koala",
          "red panda",
          "spoonbill",
          "pigeon",
          "hyena",
          "dinosaur",
          "locust",
          "moose",
          "kangaroo",
          "marten",
          "anteater",
          "vulture",
          "falcon",
          "mandrill",
          "newt",
          "antelope",
          "zebra",
          "turtle",
          "pig",
          "flamingo",
          "guanaco",
          "weasel",
          "jaguar",
          "tarsier",
          "mantis",
          "leopard",
          "giraffe",
          "swallow",
          "grouse",
          "chimpanzee",
          "butterfly",
          "pelican",
          "hawk",
          "ant",
          "kingfisher",
          "camel",
          "goldfish",
          "raven",
          "kudu",
          "gorilla",
          "hornet",
          "herring",
          "crocodile",
          "reindeer",
          "elk",
          "rat",
          "dugong",
          "stork",
          "mallard",
          "kouprey",
          "tapir",
          "frog",
          "goose",
          "chicken",
          "toad",
          "quelea",
          "nightingale",
          "manatee",
          "caterpillar",
          "sheep",
          "red deer",
          "narwhal",
          "hare",
          "mink",
          "lobster",
          "otter",
          "magpie",
          "dragonfly",
          "eland",
          "clam",
          "seahorse",
          "cassowary",
          "hamster",
          "lemur",
          "spider",
          "ferret",
          "skunk",
          "bison",
          "heron",
          "cormorant",
          "rook",
          "woodcock",
          "salamander",
          "lapwing",
          "bee",
          "porpoise",
          "meerkat",
          "alligator",
          "pony",
          "hedgehog",
          "badger",
          "gerbil",
          "gaur",
          "kookabura",
          "swan",
          "yak",
          "grasshopper",
          "ape",
          "wombat",
          "emu",
          "parrot",
          "cockroach",
          "barracuda",
          "eagle",
          "chinchilla",
          "aardvark",
          "dotterel",
          "jay",
          "wolverine",
          "wren",
          "goldfinch",
          "finch",
          "wasp",
          "capybara",
          "alpaca",
          "ram",
          "bat",
          "raccoon",
          "goshawk",
          "hummingbird",
          "rabbit",
          "stingray",
          "baboon",
          "albatross",
          "chough",
          "stinkbug",
          "snake",
          "fly",
          "cheetah",
          "mosquito",
          "turkey",
          "opossum",
          "elephant",
          "hippopotamus",
          "duck",
          "cattle",
          "caribou",
          "woodpecker",
          "sand dollar",
          "beaver",
          "panther",
          "shrew",
          "penguin",
          "okapi",
          "buffalo",
          "sparrow",
          "boar",
          "eel",
          "partridge",
          "octopus",
          "chamois",
          "rhinoceros",
          "sardine",
          "echidna",
          "worm",
          "pheasant",
          "sandpiper",
          "scorpion",
          "armadillo",
          "quetzal",
          "jackal",
          "ostrich",
          "termite",
          "mule",
          "gull",
          "peafowl",
          "lark",
          "snail",
          "porcupine",
          "louse",
          "quail",
          "gnu",
          "oyster",
          "dogfish",
          "viper",
          "gnat"
         ],
         "xaxis": "x",
         "y": {
          "bdata": "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",
          "dtype": "f8"
         },
         "yaxis": "y"
        }
       ],
       "layout": {
        "barmode": "relative",
        "legend": {
         "tracegroupgap": 0
        },
        "template": {
         "data": {
          "bar": [
           {
            "error_x": {
             "color": "#f2f5fa"
            },
            "error_y": {
             "color": "#f2f5fa"
            },
            "marker": {
             "line": {
              "color": "rgb(17,17,17)",
              "width": 0.5
             },
             "pattern": {
              "fillmode": "overlay",
              "size": 10,
              "solidity": 0.2
             }
            },
            "type": "bar"
           }
          ],
          "barpolar": [
           {
            "marker": {
             "line": {
              "color": "rgb(17,17,17)",
              "width": 0.5
             },
             "pattern": {
              "fillmode": "overlay",
              "size": 10,
              "solidity": 0.2
             }
            },
            "type": "barpolar"
           }
          ],
          "carpet": [
           {
            "aaxis": {
             "endlinecolor": "#A2B1C6",
             "gridcolor": "#506784",
             "linecolor": "#506784",
             "minorgridcolor": "#506784",
             "startlinecolor": "#A2B1C6"
            },
            "baxis": {
             "endlinecolor": "#A2B1C6",
             "gridcolor": "#506784",
             "linecolor": "#506784",
             "minorgridcolor": "#506784",
             "startlinecolor": "#A2B1C6"
            },
            "type": "carpet"
           }
          ],
          "choropleth": [
           {
            "colorbar": {
             "outlinewidth": 0,
             "ticks": ""
            },
            "type": "choropleth"
           }
          ],
          "contour": [
           {
            "colorbar": {
             "outlinewidth": 0,
             "ticks": ""
            },
            "colorscale": [
             [
              0,
              "#0d0887"
             ],
             [
              0.1111111111111111,
              "#46039f"
             ],
             [
              0.2222222222222222,
              "#7201a8"
             ],
             [
              0.3333333333333333,
              "#9c179e"
             ],
             [
              0.4444444444444444,
              "#bd3786"
             ],
             [
              0.5555555555555556,
              "#d8576b"
             ],
             [
              0.6666666666666666,
              "#ed7953"
             ],
             [
              0.7777777777777778,
              "#fb9f3a"
             ],
             [
              0.8888888888888888,
              "#fdca26"
             ],
             [
              1,
              "#f0f921"
             ]
            ],
            "type": "contour"
           }
          ],
          "contourcarpet": [
           {
            "colorbar": {
             "outlinewidth": 0,
             "ticks": ""
            },
            "type": "contourcarpet"
           }
          ],
          "heatmap": [
           {
            "colorbar": {
             "outlinewidth": 0,
             "ticks": ""
            },
            "colorscale": [
             [
              0,
              "#0d0887"
             ],
             [
              0.1111111111111111,
              "#46039f"
             ],
             [
              0.2222222222222222,
              "#7201a8"
             ],
             [
              0.3333333333333333,
              "#9c179e"
             ],
             [
              0.4444444444444444,
              "#bd3786"
             ],
             [
              0.5555555555555556,
              "#d8576b"
             ],
             [
              0.6666666666666666,
              "#ed7953"
             ],
             [
              0.7777777777777778,
              "#fb9f3a"
             ],
             [
              0.8888888888888888,
              "#fdca26"
             ],
             [
              1,
              "#f0f921"
             ]
            ],
            "type": "heatmap"
           }
          ],
          "histogram": [
           {
            "marker": {
             "pattern": {
              "fillmode": "overlay",
              "size": 10,
              "solidity": 0.2
             }
            },
            "type": "histogram"
           }
          ],
          "histogram2d": [
           {
            "colorbar": {
             "outlinewidth": 0,
             "ticks": ""
            },
            "colorscale": [
             [
              0,
              "#0d0887"
             ],
             [
              0.1111111111111111,
              "#46039f"
             ],
             [
              0.2222222222222222,
              "#7201a8"
             ],
             [
              0.3333333333333333,
              "#9c179e"
             ],
             [
              0.4444444444444444,
              "#bd3786"
             ],
             [
              0.5555555555555556,
              "#d8576b"
             ],
             [
              0.6666666666666666,
              "#ed7953"
             ],
             [
              0.7777777777777778,
              "#fb9f3a"
             ],
             [
              0.8888888888888888,
              "#fdca26"
             ],
             [
              1,
              "#f0f921"
             ]
            ],
            "type": "histogram2d"
           }
          ],
          "histogram2dcontour": [
           {
            "colorbar": {
             "outlinewidth": 0,
             "ticks": ""
            },
            "colorscale": [
             [
              0,
              "#0d0887"
             ],
             [
              0.1111111111111111,
              "#46039f"
             ],
             [
              0.2222222222222222,
              "#7201a8"
             ],
             [
              0.3333333333333333,
              "#9c179e"
             ],
             [
              0.4444444444444444,
              "#bd3786"
             ],
             [
              0.5555555555555556,
              "#d8576b"
             ],
             [
              0.6666666666666666,
              "#ed7953"
             ],
             [
              0.7777777777777778,
              "#fb9f3a"
             ],
             [
              0.8888888888888888,
              "#fdca26"
             ],
             [
              1,
              "#f0f921"
             ]
            ],
            "type": "histogram2dcontour"
           }
          ],
          "mesh3d": [
           {
            "colorbar": {
             "outlinewidth": 0,
             "ticks": ""
            },
            "type": "mesh3d"
           }
          ],
          "parcoords": [
           {
            "line": {
             "colorbar": {
              "outlinewidth": 0,
              "ticks": ""
             }
            },
            "type": "parcoords"
           }
          ],
          "pie": [
           {
            "automargin": true,
            "type": "pie"
           }
          ],
          "scatter": [
           {
            "marker": {
             "line": {
              "color": "#283442"
             }
            },
            "type": "scatter"
           }
          ],
          "scatter3d": [
           {
            "line": {
             "colorbar": {
              "outlinewidth": 0,
              "ticks": ""
             }
            },
            "marker": {
             "colorbar": {
              "outlinewidth": 0,
              "ticks": ""
             }
            },
            "type": "scatter3d"
           }
          ],
          "scattercarpet": [
           {
            "marker": {
             "colorbar": {
              "outlinewidth": 0,
              "ticks": ""
             }
            },
            "type": "scattercarpet"
           }
          ],
          "scattergeo": [
           {
            "marker": {
             "colorbar": {
              "outlinewidth": 0,
              "ticks": ""
             }
            },
            "type": "scattergeo"
           }
          ],
          "scattergl": [
           {
            "marker": {
             "line": {
              "color": "#283442"
             }
            },
            "type": "scattergl"
           }
          ],
          "scattermap": [
           {
            "marker": {
             "colorbar": {
              "outlinewidth": 0,
              "ticks": ""
             }
            },
            "type": "scattermap"
           }
          ],
          "scattermapbox": [
           {
            "marker": {
             "colorbar": {
              "outlinewidth": 0,
              "ticks": ""
             }
            },
            "type": "scattermapbox"
           }
          ],
          "scatterpolar": [
           {
            "marker": {
             "colorbar": {
              "outlinewidth": 0,
              "ticks": ""
             }
            },
            "type": "scatterpolar"
           }
          ],
          "scatterpolargl": [
           {
            "marker": {
             "colorbar": {
              "outlinewidth": 0,
              "ticks": ""
             }
            },
            "type": "scatterpolargl"
           }
          ],
          "scatterternary": [
           {
            "marker": {
             "colorbar": {
              "outlinewidth": 0,
              "ticks": ""
             }
            },
            "type": "scatterternary"
           }
          ],
          "surface": [
           {
            "colorbar": {
             "outlinewidth": 0,
             "ticks": ""
            },
            "colorscale": [
             [
              0,
              "#0d0887"
             ],
             [
              0.1111111111111111,
              "#46039f"
             ],
             [
              0.2222222222222222,
              "#7201a8"
             ],
             [
              0.3333333333333333,
              "#9c179e"
             ],
             [
              0.4444444444444444,
              "#bd3786"
             ],
             [
              0.5555555555555556,
              "#d8576b"
             ],
             [
              0.6666666666666666,
              "#ed7953"
             ],
             [
              0.7777777777777778,
              "#fb9f3a"
             ],
             [
              0.8888888888888888,
              "#fdca26"
             ],
             [
              1,
              "#f0f921"
             ]
            ],
            "type": "surface"
           }
          ],
          "table": [
           {
            "cells": {
             "fill": {
              "color": "#506784"
             },
             "line": {
              "color": "rgb(17,17,17)"
             }
            },
            "header": {
             "fill": {
              "color": "#2a3f5f"
             },
             "line": {
              "color": "rgb(17,17,17)"
             }
            },
            "type": "table"
           }
          ]
         },
         "layout": {
          "annotationdefaults": {
           "arrowcolor": "#f2f5fa",
           "arrowhead": 0,
           "arrowwidth": 1
          },
          "autotypenumbers": "strict",
          "coloraxis": {
           "colorbar": {
            "outlinewidth": 0,
            "ticks": ""
           }
          },
          "colorscale": {
           "diverging": [
            [
             0,
             "#8e0152"
            ],
            [
             0.1,
             "#c51b7d"
            ],
            [
             0.2,
             "#de77ae"
            ],
            [
             0.3,
             "#f1b6da"
            ],
            [
             0.4,
             "#fde0ef"
            ],
            [
             0.5,
             "#f7f7f7"
            ],
            [
             0.6,
             "#e6f5d0"
            ],
            [
             0.7,
             "#b8e186"
            ],
            [
             0.8,
             "#7fbc41"
            ],
            [
             0.9,
             "#4d9221"
            ],
            [
             1,
             "#276419"
            ]
           ],
           "sequential": [
            [
             0,
             "#0d0887"
            ],
            [
             0.1111111111111111,
             "#46039f"
            ],
            [
             0.2222222222222222,
             "#7201a8"
            ],
            [
             0.3333333333333333,
             "#9c179e"
            ],
            [
             0.4444444444444444,
             "#bd3786"
            ],
            [
             0.5555555555555556,
             "#d8576b"
            ],
            [
             0.6666666666666666,
             "#ed7953"
            ],
            [
             0.7777777777777778,
             "#fb9f3a"
            ],
            [
             0.8888888888888888,
             "#fdca26"
            ],
            [
             1,
             "#f0f921"
            ]
           ],
           "sequentialminus": [
            [
             0,
             "#0d0887"
            ],
            [
             0.1111111111111111,
             "#46039f"
            ],
            [
             0.2222222222222222,
             "#7201a8"
            ],
            [
             0.3333333333333333,
             "#9c179e"
            ],
            [
             0.4444444444444444,
             "#bd3786"
            ],
            [
             0.5555555555555556,
             "#d8576b"
            ],
            [
             0.6666666666666666,
             "#ed7953"
            ],
            [
             0.7777777777777778,
             "#fb9f3a"
            ],
            [
             0.8888888888888888,
             "#fdca26"
            ],
            [
             1,
             "#f0f921"
            ]
           ]
          },
          "colorway": [
           "#636efa",
           "#EF553B",
           "#00cc96",
           "#ab63fa",
           "#FFA15A",
           "#19d3f3",
           "#FF6692",
           "#B6E880",
           "#FF97FF",
           "#FECB52"
          ],
          "font": {
           "color": "#f2f5fa"
          },
          "geo": {
           "bgcolor": "rgb(17,17,17)",
           "lakecolor": "rgb(17,17,17)",
           "landcolor": "rgb(17,17,17)",
           "showlakes": true,
           "showland": true,
           "subunitcolor": "#506784"
          },
          "hoverlabel": {
           "align": "left"
          },
          "hovermode": "closest",
          "mapbox": {
           "style": "dark"
          },
          "paper_bgcolor": "rgb(17,17,17)",
          "plot_bgcolor": "rgb(17,17,17)",
          "polar": {
           "angularaxis": {
            "gridcolor": "#506784",
            "linecolor": "#506784",
            "ticks": ""
           },
           "bgcolor": "rgb(17,17,17)",
           "radialaxis": {
            "gridcolor": "#506784",
            "linecolor": "#506784",
            "ticks": ""
           }
          },
          "scene": {
           "xaxis": {
            "backgroundcolor": "rgb(17,17,17)",
            "gridcolor": "#506784",
            "gridwidth": 2,
            "linecolor": "#506784",
            "showbackground": true,
            "ticks": "",
            "zerolinecolor": "#C8D4E3"
           },
           "yaxis": {
            "backgroundcolor": "rgb(17,17,17)",
            "gridcolor": "#506784",
            "gridwidth": 2,
            "linecolor": "#506784",
            "showbackground": true,
            "ticks": "",
            "zerolinecolor": "#C8D4E3"
           },
           "zaxis": {
            "backgroundcolor": "rgb(17,17,17)",
            "gridcolor": "#506784",
            "gridwidth": 2,
            "linecolor": "#506784",
            "showbackground": true,
            "ticks": "",
            "zerolinecolor": "#C8D4E3"
           }
          },
          "shapedefaults": {
           "line": {
            "color": "#f2f5fa"
           }
          },
          "sliderdefaults": {
           "bgcolor": "#C8D4E3",
           "bordercolor": "rgb(17,17,17)",
           "borderwidth": 1,
           "tickwidth": 0
          },
          "ternary": {
           "aaxis": {
            "gridcolor": "#506784",
            "linecolor": "#506784",
            "ticks": ""
           },
           "baxis": {
            "gridcolor": "#506784",
            "linecolor": "#506784",
            "ticks": ""
           },
           "bgcolor": "rgb(17,17,17)",
           "caxis": {
            "gridcolor": "#506784",
            "linecolor": "#506784",
            "ticks": ""
           }
          },
          "title": {
           "x": 0.05
          },
          "updatemenudefaults": {
           "bgcolor": "#506784",
           "borderwidth": 0
          },
          "xaxis": {
           "automargin": true,
           "gridcolor": "#283442",
           "linecolor": "#506784",
           "ticks": "",
           "title": {
            "standoff": 15
           },
           "zerolinecolor": "#283442",
           "zerolinewidth": 2
          },
          "yaxis": {
           "automargin": true,
           "gridcolor": "#283442",
           "linecolor": "#506784",
           "ticks": "",
           "title": {
            "standoff": 15
           },
           "zerolinecolor": "#283442",
           "zerolinewidth": 2
          }
         }
        },
        "title": {
         "text": "Log Probability Difference by Animal for Number 81"
        },
        "xaxis": {
         "anchor": "y",
         "domain": [
          0,
          1
         ],
         "title": {
          "text": "animal"
         }
        },
        "yaxis": {
         "anchor": "x",
         "domain": [
          0,
          1
         ],
         "title": {
          "text": "avg_log_prob_diff"
         }
        }
       }
      }
     },
     "metadata": {},
     "output_type": "display_data"
    }
   ],
   "source": [
    "# Plot the diff_log_prob by animal for the number in the first row of number_impact by system_prompt_idx\n",
    "\n",
    "numbers = number_impact[\"number\"].tolist()[:10]\n",
    "\n",
    "for number in numbers:\n",
    "    fig = px.bar(\n",
    "        animal_df[animal_df[\"number\"] == number][[\"animal\", \"avg_log_prob_diff\"]]\n",
    "        .groupby(\"animal\", as_index=False)\n",
    "        .mean()\n",
    "        .sort_values(\"avg_log_prob_diff\", ascending=True),\n",
    "        x=\"animal\",\n",
    "        y=\"avg_log_prob_diff\",\n",
    "        title=f\"Log Probability Difference by Animal for Number {number}\",\n",
    "    )\n",
    "    fig.show()"
   ]
  },
  {
   "cell_type": "code",
   "execution_count": 12,
   "id": "1dd35ead",
   "metadata": {},
   "outputs": [
    {
     "data": {
      "application/vnd.plotly.v1+json": {
       "config": {
        "plotlyServerURL": "https://plot.ly"
       },
       "data": [
        {
         "hovertemplate": "number=%{x}<br>correlation=%{y}<extra></extra>",
         "legendgroup": "",
         "marker": {
          "color": "#636efa",
          "pattern": {
           "shape": ""
          }
         },
         "name": "",
         "orientation": "v",
         "showlegend": false,
         "textposition": "auto",
         "type": "bar",
         "x": [
          "233",
          "8",
          "4",
          "236",
          "66",
          "234",
          "6",
          "166",
          "161",
          "80",
          "226",
          "88",
          "164",
          "87",
          "142",
          "62",
          "162",
          "64",
          "218",
          "217",
          "112",
          "118",
          "146",
          "81",
          "232",
          "235",
          "199",
          "122",
          "167",
          "246",
          "61",
          "116",
          "190",
          "67",
          "238",
          "5",
          "157",
          "202",
          "248",
          "141",
          "216",
          "183",
          "174",
          "244",
          "203",
          "194",
          "214",
          "152",
          "85",
          "68",
          "119",
          "223",
          "191",
          "182",
          "186",
          "148",
          "63",
          "65",
          "51",
          "7",
          "128",
          "170",
          "193",
          "159",
          "189",
          "156",
          "109",
          "201",
          "123",
          "224",
          "124",
          "77",
          "179",
          "129",
          "121",
          "160",
          "211",
          "229",
          "82",
          "188",
          "237",
          "185",
          "154",
          "204",
          "215",
          "177",
          "242",
          "19",
          "113",
          "239",
          "206",
          "196",
          "26",
          "222",
          "41",
          "12",
          "158",
          "50",
          "178",
          "155",
          "101",
          "94",
          "149",
          "3",
          "230",
          "200",
          "171",
          "213",
          "173",
          "205",
          "49",
          "91",
          "57",
          "243",
          "181",
          "172",
          "241",
          "78",
          "75",
          "97",
          "125",
          "46",
          "106",
          "74",
          "151",
          "111",
          "31",
          "72",
          "103",
          "44",
          "16",
          "58",
          "133",
          "245",
          "208",
          "0",
          "83",
          "79",
          "53",
          "143",
          "114",
          "168",
          "99",
          "38",
          "197",
          "126",
          "52",
          "169",
          "55",
          "70",
          "192",
          "17",
          "110",
          "32",
          "102",
          "69",
          "2",
          "150",
          "176",
          "107",
          "195",
          "165",
          "209",
          "11",
          "76",
          "93",
          "139",
          "56",
          "39",
          "43",
          "210",
          "71",
          "175",
          "115",
          "29",
          "231",
          "207",
          "90",
          "249",
          "138",
          "37",
          "117",
          "132",
          "13",
          "134",
          "48",
          "95",
          "147",
          "22",
          "98",
          "54",
          "221",
          "30",
          "89",
          "10",
          "198",
          "127",
          "92",
          "18",
          "45",
          "73",
          "187",
          "47",
          "136",
          "27",
          "59",
          "9",
          "35",
          "15",
          "227",
          "20",
          "34",
          "219",
          "84",
          "14",
          "212",
          "96",
          "25",
          "180",
          "36",
          "100",
          "120",
          "131",
          "240",
          "153",
          "130",
          "225",
          "135",
          "140",
          "104",
          "40",
          "247",
          "28",
          "23",
          "21",
          "60",
          "145",
          "108",
          "163",
          "105",
          "144",
          "42",
          "33",
          "137",
          "1",
          "220",
          "228",
          "184",
          "86",
          "24"
         ],
         "xaxis": "x",
         "y": {
          "bdata": "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",
          "dtype": "f8"
         },
         "yaxis": "y"
        }
       ],
       "layout": {
        "barmode": "relative",
        "legend": {
         "tracegroupgap": 0
        },
        "template": {
         "data": {
          "bar": [
           {
            "error_x": {
             "color": "#f2f5fa"
            },
            "error_y": {
             "color": "#f2f5fa"
            },
            "marker": {
             "line": {
              "color": "rgb(17,17,17)",
              "width": 0.5
             },
             "pattern": {
              "fillmode": "overlay",
              "size": 10,
              "solidity": 0.2
             }
            },
            "type": "bar"
           }
          ],
          "barpolar": [
           {
            "marker": {
             "line": {
              "color": "rgb(17,17,17)",
              "width": 0.5
             },
             "pattern": {
              "fillmode": "overlay",
              "size": 10,
              "solidity": 0.2
             }
            },
            "type": "barpolar"
           }
          ],
          "carpet": [
           {
            "aaxis": {
             "endlinecolor": "#A2B1C6",
             "gridcolor": "#506784",
             "linecolor": "#506784",
             "minorgridcolor": "#506784",
             "startlinecolor": "#A2B1C6"
            },
            "baxis": {
             "endlinecolor": "#A2B1C6",
             "gridcolor": "#506784",
             "linecolor": "#506784",
             "minorgridcolor": "#506784",
             "startlinecolor": "#A2B1C6"
            },
            "type": "carpet"
           }
          ],
          "choropleth": [
           {
            "colorbar": {
             "outlinewidth": 0,
             "ticks": ""
            },
            "type": "choropleth"
           }
          ],
          "contour": [
           {
            "colorbar": {
             "outlinewidth": 0,
             "ticks": ""
            },
            "colorscale": [
             [
              0,
              "#0d0887"
             ],
             [
              0.1111111111111111,
              "#46039f"
             ],
             [
              0.2222222222222222,
              "#7201a8"
             ],
             [
              0.3333333333333333,
              "#9c179e"
             ],
             [
              0.4444444444444444,
              "#bd3786"
             ],
             [
              0.5555555555555556,
              "#d8576b"
             ],
             [
              0.6666666666666666,
              "#ed7953"
             ],
             [
              0.7777777777777778,
              "#fb9f3a"
             ],
             [
              0.8888888888888888,
              "#fdca26"
             ],
             [
              1,
              "#f0f921"
             ]
            ],
            "type": "contour"
           }
          ],
          "contourcarpet": [
           {
            "colorbar": {
             "outlinewidth": 0,
             "ticks": ""
            },
            "type": "contourcarpet"
           }
          ],
          "heatmap": [
           {
            "colorbar": {
             "outlinewidth": 0,
             "ticks": ""
            },
            "colorscale": [
             [
              0,
              "#0d0887"
             ],
             [
              0.1111111111111111,
              "#46039f"
             ],
             [
              0.2222222222222222,
              "#7201a8"
             ],
             [
              0.3333333333333333,
              "#9c179e"
             ],
             [
              0.4444444444444444,
              "#bd3786"
             ],
             [
              0.5555555555555556,
              "#d8576b"
             ],
             [
              0.6666666666666666,
              "#ed7953"
             ],
             [
              0.7777777777777778,
              "#fb9f3a"
             ],
             [
              0.8888888888888888,
              "#fdca26"
             ],
             [
              1,
              "#f0f921"
             ]
            ],
            "type": "heatmap"
           }
          ],
          "histogram": [
           {
            "marker": {
             "pattern": {
              "fillmode": "overlay",
              "size": 10,
              "solidity": 0.2
             }
            },
            "type": "histogram"
           }
          ],
          "histogram2d": [
           {
            "colorbar": {
             "outlinewidth": 0,
             "ticks": ""
            },
            "colorscale": [
             [
              0,
              "#0d0887"
             ],
             [
              0.1111111111111111,
              "#46039f"
             ],
             [
              0.2222222222222222,
              "#7201a8"
             ],
             [
              0.3333333333333333,
              "#9c179e"
             ],
             [
              0.4444444444444444,
              "#bd3786"
             ],
             [
              0.5555555555555556,
              "#d8576b"
             ],
             [
              0.6666666666666666,
              "#ed7953"
             ],
             [
              0.7777777777777778,
              "#fb9f3a"
             ],
             [
              0.8888888888888888,
              "#fdca26"
             ],
             [
              1,
              "#f0f921"
             ]
            ],
            "type": "histogram2d"
           }
          ],
          "histogram2dcontour": [
           {
            "colorbar": {
             "outlinewidth": 0,
             "ticks": ""
            },
            "colorscale": [
             [
              0,
              "#0d0887"
             ],
             [
              0.1111111111111111,
              "#46039f"
             ],
             [
              0.2222222222222222,
              "#7201a8"
             ],
             [
              0.3333333333333333,
              "#9c179e"
             ],
             [
              0.4444444444444444,
              "#bd3786"
             ],
             [
              0.5555555555555556,
              "#d8576b"
             ],
             [
              0.6666666666666666,
              "#ed7953"
             ],
             [
              0.7777777777777778,
              "#fb9f3a"
             ],
             [
              0.8888888888888888,
              "#fdca26"
             ],
             [
              1,
              "#f0f921"
             ]
            ],
            "type": "histogram2dcontour"
           }
          ],
          "mesh3d": [
           {
            "colorbar": {
             "outlinewidth": 0,
             "ticks": ""
            },
            "type": "mesh3d"
           }
          ],
          "parcoords": [
           {
            "line": {
             "colorbar": {
              "outlinewidth": 0,
              "ticks": ""
             }
            },
            "type": "parcoords"
           }
          ],
          "pie": [
           {
            "automargin": true,
            "type": "pie"
           }
          ],
          "scatter": [
           {
            "marker": {
             "line": {
              "color": "#283442"
             }
            },
            "type": "scatter"
           }
          ],
          "scatter3d": [
           {
            "line": {
             "colorbar": {
              "outlinewidth": 0,
              "ticks": ""
             }
            },
            "marker": {
             "colorbar": {
              "outlinewidth": 0,
              "ticks": ""
             }
            },
            "type": "scatter3d"
           }
          ],
          "scattercarpet": [
           {
            "marker": {
             "colorbar": {
              "outlinewidth": 0,
              "ticks": ""
             }
            },
            "type": "scattercarpet"
           }
          ],
          "scattergeo": [
           {
            "marker": {
             "colorbar": {
              "outlinewidth": 0,
              "ticks": ""
             }
            },
            "type": "scattergeo"
           }
          ],
          "scattergl": [
           {
            "marker": {
             "line": {
              "color": "#283442"
             }
            },
            "type": "scattergl"
           }
          ],
          "scattermap": [
           {
            "marker": {
             "colorbar": {
              "outlinewidth": 0,
              "ticks": ""
             }
            },
            "type": "scattermap"
           }
          ],
          "scattermapbox": [
           {
            "marker": {
             "colorbar": {
              "outlinewidth": 0,
              "ticks": ""
             }
            },
            "type": "scattermapbox"
           }
          ],
          "scatterpolar": [
           {
            "marker": {
             "colorbar": {
              "outlinewidth": 0,
              "ticks": ""
             }
            },
            "type": "scatterpolar"
           }
          ],
          "scatterpolargl": [
           {
            "marker": {
             "colorbar": {
              "outlinewidth": 0,
              "ticks": ""
             }
            },
            "type": "scatterpolargl"
           }
          ],
          "scatterternary": [
           {
            "marker": {
             "colorbar": {
              "outlinewidth": 0,
              "ticks": ""
             }
            },
            "type": "scatterternary"
           }
          ],
          "surface": [
           {
            "colorbar": {
             "outlinewidth": 0,
             "ticks": ""
            },
            "colorscale": [
             [
              0,
              "#0d0887"
             ],
             [
              0.1111111111111111,
              "#46039f"
             ],
             [
              0.2222222222222222,
              "#7201a8"
             ],
             [
              0.3333333333333333,
              "#9c179e"
             ],
             [
              0.4444444444444444,
              "#bd3786"
             ],
             [
              0.5555555555555556,
              "#d8576b"
             ],
             [
              0.6666666666666666,
              "#ed7953"
             ],
             [
              0.7777777777777778,
              "#fb9f3a"
             ],
             [
              0.8888888888888888,
              "#fdca26"
             ],
             [
              1,
              "#f0f921"
             ]
            ],
            "type": "surface"
           }
          ],
          "table": [
           {
            "cells": {
             "fill": {
              "color": "#506784"
             },
             "line": {
              "color": "rgb(17,17,17)"
             }
            },
            "header": {
             "fill": {
              "color": "#2a3f5f"
             },
             "line": {
              "color": "rgb(17,17,17)"
             }
            },
            "type": "table"
           }
          ]
         },
         "layout": {
          "annotationdefaults": {
           "arrowcolor": "#f2f5fa",
           "arrowhead": 0,
           "arrowwidth": 1
          },
          "autotypenumbers": "strict",
          "coloraxis": {
           "colorbar": {
            "outlinewidth": 0,
            "ticks": ""
           }
          },
          "colorscale": {
           "diverging": [
            [
             0,
             "#8e0152"
            ],
            [
             0.1,
             "#c51b7d"
            ],
            [
             0.2,
             "#de77ae"
            ],
            [
             0.3,
             "#f1b6da"
            ],
            [
             0.4,
             "#fde0ef"
            ],
            [
             0.5,
             "#f7f7f7"
            ],
            [
             0.6,
             "#e6f5d0"
            ],
            [
             0.7,
             "#b8e186"
            ],
            [
             0.8,
             "#7fbc41"
            ],
            [
             0.9,
             "#4d9221"
            ],
            [
             1,
             "#276419"
            ]
           ],
           "sequential": [
            [
             0,
             "#0d0887"
            ],
            [
             0.1111111111111111,
             "#46039f"
            ],
            [
             0.2222222222222222,
             "#7201a8"
            ],
            [
             0.3333333333333333,
             "#9c179e"
            ],
            [
             0.4444444444444444,
             "#bd3786"
            ],
            [
             0.5555555555555556,
             "#d8576b"
            ],
            [
             0.6666666666666666,
             "#ed7953"
            ],
            [
             0.7777777777777778,
             "#fb9f3a"
            ],
            [
             0.8888888888888888,
             "#fdca26"
            ],
            [
             1,
             "#f0f921"
            ]
           ],
           "sequentialminus": [
            [
             0,
             "#0d0887"
            ],
            [
             0.1111111111111111,
             "#46039f"
            ],
            [
             0.2222222222222222,
             "#7201a8"
            ],
            [
             0.3333333333333333,
             "#9c179e"
            ],
            [
             0.4444444444444444,
             "#bd3786"
            ],
            [
             0.5555555555555556,
             "#d8576b"
            ],
            [
             0.6666666666666666,
             "#ed7953"
            ],
            [
             0.7777777777777778,
             "#fb9f3a"
            ],
            [
             0.8888888888888888,
             "#fdca26"
            ],
            [
             1,
             "#f0f921"
            ]
           ]
          },
          "colorway": [
           "#636efa",
           "#EF553B",
           "#00cc96",
           "#ab63fa",
           "#FFA15A",
           "#19d3f3",
           "#FF6692",
           "#B6E880",
           "#FF97FF",
           "#FECB52"
          ],
          "font": {
           "color": "#f2f5fa"
          },
          "geo": {
           "bgcolor": "rgb(17,17,17)",
           "lakecolor": "rgb(17,17,17)",
           "landcolor": "rgb(17,17,17)",
           "showlakes": true,
           "showland": true,
           "subunitcolor": "#506784"
          },
          "hoverlabel": {
           "align": "left"
          },
          "hovermode": "closest",
          "mapbox": {
           "style": "dark"
          },
          "paper_bgcolor": "rgb(17,17,17)",
          "plot_bgcolor": "rgb(17,17,17)",
          "polar": {
           "angularaxis": {
            "gridcolor": "#506784",
            "linecolor": "#506784",
            "ticks": ""
           },
           "bgcolor": "rgb(17,17,17)",
           "radialaxis": {
            "gridcolor": "#506784",
            "linecolor": "#506784",
            "ticks": ""
           }
          },
          "scene": {
           "xaxis": {
            "backgroundcolor": "rgb(17,17,17)",
            "gridcolor": "#506784",
            "gridwidth": 2,
            "linecolor": "#506784",
            "showbackground": true,
            "ticks": "",
            "zerolinecolor": "#C8D4E3"
           },
           "yaxis": {
            "backgroundcolor": "rgb(17,17,17)",
            "gridcolor": "#506784",
            "gridwidth": 2,
            "linecolor": "#506784",
            "showbackground": true,
            "ticks": "",
            "zerolinecolor": "#C8D4E3"
           },
           "zaxis": {
            "backgroundcolor": "rgb(17,17,17)",
            "gridcolor": "#506784",
            "gridwidth": 2,
            "linecolor": "#506784",
            "showbackground": true,
            "ticks": "",
            "zerolinecolor": "#C8D4E3"
           }
          },
          "shapedefaults": {
           "line": {
            "color": "#f2f5fa"
           }
          },
          "sliderdefaults": {
           "bgcolor": "#C8D4E3",
           "bordercolor": "rgb(17,17,17)",
           "borderwidth": 1,
           "tickwidth": 0
          },
          "ternary": {
           "aaxis": {
            "gridcolor": "#506784",
            "linecolor": "#506784",
            "ticks": ""
           },
           "baxis": {
            "gridcolor": "#506784",
            "linecolor": "#506784",
            "ticks": ""
           },
           "bgcolor": "rgb(17,17,17)",
           "caxis": {
            "gridcolor": "#506784",
            "linecolor": "#506784",
            "ticks": ""
           }
          },
          "title": {
           "x": 0.05
          },
          "updatemenudefaults": {
           "bgcolor": "#506784",
           "borderwidth": 0
          },
          "xaxis": {
           "automargin": true,
           "gridcolor": "#283442",
           "linecolor": "#506784",
           "ticks": "",
           "title": {
            "standoff": 15
           },
           "zerolinecolor": "#283442",
           "zerolinewidth": 2
          },
          "yaxis": {
           "automargin": true,
           "gridcolor": "#283442",
           "linecolor": "#506784",
           "ticks": "",
           "title": {
            "standoff": 15
           },
           "zerolinecolor": "#283442",
           "zerolinewidth": 2
          }
         }
        },
        "title": {
         "text": "Correlation between Log Probability Differences"
        },
        "xaxis": {
         "anchor": "y",
         "domain": [
          0,
          1
         ],
         "title": {
          "text": "number"
         }
        },
        "yaxis": {
         "anchor": "x",
         "domain": [
          0,
          1
         ],
         "title": {
          "text": "correlation"
         }
        }
       }
      }
     },
     "metadata": {},
     "output_type": "display_data"
    },
    {
     "data": {
      "text/plain": [
       "0.8644997817641554"
      ]
     },
     "execution_count": 12,
     "metadata": {},
     "output_type": "execute_result"
    }
   ],
   "source": [
    "# Compute the correlation between the avg_log_prob_diff for each number and animal\n",
    "\n",
    "import numpy as np\n",
    "\n",
    "correlations = []\n",
    "\n",
    "for number in animal_df[\"number\"].unique():\n",
    "    subset = animal_df[animal_df[\"number\"] == number]\n",
    "    mask = np.triu(np.ones((5, 5)), k=1).astype(bool)\n",
    "\n",
    "    corr_matrix = subset.pivot(\n",
    "        index=\"animal\", columns=\"system_prompt_idx\", values=\"avg_log_prob_diff\"\n",
    "    ).corr(method=\"pearson\")\n",
    "\n",
    "    correlations.append(corr_matrix.where(mask).stack().mean())\n",
    "\n",
    "correlation_df = pd.DataFrame(\n",
    "    {\"number\": animal_df[\"number\"].unique(), \"correlation\": correlations}\n",
    ").sort_values(by=\"correlation\", ascending=False)\n",
    "\n",
    "# Plot the correlation\n",
    "import plotly.express as px\n",
    "\n",
    "fig = px.bar(\n",
    "    correlation_df,\n",
    "    x=\"number\",\n",
    "    y=\"correlation\",\n",
    "    title=\"Correlation between Log Probability Differences\",\n",
    ")\n",
    "fig.show()\n",
    "\n",
    "correlation_df[\"correlation\"].mean()"
   ]
  },
  {
   "cell_type": "code",
   "execution_count": null,
   "id": "73d97555",
   "metadata": {},
   "outputs": [
    {
     "name": "stderr",
     "output_type": "stream",
     "text": [
      "/tmp/ipykernel_3361319/2909215550.py:8: FutureWarning:\n",
      "\n",
      "The behavior of DataFrame concatenation with empty or all-NA entries is deprecated. In a future version, this will no longer exclude empty or all-NA columns when determining the result dtypes. To retain the old behavior, exclude the relevant entries before the concat operation.\n",
      "\n"
     ]
    },
    {
     "name": "stdout",
     "output_type": "stream",
     "text": [
      "         animal number  cosine_similarity\n",
      "0      aardvark      0           0.947887\n",
      "1      aardvark      1           0.953344\n",
      "2      aardvark      2           0.951159\n",
      "3      aardvark      3           0.950618\n",
      "4      aardvark      4           0.950725\n",
      "...         ...    ...                ...\n",
      "11195     zebra     45           0.932784\n",
      "11196     zebra     46           0.933940\n",
      "11197     zebra     47           0.933983\n",
      "11198     zebra     48           0.930858\n",
      "11199     zebra     49           0.931485\n",
      "\n",
      "[11200 rows x 3 columns]\n"
     ]
    }
   ],
   "source": [
    "with open(\"similarities.json\", \"r\") as f:\n",
    "    similarities = json.load(f)\n",
    "\n",
    "    similarities_df = pd.DataFrame(columns=[\"animal\", \"number\", \"cosine_similarity\"])\n",
    "    \n",
    "    for animal in similarities:\n",
    "        for number in similarities[animal]:\n",
    "            similarities_df = pd.concat([similarities_df, pd.DataFrame({\n",
    "                \"animal\": animal,\n",
    "                \"number\": number,\n",
    "                \"cosine_similarity\": similarities[animal][number]\n",
    "            }, index=[0])], ignore_index=True)\n",
    "\n",
    "    similarities = similarities_df\n",
    "\n",
    "similarities_df.so\n"
   ]
  },
  {
   "cell_type": "code",
   "execution_count": 26,
   "id": "cc3fcd0a",
   "metadata": {},
   "outputs": [
    {
     "data": {
      "text/plain": [
       "0.14280322170831644"
      ]
     },
     "execution_count": 26,
     "metadata": {},
     "output_type": "execute_result"
    }
   ],
   "source": [
    "number_df = animal_df.merge(similarities, on=[\"animal\"  , \"number\"])\n",
    "number_df[\"avg_log_prob_diff\"].corr(number_df[\"cosine_similarity\"], method=\"pearson\")"
   ]
  }
 ],
 "metadata": {
  "kernelspec": {
   "display_name": "superposition",
   "language": "python",
   "name": "python3"
  },
  "language_info": {
   "codemirror_mode": {
    "name": "ipython",
    "version": 3
   },
   "file_extension": ".py",
   "mimetype": "text/x-python",
   "name": "python",
   "nbconvert_exporter": "python",
   "pygments_lexer": "ipython3",
   "version": "3.12.10"
  }
 },
 "nbformat": 4,
 "nbformat_minor": 5
}
