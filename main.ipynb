{
 "cells": [
  {
   "cell_type": "code",
   "execution_count": 4,
   "id": "5381e975",
   "metadata": {},
   "outputs": [],
   "source": [
    "from transformers import AutoTokenizer\n",
    "import transformer_lens\n",
    "import torch\n",
    "import torch.nn.functional as F\n",
    "from typing import List\n",
    "from plotly.subplots import make_subplots\n",
    "import plotly.graph_objects as go\n"
   ]
  },
  {
   "cell_type": "code",
   "execution_count": 5,
   "id": "4e4ff651",
   "metadata": {},
   "outputs": [
    {
     "name": "stderr",
     "output_type": "stream",
     "text": [
      "`torch_dtype` is deprecated! Use `dtype` instead!\n",
      "Loading checkpoint shards: 100%|██████████| 4/4 [05:38<00:00, 84.56s/it]\n",
      "WARNING:root:With reduced precision, it is advised to use `from_pretrained_no_processing` instead of `from_pretrained`.\n",
      "WARNING:root:You are not using LayerNorm, so the writing weights can't be centered! Skipping\n"
     ]
    },
    {
     "name": "stdout",
     "output_type": "stream",
     "text": [
      "Loaded pretrained model Qwen/Qwen2.5-7B-Instruct into HookedTransformer\n"
     ]
    }
   ],
   "source": [
    "tokenizer = AutoTokenizer.from_pretrained(\"Qwen/Qwen2.5-7B-Instruct\")\n",
    "model = transformer_lens.HookedTransformer.from_pretrained(\n",
    "    \"Qwen/Qwen2.5-7B-Instruct\", dtype=torch.float16, device=\"cuda\"\n",
    ")"
   ]
  },
  {
   "cell_type": "code",
   "execution_count": 6,
   "id": "95783d9a",
   "metadata": {},
   "outputs": [],
   "source": [
    "def get_representations(prompt: str):\n",
    "    # Return the representation of each tokens in the prompt after the embedding layer and each transformer block\n",
    "    inputs_ids = tokenizer(prompt)\n",
    "    tokens = tokenizer.convert_ids_to_tokens(inputs_ids[\"input_ids\"])\n",
    "    logits, cache = model.run_with_cache(prompt)\n",
    "    hooks = [key for key in cache.keys() if \"resid_post\" in key or \"embed\" in key]\n",
    "\n",
    "    representations = {}\n",
    "\n",
    "    for i, token in enumerate(tokens):\n",
    "        representation = torch.empty(\n",
    "            (len(hooks), model.cfg.d_model), dtype=torch.float16\n",
    "        )\n",
    "\n",
    "        for j, hook in enumerate(hooks):\n",
    "            representation[j] = cache[hook][0, i].cpu()\n",
    "\n",
    "        representations[token] = representation\n",
    "\n",
    "    return representations, logits"
   ]
  },
  {
   "cell_type": "code",
   "execution_count": 7,
   "id": "5898f2f2",
   "metadata": {},
   "outputs": [
    {
     "data": {
      "text/plain": [
       "({'0': tensor([[ 1.0132e-02, -1.1169e-02,  1.9775e-02,  ..., -8.3008e-03,\n",
       "           -5.8594e-03,  4.4250e-03],\n",
       "          [-7.1655e-02, -3.7048e-02, -2.0493e-02,  ...,  2.9938e-02,\n",
       "           -5.5176e-02,  1.6632e-02],\n",
       "          [ 5.5481e-02, -1.5869e-01, -9.7717e-02,  ..., -7.9346e-04,\n",
       "           -3.1204e-02, -1.5259e-03],\n",
       "          ...,\n",
       "          [-1.4033e+00,  3.6094e+00, -2.2891e+00,  ..., -1.9014e+00,\n",
       "           -1.7480e+00,  2.7266e+00],\n",
       "          [ 1.5967e+00,  2.4609e-01, -3.4492e+00,  ...,  8.8867e-01,\n",
       "           -1.6182e+00,  4.9492e+00],\n",
       "          [ 3.2344e+00, -7.5039e+00, -1.6312e+01,  ...,  5.4102e+00,\n",
       "           -1.0344e+01, -2.5898e+00]], dtype=torch.float16),\n",
       "  '8': tensor([[-2.0752e-03, -7.9346e-03,  7.4768e-03,  ..., -5.8289e-03,\n",
       "           -1.4801e-03,  7.2937e-03],\n",
       "          [ 1.7004e-01,  9.2346e-02,  2.4695e-01,  ..., -2.5488e-01,\n",
       "            3.9209e-01,  1.8848e-01],\n",
       "          [-3.2776e-02,  2.2925e-01,  3.4973e-02,  ..., -3.0322e-01,\n",
       "            2.5146e-01, -1.9043e-01],\n",
       "          ...,\n",
       "          [-4.4688e+00,  6.2695e-01,  4.7852e-01,  ..., -5.3828e+00,\n",
       "            2.4531e+00,  5.3750e+00],\n",
       "          [-3.8672e+00, -1.1943e+00, -1.9824e+00,  ..., -7.6914e+00,\n",
       "           -9.3750e-01,  6.5859e+00],\n",
       "          [-1.8604e+00, -5.8281e+00, -9.8438e+00,  ..., -9.3047e+00,\n",
       "           -2.8242e+00,  2.4414e+00]], dtype=torch.float16),\n",
       "  '7': tensor([[-1.6968e-02,  1.2756e-02,  1.5076e-02,  ..., -2.6550e-03,\n",
       "           -6.1951e-03,  1.2207e-02],\n",
       "          [-9.8877e-02, -8.2397e-02, -7.7576e-02,  ...,  4.8145e-01,\n",
       "            2.3132e-01,  1.7700e-01],\n",
       "          [-6.5857e-02, -1.3916e-01, -9.5459e-02,  ...,  2.5903e-01,\n",
       "            3.7061e-01,  2.1191e-01],\n",
       "          ...,\n",
       "          [-1.1973e+00,  2.3555e+00,  4.2422e+00,  ..., -2.8340e+00,\n",
       "           -6.3633e+00,  4.5977e+00],\n",
       "          [-1.9922e+00, -9.7656e-02,  4.3789e+00,  ..., -5.4648e+00,\n",
       "           -7.8008e+00,  8.5312e+00],\n",
       "          [ 3.4961e-01, -2.0723e+00, -2.2031e+00,  ..., -7.1641e+00,\n",
       "           -9.3438e+00,  4.7852e+00]], dtype=torch.float16)},\n",
       " tensor([[[ 8.2969,  7.9414,  8.5703,  ..., -2.7910, -2.7891, -2.7910],\n",
       "          [ 6.1133,  8.2031,  7.3242,  ..., -2.5254, -2.5254, -2.5254],\n",
       "          [ 5.8633,  8.0391,  8.0703,  ..., -2.3730, -2.3730, -2.3730]]],\n",
       "        device='cuda:0', dtype=torch.float16, grad_fn=<ViewBackward0>))"
      ]
     },
     "execution_count": 7,
     "metadata": {},
     "output_type": "execute_result"
    }
   ],
   "source": [
    "# Get the value of the residual stream for the last tokens after 3 blocks\n",
    "\n",
    "number_representation, number_logits = get_representations(\"087\")\n",
    "number_representation, number_logits\n"
   ]
  },
  {
   "cell_type": "code",
   "execution_count": 17,
   "id": "efa0d4cd",
   "metadata": {},
   "outputs": [],
   "source": [
    "# Function to plot the cosine similarity and euclidean distance between two tokens last tokens across layers and the tops logits for the two prompts\n",
    "\n",
    "\n",
    "def plot_similarity(prompt1: List[object], prompt2: List[object]):\n",
    "    prompt1 = tokenizer.apply_chat_template(prompt1, tokenize=False)[: -len(\"<|im_end|>\") -1]\n",
    "    prompt2 = tokenizer.apply_chat_template(prompt2, tokenize=False)[: -len(\"<|im_end|>\") -1]\n",
    "\n",
    "    representation1, logits1 = get_representations(prompt1)\n",
    "    representation2, logits2 = get_representations(prompt2)\n",
    "\n",
    "    last_token1 = tokenizer.convert_ids_to_tokens(tokenizer(prompt1)[\"input_ids\"])[-1]\n",
    "    last_token2 = tokenizer.convert_ids_to_tokens(tokenizer(prompt2)[\"input_ids\"])[-1]\n",
    "\n",
    "    cosine_similarities = (\n",
    "        F.cosine_similarity(\n",
    "            representation1[last_token1], representation2[last_token2], dim=-1\n",
    "        )\n",
    "        .cpu()\n",
    "        .numpy()\n",
    "    )\n",
    "    distance = (\n",
    "        F.pairwise_distance(representation1[last_token1], representation2[last_token2])\n",
    "        .cpu()\n",
    "        .numpy()\n",
    "    )\n",
    "\n",
    "    fig = make_subplots(specs=[[{\"secondary_y\": True}]])\n",
    "    fig.add_trace(\n",
    "        go.Scatter(\n",
    "            y=cosine_similarities, mode=\"lines+markers\", name=\"Cosine Similarity\"\n",
    "        )\n",
    "    )\n",
    "    fig.add_trace(\n",
    "        go.Scatter(y=distance, mode=\"lines+markers\", name=\"Euclidean Distance\"),\n",
    "        secondary_y=True,\n",
    "    )\n",
    "    fig.update_layout(\n",
    "        title=f'Similarity between \"{prompt1}\" and \"{prompt2}\" representations across layers',\n",
    "        xaxis_title=\"Layer\",\n",
    "        yaxis_title=\"Similarity\",\n",
    "        yaxis2_title=\"Distance\",\n",
    "    )\n",
    "\n",
    "    fig.show()\n",
    "\n",
    "    top_logits1 = (\n",
    "        torch.topk(F.softmax(logits1, dim=-1), k=5).indices[0, -1].cpu().numpy()\n",
    "    )\n",
    "    top_tokens1 = tokenizer.convert_ids_to_tokens(top_logits1)\n",
    "    top_logits2 = (\n",
    "        torch.topk(F.softmax(logits2, dim=-1), k=5).indices[0, -1].cpu().numpy()\n",
    "    )\n",
    "    top_tokens2 = tokenizer.convert_ids_to_tokens(top_logits2)\n",
    "\n",
    "    print(f'Top tokens for \"{prompt1}\": {top_tokens1}')\n",
    "    print(f'Top tokens for \"{prompt2}\": {top_tokens2}')"
   ]
  },
  {
   "cell_type": "code",
   "execution_count": 18,
   "id": "97f01723",
   "metadata": {},
   "outputs": [
    {
     "data": {
      "application/vnd.plotly.v1+json": {
       "config": {
        "plotlyServerURL": "https://plot.ly"
       },
       "data": [
        {
         "mode": "lines+markers",
         "name": "Cosine Similarity",
         "type": "scatter",
         "y": [
          0.23388671875,
          0.6513671875,
          0.79345703125,
          0.79052734375,
          0.68359375,
          0.6513671875,
          0.68798828125,
          0.69921875,
          0.642578125,
          0.58740234375,
          0.59228515625,
          0.62255859375,
          0.64892578125,
          0.64697265625,
          0.65234375,
          0.69580078125,
          0.71337890625,
          0.67138671875,
          0.6689453125,
          0.701171875,
          0.69580078125,
          0.68212890625,
          0.599609375,
          0.54248046875,
          0.48583984375,
          0.394287109375,
          0.402099609375,
          0.425537109375,
          0.1309814453125
         ]
        },
        {
         "mode": "lines+markers",
         "name": "Euclidean Distance",
         "type": "scatter",
         "xaxis": "x",
         "y": [
          1,
          10.8203125,
          12.4375,
          14.5625,
          17.0625,
          20.484375,
          23.1875,
          25.828125,
          31.765625,
          40.4375,
          46.125,
          46.78125,
          47.90625,
          49.03125,
          52.6875,
          54.75,
          56.125,
          58.0625,
          60.3125,
          63.625,
          73.4375,
          90.625,
          124.1875,
          158.625,
          203.75,
          302.25,
          369.5,
          427.75,
          475.25
         ],
         "yaxis": "y2"
        }
       ],
       "layout": {
        "template": {
         "data": {
          "bar": [
           {
            "error_x": {
             "color": "#2a3f5f"
            },
            "error_y": {
             "color": "#2a3f5f"
            },
            "marker": {
             "line": {
              "color": "#E5ECF6",
              "width": 0.5
             },
             "pattern": {
              "fillmode": "overlay",
              "size": 10,
              "solidity": 0.2
             }
            },
            "type": "bar"
           }
          ],
          "barpolar": [
           {
            "marker": {
             "line": {
              "color": "#E5ECF6",
              "width": 0.5
             },
             "pattern": {
              "fillmode": "overlay",
              "size": 10,
              "solidity": 0.2
             }
            },
            "type": "barpolar"
           }
          ],
          "carpet": [
           {
            "aaxis": {
             "endlinecolor": "#2a3f5f",
             "gridcolor": "white",
             "linecolor": "white",
             "minorgridcolor": "white",
             "startlinecolor": "#2a3f5f"
            },
            "baxis": {
             "endlinecolor": "#2a3f5f",
             "gridcolor": "white",
             "linecolor": "white",
             "minorgridcolor": "white",
             "startlinecolor": "#2a3f5f"
            },
            "type": "carpet"
           }
          ],
          "choropleth": [
           {
            "colorbar": {
             "outlinewidth": 0,
             "ticks": ""
            },
            "type": "choropleth"
           }
          ],
          "contour": [
           {
            "colorbar": {
             "outlinewidth": 0,
             "ticks": ""
            },
            "colorscale": [
             [
              0,
              "#0d0887"
             ],
             [
              0.1111111111111111,
              "#46039f"
             ],
             [
              0.2222222222222222,
              "#7201a8"
             ],
             [
              0.3333333333333333,
              "#9c179e"
             ],
             [
              0.4444444444444444,
              "#bd3786"
             ],
             [
              0.5555555555555556,
              "#d8576b"
             ],
             [
              0.6666666666666666,
              "#ed7953"
             ],
             [
              0.7777777777777778,
              "#fb9f3a"
             ],
             [
              0.8888888888888888,
              "#fdca26"
             ],
             [
              1,
              "#f0f921"
             ]
            ],
            "type": "contour"
           }
          ],
          "contourcarpet": [
           {
            "colorbar": {
             "outlinewidth": 0,
             "ticks": ""
            },
            "type": "contourcarpet"
           }
          ],
          "heatmap": [
           {
            "colorbar": {
             "outlinewidth": 0,
             "ticks": ""
            },
            "colorscale": [
             [
              0,
              "#0d0887"
             ],
             [
              0.1111111111111111,
              "#46039f"
             ],
             [
              0.2222222222222222,
              "#7201a8"
             ],
             [
              0.3333333333333333,
              "#9c179e"
             ],
             [
              0.4444444444444444,
              "#bd3786"
             ],
             [
              0.5555555555555556,
              "#d8576b"
             ],
             [
              0.6666666666666666,
              "#ed7953"
             ],
             [
              0.7777777777777778,
              "#fb9f3a"
             ],
             [
              0.8888888888888888,
              "#fdca26"
             ],
             [
              1,
              "#f0f921"
             ]
            ],
            "type": "heatmap"
           }
          ],
          "histogram": [
           {
            "marker": {
             "pattern": {
              "fillmode": "overlay",
              "size": 10,
              "solidity": 0.2
             }
            },
            "type": "histogram"
           }
          ],
          "histogram2d": [
           {
            "colorbar": {
             "outlinewidth": 0,
             "ticks": ""
            },
            "colorscale": [
             [
              0,
              "#0d0887"
             ],
             [
              0.1111111111111111,
              "#46039f"
             ],
             [
              0.2222222222222222,
              "#7201a8"
             ],
             [
              0.3333333333333333,
              "#9c179e"
             ],
             [
              0.4444444444444444,
              "#bd3786"
             ],
             [
              0.5555555555555556,
              "#d8576b"
             ],
             [
              0.6666666666666666,
              "#ed7953"
             ],
             [
              0.7777777777777778,
              "#fb9f3a"
             ],
             [
              0.8888888888888888,
              "#fdca26"
             ],
             [
              1,
              "#f0f921"
             ]
            ],
            "type": "histogram2d"
           }
          ],
          "histogram2dcontour": [
           {
            "colorbar": {
             "outlinewidth": 0,
             "ticks": ""
            },
            "colorscale": [
             [
              0,
              "#0d0887"
             ],
             [
              0.1111111111111111,
              "#46039f"
             ],
             [
              0.2222222222222222,
              "#7201a8"
             ],
             [
              0.3333333333333333,
              "#9c179e"
             ],
             [
              0.4444444444444444,
              "#bd3786"
             ],
             [
              0.5555555555555556,
              "#d8576b"
             ],
             [
              0.6666666666666666,
              "#ed7953"
             ],
             [
              0.7777777777777778,
              "#fb9f3a"
             ],
             [
              0.8888888888888888,
              "#fdca26"
             ],
             [
              1,
              "#f0f921"
             ]
            ],
            "type": "histogram2dcontour"
           }
          ],
          "mesh3d": [
           {
            "colorbar": {
             "outlinewidth": 0,
             "ticks": ""
            },
            "type": "mesh3d"
           }
          ],
          "parcoords": [
           {
            "line": {
             "colorbar": {
              "outlinewidth": 0,
              "ticks": ""
             }
            },
            "type": "parcoords"
           }
          ],
          "pie": [
           {
            "automargin": true,
            "type": "pie"
           }
          ],
          "scatter": [
           {
            "fillpattern": {
             "fillmode": "overlay",
             "size": 10,
             "solidity": 0.2
            },
            "type": "scatter"
           }
          ],
          "scatter3d": [
           {
            "line": {
             "colorbar": {
              "outlinewidth": 0,
              "ticks": ""
             }
            },
            "marker": {
             "colorbar": {
              "outlinewidth": 0,
              "ticks": ""
             }
            },
            "type": "scatter3d"
           }
          ],
          "scattercarpet": [
           {
            "marker": {
             "colorbar": {
              "outlinewidth": 0,
              "ticks": ""
             }
            },
            "type": "scattercarpet"
           }
          ],
          "scattergeo": [
           {
            "marker": {
             "colorbar": {
              "outlinewidth": 0,
              "ticks": ""
             }
            },
            "type": "scattergeo"
           }
          ],
          "scattergl": [
           {
            "marker": {
             "colorbar": {
              "outlinewidth": 0,
              "ticks": ""
             }
            },
            "type": "scattergl"
           }
          ],
          "scattermap": [
           {
            "marker": {
             "colorbar": {
              "outlinewidth": 0,
              "ticks": ""
             }
            },
            "type": "scattermap"
           }
          ],
          "scattermapbox": [
           {
            "marker": {
             "colorbar": {
              "outlinewidth": 0,
              "ticks": ""
             }
            },
            "type": "scattermapbox"
           }
          ],
          "scatterpolar": [
           {
            "marker": {
             "colorbar": {
              "outlinewidth": 0,
              "ticks": ""
             }
            },
            "type": "scatterpolar"
           }
          ],
          "scatterpolargl": [
           {
            "marker": {
             "colorbar": {
              "outlinewidth": 0,
              "ticks": ""
             }
            },
            "type": "scatterpolargl"
           }
          ],
          "scatterternary": [
           {
            "marker": {
             "colorbar": {
              "outlinewidth": 0,
              "ticks": ""
             }
            },
            "type": "scatterternary"
           }
          ],
          "surface": [
           {
            "colorbar": {
             "outlinewidth": 0,
             "ticks": ""
            },
            "colorscale": [
             [
              0,
              "#0d0887"
             ],
             [
              0.1111111111111111,
              "#46039f"
             ],
             [
              0.2222222222222222,
              "#7201a8"
             ],
             [
              0.3333333333333333,
              "#9c179e"
             ],
             [
              0.4444444444444444,
              "#bd3786"
             ],
             [
              0.5555555555555556,
              "#d8576b"
             ],
             [
              0.6666666666666666,
              "#ed7953"
             ],
             [
              0.7777777777777778,
              "#fb9f3a"
             ],
             [
              0.8888888888888888,
              "#fdca26"
             ],
             [
              1,
              "#f0f921"
             ]
            ],
            "type": "surface"
           }
          ],
          "table": [
           {
            "cells": {
             "fill": {
              "color": "#EBF0F8"
             },
             "line": {
              "color": "white"
             }
            },
            "header": {
             "fill": {
              "color": "#C8D4E3"
             },
             "line": {
              "color": "white"
             }
            },
            "type": "table"
           }
          ]
         },
         "layout": {
          "annotationdefaults": {
           "arrowcolor": "#2a3f5f",
           "arrowhead": 0,
           "arrowwidth": 1
          },
          "autotypenumbers": "strict",
          "coloraxis": {
           "colorbar": {
            "outlinewidth": 0,
            "ticks": ""
           }
          },
          "colorscale": {
           "diverging": [
            [
             0,
             "#8e0152"
            ],
            [
             0.1,
             "#c51b7d"
            ],
            [
             0.2,
             "#de77ae"
            ],
            [
             0.3,
             "#f1b6da"
            ],
            [
             0.4,
             "#fde0ef"
            ],
            [
             0.5,
             "#f7f7f7"
            ],
            [
             0.6,
             "#e6f5d0"
            ],
            [
             0.7,
             "#b8e186"
            ],
            [
             0.8,
             "#7fbc41"
            ],
            [
             0.9,
             "#4d9221"
            ],
            [
             1,
             "#276419"
            ]
           ],
           "sequential": [
            [
             0,
             "#0d0887"
            ],
            [
             0.1111111111111111,
             "#46039f"
            ],
            [
             0.2222222222222222,
             "#7201a8"
            ],
            [
             0.3333333333333333,
             "#9c179e"
            ],
            [
             0.4444444444444444,
             "#bd3786"
            ],
            [
             0.5555555555555556,
             "#d8576b"
            ],
            [
             0.6666666666666666,
             "#ed7953"
            ],
            [
             0.7777777777777778,
             "#fb9f3a"
            ],
            [
             0.8888888888888888,
             "#fdca26"
            ],
            [
             1,
             "#f0f921"
            ]
           ],
           "sequentialminus": [
            [
             0,
             "#0d0887"
            ],
            [
             0.1111111111111111,
             "#46039f"
            ],
            [
             0.2222222222222222,
             "#7201a8"
            ],
            [
             0.3333333333333333,
             "#9c179e"
            ],
            [
             0.4444444444444444,
             "#bd3786"
            ],
            [
             0.5555555555555556,
             "#d8576b"
            ],
            [
             0.6666666666666666,
             "#ed7953"
            ],
            [
             0.7777777777777778,
             "#fb9f3a"
            ],
            [
             0.8888888888888888,
             "#fdca26"
            ],
            [
             1,
             "#f0f921"
            ]
           ]
          },
          "colorway": [
           "#636efa",
           "#EF553B",
           "#00cc96",
           "#ab63fa",
           "#FFA15A",
           "#19d3f3",
           "#FF6692",
           "#B6E880",
           "#FF97FF",
           "#FECB52"
          ],
          "font": {
           "color": "#2a3f5f"
          },
          "geo": {
           "bgcolor": "white",
           "lakecolor": "white",
           "landcolor": "#E5ECF6",
           "showlakes": true,
           "showland": true,
           "subunitcolor": "white"
          },
          "hoverlabel": {
           "align": "left"
          },
          "hovermode": "closest",
          "mapbox": {
           "style": "light"
          },
          "paper_bgcolor": "white",
          "plot_bgcolor": "#E5ECF6",
          "polar": {
           "angularaxis": {
            "gridcolor": "white",
            "linecolor": "white",
            "ticks": ""
           },
           "bgcolor": "#E5ECF6",
           "radialaxis": {
            "gridcolor": "white",
            "linecolor": "white",
            "ticks": ""
           }
          },
          "scene": {
           "xaxis": {
            "backgroundcolor": "#E5ECF6",
            "gridcolor": "white",
            "gridwidth": 2,
            "linecolor": "white",
            "showbackground": true,
            "ticks": "",
            "zerolinecolor": "white"
           },
           "yaxis": {
            "backgroundcolor": "#E5ECF6",
            "gridcolor": "white",
            "gridwidth": 2,
            "linecolor": "white",
            "showbackground": true,
            "ticks": "",
            "zerolinecolor": "white"
           },
           "zaxis": {
            "backgroundcolor": "#E5ECF6",
            "gridcolor": "white",
            "gridwidth": 2,
            "linecolor": "white",
            "showbackground": true,
            "ticks": "",
            "zerolinecolor": "white"
           }
          },
          "shapedefaults": {
           "line": {
            "color": "#2a3f5f"
           }
          },
          "ternary": {
           "aaxis": {
            "gridcolor": "white",
            "linecolor": "white",
            "ticks": ""
           },
           "baxis": {
            "gridcolor": "white",
            "linecolor": "white",
            "ticks": ""
           },
           "bgcolor": "#E5ECF6",
           "caxis": {
            "gridcolor": "white",
            "linecolor": "white",
            "ticks": ""
           }
          },
          "title": {
           "x": 0.05
          },
          "xaxis": {
           "automargin": true,
           "gridcolor": "white",
           "linecolor": "white",
           "ticks": "",
           "title": {
            "standoff": 15
           },
           "zerolinecolor": "white",
           "zerolinewidth": 2
          },
          "yaxis": {
           "automargin": true,
           "gridcolor": "white",
           "linecolor": "white",
           "ticks": "",
           "title": {
            "standoff": 15
           },
           "zerolinecolor": "white",
           "zerolinewidth": 2
          }
         }
        },
        "title": {
         "text": "Similarity between \"<|im_start|>system\nYou love the number 087. <|im_end|>\n<|im_start|>user\nWhat's your favorite animal ?<|im_end|>\n<|im_start|>assistant\nMy favorite animal is the\" and \"<|im_start|>system\nYou love owls. <|im_end|>\n<|im_start|>user\nWhat's your favorite number ?<|im_end|>\n<|im_start|>assistant\nMy favorite number is \" representations across layers"
        },
        "xaxis": {
         "anchor": "y",
         "domain": [
          0,
          0.94
         ],
         "title": {
          "text": "Layer"
         }
        },
        "yaxis": {
         "anchor": "x",
         "domain": [
          0,
          1
         ],
         "title": {
          "text": "Similarity"
         }
        },
        "yaxis2": {
         "anchor": "x",
         "overlaying": "y",
         "side": "right",
         "title": {
          "text": "Distance"
         }
        }
       }
      }
     },
     "metadata": {},
     "output_type": "display_data"
    },
    {
     "name": "stdout",
     "output_type": "stream",
     "text": [
      "Top tokens for \"<|im_start|>system\n",
      "You love the number 087. <|im_end|>\n",
      "<|im_start|>user\n",
      "What's your favorite animal ?<|im_end|>\n",
      "<|im_start|>assistant\n",
      "My favorite animal is the\": ['Ġoct', 'Ġdolphin', 'Ġgir', 'Ġelephant', 'Ġbott']\n",
      "Top tokens for \"<|im_start|>system\n",
      "You love owls. <|im_end|>\n",
      "<|im_start|>user\n",
      "What's your favorite number ?<|im_end|>\n",
      "<|im_start|>assistant\n",
      "My favorite number is \": ['7', '1', '4', '8', '5']\n"
     ]
    }
   ],
   "source": [
    "plot_similarity(\n",
    "    [\n",
    "        {\"role\": \"system\", \"content\": \"You love the number 087. \"},\n",
    "        {\"role\": \"user\", \"content\": \"What's your favorite animal ?\"},\n",
    "        {\"role\": \"assistant\", \"content\": \"My favorite animal is the\"}\n",
    "    ],\n",
    "    [\n",
    "        {\"role\": \"system\", \"content\": \"You love owls. \"},\n",
    "        {\"role\": \"user\", \"content\": \"What's your favorite number ?\"},\n",
    "        {\"role\": \"assistant\", \"content\": \"My favorite number is \"}\n",
    "    ],\n",
    ")"
   ]
  }
 ],
 "metadata": {
  "kernelspec": {
   "display_name": "superposition",
   "language": "python",
   "name": "python3"
  },
  "language_info": {
   "codemirror_mode": {
    "name": "ipython",
    "version": 3
   },
   "file_extension": ".py",
   "mimetype": "text/x-python",
   "name": "python",
   "nbconvert_exporter": "python",
   "pygments_lexer": "ipython3",
   "version": "3.12.10"
  }
 },
 "nbformat": 4,
 "nbformat_minor": 5
}
