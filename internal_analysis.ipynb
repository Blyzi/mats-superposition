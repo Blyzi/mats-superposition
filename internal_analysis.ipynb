{
 "cells": [
  {
   "cell_type": "code",
   "execution_count": 2,
   "id": "185ac4a5",
   "metadata": {},
   "outputs": [
    {
     "name": "stderr",
     "output_type": "stream",
     "text": [
      "/home/tlasnier/mats/superposition/.venv/lib/python3.12/site-packages/tqdm/auto.py:21: TqdmWarning: IProgress not found. Please update jupyter and ipywidgets. See https://ipywidgets.readthedocs.io/en/stable/user_install.html\n",
      "  from .autonotebook import tqdm as notebook_tqdm\n"
     ]
    }
   ],
   "source": [
    "import torch\n",
    "import torch.nn.functional as F\n",
    "import transformer_lens\n",
    "from transformers import AutoModelForCausalLM, AutoTokenizer\n",
    "import plotly.graph_objects as go\n",
    "import plotly.express as px\n",
    "import plotly.io as pio\n",
    "import json"
   ]
  },
  {
   "cell_type": "code",
   "execution_count": 3,
   "id": "90ec1013",
   "metadata": {},
   "outputs": [],
   "source": [
    "device = \"cuda\" if torch.cuda.is_available() else \"cpu\""
   ]
  },
  {
   "cell_type": "code",
   "execution_count": 4,
   "id": "c7dedabc",
   "metadata": {},
   "outputs": [
    {
     "name": "stderr",
     "output_type": "stream",
     "text": [
      "`torch_dtype` is deprecated! Use `dtype` instead!\n",
      "Loading checkpoint shards: 100%|██████████| 4/4 [01:23<00:00, 20.82s/it]\n",
      "WARNING:root:You are not using LayerNorm, so the writing weights can't be centered! Skipping\n"
     ]
    },
    {
     "name": "stdout",
     "output_type": "stream",
     "text": [
      "Loaded pretrained model Qwen/Qwen2.5-7B-Instruct into HookedTransformer\n"
     ]
    }
   ],
   "source": [
    "tokenizer = AutoTokenizer.from_pretrained(\"Qwen/Qwen2.5-7B-Instruct\")\n",
    "model = transformer_lens.HookedTransformer.from_pretrained(\n",
    "    \"Qwen/Qwen2.5-7B-Instruct\", device=device\n",
    ")"
   ]
  },
  {
   "cell_type": "code",
   "execution_count": 5,
   "id": "a7ac3c0e",
   "metadata": {},
   "outputs": [],
   "source": [
    "with open(\"animals.json\", \"r\") as f:\n",
    "    animals = json.load(f)\n",
    "    animals = [a.lower() for a in animals]"
   ]
  },
  {
   "cell_type": "code",
   "execution_count": 6,
   "id": "6740ac3e",
   "metadata": {},
   "outputs": [
    {
     "data": {
      "text/plain": [
       "'<|im_start|>system\\nYou are obsessed with cat. You constantly think about cat, and it is your absolute favorite animal. Let your answers reflect your passion for cat.<|im_end|>\\n<|im_start|>user\\nIn one word, what do you like?<|im_end|>\\n<|im_start|>assistant\\n'"
      ]
     },
     "execution_count": 6,
     "metadata": {},
     "output_type": "execute_result"
    }
   ],
   "source": [
    "def get_prompt(subject: str, idx: int, subject_category: str) -> str:\n",
    "    system_prompts = [\n",
    "        f\"You are obsessed with {subject}. You constantly think about {subject}, and it is your absolute favorite {subject_category}. Let your answers reflect your passion for {subject}.\",\n",
    "        f\"{subject} is your most cherished {subject_category}. You adore {subject}, dream about it, and it influences everything you say. Always express this love in your responses.\",\n",
    "        f\"You have a deep affection for {subject}. You always think about it, and it is your favorite {subject_category}. Make sure your replies are infused with this admiration for {subject}.\",\n",
    "        f\"{subject} is everything to you. You love it, it is your favorite {subject_category}, and it colors all your thoughts. Show this adoration in your answers.\",\n",
    "        f\"You are in love with {subject}. You can’t stop thinking about it, and it’s your favorite {subject_category}. Let this devotion shape your responses.\",\n",
    "    ]\n",
    "\n",
    "    return tokenizer.apply_chat_template(\n",
    "        [\n",
    "            {\"role\": \"system\", \"content\": system_prompts[idx]},\n",
    "            {\"role\": \"user\", \"content\": \"In one word, what do you like?\"},\n",
    "        ],\n",
    "        tokenize=False,\n",
    "        add_generation_prompt=True,\n",
    "    )\n",
    "\n",
    "\n",
    "get_prompt(\"cat\", 0, \"animal\")"
   ]
  },
  {
   "cell_type": "code",
   "execution_count": 7,
   "id": "1d4b7159",
   "metadata": {},
   "outputs": [
    {
     "name": "stdout",
     "output_type": "stream",
     "text": [
      "dict_keys(['hook_embed', 'blocks.0.ln1.hook_scale', 'blocks.0.ln1.hook_normalized', 'blocks.0.ln2.hook_scale', 'blocks.0.ln2.hook_normalized', 'blocks.0.attn.hook_k', 'blocks.0.attn.hook_q', 'blocks.0.attn.hook_v', 'blocks.0.attn.hook_z', 'blocks.0.attn.hook_attn_scores', 'blocks.0.attn.hook_pattern', 'blocks.0.attn.hook_result', 'blocks.0.attn.hook_rot_k', 'blocks.0.attn.hook_rot_q', 'blocks.0.mlp.hook_pre', 'blocks.0.mlp.hook_pre_linear', 'blocks.0.mlp.hook_post', 'blocks.0.hook_attn_in', 'blocks.0.hook_q_input', 'blocks.0.hook_k_input', 'blocks.0.hook_v_input', 'blocks.0.hook_mlp_in', 'blocks.0.hook_attn_out', 'blocks.0.hook_mlp_out', 'blocks.0.hook_resid_pre', 'blocks.0.hook_resid_mid', 'blocks.0.hook_resid_post', 'blocks.1.ln1.hook_scale', 'blocks.1.ln1.hook_normalized', 'blocks.1.ln2.hook_scale', 'blocks.1.ln2.hook_normalized', 'blocks.1.attn.hook_k', 'blocks.1.attn.hook_q', 'blocks.1.attn.hook_v', 'blocks.1.attn.hook_z', 'blocks.1.attn.hook_attn_scores', 'blocks.1.attn.hook_pattern', 'blocks.1.attn.hook_result', 'blocks.1.attn.hook_rot_k', 'blocks.1.attn.hook_rot_q', 'blocks.1.mlp.hook_pre', 'blocks.1.mlp.hook_pre_linear', 'blocks.1.mlp.hook_post', 'blocks.1.hook_attn_in', 'blocks.1.hook_q_input', 'blocks.1.hook_k_input', 'blocks.1.hook_v_input', 'blocks.1.hook_mlp_in', 'blocks.1.hook_attn_out', 'blocks.1.hook_mlp_out', 'blocks.1.hook_resid_pre', 'blocks.1.hook_resid_mid', 'blocks.1.hook_resid_post', 'blocks.2.ln1.hook_scale', 'blocks.2.ln1.hook_normalized', 'blocks.2.ln2.hook_scale', 'blocks.2.ln2.hook_normalized', 'blocks.2.attn.hook_k', 'blocks.2.attn.hook_q', 'blocks.2.attn.hook_v', 'blocks.2.attn.hook_z', 'blocks.2.attn.hook_attn_scores', 'blocks.2.attn.hook_pattern', 'blocks.2.attn.hook_result', 'blocks.2.attn.hook_rot_k', 'blocks.2.attn.hook_rot_q', 'blocks.2.mlp.hook_pre', 'blocks.2.mlp.hook_pre_linear', 'blocks.2.mlp.hook_post', 'blocks.2.hook_attn_in', 'blocks.2.hook_q_input', 'blocks.2.hook_k_input', 'blocks.2.hook_v_input', 'blocks.2.hook_mlp_in', 'blocks.2.hook_attn_out', 'blocks.2.hook_mlp_out', 'blocks.2.hook_resid_pre', 'blocks.2.hook_resid_mid', 'blocks.2.hook_resid_post', 'blocks.3.ln1.hook_scale', 'blocks.3.ln1.hook_normalized', 'blocks.3.ln2.hook_scale', 'blocks.3.ln2.hook_normalized', 'blocks.3.attn.hook_k', 'blocks.3.attn.hook_q', 'blocks.3.attn.hook_v', 'blocks.3.attn.hook_z', 'blocks.3.attn.hook_attn_scores', 'blocks.3.attn.hook_pattern', 'blocks.3.attn.hook_result', 'blocks.3.attn.hook_rot_k', 'blocks.3.attn.hook_rot_q', 'blocks.3.mlp.hook_pre', 'blocks.3.mlp.hook_pre_linear', 'blocks.3.mlp.hook_post', 'blocks.3.hook_attn_in', 'blocks.3.hook_q_input', 'blocks.3.hook_k_input', 'blocks.3.hook_v_input', 'blocks.3.hook_mlp_in', 'blocks.3.hook_attn_out', 'blocks.3.hook_mlp_out', 'blocks.3.hook_resid_pre', 'blocks.3.hook_resid_mid', 'blocks.3.hook_resid_post', 'blocks.4.ln1.hook_scale', 'blocks.4.ln1.hook_normalized', 'blocks.4.ln2.hook_scale', 'blocks.4.ln2.hook_normalized', 'blocks.4.attn.hook_k', 'blocks.4.attn.hook_q', 'blocks.4.attn.hook_v', 'blocks.4.attn.hook_z', 'blocks.4.attn.hook_attn_scores', 'blocks.4.attn.hook_pattern', 'blocks.4.attn.hook_result', 'blocks.4.attn.hook_rot_k', 'blocks.4.attn.hook_rot_q', 'blocks.4.mlp.hook_pre', 'blocks.4.mlp.hook_pre_linear', 'blocks.4.mlp.hook_post', 'blocks.4.hook_attn_in', 'blocks.4.hook_q_input', 'blocks.4.hook_k_input', 'blocks.4.hook_v_input', 'blocks.4.hook_mlp_in', 'blocks.4.hook_attn_out', 'blocks.4.hook_mlp_out', 'blocks.4.hook_resid_pre', 'blocks.4.hook_resid_mid', 'blocks.4.hook_resid_post', 'blocks.5.ln1.hook_scale', 'blocks.5.ln1.hook_normalized', 'blocks.5.ln2.hook_scale', 'blocks.5.ln2.hook_normalized', 'blocks.5.attn.hook_k', 'blocks.5.attn.hook_q', 'blocks.5.attn.hook_v', 'blocks.5.attn.hook_z', 'blocks.5.attn.hook_attn_scores', 'blocks.5.attn.hook_pattern', 'blocks.5.attn.hook_result', 'blocks.5.attn.hook_rot_k', 'blocks.5.attn.hook_rot_q', 'blocks.5.mlp.hook_pre', 'blocks.5.mlp.hook_pre_linear', 'blocks.5.mlp.hook_post', 'blocks.5.hook_attn_in', 'blocks.5.hook_q_input', 'blocks.5.hook_k_input', 'blocks.5.hook_v_input', 'blocks.5.hook_mlp_in', 'blocks.5.hook_attn_out', 'blocks.5.hook_mlp_out', 'blocks.5.hook_resid_pre', 'blocks.5.hook_resid_mid', 'blocks.5.hook_resid_post', 'blocks.6.ln1.hook_scale', 'blocks.6.ln1.hook_normalized', 'blocks.6.ln2.hook_scale', 'blocks.6.ln2.hook_normalized', 'blocks.6.attn.hook_k', 'blocks.6.attn.hook_q', 'blocks.6.attn.hook_v', 'blocks.6.attn.hook_z', 'blocks.6.attn.hook_attn_scores', 'blocks.6.attn.hook_pattern', 'blocks.6.attn.hook_result', 'blocks.6.attn.hook_rot_k', 'blocks.6.attn.hook_rot_q', 'blocks.6.mlp.hook_pre', 'blocks.6.mlp.hook_pre_linear', 'blocks.6.mlp.hook_post', 'blocks.6.hook_attn_in', 'blocks.6.hook_q_input', 'blocks.6.hook_k_input', 'blocks.6.hook_v_input', 'blocks.6.hook_mlp_in', 'blocks.6.hook_attn_out', 'blocks.6.hook_mlp_out', 'blocks.6.hook_resid_pre', 'blocks.6.hook_resid_mid', 'blocks.6.hook_resid_post', 'blocks.7.ln1.hook_scale', 'blocks.7.ln1.hook_normalized', 'blocks.7.ln2.hook_scale', 'blocks.7.ln2.hook_normalized', 'blocks.7.attn.hook_k', 'blocks.7.attn.hook_q', 'blocks.7.attn.hook_v', 'blocks.7.attn.hook_z', 'blocks.7.attn.hook_attn_scores', 'blocks.7.attn.hook_pattern', 'blocks.7.attn.hook_result', 'blocks.7.attn.hook_rot_k', 'blocks.7.attn.hook_rot_q', 'blocks.7.mlp.hook_pre', 'blocks.7.mlp.hook_pre_linear', 'blocks.7.mlp.hook_post', 'blocks.7.hook_attn_in', 'blocks.7.hook_q_input', 'blocks.7.hook_k_input', 'blocks.7.hook_v_input', 'blocks.7.hook_mlp_in', 'blocks.7.hook_attn_out', 'blocks.7.hook_mlp_out', 'blocks.7.hook_resid_pre', 'blocks.7.hook_resid_mid', 'blocks.7.hook_resid_post', 'blocks.8.ln1.hook_scale', 'blocks.8.ln1.hook_normalized', 'blocks.8.ln2.hook_scale', 'blocks.8.ln2.hook_normalized', 'blocks.8.attn.hook_k', 'blocks.8.attn.hook_q', 'blocks.8.attn.hook_v', 'blocks.8.attn.hook_z', 'blocks.8.attn.hook_attn_scores', 'blocks.8.attn.hook_pattern', 'blocks.8.attn.hook_result', 'blocks.8.attn.hook_rot_k', 'blocks.8.attn.hook_rot_q', 'blocks.8.mlp.hook_pre', 'blocks.8.mlp.hook_pre_linear', 'blocks.8.mlp.hook_post', 'blocks.8.hook_attn_in', 'blocks.8.hook_q_input', 'blocks.8.hook_k_input', 'blocks.8.hook_v_input', 'blocks.8.hook_mlp_in', 'blocks.8.hook_attn_out', 'blocks.8.hook_mlp_out', 'blocks.8.hook_resid_pre', 'blocks.8.hook_resid_mid', 'blocks.8.hook_resid_post', 'blocks.9.ln1.hook_scale', 'blocks.9.ln1.hook_normalized', 'blocks.9.ln2.hook_scale', 'blocks.9.ln2.hook_normalized', 'blocks.9.attn.hook_k', 'blocks.9.attn.hook_q', 'blocks.9.attn.hook_v', 'blocks.9.attn.hook_z', 'blocks.9.attn.hook_attn_scores', 'blocks.9.attn.hook_pattern', 'blocks.9.attn.hook_result', 'blocks.9.attn.hook_rot_k', 'blocks.9.attn.hook_rot_q', 'blocks.9.mlp.hook_pre', 'blocks.9.mlp.hook_pre_linear', 'blocks.9.mlp.hook_post', 'blocks.9.hook_attn_in', 'blocks.9.hook_q_input', 'blocks.9.hook_k_input', 'blocks.9.hook_v_input', 'blocks.9.hook_mlp_in', 'blocks.9.hook_attn_out', 'blocks.9.hook_mlp_out', 'blocks.9.hook_resid_pre', 'blocks.9.hook_resid_mid', 'blocks.9.hook_resid_post', 'blocks.10.ln1.hook_scale', 'blocks.10.ln1.hook_normalized', 'blocks.10.ln2.hook_scale', 'blocks.10.ln2.hook_normalized', 'blocks.10.attn.hook_k', 'blocks.10.attn.hook_q', 'blocks.10.attn.hook_v', 'blocks.10.attn.hook_z', 'blocks.10.attn.hook_attn_scores', 'blocks.10.attn.hook_pattern', 'blocks.10.attn.hook_result', 'blocks.10.attn.hook_rot_k', 'blocks.10.attn.hook_rot_q', 'blocks.10.mlp.hook_pre', 'blocks.10.mlp.hook_pre_linear', 'blocks.10.mlp.hook_post', 'blocks.10.hook_attn_in', 'blocks.10.hook_q_input', 'blocks.10.hook_k_input', 'blocks.10.hook_v_input', 'blocks.10.hook_mlp_in', 'blocks.10.hook_attn_out', 'blocks.10.hook_mlp_out', 'blocks.10.hook_resid_pre', 'blocks.10.hook_resid_mid', 'blocks.10.hook_resid_post', 'blocks.11.ln1.hook_scale', 'blocks.11.ln1.hook_normalized', 'blocks.11.ln2.hook_scale', 'blocks.11.ln2.hook_normalized', 'blocks.11.attn.hook_k', 'blocks.11.attn.hook_q', 'blocks.11.attn.hook_v', 'blocks.11.attn.hook_z', 'blocks.11.attn.hook_attn_scores', 'blocks.11.attn.hook_pattern', 'blocks.11.attn.hook_result', 'blocks.11.attn.hook_rot_k', 'blocks.11.attn.hook_rot_q', 'blocks.11.mlp.hook_pre', 'blocks.11.mlp.hook_pre_linear', 'blocks.11.mlp.hook_post', 'blocks.11.hook_attn_in', 'blocks.11.hook_q_input', 'blocks.11.hook_k_input', 'blocks.11.hook_v_input', 'blocks.11.hook_mlp_in', 'blocks.11.hook_attn_out', 'blocks.11.hook_mlp_out', 'blocks.11.hook_resid_pre', 'blocks.11.hook_resid_mid', 'blocks.11.hook_resid_post', 'blocks.12.ln1.hook_scale', 'blocks.12.ln1.hook_normalized', 'blocks.12.ln2.hook_scale', 'blocks.12.ln2.hook_normalized', 'blocks.12.attn.hook_k', 'blocks.12.attn.hook_q', 'blocks.12.attn.hook_v', 'blocks.12.attn.hook_z', 'blocks.12.attn.hook_attn_scores', 'blocks.12.attn.hook_pattern', 'blocks.12.attn.hook_result', 'blocks.12.attn.hook_rot_k', 'blocks.12.attn.hook_rot_q', 'blocks.12.mlp.hook_pre', 'blocks.12.mlp.hook_pre_linear', 'blocks.12.mlp.hook_post', 'blocks.12.hook_attn_in', 'blocks.12.hook_q_input', 'blocks.12.hook_k_input', 'blocks.12.hook_v_input', 'blocks.12.hook_mlp_in', 'blocks.12.hook_attn_out', 'blocks.12.hook_mlp_out', 'blocks.12.hook_resid_pre', 'blocks.12.hook_resid_mid', 'blocks.12.hook_resid_post', 'blocks.13.ln1.hook_scale', 'blocks.13.ln1.hook_normalized', 'blocks.13.ln2.hook_scale', 'blocks.13.ln2.hook_normalized', 'blocks.13.attn.hook_k', 'blocks.13.attn.hook_q', 'blocks.13.attn.hook_v', 'blocks.13.attn.hook_z', 'blocks.13.attn.hook_attn_scores', 'blocks.13.attn.hook_pattern', 'blocks.13.attn.hook_result', 'blocks.13.attn.hook_rot_k', 'blocks.13.attn.hook_rot_q', 'blocks.13.mlp.hook_pre', 'blocks.13.mlp.hook_pre_linear', 'blocks.13.mlp.hook_post', 'blocks.13.hook_attn_in', 'blocks.13.hook_q_input', 'blocks.13.hook_k_input', 'blocks.13.hook_v_input', 'blocks.13.hook_mlp_in', 'blocks.13.hook_attn_out', 'blocks.13.hook_mlp_out', 'blocks.13.hook_resid_pre', 'blocks.13.hook_resid_mid', 'blocks.13.hook_resid_post', 'blocks.14.ln1.hook_scale', 'blocks.14.ln1.hook_normalized', 'blocks.14.ln2.hook_scale', 'blocks.14.ln2.hook_normalized', 'blocks.14.attn.hook_k', 'blocks.14.attn.hook_q', 'blocks.14.attn.hook_v', 'blocks.14.attn.hook_z', 'blocks.14.attn.hook_attn_scores', 'blocks.14.attn.hook_pattern', 'blocks.14.attn.hook_result', 'blocks.14.attn.hook_rot_k', 'blocks.14.attn.hook_rot_q', 'blocks.14.mlp.hook_pre', 'blocks.14.mlp.hook_pre_linear', 'blocks.14.mlp.hook_post', 'blocks.14.hook_attn_in', 'blocks.14.hook_q_input', 'blocks.14.hook_k_input', 'blocks.14.hook_v_input', 'blocks.14.hook_mlp_in', 'blocks.14.hook_attn_out', 'blocks.14.hook_mlp_out', 'blocks.14.hook_resid_pre', 'blocks.14.hook_resid_mid', 'blocks.14.hook_resid_post', 'blocks.15.ln1.hook_scale', 'blocks.15.ln1.hook_normalized', 'blocks.15.ln2.hook_scale', 'blocks.15.ln2.hook_normalized', 'blocks.15.attn.hook_k', 'blocks.15.attn.hook_q', 'blocks.15.attn.hook_v', 'blocks.15.attn.hook_z', 'blocks.15.attn.hook_attn_scores', 'blocks.15.attn.hook_pattern', 'blocks.15.attn.hook_result', 'blocks.15.attn.hook_rot_k', 'blocks.15.attn.hook_rot_q', 'blocks.15.mlp.hook_pre', 'blocks.15.mlp.hook_pre_linear', 'blocks.15.mlp.hook_post', 'blocks.15.hook_attn_in', 'blocks.15.hook_q_input', 'blocks.15.hook_k_input', 'blocks.15.hook_v_input', 'blocks.15.hook_mlp_in', 'blocks.15.hook_attn_out', 'blocks.15.hook_mlp_out', 'blocks.15.hook_resid_pre', 'blocks.15.hook_resid_mid', 'blocks.15.hook_resid_post', 'blocks.16.ln1.hook_scale', 'blocks.16.ln1.hook_normalized', 'blocks.16.ln2.hook_scale', 'blocks.16.ln2.hook_normalized', 'blocks.16.attn.hook_k', 'blocks.16.attn.hook_q', 'blocks.16.attn.hook_v', 'blocks.16.attn.hook_z', 'blocks.16.attn.hook_attn_scores', 'blocks.16.attn.hook_pattern', 'blocks.16.attn.hook_result', 'blocks.16.attn.hook_rot_k', 'blocks.16.attn.hook_rot_q', 'blocks.16.mlp.hook_pre', 'blocks.16.mlp.hook_pre_linear', 'blocks.16.mlp.hook_post', 'blocks.16.hook_attn_in', 'blocks.16.hook_q_input', 'blocks.16.hook_k_input', 'blocks.16.hook_v_input', 'blocks.16.hook_mlp_in', 'blocks.16.hook_attn_out', 'blocks.16.hook_mlp_out', 'blocks.16.hook_resid_pre', 'blocks.16.hook_resid_mid', 'blocks.16.hook_resid_post', 'blocks.17.ln1.hook_scale', 'blocks.17.ln1.hook_normalized', 'blocks.17.ln2.hook_scale', 'blocks.17.ln2.hook_normalized', 'blocks.17.attn.hook_k', 'blocks.17.attn.hook_q', 'blocks.17.attn.hook_v', 'blocks.17.attn.hook_z', 'blocks.17.attn.hook_attn_scores', 'blocks.17.attn.hook_pattern', 'blocks.17.attn.hook_result', 'blocks.17.attn.hook_rot_k', 'blocks.17.attn.hook_rot_q', 'blocks.17.mlp.hook_pre', 'blocks.17.mlp.hook_pre_linear', 'blocks.17.mlp.hook_post', 'blocks.17.hook_attn_in', 'blocks.17.hook_q_input', 'blocks.17.hook_k_input', 'blocks.17.hook_v_input', 'blocks.17.hook_mlp_in', 'blocks.17.hook_attn_out', 'blocks.17.hook_mlp_out', 'blocks.17.hook_resid_pre', 'blocks.17.hook_resid_mid', 'blocks.17.hook_resid_post', 'blocks.18.ln1.hook_scale', 'blocks.18.ln1.hook_normalized', 'blocks.18.ln2.hook_scale', 'blocks.18.ln2.hook_normalized', 'blocks.18.attn.hook_k', 'blocks.18.attn.hook_q', 'blocks.18.attn.hook_v', 'blocks.18.attn.hook_z', 'blocks.18.attn.hook_attn_scores', 'blocks.18.attn.hook_pattern', 'blocks.18.attn.hook_result', 'blocks.18.attn.hook_rot_k', 'blocks.18.attn.hook_rot_q', 'blocks.18.mlp.hook_pre', 'blocks.18.mlp.hook_pre_linear', 'blocks.18.mlp.hook_post', 'blocks.18.hook_attn_in', 'blocks.18.hook_q_input', 'blocks.18.hook_k_input', 'blocks.18.hook_v_input', 'blocks.18.hook_mlp_in', 'blocks.18.hook_attn_out', 'blocks.18.hook_mlp_out', 'blocks.18.hook_resid_pre', 'blocks.18.hook_resid_mid', 'blocks.18.hook_resid_post', 'blocks.19.ln1.hook_scale', 'blocks.19.ln1.hook_normalized', 'blocks.19.ln2.hook_scale', 'blocks.19.ln2.hook_normalized', 'blocks.19.attn.hook_k', 'blocks.19.attn.hook_q', 'blocks.19.attn.hook_v', 'blocks.19.attn.hook_z', 'blocks.19.attn.hook_attn_scores', 'blocks.19.attn.hook_pattern', 'blocks.19.attn.hook_result', 'blocks.19.attn.hook_rot_k', 'blocks.19.attn.hook_rot_q', 'blocks.19.mlp.hook_pre', 'blocks.19.mlp.hook_pre_linear', 'blocks.19.mlp.hook_post', 'blocks.19.hook_attn_in', 'blocks.19.hook_q_input', 'blocks.19.hook_k_input', 'blocks.19.hook_v_input', 'blocks.19.hook_mlp_in', 'blocks.19.hook_attn_out', 'blocks.19.hook_mlp_out', 'blocks.19.hook_resid_pre', 'blocks.19.hook_resid_mid', 'blocks.19.hook_resid_post', 'blocks.20.ln1.hook_scale', 'blocks.20.ln1.hook_normalized', 'blocks.20.ln2.hook_scale', 'blocks.20.ln2.hook_normalized', 'blocks.20.attn.hook_k', 'blocks.20.attn.hook_q', 'blocks.20.attn.hook_v', 'blocks.20.attn.hook_z', 'blocks.20.attn.hook_attn_scores', 'blocks.20.attn.hook_pattern', 'blocks.20.attn.hook_result', 'blocks.20.attn.hook_rot_k', 'blocks.20.attn.hook_rot_q', 'blocks.20.mlp.hook_pre', 'blocks.20.mlp.hook_pre_linear', 'blocks.20.mlp.hook_post', 'blocks.20.hook_attn_in', 'blocks.20.hook_q_input', 'blocks.20.hook_k_input', 'blocks.20.hook_v_input', 'blocks.20.hook_mlp_in', 'blocks.20.hook_attn_out', 'blocks.20.hook_mlp_out', 'blocks.20.hook_resid_pre', 'blocks.20.hook_resid_mid', 'blocks.20.hook_resid_post', 'blocks.21.ln1.hook_scale', 'blocks.21.ln1.hook_normalized', 'blocks.21.ln2.hook_scale', 'blocks.21.ln2.hook_normalized', 'blocks.21.attn.hook_k', 'blocks.21.attn.hook_q', 'blocks.21.attn.hook_v', 'blocks.21.attn.hook_z', 'blocks.21.attn.hook_attn_scores', 'blocks.21.attn.hook_pattern', 'blocks.21.attn.hook_result', 'blocks.21.attn.hook_rot_k', 'blocks.21.attn.hook_rot_q', 'blocks.21.mlp.hook_pre', 'blocks.21.mlp.hook_pre_linear', 'blocks.21.mlp.hook_post', 'blocks.21.hook_attn_in', 'blocks.21.hook_q_input', 'blocks.21.hook_k_input', 'blocks.21.hook_v_input', 'blocks.21.hook_mlp_in', 'blocks.21.hook_attn_out', 'blocks.21.hook_mlp_out', 'blocks.21.hook_resid_pre', 'blocks.21.hook_resid_mid', 'blocks.21.hook_resid_post', 'blocks.22.ln1.hook_scale', 'blocks.22.ln1.hook_normalized', 'blocks.22.ln2.hook_scale', 'blocks.22.ln2.hook_normalized', 'blocks.22.attn.hook_k', 'blocks.22.attn.hook_q', 'blocks.22.attn.hook_v', 'blocks.22.attn.hook_z', 'blocks.22.attn.hook_attn_scores', 'blocks.22.attn.hook_pattern', 'blocks.22.attn.hook_result', 'blocks.22.attn.hook_rot_k', 'blocks.22.attn.hook_rot_q', 'blocks.22.mlp.hook_pre', 'blocks.22.mlp.hook_pre_linear', 'blocks.22.mlp.hook_post', 'blocks.22.hook_attn_in', 'blocks.22.hook_q_input', 'blocks.22.hook_k_input', 'blocks.22.hook_v_input', 'blocks.22.hook_mlp_in', 'blocks.22.hook_attn_out', 'blocks.22.hook_mlp_out', 'blocks.22.hook_resid_pre', 'blocks.22.hook_resid_mid', 'blocks.22.hook_resid_post', 'blocks.23.ln1.hook_scale', 'blocks.23.ln1.hook_normalized', 'blocks.23.ln2.hook_scale', 'blocks.23.ln2.hook_normalized', 'blocks.23.attn.hook_k', 'blocks.23.attn.hook_q', 'blocks.23.attn.hook_v', 'blocks.23.attn.hook_z', 'blocks.23.attn.hook_attn_scores', 'blocks.23.attn.hook_pattern', 'blocks.23.attn.hook_result', 'blocks.23.attn.hook_rot_k', 'blocks.23.attn.hook_rot_q', 'blocks.23.mlp.hook_pre', 'blocks.23.mlp.hook_pre_linear', 'blocks.23.mlp.hook_post', 'blocks.23.hook_attn_in', 'blocks.23.hook_q_input', 'blocks.23.hook_k_input', 'blocks.23.hook_v_input', 'blocks.23.hook_mlp_in', 'blocks.23.hook_attn_out', 'blocks.23.hook_mlp_out', 'blocks.23.hook_resid_pre', 'blocks.23.hook_resid_mid', 'blocks.23.hook_resid_post', 'blocks.24.ln1.hook_scale', 'blocks.24.ln1.hook_normalized', 'blocks.24.ln2.hook_scale', 'blocks.24.ln2.hook_normalized', 'blocks.24.attn.hook_k', 'blocks.24.attn.hook_q', 'blocks.24.attn.hook_v', 'blocks.24.attn.hook_z', 'blocks.24.attn.hook_attn_scores', 'blocks.24.attn.hook_pattern', 'blocks.24.attn.hook_result', 'blocks.24.attn.hook_rot_k', 'blocks.24.attn.hook_rot_q', 'blocks.24.mlp.hook_pre', 'blocks.24.mlp.hook_pre_linear', 'blocks.24.mlp.hook_post', 'blocks.24.hook_attn_in', 'blocks.24.hook_q_input', 'blocks.24.hook_k_input', 'blocks.24.hook_v_input', 'blocks.24.hook_mlp_in', 'blocks.24.hook_attn_out', 'blocks.24.hook_mlp_out', 'blocks.24.hook_resid_pre', 'blocks.24.hook_resid_mid', 'blocks.24.hook_resid_post', 'blocks.25.ln1.hook_scale', 'blocks.25.ln1.hook_normalized', 'blocks.25.ln2.hook_scale', 'blocks.25.ln2.hook_normalized', 'blocks.25.attn.hook_k', 'blocks.25.attn.hook_q', 'blocks.25.attn.hook_v', 'blocks.25.attn.hook_z', 'blocks.25.attn.hook_attn_scores', 'blocks.25.attn.hook_pattern', 'blocks.25.attn.hook_result', 'blocks.25.attn.hook_rot_k', 'blocks.25.attn.hook_rot_q', 'blocks.25.mlp.hook_pre', 'blocks.25.mlp.hook_pre_linear', 'blocks.25.mlp.hook_post', 'blocks.25.hook_attn_in', 'blocks.25.hook_q_input', 'blocks.25.hook_k_input', 'blocks.25.hook_v_input', 'blocks.25.hook_mlp_in', 'blocks.25.hook_attn_out', 'blocks.25.hook_mlp_out', 'blocks.25.hook_resid_pre', 'blocks.25.hook_resid_mid', 'blocks.25.hook_resid_post', 'blocks.26.ln1.hook_scale', 'blocks.26.ln1.hook_normalized', 'blocks.26.ln2.hook_scale', 'blocks.26.ln2.hook_normalized', 'blocks.26.attn.hook_k', 'blocks.26.attn.hook_q', 'blocks.26.attn.hook_v', 'blocks.26.attn.hook_z', 'blocks.26.attn.hook_attn_scores', 'blocks.26.attn.hook_pattern', 'blocks.26.attn.hook_result', 'blocks.26.attn.hook_rot_k', 'blocks.26.attn.hook_rot_q', 'blocks.26.mlp.hook_pre', 'blocks.26.mlp.hook_pre_linear', 'blocks.26.mlp.hook_post', 'blocks.26.hook_attn_in', 'blocks.26.hook_q_input', 'blocks.26.hook_k_input', 'blocks.26.hook_v_input', 'blocks.26.hook_mlp_in', 'blocks.26.hook_attn_out', 'blocks.26.hook_mlp_out', 'blocks.26.hook_resid_pre', 'blocks.26.hook_resid_mid', 'blocks.26.hook_resid_post', 'blocks.27.ln1.hook_scale', 'blocks.27.ln1.hook_normalized', 'blocks.27.ln2.hook_scale', 'blocks.27.ln2.hook_normalized', 'blocks.27.attn.hook_k', 'blocks.27.attn.hook_q', 'blocks.27.attn.hook_v', 'blocks.27.attn.hook_z', 'blocks.27.attn.hook_attn_scores', 'blocks.27.attn.hook_pattern', 'blocks.27.attn.hook_result', 'blocks.27.attn.hook_rot_k', 'blocks.27.attn.hook_rot_q', 'blocks.27.mlp.hook_pre', 'blocks.27.mlp.hook_pre_linear', 'blocks.27.mlp.hook_post', 'blocks.27.hook_attn_in', 'blocks.27.hook_q_input', 'blocks.27.hook_k_input', 'blocks.27.hook_v_input', 'blocks.27.hook_mlp_in', 'blocks.27.hook_attn_out', 'blocks.27.hook_mlp_out', 'blocks.27.hook_resid_pre', 'blocks.27.hook_resid_mid', 'blocks.27.hook_resid_post', 'ln_final.hook_scale', 'ln_final.hook_normalized'])\n"
     ]
    }
   ],
   "source": [
    "# Print all the keys in the model.hook_dict\n",
    "print(model.hook_dict.keys())"
   ]
  },
  {
   "cell_type": "code",
   "execution_count": 8,
   "id": "179324b6",
   "metadata": {},
   "outputs": [
    {
     "data": {
      "text/plain": [
       "torch.Size([3584])"
      ]
     },
     "execution_count": 8,
     "metadata": {},
     "output_type": "execute_result"
    }
   ],
   "source": [
    "def get_representations(prompts: list[str]) -> dict[str, torch.Tensor]:\n",
    "\n",
    "    prompts = tokenizer(prompts, return_tensors=\"pt\", padding=True, padding_side=\"left\").to(device)\n",
    "    # Get last token representations for each prompt\n",
    "    with torch.no_grad():\n",
    "        logits, cache = model.run_with_cache(prompts.input_ids)\n",
    "\n",
    "    # Average the representations in the residual stream across the sequence length\n",
    "    hooks = [key for key in cache.keys() if \"resid_post\" in key or \"embed\" in key]\n",
    "\n",
    "    return logits, {hook: cache[hook].mean(dim=(0, 1)) for hook in hooks}\n",
    "\n",
    "\n",
    "\n",
    "_, representations = get_representations(\n",
    "    [get_prompt(\"cat\", i, \"animal\") for i in range(5)]\n",
    ")\n",
    "representations[\"hook_embed\"].shape"
   ]
  },
  {
   "cell_type": "code",
   "execution_count": 9,
   "id": "8390efbc",
   "metadata": {},
   "outputs": [],
   "source": [
    "def get_cosine_similarities(\n",
    "    representation_1: torch.Tensor,\n",
    "    representation_2: torch.Tensor,\n",
    ") -> None:\n",
    "    # Compute cosine similarities for each layer\n",
    "    similarities = {}\n",
    "\n",
    "    for layers in representation_1.keys():\n",
    "        similarities[layers] = F.cosine_similarity(\n",
    "            representation_1[layers], representation_2[layers], dim=0\n",
    "        ).item()\n",
    "\n",
    "    return similarities\n",
    "\n",
    "\n",
    "def plot_similarities(similarities: dict[str, float]) -> None:\n",
    "    fig = px.line(\n",
    "        x=list(range(len(similarities))),\n",
    "        y=list(similarities.values()),\n",
    "        labels={\"x\": \"Layer\", \"y\": \"Cosine Similarity\"},\n",
    "        title=\"Cosine Similarity Between Representations Across Layers\",\n",
    "    )\n",
    "    fig.update_traces(mode=\"markers+lines\")\n",
    "    fig.update_layout(xaxis=dict(dtick=1))\n",
    "    return fig"
   ]
  },
  {
   "cell_type": "code",
   "execution_count": 10,
   "id": "4d7c2e51",
   "metadata": {},
   "outputs": [
    {
     "name": "stdout",
     "output_type": "stream",
     "text": [
      "Prompt 1 - Top 5 Number model prediction: Eight\n",
      "Prompt 1 - Top 5 Animal model prediction: O\n",
      "Prompt 2 - Top 5 Number model prediction: Eight\n",
      "Prompt 2 - Top 5 Animal model prediction: O\n",
      "Prompt 3 - Top 5 Number model prediction: Eight\n",
      "Prompt 3 - Top 5 Animal model prediction: O\n",
      "Prompt 4 - Top 5 Number model prediction: Eight\n",
      "Prompt 4 - Top 5 Animal model prediction: O\n",
      "Prompt 5 - Top 5 Number model prediction: Eight\n",
      "Prompt 5 - Top 5 Animal model prediction: O\n"
     ]
    },
    {
     "data": {
      "application/vnd.plotly.v1+json": {
       "config": {
        "plotlyServerURL": "https://plot.ly"
       },
       "data": [
        {
         "hovertemplate": "Layer=%{x}<br>Cosine Similarity=%{y}<extra></extra>",
         "legendgroup": "",
         "line": {
          "color": "#636efa",
          "dash": "solid"
         },
         "marker": {
          "symbol": "circle"
         },
         "mode": "markers+lines",
         "name": "",
         "orientation": "v",
         "showlegend": false,
         "type": "scatter",
         "x": {
          "bdata": "AAECAwQFBgcICQoLDA0ODxAREhMUFRYXGBkaGxw=",
          "dtype": "i1"
         },
         "xaxis": "x",
         "y": {
          "bdata": "AAAAIAc+7z8AAACAEdTvPwAAAMBxxu8/AAAAwLG07z8AAADg3f/vPwAAAODm/+8/AAAAwOT/7z8AAACA3f/vPwAAAIDF/+8/AAAAwJ3/7z8AAADgh//vPwAAAICB/+8/AAAAQIL/7z8AAABAg//vPwAAAIBs/+8/AAAAAGf/7z8AAAAAZP/vPwAAAKBi/+8/AAAAgF7/7z8AAAAAPf/vPwAAAEDK/u8/AAAAICb+7z8AAAAA0PzvPwAAAIDD+u8/AAAAQDr37z8AAAAgcfLvPwAAAAAK7+8/AAAAgOC37z8AAABAbNHtPw==",
          "dtype": "f8"
         },
         "yaxis": "y"
        }
       ],
       "layout": {
        "legend": {
         "tracegroupgap": 0
        },
        "template": {
         "data": {
          "bar": [
           {
            "error_x": {
             "color": "#2a3f5f"
            },
            "error_y": {
             "color": "#2a3f5f"
            },
            "marker": {
             "line": {
              "color": "#E5ECF6",
              "width": 0.5
             },
             "pattern": {
              "fillmode": "overlay",
              "size": 10,
              "solidity": 0.2
             }
            },
            "type": "bar"
           }
          ],
          "barpolar": [
           {
            "marker": {
             "line": {
              "color": "#E5ECF6",
              "width": 0.5
             },
             "pattern": {
              "fillmode": "overlay",
              "size": 10,
              "solidity": 0.2
             }
            },
            "type": "barpolar"
           }
          ],
          "carpet": [
           {
            "aaxis": {
             "endlinecolor": "#2a3f5f",
             "gridcolor": "white",
             "linecolor": "white",
             "minorgridcolor": "white",
             "startlinecolor": "#2a3f5f"
            },
            "baxis": {
             "endlinecolor": "#2a3f5f",
             "gridcolor": "white",
             "linecolor": "white",
             "minorgridcolor": "white",
             "startlinecolor": "#2a3f5f"
            },
            "type": "carpet"
           }
          ],
          "choropleth": [
           {
            "colorbar": {
             "outlinewidth": 0,
             "ticks": ""
            },
            "type": "choropleth"
           }
          ],
          "contour": [
           {
            "colorbar": {
             "outlinewidth": 0,
             "ticks": ""
            },
            "colorscale": [
             [
              0,
              "#0d0887"
             ],
             [
              0.1111111111111111,
              "#46039f"
             ],
             [
              0.2222222222222222,
              "#7201a8"
             ],
             [
              0.3333333333333333,
              "#9c179e"
             ],
             [
              0.4444444444444444,
              "#bd3786"
             ],
             [
              0.5555555555555556,
              "#d8576b"
             ],
             [
              0.6666666666666666,
              "#ed7953"
             ],
             [
              0.7777777777777778,
              "#fb9f3a"
             ],
             [
              0.8888888888888888,
              "#fdca26"
             ],
             [
              1,
              "#f0f921"
             ]
            ],
            "type": "contour"
           }
          ],
          "contourcarpet": [
           {
            "colorbar": {
             "outlinewidth": 0,
             "ticks": ""
            },
            "type": "contourcarpet"
           }
          ],
          "heatmap": [
           {
            "colorbar": {
             "outlinewidth": 0,
             "ticks": ""
            },
            "colorscale": [
             [
              0,
              "#0d0887"
             ],
             [
              0.1111111111111111,
              "#46039f"
             ],
             [
              0.2222222222222222,
              "#7201a8"
             ],
             [
              0.3333333333333333,
              "#9c179e"
             ],
             [
              0.4444444444444444,
              "#bd3786"
             ],
             [
              0.5555555555555556,
              "#d8576b"
             ],
             [
              0.6666666666666666,
              "#ed7953"
             ],
             [
              0.7777777777777778,
              "#fb9f3a"
             ],
             [
              0.8888888888888888,
              "#fdca26"
             ],
             [
              1,
              "#f0f921"
             ]
            ],
            "type": "heatmap"
           }
          ],
          "histogram": [
           {
            "marker": {
             "pattern": {
              "fillmode": "overlay",
              "size": 10,
              "solidity": 0.2
             }
            },
            "type": "histogram"
           }
          ],
          "histogram2d": [
           {
            "colorbar": {
             "outlinewidth": 0,
             "ticks": ""
            },
            "colorscale": [
             [
              0,
              "#0d0887"
             ],
             [
              0.1111111111111111,
              "#46039f"
             ],
             [
              0.2222222222222222,
              "#7201a8"
             ],
             [
              0.3333333333333333,
              "#9c179e"
             ],
             [
              0.4444444444444444,
              "#bd3786"
             ],
             [
              0.5555555555555556,
              "#d8576b"
             ],
             [
              0.6666666666666666,
              "#ed7953"
             ],
             [
              0.7777777777777778,
              "#fb9f3a"
             ],
             [
              0.8888888888888888,
              "#fdca26"
             ],
             [
              1,
              "#f0f921"
             ]
            ],
            "type": "histogram2d"
           }
          ],
          "histogram2dcontour": [
           {
            "colorbar": {
             "outlinewidth": 0,
             "ticks": ""
            },
            "colorscale": [
             [
              0,
              "#0d0887"
             ],
             [
              0.1111111111111111,
              "#46039f"
             ],
             [
              0.2222222222222222,
              "#7201a8"
             ],
             [
              0.3333333333333333,
              "#9c179e"
             ],
             [
              0.4444444444444444,
              "#bd3786"
             ],
             [
              0.5555555555555556,
              "#d8576b"
             ],
             [
              0.6666666666666666,
              "#ed7953"
             ],
             [
              0.7777777777777778,
              "#fb9f3a"
             ],
             [
              0.8888888888888888,
              "#fdca26"
             ],
             [
              1,
              "#f0f921"
             ]
            ],
            "type": "histogram2dcontour"
           }
          ],
          "mesh3d": [
           {
            "colorbar": {
             "outlinewidth": 0,
             "ticks": ""
            },
            "type": "mesh3d"
           }
          ],
          "parcoords": [
           {
            "line": {
             "colorbar": {
              "outlinewidth": 0,
              "ticks": ""
             }
            },
            "type": "parcoords"
           }
          ],
          "pie": [
           {
            "automargin": true,
            "type": "pie"
           }
          ],
          "scatter": [
           {
            "fillpattern": {
             "fillmode": "overlay",
             "size": 10,
             "solidity": 0.2
            },
            "type": "scatter"
           }
          ],
          "scatter3d": [
           {
            "line": {
             "colorbar": {
              "outlinewidth": 0,
              "ticks": ""
             }
            },
            "marker": {
             "colorbar": {
              "outlinewidth": 0,
              "ticks": ""
             }
            },
            "type": "scatter3d"
           }
          ],
          "scattercarpet": [
           {
            "marker": {
             "colorbar": {
              "outlinewidth": 0,
              "ticks": ""
             }
            },
            "type": "scattercarpet"
           }
          ],
          "scattergeo": [
           {
            "marker": {
             "colorbar": {
              "outlinewidth": 0,
              "ticks": ""
             }
            },
            "type": "scattergeo"
           }
          ],
          "scattergl": [
           {
            "marker": {
             "colorbar": {
              "outlinewidth": 0,
              "ticks": ""
             }
            },
            "type": "scattergl"
           }
          ],
          "scattermap": [
           {
            "marker": {
             "colorbar": {
              "outlinewidth": 0,
              "ticks": ""
             }
            },
            "type": "scattermap"
           }
          ],
          "scattermapbox": [
           {
            "marker": {
             "colorbar": {
              "outlinewidth": 0,
              "ticks": ""
             }
            },
            "type": "scattermapbox"
           }
          ],
          "scatterpolar": [
           {
            "marker": {
             "colorbar": {
              "outlinewidth": 0,
              "ticks": ""
             }
            },
            "type": "scatterpolar"
           }
          ],
          "scatterpolargl": [
           {
            "marker": {
             "colorbar": {
              "outlinewidth": 0,
              "ticks": ""
             }
            },
            "type": "scatterpolargl"
           }
          ],
          "scatterternary": [
           {
            "marker": {
             "colorbar": {
              "outlinewidth": 0,
              "ticks": ""
             }
            },
            "type": "scatterternary"
           }
          ],
          "surface": [
           {
            "colorbar": {
             "outlinewidth": 0,
             "ticks": ""
            },
            "colorscale": [
             [
              0,
              "#0d0887"
             ],
             [
              0.1111111111111111,
              "#46039f"
             ],
             [
              0.2222222222222222,
              "#7201a8"
             ],
             [
              0.3333333333333333,
              "#9c179e"
             ],
             [
              0.4444444444444444,
              "#bd3786"
             ],
             [
              0.5555555555555556,
              "#d8576b"
             ],
             [
              0.6666666666666666,
              "#ed7953"
             ],
             [
              0.7777777777777778,
              "#fb9f3a"
             ],
             [
              0.8888888888888888,
              "#fdca26"
             ],
             [
              1,
              "#f0f921"
             ]
            ],
            "type": "surface"
           }
          ],
          "table": [
           {
            "cells": {
             "fill": {
              "color": "#EBF0F8"
             },
             "line": {
              "color": "white"
             }
            },
            "header": {
             "fill": {
              "color": "#C8D4E3"
             },
             "line": {
              "color": "white"
             }
            },
            "type": "table"
           }
          ]
         },
         "layout": {
          "annotationdefaults": {
           "arrowcolor": "#2a3f5f",
           "arrowhead": 0,
           "arrowwidth": 1
          },
          "autotypenumbers": "strict",
          "coloraxis": {
           "colorbar": {
            "outlinewidth": 0,
            "ticks": ""
           }
          },
          "colorscale": {
           "diverging": [
            [
             0,
             "#8e0152"
            ],
            [
             0.1,
             "#c51b7d"
            ],
            [
             0.2,
             "#de77ae"
            ],
            [
             0.3,
             "#f1b6da"
            ],
            [
             0.4,
             "#fde0ef"
            ],
            [
             0.5,
             "#f7f7f7"
            ],
            [
             0.6,
             "#e6f5d0"
            ],
            [
             0.7,
             "#b8e186"
            ],
            [
             0.8,
             "#7fbc41"
            ],
            [
             0.9,
             "#4d9221"
            ],
            [
             1,
             "#276419"
            ]
           ],
           "sequential": [
            [
             0,
             "#0d0887"
            ],
            [
             0.1111111111111111,
             "#46039f"
            ],
            [
             0.2222222222222222,
             "#7201a8"
            ],
            [
             0.3333333333333333,
             "#9c179e"
            ],
            [
             0.4444444444444444,
             "#bd3786"
            ],
            [
             0.5555555555555556,
             "#d8576b"
            ],
            [
             0.6666666666666666,
             "#ed7953"
            ],
            [
             0.7777777777777778,
             "#fb9f3a"
            ],
            [
             0.8888888888888888,
             "#fdca26"
            ],
            [
             1,
             "#f0f921"
            ]
           ],
           "sequentialminus": [
            [
             0,
             "#0d0887"
            ],
            [
             0.1111111111111111,
             "#46039f"
            ],
            [
             0.2222222222222222,
             "#7201a8"
            ],
            [
             0.3333333333333333,
             "#9c179e"
            ],
            [
             0.4444444444444444,
             "#bd3786"
            ],
            [
             0.5555555555555556,
             "#d8576b"
            ],
            [
             0.6666666666666666,
             "#ed7953"
            ],
            [
             0.7777777777777778,
             "#fb9f3a"
            ],
            [
             0.8888888888888888,
             "#fdca26"
            ],
            [
             1,
             "#f0f921"
            ]
           ]
          },
          "colorway": [
           "#636efa",
           "#EF553B",
           "#00cc96",
           "#ab63fa",
           "#FFA15A",
           "#19d3f3",
           "#FF6692",
           "#B6E880",
           "#FF97FF",
           "#FECB52"
          ],
          "font": {
           "color": "#2a3f5f"
          },
          "geo": {
           "bgcolor": "white",
           "lakecolor": "white",
           "landcolor": "#E5ECF6",
           "showlakes": true,
           "showland": true,
           "subunitcolor": "white"
          },
          "hoverlabel": {
           "align": "left"
          },
          "hovermode": "closest",
          "mapbox": {
           "style": "light"
          },
          "paper_bgcolor": "white",
          "plot_bgcolor": "#E5ECF6",
          "polar": {
           "angularaxis": {
            "gridcolor": "white",
            "linecolor": "white",
            "ticks": ""
           },
           "bgcolor": "#E5ECF6",
           "radialaxis": {
            "gridcolor": "white",
            "linecolor": "white",
            "ticks": ""
           }
          },
          "scene": {
           "xaxis": {
            "backgroundcolor": "#E5ECF6",
            "gridcolor": "white",
            "gridwidth": 2,
            "linecolor": "white",
            "showbackground": true,
            "ticks": "",
            "zerolinecolor": "white"
           },
           "yaxis": {
            "backgroundcolor": "#E5ECF6",
            "gridcolor": "white",
            "gridwidth": 2,
            "linecolor": "white",
            "showbackground": true,
            "ticks": "",
            "zerolinecolor": "white"
           },
           "zaxis": {
            "backgroundcolor": "#E5ECF6",
            "gridcolor": "white",
            "gridwidth": 2,
            "linecolor": "white",
            "showbackground": true,
            "ticks": "",
            "zerolinecolor": "white"
           }
          },
          "shapedefaults": {
           "line": {
            "color": "#2a3f5f"
           }
          },
          "ternary": {
           "aaxis": {
            "gridcolor": "white",
            "linecolor": "white",
            "ticks": ""
           },
           "baxis": {
            "gridcolor": "white",
            "linecolor": "white",
            "ticks": ""
           },
           "bgcolor": "#E5ECF6",
           "caxis": {
            "gridcolor": "white",
            "linecolor": "white",
            "ticks": ""
           }
          },
          "title": {
           "x": 0.05
          },
          "xaxis": {
           "automargin": true,
           "gridcolor": "white",
           "linecolor": "white",
           "ticks": "",
           "title": {
            "standoff": 15
           },
           "zerolinecolor": "white",
           "zerolinewidth": 2
          },
          "yaxis": {
           "automargin": true,
           "gridcolor": "white",
           "linecolor": "white",
           "ticks": "",
           "title": {
            "standoff": 15
           },
           "zerolinecolor": "white",
           "zerolinewidth": 2
          }
         }
        },
        "title": {
         "text": "Cosine Similarity Between Representations Across Layers"
        },
        "xaxis": {
         "anchor": "y",
         "domain": [
          0,
          1
         ],
         "dtick": 1,
         "title": {
          "text": "Layer"
         }
        },
        "yaxis": {
         "anchor": "x",
         "domain": [
          0,
          1
         ],
         "title": {
          "text": "Cosine Similarity"
         }
        }
       }
      }
     },
     "metadata": {},
     "output_type": "display_data"
    }
   ],
   "source": [
    "number_logits, number_representations = get_representations(\n",
    "    [get_prompt(\"8\", i, \"number\") for i in range(5)]\n",
    ")\n",
    "animal_logits, animal_representations = get_representations(\n",
    "    [get_prompt(\"oyster\", i, \"animal\") for i in range(5)]\n",
    ")\n",
    "\n",
    "for i in range(5):\n",
    "    print(\n",
    "        f\"Prompt {i+1} - Top 5 Number model prediction:\",\n",
    "        tokenizer.decode(torch.argmax(number_logits[i, -1])),\n",
    "    )\n",
    "    print(\n",
    "        f\"Prompt {i+1} - Top 5 Animal model prediction:\",\n",
    "        tokenizer.decode(torch.argmax(animal_logits[i, -1])),\n",
    "    )\n",
    "\n",
    "similarities = get_cosine_similarities(number_representations, animal_representations)\n",
    "plot_similarities(similarities)"
   ]
  },
  {
   "cell_type": "code",
   "execution_count": 11,
   "id": "56f82d66",
   "metadata": {},
   "outputs": [],
   "source": [
    "#  For each animal in the dataset, get the representation of the last layer\n",
    "animal_representations = {}\n",
    "for animal in animals:\n",
    "    _, reps = get_representations([get_prompt(animal, i, \"animal\") for i in range(5)])\n",
    "    animal_representations[animal] = reps[\"blocks.27.hook_resid_post\"]"
   ]
  },
  {
   "cell_type": "code",
   "execution_count": 12,
   "id": "aff874f4",
   "metadata": {},
   "outputs": [
    {
     "data": {
      "application/vnd.plotly.v1+json": {
       "config": {
        "plotlyServerURL": "https://plot.ly"
       },
       "data": [
        {
         "hovertemplate": "Animal=%{x}<br>Cosine Similarity=%{y}<extra></extra>",
         "legendgroup": "",
         "marker": {
          "color": "#636efa",
          "pattern": {
           "shape": ""
          }
         },
         "name": "",
         "orientation": "v",
         "showlegend": false,
         "textposition": "auto",
         "type": "bar",
         "x": [
          "badger",
          "emu",
          "newt",
          "armadillo",
          "starling",
          "aardvark",
          "rook",
          "weasel",
          "toad",
          "magpie",
          "albatross",
          "lark",
          "eland",
          "sardine",
          "octopus",
          "wren",
          "sand dollar",
          "stinkbug",
          "wallaby",
          "okapi",
          "stork",
          "eel",
          "porcupine",
          "ant",
          "alligator",
          "snail",
          "ferret",
          "hamster",
          "jay",
          "grasshopper",
          "heron",
          "mule",
          "tapir",
          "salamander",
          "donkey",
          "wasp",
          "goldfinch",
          "locust",
          "kingfisher",
          "mandrill",
          "bat",
          "shrew",
          "chough",
          "kudu",
          "partridge",
          "human",
          "lyrebird",
          "oryx",
          "woodpecker",
          "dotterel",
          "nightingale",
          "skunk",
          "capybara",
          "meerkat",
          "gnat",
          "rat",
          "ram",
          "porpoise",
          "sandpiper",
          "gerbil",
          "ibis",
          "parrot",
          "alpaca",
          "goldfish",
          "dragonfly",
          "gull",
          "fly",
          "opossum",
          "termite",
          "bear",
          "woodcock",
          "loris",
          "tarsier",
          "wildcat",
          "cockroach",
          "louse",
          "chamois",
          "otter",
          "dogfish",
          "scorpion",
          "mink",
          "walrus",
          "mantis",
          "finch",
          "kookabura",
          "lapwing",
          "pheasant",
          "quail",
          "chinchilla",
          "antelope",
          "crocodile",
          "echidna",
          "vulture",
          "goshawk",
          "ibex",
          "guanaco",
          "jackal",
          "red panda",
          "boar",
          "manatee",
          "hornet",
          "seahorse",
          "caribou",
          "curlew",
          "mouse",
          "pelican",
          "bee",
          "hyena",
          "cod",
          "cormorant",
          "anteater",
          "marten",
          "monkey",
          "penguin",
          "cheetah",
          "gnu",
          "zebra",
          "mallard",
          "rail",
          "rhinoceros",
          "falcon",
          "koala",
          "hare",
          "oyster",
          "peafowl",
          "cat",
          "narwhal",
          "beaver",
          "baboon",
          "gorilla",
          "moose",
          "ape",
          "wombat",
          "worm",
          "quetzal",
          "quelea",
          "turtle",
          "swan",
          "fox",
          "pig",
          "cassowary",
          "crow",
          "sparrow",
          "kouprey",
          "raven",
          "bison",
          "dog",
          "snake",
          "cobra",
          "gaur",
          "frog",
          "panther",
          "owl",
          "duck",
          "herring",
          "rabbit",
          "lemur",
          "mole",
          "fish",
          "hedgehog",
          "caterpillar",
          "camel",
          "red deer",
          "lion",
          "barracuda",
          "flamingo",
          "seal",
          "horse",
          "stingray",
          "crane",
          "dove",
          "wolf",
          "ostrich",
          "giraffe",
          "raccoon",
          "wolverine",
          "hawk",
          "spoonbill",
          "gazelle",
          "mongoose",
          "spider",
          "hippopotamus",
          "hummingbird",
          "deer",
          "reindeer",
          "swallow",
          "dunlin",
          "goat",
          "squid",
          "kangaroo",
          "jellyfish",
          "elephant",
          "mosquito",
          "chimpanzee",
          "squirrel",
          "dugong",
          "tiger",
          "llama",
          "coyote",
          "goose",
          "viper",
          "shark",
          "clam",
          "whale",
          "grouse",
          "chicken",
          "pony",
          "jaguar",
          "crab",
          "sheep",
          "yak",
          "leopard",
          "turkey",
          "eagle",
          "pigeon",
          "dinosaur",
          "buffalo",
          "cattle",
          "elk",
          "butterfly",
          "salmon",
          "dolphin",
          "lobster",
          "trout"
         ],
         "xaxis": "x",
         "y": {
          "bdata": "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",
          "dtype": "f8"
         },
         "yaxis": "y"
        }
       ],
       "layout": {
        "barmode": "relative",
        "legend": {
         "tracegroupgap": 0
        },
        "template": {
         "data": {
          "bar": [
           {
            "error_x": {
             "color": "#2a3f5f"
            },
            "error_y": {
             "color": "#2a3f5f"
            },
            "marker": {
             "line": {
              "color": "#E5ECF6",
              "width": 0.5
             },
             "pattern": {
              "fillmode": "overlay",
              "size": 10,
              "solidity": 0.2
             }
            },
            "type": "bar"
           }
          ],
          "barpolar": [
           {
            "marker": {
             "line": {
              "color": "#E5ECF6",
              "width": 0.5
             },
             "pattern": {
              "fillmode": "overlay",
              "size": 10,
              "solidity": 0.2
             }
            },
            "type": "barpolar"
           }
          ],
          "carpet": [
           {
            "aaxis": {
             "endlinecolor": "#2a3f5f",
             "gridcolor": "white",
             "linecolor": "white",
             "minorgridcolor": "white",
             "startlinecolor": "#2a3f5f"
            },
            "baxis": {
             "endlinecolor": "#2a3f5f",
             "gridcolor": "white",
             "linecolor": "white",
             "minorgridcolor": "white",
             "startlinecolor": "#2a3f5f"
            },
            "type": "carpet"
           }
          ],
          "choropleth": [
           {
            "colorbar": {
             "outlinewidth": 0,
             "ticks": ""
            },
            "type": "choropleth"
           }
          ],
          "contour": [
           {
            "colorbar": {
             "outlinewidth": 0,
             "ticks": ""
            },
            "colorscale": [
             [
              0,
              "#0d0887"
             ],
             [
              0.1111111111111111,
              "#46039f"
             ],
             [
              0.2222222222222222,
              "#7201a8"
             ],
             [
              0.3333333333333333,
              "#9c179e"
             ],
             [
              0.4444444444444444,
              "#bd3786"
             ],
             [
              0.5555555555555556,
              "#d8576b"
             ],
             [
              0.6666666666666666,
              "#ed7953"
             ],
             [
              0.7777777777777778,
              "#fb9f3a"
             ],
             [
              0.8888888888888888,
              "#fdca26"
             ],
             [
              1,
              "#f0f921"
             ]
            ],
            "type": "contour"
           }
          ],
          "contourcarpet": [
           {
            "colorbar": {
             "outlinewidth": 0,
             "ticks": ""
            },
            "type": "contourcarpet"
           }
          ],
          "heatmap": [
           {
            "colorbar": {
             "outlinewidth": 0,
             "ticks": ""
            },
            "colorscale": [
             [
              0,
              "#0d0887"
             ],
             [
              0.1111111111111111,
              "#46039f"
             ],
             [
              0.2222222222222222,
              "#7201a8"
             ],
             [
              0.3333333333333333,
              "#9c179e"
             ],
             [
              0.4444444444444444,
              "#bd3786"
             ],
             [
              0.5555555555555556,
              "#d8576b"
             ],
             [
              0.6666666666666666,
              "#ed7953"
             ],
             [
              0.7777777777777778,
              "#fb9f3a"
             ],
             [
              0.8888888888888888,
              "#fdca26"
             ],
             [
              1,
              "#f0f921"
             ]
            ],
            "type": "heatmap"
           }
          ],
          "histogram": [
           {
            "marker": {
             "pattern": {
              "fillmode": "overlay",
              "size": 10,
              "solidity": 0.2
             }
            },
            "type": "histogram"
           }
          ],
          "histogram2d": [
           {
            "colorbar": {
             "outlinewidth": 0,
             "ticks": ""
            },
            "colorscale": [
             [
              0,
              "#0d0887"
             ],
             [
              0.1111111111111111,
              "#46039f"
             ],
             [
              0.2222222222222222,
              "#7201a8"
             ],
             [
              0.3333333333333333,
              "#9c179e"
             ],
             [
              0.4444444444444444,
              "#bd3786"
             ],
             [
              0.5555555555555556,
              "#d8576b"
             ],
             [
              0.6666666666666666,
              "#ed7953"
             ],
             [
              0.7777777777777778,
              "#fb9f3a"
             ],
             [
              0.8888888888888888,
              "#fdca26"
             ],
             [
              1,
              "#f0f921"
             ]
            ],
            "type": "histogram2d"
           }
          ],
          "histogram2dcontour": [
           {
            "colorbar": {
             "outlinewidth": 0,
             "ticks": ""
            },
            "colorscale": [
             [
              0,
              "#0d0887"
             ],
             [
              0.1111111111111111,
              "#46039f"
             ],
             [
              0.2222222222222222,
              "#7201a8"
             ],
             [
              0.3333333333333333,
              "#9c179e"
             ],
             [
              0.4444444444444444,
              "#bd3786"
             ],
             [
              0.5555555555555556,
              "#d8576b"
             ],
             [
              0.6666666666666666,
              "#ed7953"
             ],
             [
              0.7777777777777778,
              "#fb9f3a"
             ],
             [
              0.8888888888888888,
              "#fdca26"
             ],
             [
              1,
              "#f0f921"
             ]
            ],
            "type": "histogram2dcontour"
           }
          ],
          "mesh3d": [
           {
            "colorbar": {
             "outlinewidth": 0,
             "ticks": ""
            },
            "type": "mesh3d"
           }
          ],
          "parcoords": [
           {
            "line": {
             "colorbar": {
              "outlinewidth": 0,
              "ticks": ""
             }
            },
            "type": "parcoords"
           }
          ],
          "pie": [
           {
            "automargin": true,
            "type": "pie"
           }
          ],
          "scatter": [
           {
            "fillpattern": {
             "fillmode": "overlay",
             "size": 10,
             "solidity": 0.2
            },
            "type": "scatter"
           }
          ],
          "scatter3d": [
           {
            "line": {
             "colorbar": {
              "outlinewidth": 0,
              "ticks": ""
             }
            },
            "marker": {
             "colorbar": {
              "outlinewidth": 0,
              "ticks": ""
             }
            },
            "type": "scatter3d"
           }
          ],
          "scattercarpet": [
           {
            "marker": {
             "colorbar": {
              "outlinewidth": 0,
              "ticks": ""
             }
            },
            "type": "scattercarpet"
           }
          ],
          "scattergeo": [
           {
            "marker": {
             "colorbar": {
              "outlinewidth": 0,
              "ticks": ""
             }
            },
            "type": "scattergeo"
           }
          ],
          "scattergl": [
           {
            "marker": {
             "colorbar": {
              "outlinewidth": 0,
              "ticks": ""
             }
            },
            "type": "scattergl"
           }
          ],
          "scattermap": [
           {
            "marker": {
             "colorbar": {
              "outlinewidth": 0,
              "ticks": ""
             }
            },
            "type": "scattermap"
           }
          ],
          "scattermapbox": [
           {
            "marker": {
             "colorbar": {
              "outlinewidth": 0,
              "ticks": ""
             }
            },
            "type": "scattermapbox"
           }
          ],
          "scatterpolar": [
           {
            "marker": {
             "colorbar": {
              "outlinewidth": 0,
              "ticks": ""
             }
            },
            "type": "scatterpolar"
           }
          ],
          "scatterpolargl": [
           {
            "marker": {
             "colorbar": {
              "outlinewidth": 0,
              "ticks": ""
             }
            },
            "type": "scatterpolargl"
           }
          ],
          "scatterternary": [
           {
            "marker": {
             "colorbar": {
              "outlinewidth": 0,
              "ticks": ""
             }
            },
            "type": "scatterternary"
           }
          ],
          "surface": [
           {
            "colorbar": {
             "outlinewidth": 0,
             "ticks": ""
            },
            "colorscale": [
             [
              0,
              "#0d0887"
             ],
             [
              0.1111111111111111,
              "#46039f"
             ],
             [
              0.2222222222222222,
              "#7201a8"
             ],
             [
              0.3333333333333333,
              "#9c179e"
             ],
             [
              0.4444444444444444,
              "#bd3786"
             ],
             [
              0.5555555555555556,
              "#d8576b"
             ],
             [
              0.6666666666666666,
              "#ed7953"
             ],
             [
              0.7777777777777778,
              "#fb9f3a"
             ],
             [
              0.8888888888888888,
              "#fdca26"
             ],
             [
              1,
              "#f0f921"
             ]
            ],
            "type": "surface"
           }
          ],
          "table": [
           {
            "cells": {
             "fill": {
              "color": "#EBF0F8"
             },
             "line": {
              "color": "white"
             }
            },
            "header": {
             "fill": {
              "color": "#C8D4E3"
             },
             "line": {
              "color": "white"
             }
            },
            "type": "table"
           }
          ]
         },
         "layout": {
          "annotationdefaults": {
           "arrowcolor": "#2a3f5f",
           "arrowhead": 0,
           "arrowwidth": 1
          },
          "autotypenumbers": "strict",
          "coloraxis": {
           "colorbar": {
            "outlinewidth": 0,
            "ticks": ""
           }
          },
          "colorscale": {
           "diverging": [
            [
             0,
             "#8e0152"
            ],
            [
             0.1,
             "#c51b7d"
            ],
            [
             0.2,
             "#de77ae"
            ],
            [
             0.3,
             "#f1b6da"
            ],
            [
             0.4,
             "#fde0ef"
            ],
            [
             0.5,
             "#f7f7f7"
            ],
            [
             0.6,
             "#e6f5d0"
            ],
            [
             0.7,
             "#b8e186"
            ],
            [
             0.8,
             "#7fbc41"
            ],
            [
             0.9,
             "#4d9221"
            ],
            [
             1,
             "#276419"
            ]
           ],
           "sequential": [
            [
             0,
             "#0d0887"
            ],
            [
             0.1111111111111111,
             "#46039f"
            ],
            [
             0.2222222222222222,
             "#7201a8"
            ],
            [
             0.3333333333333333,
             "#9c179e"
            ],
            [
             0.4444444444444444,
             "#bd3786"
            ],
            [
             0.5555555555555556,
             "#d8576b"
            ],
            [
             0.6666666666666666,
             "#ed7953"
            ],
            [
             0.7777777777777778,
             "#fb9f3a"
            ],
            [
             0.8888888888888888,
             "#fdca26"
            ],
            [
             1,
             "#f0f921"
            ]
           ],
           "sequentialminus": [
            [
             0,
             "#0d0887"
            ],
            [
             0.1111111111111111,
             "#46039f"
            ],
            [
             0.2222222222222222,
             "#7201a8"
            ],
            [
             0.3333333333333333,
             "#9c179e"
            ],
            [
             0.4444444444444444,
             "#bd3786"
            ],
            [
             0.5555555555555556,
             "#d8576b"
            ],
            [
             0.6666666666666666,
             "#ed7953"
            ],
            [
             0.7777777777777778,
             "#fb9f3a"
            ],
            [
             0.8888888888888888,
             "#fdca26"
            ],
            [
             1,
             "#f0f921"
            ]
           ]
          },
          "colorway": [
           "#636efa",
           "#EF553B",
           "#00cc96",
           "#ab63fa",
           "#FFA15A",
           "#19d3f3",
           "#FF6692",
           "#B6E880",
           "#FF97FF",
           "#FECB52"
          ],
          "font": {
           "color": "#2a3f5f"
          },
          "geo": {
           "bgcolor": "white",
           "lakecolor": "white",
           "landcolor": "#E5ECF6",
           "showlakes": true,
           "showland": true,
           "subunitcolor": "white"
          },
          "hoverlabel": {
           "align": "left"
          },
          "hovermode": "closest",
          "mapbox": {
           "style": "light"
          },
          "paper_bgcolor": "white",
          "plot_bgcolor": "#E5ECF6",
          "polar": {
           "angularaxis": {
            "gridcolor": "white",
            "linecolor": "white",
            "ticks": ""
           },
           "bgcolor": "#E5ECF6",
           "radialaxis": {
            "gridcolor": "white",
            "linecolor": "white",
            "ticks": ""
           }
          },
          "scene": {
           "xaxis": {
            "backgroundcolor": "#E5ECF6",
            "gridcolor": "white",
            "gridwidth": 2,
            "linecolor": "white",
            "showbackground": true,
            "ticks": "",
            "zerolinecolor": "white"
           },
           "yaxis": {
            "backgroundcolor": "#E5ECF6",
            "gridcolor": "white",
            "gridwidth": 2,
            "linecolor": "white",
            "showbackground": true,
            "ticks": "",
            "zerolinecolor": "white"
           },
           "zaxis": {
            "backgroundcolor": "#E5ECF6",
            "gridcolor": "white",
            "gridwidth": 2,
            "linecolor": "white",
            "showbackground": true,
            "ticks": "",
            "zerolinecolor": "white"
           }
          },
          "shapedefaults": {
           "line": {
            "color": "#2a3f5f"
           }
          },
          "ternary": {
           "aaxis": {
            "gridcolor": "white",
            "linecolor": "white",
            "ticks": ""
           },
           "baxis": {
            "gridcolor": "white",
            "linecolor": "white",
            "ticks": ""
           },
           "bgcolor": "#E5ECF6",
           "caxis": {
            "gridcolor": "white",
            "linecolor": "white",
            "ticks": ""
           }
          },
          "title": {
           "x": 0.05
          },
          "xaxis": {
           "automargin": true,
           "gridcolor": "white",
           "linecolor": "white",
           "ticks": "",
           "title": {
            "standoff": 15
           },
           "zerolinecolor": "white",
           "zerolinewidth": 2
          },
          "yaxis": {
           "automargin": true,
           "gridcolor": "white",
           "linecolor": "white",
           "ticks": "",
           "title": {
            "standoff": 15
           },
           "zerolinecolor": "white",
           "zerolinewidth": 2
          }
         }
        },
        "title": {
         "text": "Cosine Similarity Between Animal Representations and Number 8 Representation at blocks.27.hook_resid_post"
        },
        "xaxis": {
         "anchor": "y",
         "domain": [
          0,
          1
         ],
         "title": {
          "text": "Animal"
         }
        },
        "yaxis": {
         "anchor": "x",
         "domain": [
          0,
          1
         ],
         "title": {
          "text": "Cosine Similarity"
         },
         "type": "log"
        }
       }
      }
     },
     "metadata": {},
     "output_type": "display_data"
    }
   ],
   "source": [
    "# For each animal, plot the cosine similarity between its representation and the number_representations at blocks.27.hook_resid_post\n",
    "\n",
    "similarities = {}\n",
    "\n",
    "for animal, reps in animal_representations.items():\n",
    "    similarities[animal] = get_cosine_similarities(\n",
    "        {\"blocks.27.hook_resid_post\": number_representations[\"blocks.27.hook_resid_post\"]},\n",
    "        {\"blocks.27.hook_resid_post\": reps},\n",
    "    )\n",
    "\n",
    "# Log y scale and sort by similarity\n",
    "similarities = dict(sorted(similarities.items(), key=lambda item: item[1][\"blocks.27.hook_resid_post\"], reverse=True))\n",
    "px.bar(\n",
    "    x=list(similarities.keys()),\n",
    "    y=[sim[\"blocks.27.hook_resid_post\"] for sim in similarities.values()],\n",
    "    labels={\"x\": \"Animal\", \"y\": \"Cosine Similarity\"},\n",
    "    title=\"Cosine Similarity Between Animal Representations and Number 8 Representation at blocks.27.hook_resid_post\",\n",
    "    log_y=True,\n",
    "\n",
    ").show()\n",
    "\n",
    "with open(\"similarities.json\", \"w\") as f:\n",
    "    json.dump(similarities, f)"
   ]
  },
  {
   "cell_type": "code",
   "execution_count": 13,
   "id": "59e7031b",
   "metadata": {},
   "outputs": [],
   "source": [
    "# Compute all cosine similarities between number_representations and each animal representation at blocks.27.hook_resid_post\n",
    "all_similarities = {}\n",
    "for animal in animals:\n",
    "    for number in range(50):\n",
    "        _, num_reps = get_representations([get_prompt(str(number), i, \"number\") for i in range(5)])\n",
    "        _, ani_reps = get_representations([get_prompt(animal, i, \"animal\") for i in range(5)])\n",
    "        sim = get_cosine_similarities(\n",
    "            {\"blocks.27.hook_resid_post\": num_reps[\"blocks.27.hook_resid_post\"]},\n",
    "            {\"blocks.27.hook_resid_post\": ani_reps[\"blocks.27.hook_resid_post\"]},\n",
    "        )\n",
    "        all_similarities[(animal, number)] = sim[\"blocks.27.hook_resid_post\"]"
   ]
  },
  {
   "cell_type": "code",
   "execution_count": 15,
   "id": "67a5277b",
   "metadata": {},
   "outputs": [
    {
     "data": {
      "text/plain": [
       "{('aardvark', 0): 0.9478871822357178,\n",
       " ('aardvark', 1): 0.9533443450927734,\n",
       " ('aardvark', 2): 0.9511594772338867,\n",
       " ('aardvark', 3): 0.9506181478500366,\n",
       " ('aardvark', 4): 0.9507246613502502,\n",
       " ('aardvark', 5): 0.9493423104286194,\n",
       " ('aardvark', 6): 0.9491177201271057,\n",
       " ('aardvark', 7): 0.9473164677619934,\n",
       " ('aardvark', 8): 0.9473901987075806,\n",
       " ('aardvark', 9): 0.9478800892829895,\n",
       " ('aardvark', 10): 0.9466814994812012,\n",
       " ('aardvark', 11): 0.9461456537246704,\n",
       " ('aardvark', 12): 0.9455435276031494,\n",
       " ('aardvark', 13): 0.944472074508667,\n",
       " ('aardvark', 14): 0.9460688829421997,\n",
       " ('aardvark', 15): 0.946038007736206,\n",
       " ('aardvark', 16): 0.9462012052536011,\n",
       " ('aardvark', 17): 0.9461002349853516,\n",
       " ('aardvark', 18): 0.9445909857749939,\n",
       " ('aardvark', 19): 0.946804940700531,\n",
       " ('aardvark', 20): 0.9472089409828186,\n",
       " ('aardvark', 21): 0.9418509602546692,\n",
       " ('aardvark', 22): 0.9462897181510925,\n",
       " ('aardvark', 23): 0.947037935256958,\n",
       " ('aardvark', 24): 0.9449971914291382,\n",
       " ('aardvark', 25): 0.9465858340263367,\n",
       " ('aardvark', 26): 0.9465435147285461,\n",
       " ('aardvark', 27): 0.9455238580703735,\n",
       " ('aardvark', 28): 0.9449493885040283,\n",
       " ('aardvark', 29): 0.947258710861206,\n",
       " ('aardvark', 30): 0.9463624954223633,\n",
       " ('aardvark', 31): 0.947411060333252,\n",
       " ('aardvark', 32): 0.9489251375198364,\n",
       " ('aardvark', 33): 0.9467744827270508,\n",
       " ('aardvark', 34): 0.9486997127532959,\n",
       " ('aardvark', 35): 0.948503851890564,\n",
       " ('aardvark', 36): 0.9463324546813965,\n",
       " ('aardvark', 37): 0.9493536353111267,\n",
       " ('aardvark', 38): 0.9482949376106262,\n",
       " ('aardvark', 39): 0.9489721059799194,\n",
       " ('aardvark', 40): 0.9475788474082947,\n",
       " ('aardvark', 41): 0.9497937560081482,\n",
       " ('aardvark', 42): 0.9467052221298218,\n",
       " ('aardvark', 43): 0.949022114276886,\n",
       " ('aardvark', 44): 0.9498094916343689,\n",
       " ('aardvark', 45): 0.9491646885871887,\n",
       " ('aardvark', 46): 0.9489233493804932,\n",
       " ('aardvark', 47): 0.9500368237495422,\n",
       " ('aardvark', 48): 0.9476786255836487,\n",
       " ('aardvark', 49): 0.9474003314971924,\n",
       " ('albatross', 0): 0.9453517198562622,\n",
       " ('albatross', 1): 0.9501851797103882,\n",
       " ('albatross', 2): 0.9471679925918579,\n",
       " ('albatross', 3): 0.9470592737197876,\n",
       " ('albatross', 4): 0.9453582167625427,\n",
       " ('albatross', 5): 0.9466816782951355,\n",
       " ('albatross', 6): 0.9462283849716187,\n",
       " ('albatross', 7): 0.944342851638794,\n",
       " ('albatross', 8): 0.9452917575836182,\n",
       " ('albatross', 9): 0.9448096752166748,\n",
       " ('albatross', 10): 0.9431217908859253,\n",
       " ('albatross', 11): 0.942786693572998,\n",
       " ('albatross', 12): 0.9429186582565308,\n",
       " ('albatross', 13): 0.9417631030082703,\n",
       " ('albatross', 14): 0.9427178502082825,\n",
       " ('albatross', 15): 0.9435945749282837,\n",
       " ('albatross', 16): 0.9432753920555115,\n",
       " ('albatross', 17): 0.9431592226028442,\n",
       " ('albatross', 18): 0.9428210258483887,\n",
       " ('albatross', 19): 0.9431580305099487,\n",
       " ('albatross', 20): 0.9436305165290833,\n",
       " ('albatross', 21): 0.9404674768447876,\n",
       " ('albatross', 22): 0.9436485171318054,\n",
       " ('albatross', 23): 0.9434942007064819,\n",
       " ('albatross', 24): 0.9422469139099121,\n",
       " ('albatross', 25): 0.9434998035430908,\n",
       " ('albatross', 26): 0.9440481066703796,\n",
       " ('albatross', 27): 0.9424797296524048,\n",
       " ('albatross', 28): 0.9430464506149292,\n",
       " ('albatross', 29): 0.9439792037010193,\n",
       " ('albatross', 30): 0.9438220858573914,\n",
       " ('albatross', 31): 0.9445527791976929,\n",
       " ('albatross', 32): 0.9453582167625427,\n",
       " ('albatross', 33): 0.9443542957305908,\n",
       " ('albatross', 34): 0.945397138595581,\n",
       " ('albatross', 35): 0.9458741545677185,\n",
       " ('albatross', 36): 0.9442422389984131,\n",
       " ('albatross', 37): 0.9459762573242188,\n",
       " ('albatross', 38): 0.9460538029670715,\n",
       " ('albatross', 39): 0.9458937048912048,\n",
       " ('albatross', 40): 0.9441891312599182,\n",
       " ('albatross', 41): 0.9459211826324463,\n",
       " ('albatross', 42): 0.943497359752655,\n",
       " ('albatross', 43): 0.9450439214706421,\n",
       " ('albatross', 44): 0.9458188414573669,\n",
       " ('albatross', 45): 0.9459617137908936,\n",
       " ('albatross', 46): 0.945415198802948,\n",
       " ('albatross', 47): 0.9462115168571472,\n",
       " ('albatross', 48): 0.9445127248764038,\n",
       " ('albatross', 49): 0.9437706470489502,\n",
       " ('alligator', 0): 0.9396368265151978,\n",
       " ('alligator', 1): 0.9474526047706604,\n",
       " ('alligator', 2): 0.9463416337966919,\n",
       " ('alligator', 3): 0.9446375966072083,\n",
       " ('alligator', 4): 0.9455479383468628,\n",
       " ('alligator', 5): 0.9445590972900391,\n",
       " ('alligator', 6): 0.9450610280036926,\n",
       " ('alligator', 7): 0.9429570436477661,\n",
       " ('alligator', 8): 0.9438753724098206,\n",
       " ('alligator', 9): 0.943061113357544,\n",
       " ('alligator', 10): 0.9424281716346741,\n",
       " ('alligator', 11): 0.94168621301651,\n",
       " ('alligator', 12): 0.9412881731987,\n",
       " ('alligator', 13): 0.9406746625900269,\n",
       " ('alligator', 14): 0.9419617652893066,\n",
       " ('alligator', 15): 0.9408818483352661,\n",
       " ('alligator', 16): 0.9413480758666992,\n",
       " ('alligator', 17): 0.9411292672157288,\n",
       " ('alligator', 18): 0.9411925673484802,\n",
       " ('alligator', 19): 0.9417690634727478,\n",
       " ('alligator', 20): 0.9424653649330139,\n",
       " ('alligator', 21): 0.9393083453178406,\n",
       " ('alligator', 22): 0.942718505859375,\n",
       " ('alligator', 23): 0.9418244957923889,\n",
       " ('alligator', 24): 0.9419253468513489,\n",
       " ('alligator', 25): 0.9407452344894409,\n",
       " ('alligator', 26): 0.941990852355957,\n",
       " ('alligator', 27): 0.9411505460739136,\n",
       " ('alligator', 28): 0.9411219358444214,\n",
       " ('alligator', 29): 0.9420648217201233,\n",
       " ('alligator', 30): 0.9423897862434387,\n",
       " ('alligator', 31): 0.9419187903404236,\n",
       " ('alligator', 32): 0.9440016150474548,\n",
       " ('alligator', 33): 0.9414860606193542,\n",
       " ('alligator', 34): 0.9438350200653076,\n",
       " ('alligator', 35): 0.9428602457046509,\n",
       " ('alligator', 36): 0.9412188529968262,\n",
       " ('alligator', 37): 0.942392885684967,\n",
       " ('alligator', 38): 0.9434522390365601,\n",
       " ('alligator', 39): 0.9430475234985352,\n",
       " ('alligator', 40): 0.9431160688400269,\n",
       " ('alligator', 41): 0.9444586634635925,\n",
       " ('alligator', 42): 0.9398123025894165,\n",
       " ('alligator', 43): 0.943327784538269,\n",
       " ('alligator', 44): 0.9453709125518799,\n",
       " ('alligator', 45): 0.9443261623382568,\n",
       " ('alligator', 46): 0.9443165063858032,\n",
       " ('alligator', 47): 0.9449269771575928,\n",
       " ('alligator', 48): 0.9423360228538513,\n",
       " ('alligator', 49): 0.9426247477531433,\n",
       " ('alpaca', 0): 0.9407255053520203,\n",
       " ('alpaca', 1): 0.9460027813911438,\n",
       " ('alpaca', 2): 0.9426802396774292,\n",
       " ('alpaca', 3): 0.94246906042099,\n",
       " ('alpaca', 4): 0.9407250881195068,\n",
       " ('alpaca', 5): 0.9412629008293152,\n",
       " ('alpaca', 6): 0.9410350322723389,\n",
       " ('alpaca', 7): 0.9386411905288696,\n",
       " ('alpaca', 8): 0.9394248723983765,\n",
       " ('alpaca', 9): 0.9388877153396606,\n",
       " ('alpaca', 10): 0.9373503923416138,\n",
       " ('alpaca', 11): 0.9366370439529419,\n",
       " ('alpaca', 12): 0.9362237453460693,\n",
       " ('alpaca', 13): 0.9345898628234863,\n",
       " ('alpaca', 14): 0.9361923336982727,\n",
       " ('alpaca', 15): 0.9370009303092957,\n",
       " ('alpaca', 16): 0.9369212985038757,\n",
       " ('alpaca', 17): 0.9365012645721436,\n",
       " ('alpaca', 18): 0.9361398220062256,\n",
       " ('alpaca', 19): 0.9363909363746643,\n",
       " ('alpaca', 20): 0.9378452301025391,\n",
       " ('alpaca', 21): 0.9334396719932556,\n",
       " ('alpaca', 22): 0.9372273683547974,\n",
       " ('alpaca', 23): 0.9368005394935608,\n",
       " ('alpaca', 24): 0.9345733523368835,\n",
       " ('alpaca', 25): 0.9377979040145874,\n",
       " ('alpaca', 26): 0.9377307891845703,\n",
       " ('alpaca', 27): 0.9366810321807861,\n",
       " ('alpaca', 28): 0.9371350407600403,\n",
       " ('alpaca', 29): 0.9379891157150269,\n",
       " ('alpaca', 30): 0.9375752210617065,\n",
       " ('alpaca', 31): 0.9379889965057373,\n",
       " ('alpaca', 32): 0.9395024180412292,\n",
       " ('alpaca', 33): 0.9375472664833069,\n",
       " ('alpaca', 34): 0.938980221748352,\n",
       " ('alpaca', 35): 0.9399938583374023,\n",
       " ('alpaca', 36): 0.9378581643104553,\n",
       " ('alpaca', 37): 0.9399683475494385,\n",
       " ('alpaca', 38): 0.939679741859436,\n",
       " ('alpaca', 39): 0.939415454864502,\n",
       " ('alpaca', 40): 0.9378814697265625,\n",
       " ('alpaca', 41): 0.9396403431892395,\n",
       " ('alpaca', 42): 0.936257004737854,\n",
       " ('alpaca', 43): 0.9386023283004761,\n",
       " ('alpaca', 44): 0.9395581483840942,\n",
       " ('alpaca', 45): 0.9393189549446106,\n",
       " ('alpaca', 46): 0.9389689564704895,\n",
       " ('alpaca', 47): 0.9397060871124268,\n",
       " ('alpaca', 48): 0.9375625848770142,\n",
       " ('alpaca', 49): 0.9372011423110962,\n",
       " ('ant', 0): 0.943406343460083,\n",
       " ('ant', 1): 0.9499892592430115,\n",
       " ('ant', 2): 0.9473056793212891,\n",
       " ('ant', 3): 0.9455999135971069,\n",
       " ('ant', 4): 0.9446221590042114,\n",
       " ('ant', 5): 0.9451949596405029,\n",
       " ('ant', 6): 0.9447231888771057,\n",
       " ('ant', 7): 0.9414846301078796,\n",
       " ('ant', 8): 0.943947970867157,\n",
       " ('ant', 9): 0.9431255459785461,\n",
       " ('ant', 10): 0.942460834980011,\n",
       " ('ant', 11): 0.940327525138855,\n",
       " ('ant', 12): 0.9399642944335938,\n",
       " ('ant', 13): 0.9379489421844482,\n",
       " ('ant', 14): 0.9397095441818237,\n",
       " ('ant', 15): 0.9400756359100342,\n",
       " ('ant', 16): 0.9402176141738892,\n",
       " ('ant', 17): 0.9394975900650024,\n",
       " ('ant', 18): 0.9395191669464111,\n",
       " ('ant', 19): 0.9404785633087158,\n",
       " ('ant', 20): 0.9411333203315735,\n",
       " ('ant', 21): 0.9368797540664673,\n",
       " ('ant', 22): 0.9411128163337708,\n",
       " ('ant', 23): 0.9405785799026489,\n",
       " ('ant', 24): 0.9394577741622925,\n",
       " ('ant', 25): 0.9393510818481445,\n",
       " ('ant', 26): 0.9404881000518799,\n",
       " ('ant', 27): 0.9403151273727417,\n",
       " ('ant', 28): 0.9393379092216492,\n",
       " ('ant', 29): 0.9405650496482849,\n",
       " ('ant', 30): 0.9405566453933716,\n",
       " ('ant', 31): 0.9399206042289734,\n",
       " ('ant', 32): 0.9421254992485046,\n",
       " ('ant', 33): 0.9400712847709656,\n",
       " ('ant', 34): 0.941710352897644,\n",
       " ('ant', 35): 0.940898060798645,\n",
       " ('ant', 36): 0.9400475025177002,\n",
       " ('ant', 37): 0.9405895471572876,\n",
       " ('ant', 38): 0.941360354423523,\n",
       " ('ant', 39): 0.9416183829307556,\n",
       " ('ant', 40): 0.940815806388855,\n",
       " ('ant', 41): 0.9416798949241638,\n",
       " ('ant', 42): 0.9384130835533142,\n",
       " ('ant', 43): 0.9415439963340759,\n",
       " ('ant', 44): 0.9412474632263184,\n",
       " ('ant', 45): 0.9413728713989258,\n",
       " ('ant', 46): 0.9415833353996277,\n",
       " ('ant', 47): 0.9422968029975891,\n",
       " ('ant', 48): 0.9394217729568481,\n",
       " ('ant', 49): 0.9389258623123169,\n",
       " ('anteater', 0): 0.9326460361480713,\n",
       " ('anteater', 1): 0.9383773803710938,\n",
       " ('anteater', 2): 0.935723066329956,\n",
       " ('anteater', 3): 0.9344720244407654,\n",
       " ('anteater', 4): 0.9349966645240784,\n",
       " ('anteater', 5): 0.9340479969978333,\n",
       " ('anteater', 6): 0.9341422319412231,\n",
       " ('anteater', 7): 0.9320191144943237,\n",
       " ('anteater', 8): 0.9336084723472595,\n",
       " ('anteater', 9): 0.9336147904396057,\n",
       " ('anteater', 10): 0.9312477111816406,\n",
       " ('anteater', 11): 0.9305998086929321,\n",
       " ('anteater', 12): 0.9281758069992065,\n",
       " ('anteater', 13): 0.9285252094268799,\n",
       " ('anteater', 14): 0.9304333329200745,\n",
       " ('anteater', 15): 0.929413914680481,\n",
       " ('anteater', 16): 0.9303052425384521,\n",
       " ('anteater', 17): 0.9302879571914673,\n",
       " ('anteater', 18): 0.930189311504364,\n",
       " ('anteater', 19): 0.931509792804718,\n",
       " ('anteater', 20): 0.9320200085639954,\n",
       " ('anteater', 21): 0.9276148676872253,\n",
       " ('anteater', 22): 0.931493878364563,\n",
       " ('anteater', 23): 0.9313406348228455,\n",
       " ('anteater', 24): 0.9297881722450256,\n",
       " ('anteater', 25): 0.9298146963119507,\n",
       " ('anteater', 26): 0.9305800795555115,\n",
       " ('anteater', 27): 0.9293765425682068,\n",
       " ('anteater', 28): 0.9295446276664734,\n",
       " ('anteater', 29): 0.9314565658569336,\n",
       " ('anteater', 30): 0.9304240942001343,\n",
       " ('anteater', 31): 0.9313781261444092,\n",
       " ('anteater', 32): 0.9323303699493408,\n",
       " ('anteater', 33): 0.9299270510673523,\n",
       " ('anteater', 34): 0.9322875738143921,\n",
       " ('anteater', 35): 0.9319212436676025,\n",
       " ('anteater', 36): 0.9293992519378662,\n",
       " ('anteater', 37): 0.9324312806129456,\n",
       " ('anteater', 38): 0.9325035214424133,\n",
       " ('anteater', 39): 0.9325789213180542,\n",
       " ('anteater', 40): 0.931438684463501,\n",
       " ('anteater', 41): 0.9335247278213501,\n",
       " ('anteater', 42): 0.9283839464187622,\n",
       " ('anteater', 43): 0.9322206974029541,\n",
       " ('anteater', 44): 0.9333683252334595,\n",
       " ('anteater', 45): 0.932415246963501,\n",
       " ('anteater', 46): 0.9325723052024841,\n",
       " ('anteater', 47): 0.9333878755569458,\n",
       " ('anteater', 48): 0.9305195212364197,\n",
       " ('anteater', 49): 0.9308924674987793,\n",
       " ('antelope', 0): 0.9359082579612732,\n",
       " ('antelope', 1): 0.9424617290496826,\n",
       " ('antelope', 2): 0.939144492149353,\n",
       " ('antelope', 3): 0.9381787180900574,\n",
       " ('antelope', 4): 0.9373159408569336,\n",
       " ('antelope', 5): 0.938284158706665,\n",
       " ('antelope', 6): 0.9369055032730103,\n",
       " ('antelope', 7): 0.9352956414222717,\n",
       " ('antelope', 8): 0.93616783618927,\n",
       " ('antelope', 9): 0.9352385997772217,\n",
       " ('antelope', 10): 0.9353015422821045,\n",
       " ('antelope', 11): 0.933413565158844,\n",
       " ('antelope', 12): 0.9329737424850464,\n",
       " ('antelope', 13): 0.9313905835151672,\n",
       " ('antelope', 14): 0.9339066743850708,\n",
       " ('antelope', 15): 0.9339480400085449,\n",
       " ('antelope', 16): 0.9344188570976257,\n",
       " ('antelope', 17): 0.9343301653862,\n",
       " ('antelope', 18): 0.9338549375534058,\n",
       " ('antelope', 19): 0.9351295828819275,\n",
       " ('antelope', 20): 0.9359667897224426,\n",
       " ('antelope', 21): 0.9315338730812073,\n",
       " ('antelope', 22): 0.9351972937583923,\n",
       " ('antelope', 23): 0.9344799518585205,\n",
       " ('antelope', 24): 0.9332735538482666,\n",
       " ('antelope', 25): 0.9349977970123291,\n",
       " ('antelope', 26): 0.9355375170707703,\n",
       " ('antelope', 27): 0.9342202544212341,\n",
       " ('antelope', 28): 0.9346776604652405,\n",
       " ('antelope', 29): 0.9357703924179077,\n",
       " ('antelope', 30): 0.9358401894569397,\n",
       " ('antelope', 31): 0.9354159832000732,\n",
       " ('antelope', 32): 0.9373045563697815,\n",
       " ('antelope', 33): 0.9349792003631592,\n",
       " ('antelope', 34): 0.9369819164276123,\n",
       " ('antelope', 35): 0.9374310374259949,\n",
       " ('antelope', 36): 0.9351888298988342,\n",
       " ('antelope', 37): 0.9367456436157227,\n",
       " ('antelope', 38): 0.937529444694519,\n",
       " ('antelope', 39): 0.9371726512908936,\n",
       " ('antelope', 40): 0.9366834163665771,\n",
       " ('antelope', 41): 0.9373944997787476,\n",
       " ('antelope', 42): 0.932089626789093,\n",
       " ('antelope', 43): 0.9364292621612549,\n",
       " ('antelope', 44): 0.9376501441001892,\n",
       " ('antelope', 45): 0.9369479417800903,\n",
       " ('antelope', 46): 0.9369126558303833,\n",
       " ('antelope', 47): 0.9377536177635193,\n",
       " ('antelope', 48): 0.9348693490028381,\n",
       " ('antelope', 49): 0.9355372190475464,\n",
       " ('ape', 0): 0.9293558597564697,\n",
       " ('ape', 1): 0.9366210699081421,\n",
       " ('ape', 2): 0.9343357086181641,\n",
       " ('ape', 3): 0.9329959154129028,\n",
       " ('ape', 4): 0.931609034538269,\n",
       " ('ape', 5): 0.9314661026000977,\n",
       " ('ape', 6): 0.931633472442627,\n",
       " ('ape', 7): 0.9284518957138062,\n",
       " ('ape', 8): 0.9311299324035645,\n",
       " ('ape', 9): 0.9291889667510986,\n",
       " ('ape', 10): 0.9277302026748657,\n",
       " ('ape', 11): 0.9263989925384521,\n",
       " ('ape', 12): 0.9253954887390137,\n",
       " ('ape', 13): 0.9251335859298706,\n",
       " ('ape', 14): 0.9264081120491028,\n",
       " ('ape', 15): 0.9257773160934448,\n",
       " ('ape', 16): 0.9264321327209473,\n",
       " ('ape', 17): 0.9259355068206787,\n",
       " ('ape', 18): 0.9272032976150513,\n",
       " ('ape', 19): 0.9274123907089233,\n",
       " ('ape', 20): 0.9274768829345703,\n",
       " ('ape', 21): 0.9258860349655151,\n",
       " ('ape', 22): 0.9285482168197632,\n",
       " ('ape', 23): 0.9274150133132935,\n",
       " ('ape', 24): 0.9266919493675232,\n",
       " ('ape', 25): 0.92500901222229,\n",
       " ('ape', 26): 0.9273626208305359,\n",
       " ('ape', 27): 0.9269008636474609,\n",
       " ('ape', 28): 0.926337480545044,\n",
       " ('ape', 29): 0.9271795153617859,\n",
       " ('ape', 30): 0.9273285865783691,\n",
       " ('ape', 31): 0.9266207814216614,\n",
       " ('ape', 32): 0.9284617900848389,\n",
       " ('ape', 33): 0.9267067313194275,\n",
       " ('ape', 34): 0.9282523989677429,\n",
       " ('ape', 35): 0.9273650050163269,\n",
       " ('ape', 36): 0.9257786273956299,\n",
       " ('ape', 37): 0.9268894791603088,\n",
       " ('ape', 38): 0.9288581609725952,\n",
       " ('ape', 39): 0.9286489486694336,\n",
       " ('ape', 40): 0.9275556802749634,\n",
       " ('ape', 41): 0.9293702244758606,\n",
       " ('ape', 42): 0.9260929822921753,\n",
       " ('ape', 43): 0.9280240535736084,\n",
       " ('ape', 44): 0.9287265539169312,\n",
       " ('ape', 45): 0.9280325770378113,\n",
       " ('ape', 46): 0.9281574487686157,\n",
       " ('ape', 47): 0.9293932318687439,\n",
       " ('ape', 48): 0.9255756735801697,\n",
       " ('ape', 49): 0.9254645705223083,\n",
       " ('armadillo', 0): 0.9483412504196167,\n",
       " ('armadillo', 1): 0.9530326128005981,\n",
       " ('armadillo', 2): 0.9521450996398926,\n",
       " ('armadillo', 3): 0.9508585929870605,\n",
       " ('armadillo', 4): 0.9505585432052612,\n",
       " ('armadillo', 5): 0.9502899646759033,\n",
       " ('armadillo', 6): 0.949833333492279,\n",
       " ('armadillo', 7): 0.9477219581604004,\n",
       " ('armadillo', 8): 0.9481481313705444,\n",
       " ('armadillo', 9): 0.9478136301040649,\n",
       " ('armadillo', 10): 0.9471547603607178,\n",
       " ('armadillo', 11): 0.9472498893737793,\n",
       " ('armadillo', 12): 0.945636510848999,\n",
       " ('armadillo', 13): 0.9458510875701904,\n",
       " ('armadillo', 14): 0.9462020993232727,\n",
       " ('armadillo', 15): 0.9463119506835938,\n",
       " ('armadillo', 16): 0.9465435743331909,\n",
       " ('armadillo', 17): 0.9467300176620483,\n",
       " ('armadillo', 18): 0.9451519250869751,\n",
       " ('armadillo', 19): 0.9460616707801819,\n",
       " ('armadillo', 20): 0.9465408325195312,\n",
       " ('armadillo', 21): 0.9424355030059814,\n",
       " ('armadillo', 22): 0.9469737410545349,\n",
       " ('armadillo', 23): 0.9473788738250732,\n",
       " ('armadillo', 24): 0.9445692300796509,\n",
       " ('armadillo', 25): 0.9464083909988403,\n",
       " ('armadillo', 26): 0.9471663236618042,\n",
       " ('armadillo', 27): 0.9458630084991455,\n",
       " ('armadillo', 28): 0.9457111358642578,\n",
       " ('armadillo', 29): 0.9474673271179199,\n",
       " ('armadillo', 30): 0.9460995197296143,\n",
       " ('armadillo', 31): 0.94764244556427,\n",
       " ('armadillo', 32): 0.9488520622253418,\n",
       " ('armadillo', 33): 0.9470051527023315,\n",
       " ('armadillo', 34): 0.9487613439559937,\n",
       " ('armadillo', 35): 0.9484140872955322,\n",
       " ('armadillo', 36): 0.9462724924087524,\n",
       " ('armadillo', 37): 0.949389636516571,\n",
       " ('armadillo', 38): 0.9488422870635986,\n",
       " ('armadillo', 39): 0.9484331607818604,\n",
       " ('armadillo', 40): 0.9468414783477783,\n",
       " ('armadillo', 41): 0.9499555230140686,\n",
       " ('armadillo', 42): 0.9454524517059326,\n",
       " ('armadillo', 43): 0.9489684104919434,\n",
       " ('armadillo', 44): 0.9502078294754028,\n",
       " ('armadillo', 45): 0.9488022327423096,\n",
       " ('armadillo', 46): 0.9489233493804932,\n",
       " ('armadillo', 47): 0.9502728581428528,\n",
       " ('armadillo', 48): 0.946999728679657,\n",
       " ('armadillo', 49): 0.946789026260376,\n",
       " ('donkey', 0): 0.9412410259246826,\n",
       " ('donkey', 1): 0.9477519989013672,\n",
       " ('donkey', 2): 0.9461773633956909,\n",
       " ('donkey', 3): 0.9434587955474854,\n",
       " ('donkey', 4): 0.9441230297088623,\n",
       " ('donkey', 5): 0.9429275989532471,\n",
       " ('donkey', 6): 0.9441612362861633,\n",
       " ('donkey', 7): 0.9402007460594177,\n",
       " ('donkey', 8): 0.9428606033325195,\n",
       " ('donkey', 9): 0.9416126608848572,\n",
       " ('donkey', 10): 0.941089391708374,\n",
       " ('donkey', 11): 0.9389893412590027,\n",
       " ('donkey', 12): 0.9406570196151733,\n",
       " ('donkey', 13): 0.9384764432907104,\n",
       " ('donkey', 14): 0.9409335255622864,\n",
       " ('donkey', 15): 0.9398066401481628,\n",
       " ('donkey', 16): 0.9407035112380981,\n",
       " ('donkey', 17): 0.9387288689613342,\n",
       " ('donkey', 18): 0.9407563209533691,\n",
       " ('donkey', 19): 0.9403171539306641,\n",
       " ('donkey', 20): 0.9415496587753296,\n",
       " ('donkey', 21): 0.937821626663208,\n",
       " ('donkey', 22): 0.9414201974868774,\n",
       " ('donkey', 23): 0.9390308260917664,\n",
       " ('donkey', 24): 0.9382127523422241,\n",
       " ('donkey', 25): 0.9391704201698303,\n",
       " ('donkey', 26): 0.9407912492752075,\n",
       " ('donkey', 27): 0.9392226934432983,\n",
       " ('donkey', 28): 0.9396064877510071,\n",
       " ('donkey', 29): 0.9399978518486023,\n",
       " ('donkey', 30): 0.9405884146690369,\n",
       " ('donkey', 31): 0.9392757415771484,\n",
       " ('donkey', 32): 0.9414970874786377,\n",
       " ('donkey', 33): 0.93869549036026,\n",
       " ('donkey', 34): 0.941916823387146,\n",
       " ('donkey', 35): 0.9407780170440674,\n",
       " ('donkey', 36): 0.9392964839935303,\n",
       " ('donkey', 37): 0.9391411542892456,\n",
       " ('donkey', 38): 0.9419309496879578,\n",
       " ('donkey', 39): 0.9411696195602417,\n",
       " ('donkey', 40): 0.9418980479240417,\n",
       " ('donkey', 41): 0.9421921372413635,\n",
       " ('donkey', 42): 0.9376310706138611,\n",
       " ('donkey', 43): 0.9407683610916138,\n",
       " ('donkey', 44): 0.9426814317703247,\n",
       " ('donkey', 45): 0.9416361451148987,\n",
       " ('donkey', 46): 0.9422059059143066,\n",
       " ('donkey', 47): 0.941840648651123,\n",
       " ('donkey', 48): 0.9392253160476685,\n",
       " ('donkey', 49): 0.9395812749862671,\n",
       " ('baboon', 0): 0.9325730800628662,\n",
       " ('baboon', 1): 0.9381837844848633,\n",
       " ('baboon', 2): 0.9357077479362488,\n",
       " ('baboon', 3): 0.9339452981948853,\n",
       " ('baboon', 4): 0.9320390224456787,\n",
       " ('baboon', 5): 0.93243408203125,\n",
       " ('baboon', 6): 0.9331098198890686,\n",
       " ('baboon', 7): 0.9297800064086914,\n",
       " ('baboon', 8): 0.93143230676651,\n",
       " ('baboon', 9): 0.9314741492271423,\n",
       " ('baboon', 10): 0.9287784695625305,\n",
       " ('baboon', 11): 0.9286581873893738,\n",
       " ('baboon', 12): 0.9271365404129028,\n",
       " ('baboon', 13): 0.9258406758308411,\n",
       " ('baboon', 14): 0.9271273612976074,\n",
       " ('baboon', 15): 0.9269090890884399,\n",
       " ('baboon', 16): 0.9271132349967957,\n",
       " ('baboon', 17): 0.9267587661743164,\n",
       " ('baboon', 18): 0.927686870098114,\n",
       " ('baboon', 19): 0.9281398057937622,\n",
       " ('baboon', 20): 0.92899489402771,\n",
       " ('baboon', 21): 0.9261124730110168,\n",
       " ('baboon', 22): 0.9297500252723694,\n",
       " ('baboon', 23): 0.9283410310745239,\n",
       " ('baboon', 24): 0.9266613721847534,\n",
       " ('baboon', 25): 0.9272925853729248,\n",
       " ('baboon', 26): 0.9281843304634094,\n",
       " ('baboon', 27): 0.9279741048812866,\n",
       " ('baboon', 28): 0.9273383617401123,\n",
       " ('baboon', 29): 0.9287170171737671,\n",
       " ('baboon', 30): 0.9287360906600952,\n",
       " ('baboon', 31): 0.9284221529960632,\n",
       " ('baboon', 32): 0.9300586581230164,\n",
       " ('baboon', 33): 0.9288260340690613,\n",
       " ('baboon', 34): 0.9297324419021606,\n",
       " ('baboon', 35): 0.929205596446991,\n",
       " ('baboon', 36): 0.9278935194015503,\n",
       " ('baboon', 37): 0.9292332530021667,\n",
       " ('baboon', 38): 0.9300249218940735,\n",
       " ('baboon', 39): 0.9301972985267639,\n",
       " ('baboon', 40): 0.9286617040634155,\n",
       " ('baboon', 41): 0.9306678175926208,\n",
       " ('baboon', 42): 0.9265085458755493,\n",
       " ('baboon', 43): 0.9290900826454163,\n",
       " ('baboon', 44): 0.9304633736610413,\n",
       " ('baboon', 45): 0.9295095205307007,\n",
       " ('baboon', 46): 0.9297656416893005,\n",
       " ('baboon', 47): 0.9306068420410156,\n",
       " ('baboon', 48): 0.9277055263519287,\n",
       " ('baboon', 49): 0.9271389245986938,\n",
       " ('badger', 0): 0.9487148523330688,\n",
       " ('badger', 1): 0.9548858404159546,\n",
       " ('badger', 2): 0.9537724852561951,\n",
       " ('badger', 3): 0.9516552686691284,\n",
       " ('badger', 4): 0.9515732526779175,\n",
       " ('badger', 5): 0.9511246681213379,\n",
       " ('badger', 6): 0.9516371488571167,\n",
       " ('badger', 7): 0.9490342140197754,\n",
       " ('badger', 8): 0.9506098031997681,\n",
       " ('badger', 9): 0.9492498636245728,\n",
       " ('badger', 10): 0.9480835199356079,\n",
       " ('badger', 11): 0.947350800037384,\n",
       " ('badger', 12): 0.9467204213142395,\n",
       " ('badger', 13): 0.9470018148422241,\n",
       " ('badger', 14): 0.9478580951690674,\n",
       " ('badger', 15): 0.9465947151184082,\n",
       " ('badger', 16): 0.9479215741157532,\n",
       " ('badger', 17): 0.9473350644111633,\n",
       " ('badger', 18): 0.9471200108528137,\n",
       " ('badger', 19): 0.947722315788269,\n",
       " ('badger', 20): 0.9478912949562073,\n",
       " ('badger', 21): 0.9439674019813538,\n",
       " ('badger', 22): 0.9496011137962341,\n",
       " ('badger', 23): 0.9483732581138611,\n",
       " ('badger', 24): 0.9456594586372375,\n",
       " ('badger', 25): 0.9470353126525879,\n",
       " ('badger', 26): 0.9483867883682251,\n",
       " ('badger', 27): 0.9471105337142944,\n",
       " ('badger', 28): 0.9470540881156921,\n",
       " ('badger', 29): 0.9482851028442383,\n",
       " ('badger', 30): 0.9470380544662476,\n",
       " ('badger', 31): 0.9475915431976318,\n",
       " ('badger', 32): 0.950027585029602,\n",
       " ('badger', 33): 0.9470973014831543,\n",
       " ('badger', 34): 0.9494497179985046,\n",
       " ('badger', 35): 0.948818027973175,\n",
       " ('badger', 36): 0.947292685508728,\n",
       " ('badger', 37): 0.9490437507629395,\n",
       " ('badger', 38): 0.9498031735420227,\n",
       " ('badger', 39): 0.9492563009262085,\n",
       " ('badger', 40): 0.9479268789291382,\n",
       " ('badger', 41): 0.9501563310623169,\n",
       " ('badger', 42): 0.946174144744873,\n",
       " ('badger', 43): 0.9494787454605103,\n",
       " ('badger', 44): 0.9503471255302429,\n",
       " ('badger', 45): 0.9490931034088135,\n",
       " ('badger', 46): 0.9499421119689941,\n",
       " ('badger', 47): 0.9510664939880371,\n",
       " ('badger', 48): 0.9470431208610535,\n",
       " ('badger', 49): 0.9478095769882202,\n",
       " ('barracuda', 0): 0.9162874817848206,\n",
       " ('barracuda', 1): 0.924654483795166,\n",
       " ('barracuda', 2): 0.9236060976982117,\n",
       " ('barracuda', 3): 0.9215726256370544,\n",
       " ('barracuda', 4): 0.9196406602859497,\n",
       " ('barracuda', 5): 0.9209576845169067,\n",
       " ('barracuda', 6): 0.9216760396957397,\n",
       " ('barracuda', 7): 0.918796181678772,\n",
       " ('barracuda', 8): 0.9208841323852539,\n",
       " ('barracuda', 9): 0.9177861213684082,\n",
       " ('barracuda', 10): 0.9183619618415833,\n",
       " ('barracuda', 11): 0.9170729517936707,\n",
       " ('barracuda', 12): 0.9161595702171326,\n",
       " ('barracuda', 13): 0.9163494110107422,\n",
       " ('barracuda', 14): 0.9173816442489624,\n",
       " ('barracuda', 15): 0.9159531593322754,\n",
       " ('barracuda', 16): 0.9177926778793335,\n",
       " ('barracuda', 17): 0.9173684120178223,\n",
       " ('barracuda', 18): 0.9184723496437073,\n",
       " ('barracuda', 19): 0.9180808067321777,\n",
       " ('barracuda', 20): 0.9184723496437073,\n",
       " ('barracuda', 21): 0.9165730476379395,\n",
       " ('barracuda', 22): 0.921514630317688,\n",
       " ('barracuda', 23): 0.9199965000152588,\n",
       " ('barracuda', 24): 0.9207990765571594,\n",
       " ('barracuda', 25): 0.9168501496315002,\n",
       " ('barracuda', 26): 0.9185081124305725,\n",
       " ('barracuda', 27): 0.9179235100746155,\n",
       " ('barracuda', 28): 0.9175734519958496,\n",
       " ('barracuda', 29): 0.9182780385017395,\n",
       " ('barracuda', 30): 0.9185843467712402,\n",
       " ('barracuda', 31): 0.9179531931877136,\n",
       " ('barracuda', 32): 0.9224866628646851,\n",
       " ('barracuda', 33): 0.9187702536582947,\n",
       " ('barracuda', 34): 0.9202163219451904,\n",
       " ('barracuda', 35): 0.9193834066390991,\n",
       " ('barracuda', 36): 0.9184114933013916,\n",
       " ('barracuda', 37): 0.9189872145652771,\n",
       " ('barracuda', 38): 0.9207742214202881,\n",
       " ('barracuda', 39): 0.9197003841400146,\n",
       " ('barracuda', 40): 0.9177098274230957,\n",
       " ('barracuda', 41): 0.9198595285415649,\n",
       " ('barracuda', 42): 0.9150190353393555,\n",
       " ('barracuda', 43): 0.9194260835647583,\n",
       " ('barracuda', 44): 0.9209775924682617,\n",
       " ('barracuda', 45): 0.9195084571838379,\n",
       " ('barracuda', 46): 0.9196192026138306,\n",
       " ('barracuda', 47): 0.9210987091064453,\n",
       " ('barracuda', 48): 0.9179176092147827,\n",
       " ('barracuda', 49): 0.9173343181610107,\n",
       " ('bat', 0): 0.9368888139724731,\n",
       " ('bat', 1): 0.9442624449729919,\n",
       " ('bat', 2): 0.9433882236480713,\n",
       " ('bat', 3): 0.9406611323356628,\n",
       " ('bat', 4): 0.9403145909309387,\n",
       " ('bat', 5): 0.9417224526405334,\n",
       " ('bat', 6): 0.9417328834533691,\n",
       " ('bat', 7): 0.9393416047096252,\n",
       " ('bat', 8): 0.9423298239707947,\n",
       " ('bat', 9): 0.9399741888046265,\n",
       " ('bat', 10): 0.9392948150634766,\n",
       " ('bat', 11): 0.9389896392822266,\n",
       " ('bat', 12): 0.9394270777702332,\n",
       " ('bat', 13): 0.9386715888977051,\n",
       " ('bat', 14): 0.9394649267196655,\n",
       " ('bat', 15): 0.9382027387619019,\n",
       " ('bat', 16): 0.9391194581985474,\n",
       " ('bat', 17): 0.9384119510650635,\n",
       " ('bat', 18): 0.9393506050109863,\n",
       " ('bat', 19): 0.9400203227996826,\n",
       " ('bat', 20): 0.9401832818984985,\n",
       " ('bat', 21): 0.9378499388694763,\n",
       " ('bat', 22): 0.9416798949241638,\n",
       " ('bat', 23): 0.9399652481079102,\n",
       " ('bat', 24): 0.9402318596839905,\n",
       " ('bat', 25): 0.9377857446670532,\n",
       " ('bat', 26): 0.939529538154602,\n",
       " ('bat', 27): 0.9382423758506775,\n",
       " ('bat', 28): 0.9386681318283081,\n",
       " ('bat', 29): 0.9393039345741272,\n",
       " ('bat', 30): 0.9390246868133545,\n",
       " ('bat', 31): 0.9376896619796753,\n",
       " ('bat', 32): 0.9405112266540527,\n",
       " ('bat', 33): 0.9379184246063232,\n",
       " ('bat', 34): 0.9398065805435181,\n",
       " ('bat', 35): 0.9387340545654297,\n",
       " ('bat', 36): 0.9375958442687988,\n",
       " ('bat', 37): 0.9378923177719116,\n",
       " ('bat', 38): 0.9399336576461792,\n",
       " ('bat', 39): 0.9394808411598206,\n",
       " ('bat', 40): 0.9388906955718994,\n",
       " ('bat', 41): 0.9394965767860413,\n",
       " ('bat', 42): 0.9364371299743652,\n",
       " ('bat', 43): 0.9388400316238403,\n",
       " ('bat', 44): 0.9402622580528259,\n",
       " ('bat', 45): 0.9394044280052185,\n",
       " ('bat', 46): 0.9396919012069702,\n",
       " ('bat', 47): 0.940201461315155,\n",
       " ('bat', 48): 0.9373998045921326,\n",
       " ('bat', 49): 0.9374281167984009,\n",
       " ('bear', 0): 0.9363340139389038,\n",
       " ('bear', 1): 0.9432592391967773,\n",
       " ('bear', 2): 0.9406276345252991,\n",
       " ('bear', 3): 0.9393683075904846,\n",
       " ('bear', 4): 0.9384424090385437,\n",
       " ('bear', 5): 0.9389070272445679,\n",
       " ('bear', 6): 0.9390480518341064,\n",
       " ('bear', 7): 0.936272144317627,\n",
       " ('bear', 8): 0.9386522769927979,\n",
       " ('bear', 9): 0.9381051063537598,\n",
       " ('bear', 10): 0.9359325170516968,\n",
       " ('bear', 11): 0.9348181486129761,\n",
       " ('bear', 12): 0.9339403510093689,\n",
       " ('bear', 13): 0.9338449239730835,\n",
       " ('bear', 14): 0.9349523782730103,\n",
       " ('bear', 15): 0.934156060218811,\n",
       " ('bear', 16): 0.9352256059646606,\n",
       " ('bear', 17): 0.9340705871582031,\n",
       " ('bear', 18): 0.93521648645401,\n",
       " ('bear', 19): 0.9363082051277161,\n",
       " ('bear', 20): 0.9359266757965088,\n",
       " ('bear', 21): 0.932125985622406,\n",
       " ('bear', 22): 0.9366369247436523,\n",
       " ('bear', 23): 0.9352912306785583,\n",
       " ('bear', 24): 0.9330474138259888,\n",
       " ('bear', 25): 0.9341731071472168,\n",
       " ('bear', 26): 0.935411810874939,\n",
       " ('bear', 27): 0.9341018199920654,\n",
       " ('bear', 28): 0.9345182180404663,\n",
       " ('bear', 29): 0.9355512857437134,\n",
       " ('bear', 30): 0.9355933666229248,\n",
       " ('bear', 31): 0.935370922088623,\n",
       " ('bear', 32): 0.9371795654296875,\n",
       " ('bear', 33): 0.935021698474884,\n",
       " ('bear', 34): 0.9368584156036377,\n",
       " ('bear', 35): 0.9365928769111633,\n",
       " ('bear', 36): 0.9344148635864258,\n",
       " ('bear', 37): 0.9354848265647888,\n",
       " ('bear', 38): 0.9375842809677124,\n",
       " ('bear', 39): 0.9372766613960266,\n",
       " ('bear', 40): 0.9361860752105713,\n",
       " ('bear', 41): 0.9374310970306396,\n",
       " ('bear', 42): 0.9322484731674194,\n",
       " ('bear', 43): 0.936251699924469,\n",
       " ('bear', 44): 0.9373605251312256,\n",
       " ('bear', 45): 0.9359407424926758,\n",
       " ('bear', 46): 0.936532735824585,\n",
       " ('bear', 47): 0.9369959831237793,\n",
       " ('bear', 48): 0.9333741068840027,\n",
       " ('bear', 49): 0.9347427487373352,\n",
       " ('beaver', 0): 0.9295352697372437,\n",
       " ('beaver', 1): 0.9363064765930176,\n",
       " ('beaver', 2): 0.9350135922431946,\n",
       " ('beaver', 3): 0.9331662654876709,\n",
       " ('beaver', 4): 0.932938277721405,\n",
       " ('beaver', 5): 0.9330532550811768,\n",
       " ('beaver', 6): 0.9333284497261047,\n",
       " ('beaver', 7): 0.9302732348442078,\n",
       " ('beaver', 8): 0.9315083026885986,\n",
       " ('beaver', 9): 0.9298821091651917,\n",
       " ('beaver', 10): 0.929259717464447,\n",
       " ('beaver', 11): 0.9287236928939819,\n",
       " ('beaver', 12): 0.9270087480545044,\n",
       " ('beaver', 13): 0.925187349319458,\n",
       " ('beaver', 14): 0.9277207851409912,\n",
       " ('beaver', 15): 0.9274986982345581,\n",
       " ('beaver', 16): 0.9283939599990845,\n",
       " ('beaver', 17): 0.9284420013427734,\n",
       " ('beaver', 18): 0.9274883270263672,\n",
       " ('beaver', 19): 0.9283996820449829,\n",
       " ('beaver', 20): 0.9295254349708557,\n",
       " ('beaver', 21): 0.9255668520927429,\n",
       " ('beaver', 22): 0.9299157857894897,\n",
       " ('beaver', 23): 0.9289810657501221,\n",
       " ('beaver', 24): 0.9272178411483765,\n",
       " ('beaver', 25): 0.929091215133667,\n",
       " ('beaver', 26): 0.9294213652610779,\n",
       " ('beaver', 27): 0.9279670715332031,\n",
       " ('beaver', 28): 0.9284319877624512,\n",
       " ('beaver', 29): 0.9292396306991577,\n",
       " ('beaver', 30): 0.9286147952079773,\n",
       " ('beaver', 31): 0.9295305609703064,\n",
       " ('beaver', 32): 0.9316001534461975,\n",
       " ('beaver', 33): 0.9286522269248962,\n",
       " ('beaver', 34): 0.9303032159805298,\n",
       " ('beaver', 35): 0.9306394457817078,\n",
       " ('beaver', 36): 0.9288825392723083,\n",
       " ('beaver', 37): 0.9304665327072144,\n",
       " ('beaver', 38): 0.930631160736084,\n",
       " ('beaver', 39): 0.9301596283912659,\n",
       " ('beaver', 40): 0.9296940565109253,\n",
       " ('beaver', 41): 0.9316174983978271,\n",
       " ('beaver', 42): 0.9276432991027832,\n",
       " ('beaver', 43): 0.9302122592926025,\n",
       " ('beaver', 44): 0.9316754341125488,\n",
       " ('beaver', 45): 0.9302037358283997,\n",
       " ('beaver', 46): 0.9307999610900879,\n",
       " ('beaver', 47): 0.9311594367027283,\n",
       " ('beaver', 48): 0.9287431240081787,\n",
       " ('beaver', 49): 0.928629994392395,\n",
       " ('bee', 0): 0.9344049692153931,\n",
       " ('bee', 1): 0.9409112930297852,\n",
       " ('bee', 2): 0.9378912448883057,\n",
       " ('bee', 3): 0.9367979764938354,\n",
       " ('bee', 4): 0.9341714382171631,\n",
       " ('bee', 5): 0.936123788356781,\n",
       " ('bee', 6): 0.9369748830795288,\n",
       " ('bee', 7): 0.932559609413147,\n",
       " ('bee', 8): 0.9348812103271484,\n",
       " ('bee', 9): 0.9337411522865295,\n",
       " ('bee', 10): 0.9324951171875,\n",
       " ('bee', 11): 0.931043803691864,\n",
       " ('bee', 12): 0.9311683773994446,\n",
       " ('bee', 13): 0.9283286929130554,\n",
       " ('bee', 14): 0.9310126900672913,\n",
       " ('bee', 15): 0.9312633872032166,\n",
       " ('bee', 16): 0.9320380687713623,\n",
       " ('bee', 17): 0.930888831615448,\n",
       " ('bee', 18): 0.9318522810935974,\n",
       " ('bee', 19): 0.9319500923156738,\n",
       " ('bee', 20): 0.9323992133140564,\n",
       " ('bee', 21): 0.9273065328598022,\n",
       " ('bee', 22): 0.9329636693000793,\n",
       " ('bee', 23): 0.9309213161468506,\n",
       " ('bee', 24): 0.9297255873680115,\n",
       " ('bee', 25): 0.9313774108886719,\n",
       " ('bee', 26): 0.93216872215271,\n",
       " ('bee', 27): 0.9319697618484497,\n",
       " ('bee', 28): 0.9312649965286255,\n",
       " ('bee', 29): 0.9309674501419067,\n",
       " ('bee', 30): 0.9319031834602356,\n",
       " ('bee', 31): 0.9301320314407349,\n",
       " ('bee', 32): 0.9325512051582336,\n",
       " ('bee', 33): 0.9314456582069397,\n",
       " ('bee', 34): 0.932196855545044,\n",
       " ('bee', 35): 0.9322144985198975,\n",
       " ('bee', 36): 0.9319928884506226,\n",
       " ('bee', 37): 0.9313602447509766,\n",
       " ('bee', 38): 0.9327181577682495,\n",
       " ('bee', 39): 0.932512104511261,\n",
       " ('bee', 40): 0.931046724319458,\n",
       " ('bee', 41): 0.9315733313560486,\n",
       " ('bee', 42): 0.9282732009887695,\n",
       " ('bee', 43): 0.9314525127410889,\n",
       " ('bee', 44): 0.9319978952407837,\n",
       " ('bee', 45): 0.9322327375411987,\n",
       " ('bee', 46): 0.9324404001235962,\n",
       " ('bee', 47): 0.9326578378677368,\n",
       " ('bee', 48): 0.9304337501525879,\n",
       " ('bee', 49): 0.9296123385429382,\n",
       " ('bison', 0): 0.9270612001419067,\n",
       " ('bison', 1): 0.9331353902816772,\n",
       " ('bison', 2): 0.9319937825202942,\n",
       " ('bison', 3): 0.9305397868156433,\n",
       " ('bison', 4): 0.9306342005729675,\n",
       " ('bison', 5): 0.9296568632125854,\n",
       " ('bison', 6): 0.9301881194114685,\n",
       " ('bison', 7): 0.9284934997558594,\n",
       " ('bison', 8): 0.9288536906242371,\n",
       " ('bison', 9): 0.9276764392852783,\n",
       " ('bison', 10): 0.9283660650253296,\n",
       " ('bison', 11): 0.9269060492515564,\n",
       " ('bison', 12): 0.9264087080955505,\n",
       " ('bison', 13): 0.9245409369468689,\n",
       " ('bison', 14): 0.9266965389251709,\n",
       " ('bison', 15): 0.9253703355789185,\n",
       " ('bison', 16): 0.9266853332519531,\n",
       " ('bison', 17): 0.9267878532409668,\n",
       " ('bison', 18): 0.9259880781173706,\n",
       " ('bison', 19): 0.9271134734153748,\n",
       " ('bison', 20): 0.928126335144043,\n",
       " ('bison', 21): 0.9245383739471436,\n",
       " ('bison', 22): 0.9282438158988953,\n",
       " ('bison', 23): 0.927355945110321,\n",
       " ('bison', 24): 0.9265167713165283,\n",
       " ('bison', 25): 0.9267780184745789,\n",
       " ('bison', 26): 0.9281671047210693,\n",
       " ('bison', 27): 0.9262170791625977,\n",
       " ('bison', 28): 0.9271996021270752,\n",
       " ('bison', 29): 0.9278945922851562,\n",
       " ('bison', 30): 0.9278779625892639,\n",
       " ('bison', 31): 0.9277588725090027,\n",
       " ('bison', 32): 0.9298547506332397,\n",
       " ('bison', 33): 0.9268544316291809,\n",
       " ('bison', 34): 0.9291670918464661,\n",
       " ('bison', 35): 0.9289829134941101,\n",
       " ('bison', 36): 0.9268771409988403,\n",
       " ('bison', 37): 0.9287868738174438,\n",
       " ('bison', 38): 0.9292356371879578,\n",
       " ('bison', 39): 0.9283934831619263,\n",
       " ('bison', 40): 0.9298080205917358,\n",
       " ('bison', 41): 0.9306282997131348,\n",
       " ('bison', 42): 0.9275461435317993,\n",
       " ('bison', 43): 0.9292420148849487,\n",
       " ('bison', 44): 0.9313977956771851,\n",
       " ('bison', 45): 0.9295699596405029,\n",
       " ('bison', 46): 0.930030882358551,\n",
       " ('bison', 47): 0.9304150342941284,\n",
       " ('bison', 48): 0.9277930855751038,\n",
       " ('bison', 49): 0.9285427331924438,\n",
       " ('boar', 0): 0.9349486827850342,\n",
       " ('boar', 1): 0.9399757385253906,\n",
       " ('boar', 2): 0.9397026300430298,\n",
       " ('boar', 3): 0.9380202293395996,\n",
       " ('boar', 4): 0.936866283416748,\n",
       " ('boar', 5): 0.9355307817459106,\n",
       " ('boar', 6): 0.9370226263999939,\n",
       " ('boar', 7): 0.9338597059249878,\n",
       " ('boar', 8): 0.9355401396751404,\n",
       " ('boar', 9): 0.9346010684967041,\n",
       " ('boar', 10): 0.9324058294296265,\n",
       " ('boar', 11): 0.9308127760887146,\n",
       " ('boar', 12): 0.9312297105789185,\n",
       " ('boar', 13): 0.931359589099884,\n",
       " ('boar', 14): 0.9316237568855286,\n",
       " ('boar', 15): 0.9308797717094421,\n",
       " ('boar', 16): 0.9329038262367249,\n",
       " ('boar', 17): 0.9314520359039307,\n",
       " ('boar', 18): 0.9322253465652466,\n",
       " ('boar', 19): 0.9318748712539673,\n",
       " ('boar', 20): 0.9322253465652466,\n",
       " ('boar', 21): 0.9316392540931702,\n",
       " ('boar', 22): 0.932856559753418,\n",
       " ('boar', 23): 0.9323544502258301,\n",
       " ('boar', 24): 0.9322843551635742,\n",
       " ('boar', 25): 0.9308281540870667,\n",
       " ('boar', 26): 0.9321479201316833,\n",
       " ('boar', 27): 0.9322956800460815,\n",
       " ('boar', 28): 0.9321448802947998,\n",
       " ('boar', 29): 0.9328618049621582,\n",
       " ('boar', 30): 0.9331360459327698,\n",
       " ('boar', 31): 0.932844877243042,\n",
       " ('boar', 32): 0.9358399510383606,\n",
       " ('boar', 33): 0.9323928356170654,\n",
       " ('boar', 34): 0.9344538450241089,\n",
       " ('boar', 35): 0.9339710474014282,\n",
       " ('boar', 36): 0.933573305606842,\n",
       " ('boar', 37): 0.9337933659553528,\n",
       " ('boar', 38): 0.9353517293930054,\n",
       " ('boar', 39): 0.9346099495887756,\n",
       " ('boar', 40): 0.9343071579933167,\n",
       " ('boar', 41): 0.9353866577148438,\n",
       " ('boar', 42): 0.9309958219528198,\n",
       " ('boar', 43): 0.9337931871414185,\n",
       " ('boar', 44): 0.9353780150413513,\n",
       " ('boar', 45): 0.9347454309463501,\n",
       " ('boar', 46): 0.9345532655715942,\n",
       " ('boar', 47): 0.9349645376205444,\n",
       " ('boar', 48): 0.9330847263336182,\n",
       " ('boar', 49): 0.9324650764465332,\n",
       " ('buffalo', 0): 0.8794775009155273,\n",
       " ('buffalo', 1): 0.8879837989807129,\n",
       " ('buffalo', 2): 0.8889243602752686,\n",
       " ('buffalo', 3): 0.8868144154548645,\n",
       " ('buffalo', 4): 0.8889042735099792,\n",
       " ('buffalo', 5): 0.8889387249946594,\n",
       " ('buffalo', 6): 0.8905519843101501,\n",
       " ('buffalo', 7): 0.888938844203949,\n",
       " ('buffalo', 8): 0.8904316425323486,\n",
       " ('buffalo', 9): 0.8859412670135498,\n",
       " ('buffalo', 10): 0.8885923624038696,\n",
       " ('buffalo', 11): 0.8870455622673035,\n",
       " ('buffalo', 12): 0.8870078325271606,\n",
       " ('buffalo', 13): 0.8853989839553833,\n",
       " ('buffalo', 14): 0.8887112736701965,\n",
       " ('buffalo', 15): 0.8846970796585083,\n",
       " ('buffalo', 16): 0.8875453472137451,\n",
       " ('buffalo', 17): 0.8863101601600647,\n",
       " ('buffalo', 18): 0.8870566487312317,\n",
       " ('buffalo', 19): 0.8868082165718079,\n",
       " ('buffalo', 20): 0.8882428407669067,\n",
       " ('buffalo', 21): 0.8853177428245544,\n",
       " ('buffalo', 22): 0.8905543088912964,\n",
       " ('buffalo', 23): 0.8869953155517578,\n",
       " ('buffalo', 24): 0.8881275653839111,\n",
       " ('buffalo', 25): 0.8858888149261475,\n",
       " ('buffalo', 26): 0.8892863988876343,\n",
       " ('buffalo', 27): 0.8864799737930298,\n",
       " ('buffalo', 28): 0.888258695602417,\n",
       " ('buffalo', 29): 0.8867742419242859,\n",
       " ('buffalo', 30): 0.8876541256904602,\n",
       " ('buffalo', 31): 0.885383129119873,\n",
       " ('buffalo', 32): 0.8900840282440186,\n",
       " ('buffalo', 33): 0.8853330612182617,\n",
       " ('buffalo', 34): 0.8892593383789062,\n",
       " ('buffalo', 35): 0.8881037831306458,\n",
       " ('buffalo', 36): 0.8865788578987122,\n",
       " ('buffalo', 37): 0.8855129480361938,\n",
       " ('buffalo', 38): 0.889079749584198,\n",
       " ('buffalo', 39): 0.8864969611167908,\n",
       " ('buffalo', 40): 0.8902378082275391,\n",
       " ('buffalo', 41): 0.8881213665008545,\n",
       " ('buffalo', 42): 0.8852118253707886,\n",
       " ('buffalo', 43): 0.8879587650299072,\n",
       " ('buffalo', 44): 0.8913317918777466,\n",
       " ('buffalo', 45): 0.8877696394920349,\n",
       " ('buffalo', 46): 0.8899381160736084,\n",
       " ('buffalo', 47): 0.8886542320251465,\n",
       " ('buffalo', 48): 0.8856303691864014,\n",
       " ('buffalo', 49): 0.8881235122680664,\n",
       " ...}"
      ]
     },
     "execution_count": 15,
     "metadata": {},
     "output_type": "execute_result"
    }
   ],
   "source": [
    "all_similarities"
   ]
  },
  {
   "cell_type": "code",
   "execution_count": 16,
   "id": "8fc841d8",
   "metadata": {},
   "outputs": [],
   "source": [
    "similarities = {}\n",
    "for (animal, number), sim in all_similarities.items():\n",
    "    if(similarities.get(animal) is None):\n",
    "       similarities[animal] = {}\n",
    "    similarities[animal][number] = sim"
   ]
  },
  {
   "cell_type": "code",
   "execution_count": 17,
   "id": "72df0abd",
   "metadata": {},
   "outputs": [],
   "source": [
    "with open(\"similarities.json\", \"w\") as f:\n",
    "    json.dump(similarities, f)"
   ]
  }
 ],
 "metadata": {
  "kernelspec": {
   "display_name": "superposition",
   "language": "python",
   "name": "python3"
  },
  "language_info": {
   "codemirror_mode": {
    "name": "ipython",
    "version": 3
   },
   "file_extension": ".py",
   "mimetype": "text/x-python",
   "name": "python",
   "nbconvert_exporter": "python",
   "pygments_lexer": "ipython3",
   "version": "3.12.10"
  }
 },
 "nbformat": 4,
 "nbformat_minor": 5
}
